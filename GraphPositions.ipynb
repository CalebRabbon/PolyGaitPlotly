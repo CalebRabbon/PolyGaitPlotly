{
 "cells": [
  {
   "cell_type": "code",
   "execution_count": 1,
   "metadata": {},
   "outputs": [
    {
     "name": "stdout",
     "output_type": "stream",
     "text": [
      "[[11680, 44505, 783], [12036, 44778, 1208], [11670, 44488, 834]]\n"
     ]
    }
   ],
   "source": [
    "import json\n",
    "\n",
    "# Opening JSON file\n",
    "f = open('positions.json', 'r')\n",
    "\n",
    "# returns JSON object as a dictionary\n",
    "data = json.load(f)\n",
    "\n",
    "tagTimestamp = 1589960921\n",
    "\n",
    "# Iterating through the json list\n",
    "coordinates = []\n",
    "for cur in data[\"positions\"]:\n",
    "    timestamp = cur[\"timestamp\"]\n",
    "    if (abs(timestamp - tagTimestamp) <= 0.3):\n",
    "        x = cur[\"data\"][\"coordinates\"][\"x\"]\n",
    "        y = cur[\"data\"][\"coordinates\"][\"y\"]\n",
    "        z = cur[\"data\"][\"coordinates\"][\"z\"]\n",
    "        #print(timestamp)\n",
    "        \n",
    "        \n",
    "        coordinates.append([x, y, z])\n",
    "\n",
    "print(coordinates)\n",
    "# Closing file\n",
    "f.close()"
   ]
  },
  {
   "cell_type": "code",
   "execution_count": null,
   "metadata": {},
   "outputs": [],
   "source": []
  },
  {
   "cell_type": "code",
   "execution_count": null,
   "metadata": {},
   "outputs": [],
   "source": []
  },
  {
   "cell_type": "code",
   "execution_count": null,
   "metadata": {},
   "outputs": [],
   "source": []
  },
  {
   "cell_type": "code",
   "execution_count": null,
   "metadata": {},
   "outputs": [],
   "source": []
  }
 ],
 "metadata": {
  "kernelspec": {
   "display_name": "Python 3",
   "language": "python",
   "name": "python3"
  },
  "language_info": {
   "codemirror_mode": {
    "name": "ipython",
    "version": 3
   },
   "file_extension": ".py",
   "mimetype": "text/x-python",
   "name": "python",
   "nbconvert_exporter": "python",
   "pygments_lexer": "ipython3",
   "version": "3.7.7"
  }
 },
 "nbformat": 4,
 "nbformat_minor": 4
}
