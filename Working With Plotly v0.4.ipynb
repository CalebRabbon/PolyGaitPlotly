{
 "cells": [
  {
   "cell_type": "markdown",
   "metadata": {},
   "source": [
    "# <center>Working With Plotly</center>"
   ]
  },
  {
   "cell_type": "markdown",
   "metadata": {},
   "source": [
    "Majority of the code is from https://www.superdatascience.com/pages/learn-plotly"
   ]
  },
  {
   "cell_type": "markdown",
   "metadata": {},
   "source": [
    "<img src=\"plotly.png\">"
   ]
  },
  {
   "cell_type": "code",
   "execution_count": 3,
   "metadata": {},
   "outputs": [
    {
     "name": "stdout",
     "output_type": "stream",
     "text": [
      "4.6.0\n"
     ]
    }
   ],
   "source": [
    "#import\n",
    "import plotly\n",
    "from plotly import __version__\n",
    "print (__version__)\n",
    "from plotly.offline import download_plotlyjs, init_notebook_mode, plot, iplot"
   ]
  },
  {
   "cell_type": "code",
   "execution_count": 4,
   "metadata": {},
   "outputs": [
    {
     "data": {
      "text/html": [
       "        <script type=\"text/javascript\">\n",
       "        window.PlotlyConfig = {MathJaxConfig: 'local'};\n",
       "        if (window.MathJax) {MathJax.Hub.Config({SVG: {font: \"STIX-Web\"}});}\n",
       "        if (typeof require !== 'undefined') {\n",
       "        require.undef(\"plotly\");\n",
       "        requirejs.config({\n",
       "            paths: {\n",
       "                'plotly': ['https://cdn.plot.ly/plotly-latest.min']\n",
       "            }\n",
       "        });\n",
       "        require(['plotly'], function(Plotly) {\n",
       "            window._Plotly = Plotly;\n",
       "        });\n",
       "        }\n",
       "        </script>\n",
       "        "
      ]
     },
     "metadata": {},
     "output_type": "display_data"
    }
   ],
   "source": [
    "#Jupyter setup\n",
    "init_notebook_mode(connected=True)"
   ]
  },
  {
   "cell_type": "markdown",
   "metadata": {},
   "source": [
    "<br>\n",
    "\n",
    "To save the chart to Plotly Cloud or Plotly Enterprise, use `plotly.plotly.iplot`.\n",
    "\n",
    "Use py.plot() to return the unique url and optionally open the url.\n",
    "\n",
    "Use py.iplot() when working in a Jupyter Notebook to display the plot in the notebook.\n",
    "\n",
    "<br>"
   ]
  },
  {
   "cell_type": "code",
   "execution_count": 5,
   "metadata": {},
   "outputs": [
    {
     "data": {
      "application/vnd.plotly.v1+json": {
       "config": {
        "linkText": "Export to plot.ly",
        "plotlyServerURL": "https://plot.ly",
        "showLink": false
       },
       "data": [
        {
         "type": "scatter",
         "x": [
          1,
          2,
          3,
          4,
          5
         ],
         "y": [
          1,
          2,
          6,
          4,
          1
         ]
        }
       ],
       "layout": {
        "template": {
         "data": {
          "bar": [
           {
            "error_x": {
             "color": "#2a3f5f"
            },
            "error_y": {
             "color": "#2a3f5f"
            },
            "marker": {
             "line": {
              "color": "#E5ECF6",
              "width": 0.5
             }
            },
            "type": "bar"
           }
          ],
          "barpolar": [
           {
            "marker": {
             "line": {
              "color": "#E5ECF6",
              "width": 0.5
             }
            },
            "type": "barpolar"
           }
          ],
          "carpet": [
           {
            "aaxis": {
             "endlinecolor": "#2a3f5f",
             "gridcolor": "white",
             "linecolor": "white",
             "minorgridcolor": "white",
             "startlinecolor": "#2a3f5f"
            },
            "baxis": {
             "endlinecolor": "#2a3f5f",
             "gridcolor": "white",
             "linecolor": "white",
             "minorgridcolor": "white",
             "startlinecolor": "#2a3f5f"
            },
            "type": "carpet"
           }
          ],
          "choropleth": [
           {
            "colorbar": {
             "outlinewidth": 0,
             "ticks": ""
            },
            "type": "choropleth"
           }
          ],
          "contour": [
           {
            "colorbar": {
             "outlinewidth": 0,
             "ticks": ""
            },
            "colorscale": [
             [
              0,
              "#0d0887"
             ],
             [
              0.1111111111111111,
              "#46039f"
             ],
             [
              0.2222222222222222,
              "#7201a8"
             ],
             [
              0.3333333333333333,
              "#9c179e"
             ],
             [
              0.4444444444444444,
              "#bd3786"
             ],
             [
              0.5555555555555556,
              "#d8576b"
             ],
             [
              0.6666666666666666,
              "#ed7953"
             ],
             [
              0.7777777777777778,
              "#fb9f3a"
             ],
             [
              0.8888888888888888,
              "#fdca26"
             ],
             [
              1,
              "#f0f921"
             ]
            ],
            "type": "contour"
           }
          ],
          "contourcarpet": [
           {
            "colorbar": {
             "outlinewidth": 0,
             "ticks": ""
            },
            "type": "contourcarpet"
           }
          ],
          "heatmap": [
           {
            "colorbar": {
             "outlinewidth": 0,
             "ticks": ""
            },
            "colorscale": [
             [
              0,
              "#0d0887"
             ],
             [
              0.1111111111111111,
              "#46039f"
             ],
             [
              0.2222222222222222,
              "#7201a8"
             ],
             [
              0.3333333333333333,
              "#9c179e"
             ],
             [
              0.4444444444444444,
              "#bd3786"
             ],
             [
              0.5555555555555556,
              "#d8576b"
             ],
             [
              0.6666666666666666,
              "#ed7953"
             ],
             [
              0.7777777777777778,
              "#fb9f3a"
             ],
             [
              0.8888888888888888,
              "#fdca26"
             ],
             [
              1,
              "#f0f921"
             ]
            ],
            "type": "heatmap"
           }
          ],
          "heatmapgl": [
           {
            "colorbar": {
             "outlinewidth": 0,
             "ticks": ""
            },
            "colorscale": [
             [
              0,
              "#0d0887"
             ],
             [
              0.1111111111111111,
              "#46039f"
             ],
             [
              0.2222222222222222,
              "#7201a8"
             ],
             [
              0.3333333333333333,
              "#9c179e"
             ],
             [
              0.4444444444444444,
              "#bd3786"
             ],
             [
              0.5555555555555556,
              "#d8576b"
             ],
             [
              0.6666666666666666,
              "#ed7953"
             ],
             [
              0.7777777777777778,
              "#fb9f3a"
             ],
             [
              0.8888888888888888,
              "#fdca26"
             ],
             [
              1,
              "#f0f921"
             ]
            ],
            "type": "heatmapgl"
           }
          ],
          "histogram": [
           {
            "marker": {
             "colorbar": {
              "outlinewidth": 0,
              "ticks": ""
             }
            },
            "type": "histogram"
           }
          ],
          "histogram2d": [
           {
            "colorbar": {
             "outlinewidth": 0,
             "ticks": ""
            },
            "colorscale": [
             [
              0,
              "#0d0887"
             ],
             [
              0.1111111111111111,
              "#46039f"
             ],
             [
              0.2222222222222222,
              "#7201a8"
             ],
             [
              0.3333333333333333,
              "#9c179e"
             ],
             [
              0.4444444444444444,
              "#bd3786"
             ],
             [
              0.5555555555555556,
              "#d8576b"
             ],
             [
              0.6666666666666666,
              "#ed7953"
             ],
             [
              0.7777777777777778,
              "#fb9f3a"
             ],
             [
              0.8888888888888888,
              "#fdca26"
             ],
             [
              1,
              "#f0f921"
             ]
            ],
            "type": "histogram2d"
           }
          ],
          "histogram2dcontour": [
           {
            "colorbar": {
             "outlinewidth": 0,
             "ticks": ""
            },
            "colorscale": [
             [
              0,
              "#0d0887"
             ],
             [
              0.1111111111111111,
              "#46039f"
             ],
             [
              0.2222222222222222,
              "#7201a8"
             ],
             [
              0.3333333333333333,
              "#9c179e"
             ],
             [
              0.4444444444444444,
              "#bd3786"
             ],
             [
              0.5555555555555556,
              "#d8576b"
             ],
             [
              0.6666666666666666,
              "#ed7953"
             ],
             [
              0.7777777777777778,
              "#fb9f3a"
             ],
             [
              0.8888888888888888,
              "#fdca26"
             ],
             [
              1,
              "#f0f921"
             ]
            ],
            "type": "histogram2dcontour"
           }
          ],
          "mesh3d": [
           {
            "colorbar": {
             "outlinewidth": 0,
             "ticks": ""
            },
            "type": "mesh3d"
           }
          ],
          "parcoords": [
           {
            "line": {
             "colorbar": {
              "outlinewidth": 0,
              "ticks": ""
             }
            },
            "type": "parcoords"
           }
          ],
          "pie": [
           {
            "automargin": true,
            "type": "pie"
           }
          ],
          "scatter": [
           {
            "marker": {
             "colorbar": {
              "outlinewidth": 0,
              "ticks": ""
             }
            },
            "type": "scatter"
           }
          ],
          "scatter3d": [
           {
            "line": {
             "colorbar": {
              "outlinewidth": 0,
              "ticks": ""
             }
            },
            "marker": {
             "colorbar": {
              "outlinewidth": 0,
              "ticks": ""
             }
            },
            "type": "scatter3d"
           }
          ],
          "scattercarpet": [
           {
            "marker": {
             "colorbar": {
              "outlinewidth": 0,
              "ticks": ""
             }
            },
            "type": "scattercarpet"
           }
          ],
          "scattergeo": [
           {
            "marker": {
             "colorbar": {
              "outlinewidth": 0,
              "ticks": ""
             }
            },
            "type": "scattergeo"
           }
          ],
          "scattergl": [
           {
            "marker": {
             "colorbar": {
              "outlinewidth": 0,
              "ticks": ""
             }
            },
            "type": "scattergl"
           }
          ],
          "scattermapbox": [
           {
            "marker": {
             "colorbar": {
              "outlinewidth": 0,
              "ticks": ""
             }
            },
            "type": "scattermapbox"
           }
          ],
          "scatterpolar": [
           {
            "marker": {
             "colorbar": {
              "outlinewidth": 0,
              "ticks": ""
             }
            },
            "type": "scatterpolar"
           }
          ],
          "scatterpolargl": [
           {
            "marker": {
             "colorbar": {
              "outlinewidth": 0,
              "ticks": ""
             }
            },
            "type": "scatterpolargl"
           }
          ],
          "scatterternary": [
           {
            "marker": {
             "colorbar": {
              "outlinewidth": 0,
              "ticks": ""
             }
            },
            "type": "scatterternary"
           }
          ],
          "surface": [
           {
            "colorbar": {
             "outlinewidth": 0,
             "ticks": ""
            },
            "colorscale": [
             [
              0,
              "#0d0887"
             ],
             [
              0.1111111111111111,
              "#46039f"
             ],
             [
              0.2222222222222222,
              "#7201a8"
             ],
             [
              0.3333333333333333,
              "#9c179e"
             ],
             [
              0.4444444444444444,
              "#bd3786"
             ],
             [
              0.5555555555555556,
              "#d8576b"
             ],
             [
              0.6666666666666666,
              "#ed7953"
             ],
             [
              0.7777777777777778,
              "#fb9f3a"
             ],
             [
              0.8888888888888888,
              "#fdca26"
             ],
             [
              1,
              "#f0f921"
             ]
            ],
            "type": "surface"
           }
          ],
          "table": [
           {
            "cells": {
             "fill": {
              "color": "#EBF0F8"
             },
             "line": {
              "color": "white"
             }
            },
            "header": {
             "fill": {
              "color": "#C8D4E3"
             },
             "line": {
              "color": "white"
             }
            },
            "type": "table"
           }
          ]
         },
         "layout": {
          "annotationdefaults": {
           "arrowcolor": "#2a3f5f",
           "arrowhead": 0,
           "arrowwidth": 1
          },
          "coloraxis": {
           "colorbar": {
            "outlinewidth": 0,
            "ticks": ""
           }
          },
          "colorscale": {
           "diverging": [
            [
             0,
             "#8e0152"
            ],
            [
             0.1,
             "#c51b7d"
            ],
            [
             0.2,
             "#de77ae"
            ],
            [
             0.3,
             "#f1b6da"
            ],
            [
             0.4,
             "#fde0ef"
            ],
            [
             0.5,
             "#f7f7f7"
            ],
            [
             0.6,
             "#e6f5d0"
            ],
            [
             0.7,
             "#b8e186"
            ],
            [
             0.8,
             "#7fbc41"
            ],
            [
             0.9,
             "#4d9221"
            ],
            [
             1,
             "#276419"
            ]
           ],
           "sequential": [
            [
             0,
             "#0d0887"
            ],
            [
             0.1111111111111111,
             "#46039f"
            ],
            [
             0.2222222222222222,
             "#7201a8"
            ],
            [
             0.3333333333333333,
             "#9c179e"
            ],
            [
             0.4444444444444444,
             "#bd3786"
            ],
            [
             0.5555555555555556,
             "#d8576b"
            ],
            [
             0.6666666666666666,
             "#ed7953"
            ],
            [
             0.7777777777777778,
             "#fb9f3a"
            ],
            [
             0.8888888888888888,
             "#fdca26"
            ],
            [
             1,
             "#f0f921"
            ]
           ],
           "sequentialminus": [
            [
             0,
             "#0d0887"
            ],
            [
             0.1111111111111111,
             "#46039f"
            ],
            [
             0.2222222222222222,
             "#7201a8"
            ],
            [
             0.3333333333333333,
             "#9c179e"
            ],
            [
             0.4444444444444444,
             "#bd3786"
            ],
            [
             0.5555555555555556,
             "#d8576b"
            ],
            [
             0.6666666666666666,
             "#ed7953"
            ],
            [
             0.7777777777777778,
             "#fb9f3a"
            ],
            [
             0.8888888888888888,
             "#fdca26"
            ],
            [
             1,
             "#f0f921"
            ]
           ]
          },
          "colorway": [
           "#636efa",
           "#EF553B",
           "#00cc96",
           "#ab63fa",
           "#FFA15A",
           "#19d3f3",
           "#FF6692",
           "#B6E880",
           "#FF97FF",
           "#FECB52"
          ],
          "font": {
           "color": "#2a3f5f"
          },
          "geo": {
           "bgcolor": "white",
           "lakecolor": "white",
           "landcolor": "#E5ECF6",
           "showlakes": true,
           "showland": true,
           "subunitcolor": "white"
          },
          "hoverlabel": {
           "align": "left"
          },
          "hovermode": "closest",
          "mapbox": {
           "style": "light"
          },
          "paper_bgcolor": "white",
          "plot_bgcolor": "#E5ECF6",
          "polar": {
           "angularaxis": {
            "gridcolor": "white",
            "linecolor": "white",
            "ticks": ""
           },
           "bgcolor": "#E5ECF6",
           "radialaxis": {
            "gridcolor": "white",
            "linecolor": "white",
            "ticks": ""
           }
          },
          "scene": {
           "xaxis": {
            "backgroundcolor": "#E5ECF6",
            "gridcolor": "white",
            "gridwidth": 2,
            "linecolor": "white",
            "showbackground": true,
            "ticks": "",
            "zerolinecolor": "white"
           },
           "yaxis": {
            "backgroundcolor": "#E5ECF6",
            "gridcolor": "white",
            "gridwidth": 2,
            "linecolor": "white",
            "showbackground": true,
            "ticks": "",
            "zerolinecolor": "white"
           },
           "zaxis": {
            "backgroundcolor": "#E5ECF6",
            "gridcolor": "white",
            "gridwidth": 2,
            "linecolor": "white",
            "showbackground": true,
            "ticks": "",
            "zerolinecolor": "white"
           }
          },
          "shapedefaults": {
           "line": {
            "color": "#2a3f5f"
           }
          },
          "ternary": {
           "aaxis": {
            "gridcolor": "white",
            "linecolor": "white",
            "ticks": ""
           },
           "baxis": {
            "gridcolor": "white",
            "linecolor": "white",
            "ticks": ""
           },
           "bgcolor": "#E5ECF6",
           "caxis": {
            "gridcolor": "white",
            "linecolor": "white",
            "ticks": ""
           }
          },
          "title": {
           "x": 0.05
          },
          "xaxis": {
           "automargin": true,
           "gridcolor": "white",
           "linecolor": "white",
           "ticks": "",
           "title": {
            "standoff": 15
           },
           "zerolinecolor": "white",
           "zerolinewidth": 2
          },
          "yaxis": {
           "automargin": true,
           "gridcolor": "white",
           "linecolor": "white",
           "ticks": "",
           "title": {
            "standoff": 15
           },
           "zerolinecolor": "white",
           "zerolinewidth": 2
          }
         }
        }
       }
      },
      "text/html": [
       "<div>\n",
       "        \n",
       "        \n",
       "            <div id=\"dc30fcd0-46a3-460d-88b5-77ae06517492\" class=\"plotly-graph-div\" style=\"height:525px; width:100%;\"></div>\n",
       "            <script type=\"text/javascript\">\n",
       "                require([\"plotly\"], function(Plotly) {\n",
       "                    window.PLOTLYENV=window.PLOTLYENV || {};\n",
       "                    \n",
       "                if (document.getElementById(\"dc30fcd0-46a3-460d-88b5-77ae06517492\")) {\n",
       "                    Plotly.newPlot(\n",
       "                        'dc30fcd0-46a3-460d-88b5-77ae06517492',\n",
       "                        [{\"type\": \"scatter\", \"x\": [1, 2, 3, 4, 5], \"y\": [1, 2, 6, 4, 1]}],\n",
       "                        {\"template\": {\"data\": {\"bar\": [{\"error_x\": {\"color\": \"#2a3f5f\"}, \"error_y\": {\"color\": \"#2a3f5f\"}, \"marker\": {\"line\": {\"color\": \"#E5ECF6\", \"width\": 0.5}}, \"type\": \"bar\"}], \"barpolar\": [{\"marker\": {\"line\": {\"color\": \"#E5ECF6\", \"width\": 0.5}}, \"type\": \"barpolar\"}], \"carpet\": [{\"aaxis\": {\"endlinecolor\": \"#2a3f5f\", \"gridcolor\": \"white\", \"linecolor\": \"white\", \"minorgridcolor\": \"white\", \"startlinecolor\": \"#2a3f5f\"}, \"baxis\": {\"endlinecolor\": \"#2a3f5f\", \"gridcolor\": \"white\", \"linecolor\": \"white\", \"minorgridcolor\": \"white\", \"startlinecolor\": \"#2a3f5f\"}, \"type\": \"carpet\"}], \"choropleth\": [{\"colorbar\": {\"outlinewidth\": 0, \"ticks\": \"\"}, \"type\": \"choropleth\"}], \"contour\": [{\"colorbar\": {\"outlinewidth\": 0, \"ticks\": \"\"}, \"colorscale\": [[0.0, \"#0d0887\"], [0.1111111111111111, \"#46039f\"], [0.2222222222222222, \"#7201a8\"], [0.3333333333333333, \"#9c179e\"], [0.4444444444444444, \"#bd3786\"], [0.5555555555555556, \"#d8576b\"], [0.6666666666666666, \"#ed7953\"], [0.7777777777777778, \"#fb9f3a\"], [0.8888888888888888, \"#fdca26\"], [1.0, \"#f0f921\"]], \"type\": \"contour\"}], \"contourcarpet\": [{\"colorbar\": {\"outlinewidth\": 0, \"ticks\": \"\"}, \"type\": \"contourcarpet\"}], \"heatmap\": [{\"colorbar\": {\"outlinewidth\": 0, \"ticks\": \"\"}, \"colorscale\": [[0.0, \"#0d0887\"], [0.1111111111111111, \"#46039f\"], [0.2222222222222222, \"#7201a8\"], [0.3333333333333333, \"#9c179e\"], [0.4444444444444444, \"#bd3786\"], [0.5555555555555556, \"#d8576b\"], [0.6666666666666666, \"#ed7953\"], [0.7777777777777778, \"#fb9f3a\"], [0.8888888888888888, \"#fdca26\"], [1.0, \"#f0f921\"]], \"type\": \"heatmap\"}], \"heatmapgl\": [{\"colorbar\": {\"outlinewidth\": 0, \"ticks\": \"\"}, \"colorscale\": [[0.0, \"#0d0887\"], [0.1111111111111111, \"#46039f\"], [0.2222222222222222, \"#7201a8\"], [0.3333333333333333, \"#9c179e\"], [0.4444444444444444, \"#bd3786\"], [0.5555555555555556, \"#d8576b\"], [0.6666666666666666, \"#ed7953\"], [0.7777777777777778, \"#fb9f3a\"], [0.8888888888888888, \"#fdca26\"], [1.0, \"#f0f921\"]], \"type\": \"heatmapgl\"}], \"histogram\": [{\"marker\": {\"colorbar\": {\"outlinewidth\": 0, \"ticks\": \"\"}}, \"type\": \"histogram\"}], \"histogram2d\": [{\"colorbar\": {\"outlinewidth\": 0, \"ticks\": \"\"}, \"colorscale\": [[0.0, \"#0d0887\"], [0.1111111111111111, \"#46039f\"], [0.2222222222222222, \"#7201a8\"], [0.3333333333333333, \"#9c179e\"], [0.4444444444444444, \"#bd3786\"], [0.5555555555555556, \"#d8576b\"], [0.6666666666666666, \"#ed7953\"], [0.7777777777777778, \"#fb9f3a\"], [0.8888888888888888, \"#fdca26\"], [1.0, \"#f0f921\"]], \"type\": \"histogram2d\"}], \"histogram2dcontour\": [{\"colorbar\": {\"outlinewidth\": 0, \"ticks\": \"\"}, \"colorscale\": [[0.0, \"#0d0887\"], [0.1111111111111111, \"#46039f\"], [0.2222222222222222, \"#7201a8\"], [0.3333333333333333, \"#9c179e\"], [0.4444444444444444, \"#bd3786\"], [0.5555555555555556, \"#d8576b\"], [0.6666666666666666, \"#ed7953\"], [0.7777777777777778, \"#fb9f3a\"], [0.8888888888888888, \"#fdca26\"], [1.0, \"#f0f921\"]], \"type\": \"histogram2dcontour\"}], \"mesh3d\": [{\"colorbar\": {\"outlinewidth\": 0, \"ticks\": \"\"}, \"type\": \"mesh3d\"}], \"parcoords\": [{\"line\": {\"colorbar\": {\"outlinewidth\": 0, \"ticks\": \"\"}}, \"type\": \"parcoords\"}], \"pie\": [{\"automargin\": true, \"type\": \"pie\"}], \"scatter\": [{\"marker\": {\"colorbar\": {\"outlinewidth\": 0, \"ticks\": \"\"}}, \"type\": \"scatter\"}], \"scatter3d\": [{\"line\": {\"colorbar\": {\"outlinewidth\": 0, \"ticks\": \"\"}}, \"marker\": {\"colorbar\": {\"outlinewidth\": 0, \"ticks\": \"\"}}, \"type\": \"scatter3d\"}], \"scattercarpet\": [{\"marker\": {\"colorbar\": {\"outlinewidth\": 0, \"ticks\": \"\"}}, \"type\": \"scattercarpet\"}], \"scattergeo\": [{\"marker\": {\"colorbar\": {\"outlinewidth\": 0, \"ticks\": \"\"}}, \"type\": \"scattergeo\"}], \"scattergl\": [{\"marker\": {\"colorbar\": {\"outlinewidth\": 0, \"ticks\": \"\"}}, \"type\": \"scattergl\"}], \"scattermapbox\": [{\"marker\": {\"colorbar\": {\"outlinewidth\": 0, \"ticks\": \"\"}}, \"type\": \"scattermapbox\"}], \"scatterpolar\": [{\"marker\": {\"colorbar\": {\"outlinewidth\": 0, \"ticks\": \"\"}}, \"type\": \"scatterpolar\"}], \"scatterpolargl\": [{\"marker\": {\"colorbar\": {\"outlinewidth\": 0, \"ticks\": \"\"}}, \"type\": \"scatterpolargl\"}], \"scatterternary\": [{\"marker\": {\"colorbar\": {\"outlinewidth\": 0, \"ticks\": \"\"}}, \"type\": \"scatterternary\"}], \"surface\": [{\"colorbar\": {\"outlinewidth\": 0, \"ticks\": \"\"}, \"colorscale\": [[0.0, \"#0d0887\"], [0.1111111111111111, \"#46039f\"], [0.2222222222222222, \"#7201a8\"], [0.3333333333333333, \"#9c179e\"], [0.4444444444444444, \"#bd3786\"], [0.5555555555555556, \"#d8576b\"], [0.6666666666666666, \"#ed7953\"], [0.7777777777777778, \"#fb9f3a\"], [0.8888888888888888, \"#fdca26\"], [1.0, \"#f0f921\"]], \"type\": \"surface\"}], \"table\": [{\"cells\": {\"fill\": {\"color\": \"#EBF0F8\"}, \"line\": {\"color\": \"white\"}}, \"header\": {\"fill\": {\"color\": \"#C8D4E3\"}, \"line\": {\"color\": \"white\"}}, \"type\": \"table\"}]}, \"layout\": {\"annotationdefaults\": {\"arrowcolor\": \"#2a3f5f\", \"arrowhead\": 0, \"arrowwidth\": 1}, \"coloraxis\": {\"colorbar\": {\"outlinewidth\": 0, \"ticks\": \"\"}}, \"colorscale\": {\"diverging\": [[0, \"#8e0152\"], [0.1, \"#c51b7d\"], [0.2, \"#de77ae\"], [0.3, \"#f1b6da\"], [0.4, \"#fde0ef\"], [0.5, \"#f7f7f7\"], [0.6, \"#e6f5d0\"], [0.7, \"#b8e186\"], [0.8, \"#7fbc41\"], [0.9, \"#4d9221\"], [1, \"#276419\"]], \"sequential\": [[0.0, \"#0d0887\"], [0.1111111111111111, \"#46039f\"], [0.2222222222222222, \"#7201a8\"], [0.3333333333333333, \"#9c179e\"], [0.4444444444444444, \"#bd3786\"], [0.5555555555555556, \"#d8576b\"], [0.6666666666666666, \"#ed7953\"], [0.7777777777777778, \"#fb9f3a\"], [0.8888888888888888, \"#fdca26\"], [1.0, \"#f0f921\"]], \"sequentialminus\": [[0.0, \"#0d0887\"], [0.1111111111111111, \"#46039f\"], [0.2222222222222222, \"#7201a8\"], [0.3333333333333333, \"#9c179e\"], [0.4444444444444444, \"#bd3786\"], [0.5555555555555556, \"#d8576b\"], [0.6666666666666666, \"#ed7953\"], [0.7777777777777778, \"#fb9f3a\"], [0.8888888888888888, \"#fdca26\"], [1.0, \"#f0f921\"]]}, \"colorway\": [\"#636efa\", \"#EF553B\", \"#00cc96\", \"#ab63fa\", \"#FFA15A\", \"#19d3f3\", \"#FF6692\", \"#B6E880\", \"#FF97FF\", \"#FECB52\"], \"font\": {\"color\": \"#2a3f5f\"}, \"geo\": {\"bgcolor\": \"white\", \"lakecolor\": \"white\", \"landcolor\": \"#E5ECF6\", \"showlakes\": true, \"showland\": true, \"subunitcolor\": \"white\"}, \"hoverlabel\": {\"align\": \"left\"}, \"hovermode\": \"closest\", \"mapbox\": {\"style\": \"light\"}, \"paper_bgcolor\": \"white\", \"plot_bgcolor\": \"#E5ECF6\", \"polar\": {\"angularaxis\": {\"gridcolor\": \"white\", \"linecolor\": \"white\", \"ticks\": \"\"}, \"bgcolor\": \"#E5ECF6\", \"radialaxis\": {\"gridcolor\": \"white\", \"linecolor\": \"white\", \"ticks\": \"\"}}, \"scene\": {\"xaxis\": {\"backgroundcolor\": \"#E5ECF6\", \"gridcolor\": \"white\", \"gridwidth\": 2, \"linecolor\": \"white\", \"showbackground\": true, \"ticks\": \"\", \"zerolinecolor\": \"white\"}, \"yaxis\": {\"backgroundcolor\": \"#E5ECF6\", \"gridcolor\": \"white\", \"gridwidth\": 2, \"linecolor\": \"white\", \"showbackground\": true, \"ticks\": \"\", \"zerolinecolor\": \"white\"}, \"zaxis\": {\"backgroundcolor\": \"#E5ECF6\", \"gridcolor\": \"white\", \"gridwidth\": 2, \"linecolor\": \"white\", \"showbackground\": true, \"ticks\": \"\", \"zerolinecolor\": \"white\"}}, \"shapedefaults\": {\"line\": {\"color\": \"#2a3f5f\"}}, \"ternary\": {\"aaxis\": {\"gridcolor\": \"white\", \"linecolor\": \"white\", \"ticks\": \"\"}, \"baxis\": {\"gridcolor\": \"white\", \"linecolor\": \"white\", \"ticks\": \"\"}, \"bgcolor\": \"#E5ECF6\", \"caxis\": {\"gridcolor\": \"white\", \"linecolor\": \"white\", \"ticks\": \"\"}}, \"title\": {\"x\": 0.05}, \"xaxis\": {\"automargin\": true, \"gridcolor\": \"white\", \"linecolor\": \"white\", \"ticks\": \"\", \"title\": {\"standoff\": 15}, \"zerolinecolor\": \"white\", \"zerolinewidth\": 2}, \"yaxis\": {\"automargin\": true, \"gridcolor\": \"white\", \"linecolor\": \"white\", \"ticks\": \"\", \"title\": {\"standoff\": 15}, \"zerolinecolor\": \"white\", \"zerolinewidth\": 2}}}},\n",
       "                        {\"responsive\": true}\n",
       "                    ).then(function(){\n",
       "                            \n",
       "var gd = document.getElementById('dc30fcd0-46a3-460d-88b5-77ae06517492');\n",
       "var x = new MutationObserver(function (mutations, observer) {{\n",
       "        var display = window.getComputedStyle(gd).display;\n",
       "        if (!display || display === 'none') {{\n",
       "            console.log([gd, 'removed!']);\n",
       "            Plotly.purge(gd);\n",
       "            observer.disconnect();\n",
       "        }}\n",
       "}});\n",
       "\n",
       "// Listen for the removal of the full notebook cells\n",
       "var notebookContainer = gd.closest('#notebook-container');\n",
       "if (notebookContainer) {{\n",
       "    x.observe(notebookContainer, {childList: true});\n",
       "}}\n",
       "\n",
       "// Listen for the clearing of the current output cell\n",
       "var outputEl = gd.closest('.output');\n",
       "if (outputEl) {{\n",
       "    x.observe(outputEl, {childList: true});\n",
       "}}\n",
       "\n",
       "                        })\n",
       "                };\n",
       "                });\n",
       "            </script>\n",
       "        </div>"
      ]
     },
     "metadata": {},
     "output_type": "display_data"
    }
   ],
   "source": [
    "iplot([{\"x\": [1, 2, 3, 4, 5], \"y\": [1, 2, 6, 4, 1]}])"
   ]
  },
  {
   "cell_type": "code",
   "execution_count": 6,
   "metadata": {},
   "outputs": [
    {
     "data": {
      "application/vnd.plotly.v1+json": {
       "config": {
        "linkText": "Export to plot.ly",
        "plotlyServerURL": "https://plot.ly",
        "showLink": false
       },
       "data": [
        {
         "contours": {
          "coloring": "heatmap"
         },
         "type": "histogram2dcontour",
         "x": [
          1.152546791222012,
          -0.7370399500843016,
          0.6993221104291064,
          0.4264867902984868,
          0.6063172996570473,
          -0.9266661500858345,
          2.0935093402192386,
          0.6318013459595805,
          0.4095248559729628,
          -0.022201958975300987,
          -0.8942302280310265,
          -0.4817404057452254,
          0.3805064856476494,
          0.10253107303155841,
          -2.7827124175913993,
          1.5979246929324016,
          0.9961175741342574,
          -1.7816895783634765,
          -0.07813829765420528,
          0.7426921560539741,
          -1.1444352231227064,
          -0.8751875361433372,
          0.2770109943614443,
          -1.9053533913332956,
          -0.775064761751138,
          -0.1725258703008309,
          0.5004773507290724,
          -0.33205589672239383,
          0.18560746579755213,
          -0.7029597443713418,
          -0.9210507595515767,
          0.6607134100939032,
          -1.2140328624471586,
          0.5974865263211587,
          -0.7065265667721977,
          -0.08210155721996884,
          -0.3040124668269388,
          1.1996851082679612,
          1.7610614404201437,
          -2.5081458596215827,
          0.8245654676019054,
          -1.2960245257489684,
          1.5635900615470957,
          1.5020553825422385,
          -1.455941412838057,
          -2.400250847848283,
          -1.659817972360161,
          -0.9090582627864575,
          -1.0141214470355664,
          0.556953127441688,
          -0.7992811721288292,
          1.0840021249247265,
          -1.6825500506102948,
          -0.1624400491054101,
          1.3348554133909747,
          0.4164355222454636,
          0.7130226214491435,
          0.20234184319723697,
          0.772262246530208,
          -0.47170784589525044,
          0.721188737213422,
          0.8142832066393654,
          2.160567743593026,
          0.7227682842459232,
          0.6466947695018972,
          0.5049150642927293,
          1.6560681158116042,
          1.3155893577606426,
          -0.9498706903833197,
          1.268694902273891,
          1.1857989166388068,
          1.3546861655522853,
          -2.7692137204257152,
          0.10330612147716994,
          -0.518754047835244,
          -1.5974932616452873,
          -0.27444122961719036,
          -0.3230708273417084,
          0.9980280022126632,
          1.3641880300743023,
          -1.9257047261998037,
          -0.05745073876598651,
          0.20683833334251797,
          1.332872666777252,
          0.7221172477879156,
          0.6661555122602384,
          -1.5613758360586856,
          -0.12336080858368113,
          -1.4441958095781557,
          0.1774067119112596,
          0.45039763328174404,
          1.0255194822859655,
          -0.18025762604482792,
          0.0697632247418607,
          0.12420525693749347,
          -0.12006086349473433,
          -0.7062479616375621,
          -0.9336450791554151,
          0.16936128686739724,
          -0.2022505217278325,
          -0.5211991721288327,
          -0.9851933896756913,
          -0.12946701404585004,
          1.5569001608864907,
          0.29397576395043573,
          -1.7318368532140753,
          -0.4127279334060745,
          -0.9809410201839255,
          0.12384100208680748,
          1.1996178248351763,
          -1.413890533909005,
          -1.0231975624967193,
          0.7182343479117016,
          -1.7506316380629616,
          1.7282976349360268,
          -0.3901243828249314,
          -0.3491446326342405,
          0.7083090004130702,
          -0.442816587325228,
          -0.1545059503621476,
          0.04167939324489844,
          1.8434338727718425,
          -1.8164790326264169,
          -0.008193015221022478,
          0.8910714970136602,
          0.2986524931435756,
          0.9860452124470759,
          0.925552770841494,
          -1.5307720701624405,
          0.775273145907985,
          -0.4980491137728628,
          0.8309833137599708,
          0.9263912024114069,
          -1.1732863692729867,
          -0.7498827160813805,
          -1.0020470717663321,
          0.7443269253226841,
          0.09322190535267265,
          0.3057869426776777,
          1.5752234918235475,
          0.8283520731395724,
          -1.0488120482340806,
          1.0041193302797784,
          0.3947955546411656,
          0.7642859431813049,
          -0.35885901195577774,
          -0.5522797757124234,
          -0.3189478175729652,
          0.08052127922552953,
          0.18132602691363503,
          1.2671197956498612,
          -1.1059156098662721,
          -0.13025289720205013,
          0.8681419569064899,
          0.030397882072806717,
          0.23286995589824372,
          -0.2728213316144635,
          -1.9953625971016584,
          -1.205361919385081,
          -1.002528003071727,
          -1.36782734333787,
          1.349540234600784,
          0.18812944215483185,
          -0.22870746320756785,
          0.2346338260975645,
          0.34523936718763204,
          0.004308260558035633,
          0.5185829013921177,
          1.2642962256392316,
          0.24069879608687209,
          -0.5183106945098369,
          0.40294705959142907,
          -0.8455852420076054,
          1.4971579650596398,
          -1.4435174230680783,
          -0.2901868085365506,
          -1.2787668052203718,
          0.9225408697537049,
          1.2673026677572814,
          -1.6951277998884953,
          -0.9297315748534418,
          0.05643093629606839,
          0.4537534375474726,
          -1.2947095808158824,
          2.124335515766928,
          0.9939360900634399,
          -1.0069064545472513,
          -0.2787916954897312,
          -0.7744079059396192,
          -1.6287125998825762,
          -0.6544769044637359,
          2.8627523525965524,
          -1.198585321684777,
          -2.1905925664160373,
          -0.029041222904893516,
          -1.102772550141819,
          -0.442124865672348,
          0.5410925925586652,
          -0.2355484625780725,
          0.4840477021867882,
          0.6821410977090282,
          -1.4852905819076694,
          0.38690420014717425,
          0.685094165729011,
          0.38778834957728425,
          -0.143296408618015,
          0.9320287017865605,
          0.4370828132897788,
          1.8171651312792296,
          0.47902679182711183,
          -0.2057411209172835,
          0.15165091626292498,
          0.6055879731353354,
          0.33037761753898265,
          -0.4680932174469599,
          1.2563705192961623,
          2.3278366036321736,
          0.725098159362943,
          -1.415457361060728,
          0.44957601851690315,
          -0.09105177102060845,
          0.46954585036380586,
          -1.284949937782445,
          0.5115327802930941,
          0.05874076396466593,
          0.8926582704520095,
          -0.7485469007526189,
          -0.15770747501678642,
          0.9642348132560977,
          -0.4672266784568882,
          -0.5391275206730429,
          -2.0092381385441698,
          -0.49729547575645966,
          -0.9597557921145086,
          -0.22557160130957835,
          2.4490387344019227,
          0.8577154750228775,
          0.5552301103142513,
          0.6098076730519949,
          -1.2156290250912902,
          -0.9905985613542202,
          0.6764108121525154,
          0.5122427611789929,
          -1.1598208106243288,
          0.6533311589425983,
          0.09258649802433007,
          0.768515040718849,
          0.0919859279654667,
          -1.9729081227532665,
          1.1562331586534182,
          -1.0571542374155236,
          -0.6532230187335251,
          0.5911909829591248,
          0.4017214948853058,
          -0.4428335589307233,
          -0.1065297275488797,
          -0.6835498492656664,
          1.3059256917911972,
          0.9755365763155661,
          0.7333713842222631,
          0.2443795654074906,
          -0.8055943759740006,
          -0.9613220919506312,
          0.7526676724253546,
          1.4229653639182418,
          -1.8919572566364318,
          0.9762452515834923,
          -0.305646970699555,
          1.147894865514527,
          -0.8673452734265892,
          0.9826624071092421,
          -0.41766567093019835,
          0.3098862606463828,
          0.3837862372337093,
          -0.9592406406968805,
          -1.3430701491975712,
          1.014689679306253,
          0.7281595586242209,
          0.9859003308339103,
          -1.056758683247209,
          -0.6727018263142885,
          -1.2524754484190903,
          -0.1348895000258153,
          0.07714363756737612,
          -0.25686873907964386,
          -0.046705383726622175,
          0.33812501772542686,
          0.39752404310253325,
          1.0711183062432634,
          1.9697719032934038,
          0.06411397220961731,
          0.7268700132456083,
          -0.7372517879185306,
          -0.4373469459649258,
          0.0013726553235512324,
          1.2395196240220827,
          3.2622522641739473,
          0.12436409970184112,
          0.23517502192542664,
          -1.4456608493478786,
          0.1965179145557991,
          -0.79993574673479,
          0.4454922480642943,
          0.13347571200206274,
          -1.0457811873503908,
          -1.0234900204488229,
          0.40873431578103286,
          0.4729239622197453,
          1.251324172521653,
          0.6016627560036237,
          -0.07496989961432136,
          -1.1020277863236823,
          -0.9651914797188268,
          -1.5356698731235947,
          -0.9780598901438131,
          0.839934352758767,
          -1.1744785112656866,
          -0.713591265069294,
          -0.8446983096282714,
          -1.0317075867823224,
          0.25740061378124646,
          1.2305567772867907,
          0.5777055133407284,
          -0.3915450782837435,
          -1.2925878477641415,
          0.5901611942154811,
          0.3942939610823489,
          -0.7668833411712195,
          2.38178561765786,
          0.41146838946640074,
          -0.79582582545164,
          0.38125559781939655,
          1.13833415089832,
          -0.08957270435948271,
          -1.7160497997437574,
          0.9732206244547796,
          -0.8484765405519696,
          -0.016417379843589514,
          -0.8010196157461011,
          1.2189142958554735,
          -0.3013054991111783,
          -1.309869832733838,
          0.7868950967002148,
          0.6622932437082542,
          1.2277052548219158,
          -0.20998401243369635,
          -0.6301877515427989,
          -0.05927976543984331,
          0.5603872315765156,
          1.6501760401119527,
          -1.3701888364666985,
          0.32991957007156336,
          0.8549182429198043,
          0.384830350812669,
          1.1648848016783384,
          0.4564099548282881,
          0.540196617748343,
          -0.48876615366977916,
          -0.010978846864784429,
          -1.0493519718096394,
          -1.5341338035292043,
          0.6523044874166768,
          0.9119343399665606,
          -0.7454208979778534,
          0.758492975183482,
          -1.2734613082161061,
          0.5514030708599399,
          1.3082241559004826,
          0.5689062755950868,
          -0.48689420617426993,
          0.9867232592891694,
          0.4522263053912223,
          -0.7323514216431836,
          -0.023621915770410652,
          0.5362537403940916,
          2.1156226126762547,
          -1.344575593426909,
          -0.42113149518106235,
          0.6547510986238292,
          -0.31026330054240153,
          -0.42685643838289034,
          -1.4402293267052129,
          -0.2873168463873898,
          -0.9491855483011348,
          2.3600932718254066,
          0.22650355912086684,
          -0.5225919058182282,
          0.5651701104768944,
          -0.7972408967435544,
          -0.3081648987952384,
          -0.711435401912784,
          0.6709065278182977,
          -1.738480096812626,
          2.1281016637983634,
          -0.5363232050432516,
          -0.7996922113615479,
          2.3245644429649106,
          -0.6342209469741756,
          -0.29974617347632176,
          0.5372892369018166,
          0.07218678711934026,
          0.9450887429497941,
          0.8084581895832066,
          -1.2796507321893753,
          0.852984393613751,
          -1.6210268038991644,
          -0.6613218052714692,
          -0.21128938421156002,
          -0.8627631586941668,
          0.32183424396453697,
          2.021988964109344,
          -1.078016570445192,
          -0.7097603338569154,
          1.4837184435618171,
          0.4702368759512663,
          -2.12409992585793,
          0.6206307932329566,
          1.0778652938209758,
          0.6578539941075421,
          -0.24500672666375142,
          0.3228640785993014,
          -0.8657761379163003,
          1.7764094211130628,
          -0.9660133705650922,
          0.1738515374433588,
          0.31365159012431343,
          -2.2402564429462255,
          1.2502313301914982,
          0.25789057304793056,
          -1.400884591874982,
          -0.8208395218666079,
          -0.7420327412799778,
          -1.1648952018450227,
          0.5729834832655182,
          -0.14473321151287644,
          -1.2051900442913093,
          -0.883613383454931,
          -2.5379152810628662,
          0.33257730115450523,
          -0.48297393935728133,
          0.29147716927750794,
          -0.29372662965592966,
          -1.8475474954586961,
          0.1477903987309491,
          -0.48836687338697926,
          0.6116080230355707,
          -0.20372488087648435,
          0.738138989668209,
          1.84897291033393,
          -0.40605133674001426,
          0.16224830063745685,
          -1.0362143903181795,
          -0.6643777164679691,
          1.4454619829300746,
          0.43317233825123347,
          -1.4965307267853998,
          0.9803919410375826,
          -0.5299176124553804,
          0.2095949847325801,
          -0.7607292379492876,
          0.22888051642728507,
          1.1127891232604026,
          0.053631043624210756,
          2.144225681132775,
          -3.1079861987203783,
          -1.436201312117516,
          -0.03185075189321315,
          -0.14216238524168412,
          1.2327272311841306,
          -1.7152408944578428,
          0.14357674379365154,
          -0.09626702397354701,
          -3.398807925285652,
          -1.2975203939460869,
          0.10749114765386895,
          0.5727220349588846,
          1.293191062561167,
          0.7991333502500568,
          -0.24113906868600188,
          -0.6148339841552948,
          0.1641408766929524,
          0.7126896959515505,
          -1.2650557517334526,
          -1.388497125289844,
          0.011789440538542313,
          -0.8328542934222427,
          0.6401044054378999,
          -1.6147279647778292,
          -0.33990303922639403,
          -0.09403446014646229,
          -0.5450762667029694,
          -0.3083267763365318,
          -0.6255854239605211,
          0.22873516733459612,
          1.1060268344125401,
          1.159220375155377,
          -1.8414048032931918,
          0.11935043394930839,
          -1.168235972502739,
          -1.2442565684276825,
          0.5954564561432837,
          0.7673506476841365,
          -0.6909811264354414,
          0.2724451305321715,
          0.34301397384272264,
          -0.9253701759100662,
          0.9229089070578279,
          -0.43381006087106644,
          1.1892371434873727,
          0.893583697846812,
          2.5189727252868996,
          -0.5672959361157464,
          0.8198715786159901,
          0.13456643461890178,
          0.6201911751668422,
          -0.2913531736412864,
          -0.20483038710286,
          -1.1719642427172907,
          -0.8569356737004411,
          0.2365217346217846,
          0.7115988310312201,
          -0.9787021859537897,
          0.7996705653101849,
          2.3137542204770583,
          0.14835835262585317,
          0.23116700786799277,
          -0.6493694105694906,
          0.18034723258721305,
          -0.4700874701131557,
          -0.3161740899132331,
          -1.2677356764684056,
          -0.9780841067906564,
          2.3496333235518065,
          0.4663103804373333,
          0.09123500987404111,
          -1.8527537280380406,
          -0.743144013986019,
          1.1827629606893204,
          1.300048297384857,
          -0.26711116142850333,
          0.034514031271499226,
          0.6106225171705207,
          -0.5708306526663378,
          -0.08894483755738024,
          0.728202284242823,
          -0.15600158959590546,
          0.5562197982563676,
          -0.07102043120004356,
          -0.003283815193994162,
          -1.2787129125468544,
          -0.10129949254444351,
          0.4745390890168643,
          -0.12963306267640268,
          0.23201085644235148,
          1.124344134997806,
          -1.3425298884035688,
          -0.013007087697657816,
          -0.7918754227710105,
          -1.524083719905721,
          0.13306718260093656,
          -0.9371581232061313,
          -0.03924876479740951,
          0.5011715593454114,
          -0.787823592771566,
          -1.381262624797102,
          -1.9235294610171367,
          0.6650234820833099,
          2.1346895587448125,
          1.1643051454182658,
          -1.4490936662586684,
          1.5997898286430965,
          -1.0157288488426917,
          -0.8848406827405876,
          -0.5565702734215884,
          -0.134524793957796,
          0.309265053339059,
          -0.3818600236459313,
          0.1844073397321306,
          1.059603560885201,
          0.6254634675804215,
          0.10320332592637929,
          0.3638899750527005,
          0.5642905305270065,
          -1.992161027284728,
          -0.8964075294337371,
          1.0279029694013615,
          -0.1671526434841901,
          2.1791453903545714,
          1.9921064814744538,
          -1.1350726555441668,
          -0.5850335507787637,
          -0.8120784410013282,
          -0.16884847287806368,
          0.5008210036774814,
          1.484080041124809,
          -0.45034248021609125,
          -0.6459729932009095,
          -0.9956469339584477,
          0.9978626672246803,
          1.3751965467596043,
          -0.5290195362975731,
          -2.512933827017696,
          0.8612223972662527,
          -0.6016329790989341,
          -1.2993872036790197,
          0.6211912938598859,
          -2.141011775559256,
          0.6959414273230562,
          0.3970499530689876,
          0.31733011090452773,
          -1.9232404629812105,
          -0.36455017034730774,
          -0.532807646236423,
          1.0964350665303482,
          -0.4887336034139148,
          0.06983923084966848,
          0.34217870679933754,
          -1.407942887530287,
          0.5424118206644162,
          0.6023510430108792,
          -0.8187615853958137,
          0.0028376159542113553,
          0.3952574001736576,
          -0.20252939134694248,
          1.7529445625857827,
          0.14547212893170067,
          -0.2552428470367834,
          -0.990938528041455,
          -0.981844065892855,
          -2.006798501431243,
          -1.2414088189822179,
          -0.7108290290315581,
          0.2418894388103198,
          -1.18484303135052,
          -0.201859025643727,
          -0.2622592843820966,
          1.4676293830237785,
          -0.24289959395091176,
          -0.04660487093836513,
          -1.278665205339113,
          0.07661703148185413,
          0.23767971355945347,
          0.4748104117516315,
          1.8357280260662872,
          -0.8133426482515941,
          -0.16361959037749088,
          0.9082278941307855,
          0.509926322338997,
          1.1498734142239615,
          -0.15837015219290107,
          0.39675186896031384,
          0.3467990299829797,
          -0.06264972816252483,
          0.9607615953300553,
          -0.30093352014634966,
          1.9286620229130655,
          -0.05550023841760419,
          -1.1395093248491568,
          -0.3455064497753759,
          -0.2107365405214748,
          0.7904706416144074,
          0.9692491222401204,
          -0.9352770676484149,
          0.8784867419902772,
          -1.3104529728815186,
          0.948139444526615,
          0.9734042013452125,
          -2.4668030523548192,
          -0.9737745580057596,
          3.1428020739362443,
          -1.068934834259572,
          -0.5508545894712235,
          -1.0206907812119859,
          -0.5428501154358479,
          -0.1775704877285997,
          -0.5391341197020159,
          1.2415948896340463,
          -0.6669218518737149,
          -0.27447282190070893,
          -0.09580141191176672,
          0.9506161583152726,
          -0.5551588237584328,
          -0.49317565181048373,
          -0.2327702436355657,
          0.6650738115785395,
          0.6763485934486829,
          -0.5846555102950337,
          0.6387922915695403,
          0.5768389682631061,
          1.5570428568730943,
          -0.772163717274672,
          -1.7060497504888066,
          -0.02352220808400045,
          -1.1710464643853202,
          0.08534279796383999,
          -0.989296715566966,
          0.32024545575036006,
          2.5859615512239773,
          0.31202748782410133,
          1.2413189797000945,
          0.8613989147383609,
          -0.8337011781798626,
          -1.2719696501318938,
          0.26798199661795885,
          0.8051888756866256,
          -1.0508881234718124,
          0.0020232395056088265,
          1.4161037161489363,
          0.5940621010077066,
          -0.2075394804774101,
          -0.004803234328867703,
          -2.3083658809765897,
          0.06803575513405222,
          0.7190807536338749,
          0.058696506655736974,
          -0.9549906118024014,
          0.5323768120185614,
          -0.22820905317156912,
          -0.5770274784142873,
          0.5821827868068112,
          -0.43915977462787664,
          0.26438668375861685,
          1.115276767141305,
          -0.30134024159948025,
          -1.1121415111133421,
          0.15465208948566114,
          1.350820198766197,
          0.7509912913769715,
          -0.06144275602033257,
          -0.08651916202237075,
          0.8992778532602379,
          -0.36711111127277596,
          0.72255539067097,
          0.1959153963504628,
          0.14625687649277164,
          -1.1973269120910992,
          0.40679394905768773,
          1.016326156871808,
          0.6179776188875066,
          -1.1342229241204447,
          -1.7225243700049175,
          0.09473142597769889,
          0.31410089475174396,
          -0.3711124384574565,
          -0.6681873664475048,
          0.027840342306719088,
          -0.14769755371347548,
          -0.11628690854322629,
          1.1681852876333485,
          -1.512963587036903,
          2.0571212871970745,
          -0.6041131098512103,
          0.838337360403475,
          -0.7266409136127562,
          0.8856824724237227,
          -0.9739892023060143,
          -0.31521929081932615,
          1.2474813134369303,
          -0.30405464149868244,
          -0.30088298061274626,
          2.4212360860104147,
          -1.2793760039851263,
          1.253386011136396,
          -0.6849041371280511,
          0.3279931015545742,
          -0.8383141838347998,
          0.6651655023146792,
          0.4894179711735725,
          0.01710737927729761,
          0.8360934905885719,
          0.31458201303185757,
          -1.1065598314241882,
          0.30266211278644933,
          1.6673477126030054,
          0.001101045351825895,
          0.20045245843416246,
          1.0003088948581793,
          -0.6086924806573942,
          0.23506085568712504,
          0.13909471388250544,
          0.18977260521057313,
          1.1828183842368098,
          -1.9511161833444208,
          0.3302940257960211,
          -0.04085328729983681,
          0.08841334776964488,
          -0.3616040285025427,
          1.7126002475706092,
          0.845205336530139,
          0.6704628381774052,
          0.15048943531259812,
          0.9676079661212691,
          2.009201928539606,
          -0.5372152535337883,
          -0.35621936102100293,
          0.0637703029224342,
          -0.8728342160281073,
          1.06202987128552,
          -0.41144461911291047,
          1.2626607557144194,
          0.3890517650179341,
          1.646395173146291,
          0.7642042541252305,
          -0.3276023819071012,
          -0.22063271962068337,
          -1.563977815157442,
          1.0173347073609327,
          2.138162785963922,
          0.028796640651909223,
          0.16887575619800854,
          0.8792852195890866,
          -0.4613682063556425,
          0.6611318796440061,
          -0.005557401202003697,
          -1.3361304513379026,
          -0.05692769271104998,
          1.6267559218245846,
          0.5892273127739436,
          0.7962739611744948,
          -0.687877451551931,
          -0.340071700740505,
          2.2690926965397997,
          0.289430887664579,
          0.5119562217920738,
          -0.02163794742637716,
          0.7001708417246698,
          -1.529091632464278,
          1.807781839520128,
          0.430012098618446,
          -0.5786344919520775,
          -0.16106672320318904,
          0.3947859459698327,
          -1.7740224463191634,
          -0.19648702842087348,
          -0.04173126429050309,
          -1.5855643302753255,
          1.1378404323750382,
          -0.16525270072540976,
          0.05608911991396274,
          0.3160597362825191,
          1.5107582078620216,
          -0.6484835120185677,
          0.8954057945056846,
          -0.02186031001141333,
          0.6488824528296497,
          -1.649650665168256,
          -0.20102826637851975,
          0.3464773459863535,
          0.2658967176626311,
          -1.0836986308625303,
          2.731084161288676,
          -0.8096220762159688,
          -0.022785957633552442,
          -0.06581848018537606,
          0.612088620421897,
          -1.6153248930579385,
          -0.32368511694139257,
          -0.39550677850872956,
          -0.3267896836303601,
          0.015882225886522203,
          -0.261302313858551,
          -2.307320719708466,
          0.10151866361391343,
          0.31472455393770843,
          -0.6107010525479266,
          -0.8469718625142855,
          0.7792059519950038,
          0.34302424618392996,
          -0.7534589826740342,
          0.6040032659966442,
          1.2057687054897777,
          -0.0708297509621099,
          0.43094058976887434,
          -1.2622837200362271,
          -0.5325818358170754,
          0.8122807815713293,
          -1.6060267427249,
          0.7628283635514905,
          0.9262385812051137,
          -0.2467252950300738,
          -1.4319718152393037,
          0.3838076754521465,
          -0.922178512461309,
          0.5427770161126972,
          0.5472528930470871,
          -0.6727551755212864,
          1.890782437588625,
          -1.4108219378937172,
          0.8044897560279048,
          2.8226846265853904,
          0.6464900481779583,
          -0.02068222917792895,
          -1.701111199790491,
          0.3468033183467016,
          0.6338810824140235,
          0.22967126807137103,
          0.6934992966098421,
          1.1774919692821681,
          0.8555398715625526,
          0.40915288909293124,
          -0.0073291211304871914,
          0.15433511798608096,
          -0.9526702472490112,
          -0.7411878975246885,
          0.9838538096643359,
          -0.3863366032714195,
          1.107382063193894,
          -0.11113721677278354,
          -0.035037888510207706,
          0.28884111641193594,
          -1.3177741110890004,
          -0.4887937440309987,
          0.33553596996898855,
          0.5470883853413282,
          -0.14046417221301183,
          -0.3435538658345107,
          1.0211158174179504,
          -0.1597763427732513,
          -0.7855625962628073,
          -1.0762188888420752,
          0.7255628993258935,
          0.5209053882352517,
          0.6034814584664108,
          -0.5988271809390016,
          1.4368449015192062,
          -0.12716430020976072,
          0.15970782516537665,
          -0.232809849008697,
          -1.2754687535787637,
          -1.2071935393766564,
          -1.0373184735922139,
          0.362341553590797,
          1.5979114526705263,
          0.7828866951010437,
          0.8354539299947079,
          1.4139051399723221,
          -0.2842089811921046,
          -0.018879881321417095,
          0.6452082889450536,
          1.6433474717025705,
          1.1863764944445083,
          -0.5980691875416994,
          -0.11592192062756562,
          0.14885518463789166,
          0.6128467528640958,
          -0.433791267158611,
          -1.3255107376231714,
          0.4244975929624891,
          -0.5379330906929496,
          -0.1710031337560576,
          -0.07610242208860846,
          -0.31226038119051913,
          -0.37388505147443746,
          0.9165395396147232,
          -1.5265569248853115,
          0.5392869537431004,
          1.3485442014391227,
          -0.059849960600757354,
          -0.056567712229748775,
          -1.274461056359799,
          -0.715056240278575,
          0.01674825663677028,
          0.13449208032757304,
          -1.657682966834884,
          -0.9641057590713236,
          -0.21224151129536437,
          1.4491718603540613,
          -1.2275558897854468,
          -0.03970426791463578,
          0.22992131104304706,
          1.1826117209170044,
          1.9488072394476534,
          1.5808753723774343,
          1.8449599915830182,
          0.5769768453857202,
          1.481831758368459,
          -0.6535375452738719,
          0.652251817981664,
          -1.6582437584210477,
          1.120225644926101,
          -0.4790722391047021,
          0.5358352997777369,
          0.7639363284194365,
          -0.9963410151276424,
          0.4973088199988619,
          -0.2890430531822414,
          0.5424748858726931,
          -1.6302646134666172,
          0.42883114775271525,
          0.055351275833025175,
          -0.7042106860211121,
          1.5543423449549083,
          0.6071394242661348,
          -0.680527480961381,
          0.07280734185320671,
          -0.3083111274971211,
          0.2271641181892249,
          -0.3101927617059047,
          -0.24278394701748685,
          0.5686118153018659,
          0.6306547481773271,
          0.5641516458709641,
          -1.6854025266206272,
          0.47207877723928665,
          0.5291493113691461,
          0.351400807642833,
          0.4877631688924384,
          0.651639063238394,
          0.4959777727336577,
          0.036713704011555465,
          0.07943016925856855,
          1.1867093738077523,
          -0.4932877158474147,
          1.3898338220889033,
          -0.22684720717335582,
          -1.3879022982674707,
          -1.860751609981323,
          -0.41905803941810615,
          -1.0597733492272434,
          0.6339551113099728,
          0.19202928008821019,
          -0.502406397462315,
          1.2064996415179503,
          -0.20140972294459095,
          0.9598102140805403,
          2.1742460717049483,
          -1.2542802516138822,
          -0.19938827455615843,
          0.8678405683311723,
          0.9674295798271845,
          2.8610377767242756,
          0.014768118165623987,
          -0.4937919624744952,
          1.0320013765170803,
          0.07223831972730925,
          -1.6645103616180201,
          0.2984402356443497,
          -1.4985825383591669,
          1.3598716761971474,
          -0.01887192810273838,
          0.0725823998006109,
          -0.5758141704721198,
          -1.2975273147521276,
          1.4852846250693914,
          -0.9562204872830107,
          -0.20093195686994728,
          0.37445119995285,
          0.26000986853369584,
          1.3426566953611179,
          -0.7153309222586024,
          -1.3257134356194584,
          -1.195792283152045,
          1.3105007224628629,
          -0.1326078075824708,
          -0.8195584420731944,
          0.2508370005624297,
          0.5617514586129089,
          0.8529210184671394,
          -1.208068733626737,
          -0.3833465418812282,
          0.39017216628276435,
          0.8411145626626655,
          1.3568683231142908,
          -2.288996378347333,
          0.1415272549361661,
          -0.3904188071923872,
          -4.2129561216954,
          0.9638735643287257,
          1.0861412110183717,
          -1.9040302028267067,
          0.02317503996947193,
          -1.407534684617923,
          0.5455685863086599,
          -1.5954100082682072,
          1.4415664302889681,
          0.7921801644972283,
          -0.10601373626705558,
          -0.5311525370081943,
          -1.2382375117718247,
          1.0611489393983666,
          -1.3904898503264755,
          -1.1191330342038568,
          -1.4602686916446324,
          0.05745074902394581,
          -0.8111445141335704,
          0.5325599307881994,
          -0.9991859944967231,
          2.149489567855584,
          1.5892221076401007,
          -0.2219279159550459,
          0.10692993688474739,
          -1.0439854031037297,
          2.537675056023719,
          1.3665049391236053,
          0.7357603854895377,
          1.3072084998979097,
          1.2158897069315233,
          2.6514738894600174,
          -0.5076668771578153,
          0.5939715581385467,
          0.5271017366643151,
          0.09174322034069086,
          1.5914914100095314,
          -1.1164236610085727,
          -0.33547761718822655,
          0.36425234357617087,
          -1.2053175426710663,
          1.4893763778259674,
          -1.1412993714210289,
          -1.1920698007623136,
          0.3042784635539238,
          -0.10258748489164277,
          1.5826385391120803,
          1.8010940760000285,
          0.18638799070008044,
          0.13555212942566616,
          0.6512765025682576,
          -0.1253878888171616,
          2.131461983108554,
          -0.34421355358885447,
          0.2596852617960854,
          -0.9762952194587845,
          1.2221360254477256,
          -0.29901350721916686,
          0.29685924935229774,
          -1.0185651874546988,
          0.5504118395766223,
          1.0114640045435683,
          -0.4254779856458929,
          -0.5402498764007498,
          -0.3558476174329047,
          0.4079765530911452,
          0.45226568655267635,
          -1.0002106168563312,
          2.1241829366722382,
          -0.331928783241,
          1.8492821558391437,
          0.04009431728428549,
          -1.4260464536043689,
          -0.3274030664650063,
          -1.8191677809966644,
          0.176828571915503,
          -0.7033635504149003,
          -0.03162564274157362,
          -0.7923355299218908,
          -0.49611003649231633,
          0.6959285507047814,
          -1.9493512117235368,
          1.8985637034673557,
          -0.12997879916833993,
          0.0013486970566614978,
          -0.101730086106992,
          0.38950279896084977,
          -0.33528073411208986,
          -0.2665249073668679,
          -1.1171632085743333,
          0.4942284005554424,
          1.4407293479664458,
          -0.31137362030263144,
          0.4919214550163674,
          -0.09907407533344996,
          0.4393326477501065,
          0.5450417473702511,
          -0.4117068517640326,
          0.2426029428314111,
          0.37717179209508295,
          -1.2946361994458706,
          -0.5934751010870318,
          -0.36622925397134265,
          0.26580637938702556,
          -0.6777081593424555,
          1.3263220678938712,
          0.11181334519898031,
          0.12592494982063493,
          0.586434404185486,
          -0.0151953387428774,
          -0.04757474408267661,
          0.9499367363802909,
          -0.9861764756835811,
          -0.5408378194245134,
          0.6449438932728697,
          1.724027549959688,
          -0.6937999518901409,
          -0.5405707459605706,
          -0.6409547763406608,
          0.7928808634494541,
          1.3574766107753966,
          0.9085367393028574,
          1.1804414368979053,
          0.8931278629422535,
          1.8092978227144136,
          0.7917190756449035,
          -1.111276373537329,
          1.5583744066171017,
          0.19195590936039916,
          -0.9705168858463116,
          -1.9039830878523751,
          0.6227090325588462,
          -2.227611887175978,
          -0.527722506799397,
          1.616157672291195,
          1.057697507273253,
          0.1979838993247995,
          0.395841379145771,
          -1.4344526668672577,
          -0.5901945217409215,
          1.2766760587385138,
          -0.7137690690848582,
          0.3368254035192179,
          2.4048304424802023,
          -1.1754386251003546,
          -1.3180502381708301,
          -1.8744278369665623,
          -0.17444428664933864,
          0.2133656766614956,
          0.003983807770407357,
          -0.5275061560682169,
          -0.38261953125224424,
          -0.8033141044698902,
          0.9307223842938147,
          -0.4525319276376844,
          -0.18256971779641362,
          2.20075497119147,
          0.8555492180058804,
          -1.2131814574806234,
          -0.016744253862776892,
          1.170008695179457,
          -0.36815469091666964,
          -0.5919154747180936,
          -1.5565160350061358,
          -0.15687609663309,
          0.6195442193512972,
          -1.3661914160746944,
          -1.5116497678739698,
          0.10513839691110341,
          -1.8787148652561745,
          -0.04942459360671143,
          -2.4399308488683262,
          -0.5483438290548861,
          -1.3442441717879725,
          2.013349579512198,
          0.17100404995213747,
          0.800277190965589,
          1.3175488224980958,
          0.7072752895145651,
          -1.3297334228982713,
          -0.03384484271660122,
          1.100936812505464,
          0.36836243404661456,
          1.0880722268418128,
          -0.3394736873225724,
          -1.2921263753743883,
          -0.366982763227189,
          -1.0083626726543093,
          -0.26843175738475966,
          -0.02838722367235584,
          -0.37996411381455064,
          -1.0954222984591184,
          -1.418283547220512,
          2.633517520023089,
          0.41760140023023173,
          -0.32390553994236493,
          -0.6775165968753104,
          -0.9040820140398312,
          -0.46571213855812577,
          -0.672295774273415,
          -1.1060486421673688,
          0.5602210627322751,
          -0.09970189996808818,
          -0.7370028670519523,
          -1.0229633951870496,
          1.5051482611690925,
          0.3771687370715008,
          -1.3989234477288819,
          0.5547031829149194,
          -0.5104119173164489,
          1.4406621167800284,
          -0.11030752689182023,
          -0.147181840443346,
          -0.14097384989501374,
          2.2748424423473503,
          0.28026320084330997,
          -0.9542329260275738,
          0.13087047690063486,
          -1.5685331365012944,
          -1.2448521836061328,
          -1.3190013396032993,
          0.1541844824385299,
          0.22793304759236083,
          -0.08165277684401397,
          0.7985130137217141,
          0.1371709204952531,
          1.1017078512263305,
          -0.23833548170923224,
          0.4356396634532475,
          -1.5221189336731875,
          0.28504940677850676,
          -1.0728163299839253,
          -0.929275141612786,
          0.3672112175978265,
          0.06584852811107157,
          -1.3391606163333203,
          -0.7590858848395164,
          0.09267894989668878,
          -0.7573160746429874,
          -1.2218864724210112,
          -1.0399215361377954,
          1.6622616447039917,
          1.9619218923119068,
          -0.19523484845066885,
          1.025046623859655,
          -0.7808889056037387,
          0.4994223599173124,
          0.529438924321208,
          0.5574573998955163,
          -0.34961000916279633,
          1.1808018246533314,
          0.39583711079203926,
          0.07241179456643591,
          1.7128144704435715,
          1.0009839458364984,
          -1.792681440374667,
          0.9195701071389271,
          1.1804421310371238,
          -0.28888848105425935,
          0.9169189407452817,
          0.16140948021994544,
          -1.5015913682330797,
          -0.9443062050068521,
          -0.8688786699645838,
          1.30560973399844,
          -1.4980352034866276,
          -0.0025328928599999277,
          0.14674933109170415,
          -0.9069022077979352,
          0.20953738160237564,
          -0.7611803582592507,
          -1.4028882772960325,
          0.013760413036154646,
          0.5621684476524652,
          0.5745984958903568,
          0.30381633713496065,
          -0.5849501786189116,
          -0.34369541673478055,
          -0.9758501477845578,
          0.9749439831759247,
          1.2079538548124995,
          -0.7800410158406759,
          0.4310027219221291,
          0.12586403890992265,
          0.561989877141811,
          0.6331811458787903,
          -0.13631733764859666,
          2.1095072456483246,
          -0.32117710192978366,
          -0.9557364062986987,
          -1.4631132855226017,
          1.215023572600138,
          0.5607948559987562,
          -0.22511962728531995,
          0.3580942165958841,
          -1.1310875203353175,
          -2.3436690598545686,
          0.005815402257036128,
          0.3747460730689684,
          -0.06072712545797918,
          -0.048021639955490254,
          -0.31225080545654477,
          -0.9504007068429159,
          -0.5167889745226154,
          -1.214259803021866,
          0.4583114965709305,
          -1.6582125258460705,
          -1.326220071539565,
          1.2592929350310467,
          -2.368570695084377,
          0.5175053486956321,
          -0.30404160715412903,
          0.8112640237076019,
          -0.1843966991271158,
          0.03048678408220428,
          1.18529683227866,
          2.7239778259956857,
          -0.6951179187409314,
          -1.1263386197265248,
          0.5292780823119773,
          0.11474706690668418,
          1.8879738791850182,
          1.8167642370934003,
          -0.6308853684898662,
          -0.0636691860168729,
          -0.3116891109220481,
          -2.0415725219390777,
          1.2034137329713093,
          -1.316911354759518,
          0.2023289295861853,
          -2.8299827292804793,
          0.9160990883624136,
          1.0472607788190766,
          -0.5392164291161566,
          -1.2600937449488805,
          1.1226353371403928,
          -0.44841268218941516,
          -0.45984135646991486,
          2.051990113709105,
          -1.566155203853308,
          -0.16547354771974546,
          0.2116622549320087,
          0.05882744063708607,
          -0.46594006754285067,
          0.48322617285208647,
          -1.1074851139380022,
          0.22198799908813602,
          1.0906867343343725,
          2.2814203983616026,
          0.0815113552798416,
          -0.2367563531175384,
          -0.5243158772013633,
          0.2717171691304793,
          0.4987611999062551,
          0.026291191426340316,
          -0.4967364255352449,
          1.3581338614695544,
          -1.1923841738962142,
          0.27545258150439295,
          2.492545178024051,
          -0.282887194614645,
          -1.402861119473655,
          0.17097197439356326,
          0.08238644818549444,
          2.0999395694263066,
          0.30482974722390493,
          0.46492180651973153,
          0.3768149035903265,
          0.8812579779564637,
          0.16602074012059223,
          -2.0509743901462048,
          0.6577573538977665,
          -0.14597339773543733,
          0.2628245567796615,
          -0.23514752418795948,
          -0.7046645575450917,
          -1.246965544887261,
          -0.2168441483894102,
          0.3616813570034935,
          0.05383424934609756,
          -0.07736958813499248,
          1.2449185552400848,
          0.26693386396994606,
          0.5790969903796406,
          0.676504095514266,
          -1.1731619951283654,
          1.3007007178737389,
          0.5860196280352195,
          -1.4088215884542437,
          0.8603475502955513,
          0.29245391873339366,
          -0.1696092499323584,
          -1.4141627841561597,
          0.48069487811717926,
          -0.34104433144856994,
          -0.26127282385893347,
          0.70067075628148,
          0.2667903661466085,
          1.229303647435279,
          0.19824249151976758,
          -0.3570369236315642,
          -0.8706490689662829,
          1.2280430272198246,
          0.6222283237332242,
          -1.4621840390604524,
          -1.0533368652731958,
          -0.4171355422537869,
          -0.328264621153431,
          2.1674152554942605,
          0.272132668139579,
          -1.4104227923710717,
          -0.6011489071549511,
          -1.1393104297755572,
          1.6535586862730558,
          0.4038244408888193,
          -0.6146413064416181,
          0.073657119346105,
          0.5942923372694005,
          -0.47822930636043093,
          0.19073006432308037,
          0.025130430257808745,
          0.033862998546147806,
          -0.040877278664421146,
          -0.20891479087505976,
          0.18933013273441038,
          0.35035102886443853,
          0.22082201025161596,
          0.510893136345477,
          1.1807790410357917,
          0.4907721118179804,
          0.2275691723811052,
          0.06621605777365795,
          -0.3056424793497921,
          0.43876336483877754,
          -1.269632657689617,
          -0.182051293415719,
          1.1426010331515373,
          1.3370820907115204,
          0.6254741698267995,
          -0.5065539987686202,
          0.7233402631262641,
          -1.2629286341518,
          -1.670182482759563,
          0.12677558759305413,
          -2.6266516651887653,
          -0.520799966073207,
          0.9369232902998019,
          0.2801796003920542,
          -0.70323091648113,
          -0.9704813983200156,
          0.011356348116442528,
          0.4966567627537941,
          0.9846022082264851,
          0.637987066466301,
          -0.4325126449887407,
          -0.7750140835782577,
          -0.6369362646980907,
          0.24425486479289782,
          -1.0342045791942438,
          0.5969125453413464,
          -0.05106947210346452,
          -0.2477026510448354,
          -0.28589175568073144,
          -0.20731333224972665,
          0.5729090657546534,
          -0.7428522968522885,
          -0.19128699678832295,
          2.0416497800738775,
          0.054540109582987856,
          1.6521923949073292,
          -0.7138245907799082,
          -0.20917495991058513,
          0.20021323801925572,
          0.8810303560117538,
          -0.7279175909672954,
          -0.14730692996833428,
          0.08339174513293905,
          -1.3865771820669617,
          0.9779898082300191,
          0.8066072367910371,
          0.2372109081940844,
          0.11441704678514125,
          0.626746963653835,
          1.4952957844877797,
          -0.7972550352605836,
          0.04835434161292159,
          -2.7692593211847907,
          -1.3752272429927437,
          1.9193868157711098,
          -0.9328506020252874,
          0.5939490368524474,
          -1.079568589451931,
          0.18480990340707842,
          0.6326641646074549,
          0.197427947641814,
          -0.3939584721867786,
          0.14104755672878927,
          -0.5838503390334591,
          1.4059512127634926,
          0.0948128584783743,
          -0.40748106154583547,
          -0.005915271585605974,
          1.748876096998198,
          -1.0390089394428415,
          0.36665844988088575,
          1.2974612998080235,
          -0.849928604277483,
          -0.4128067318865876,
          1.641349014983064,
          -0.4778718772841628,
          -0.1867808009976987,
          -1.169410993079307,
          1.1779697288774937,
          1.4228542149091536,
          0.9334434437074437,
          -0.9125197981101955,
          -1.064757426471644,
          0.38810672269958,
          1.0695189268597738,
          0.425246779585569,
          -0.9854609516687058,
          -0.19720926107484482,
          0.2201317516783242,
          0.9911501468608893,
          0.7255810423188019,
          2.0648158889306765,
          -0.5194915448607414,
          2.066639804029373,
          1.1961194119446545,
          -0.10412723445528115,
          -0.46991916696438757,
          0.7870229655950841,
          1.7589071393129556,
          0.546501356822595,
          -1.2624869055949655,
          0.5069282706961721,
          2.1804996669455265,
          0.07242423770177284,
          0.7704736339749824,
          -0.9900511078553523,
          0.15614424251499062,
          -1.721518352687393,
          -0.13030853441577536,
          0.0010286851675667351,
          -0.24877031851504808,
          -1.0063468377850886,
          0.09647552016862651,
          -1.1476477950743238,
          -0.10666316938982173,
          0.7710421618772761,
          0.7922703700685804,
          -0.7315121063064045,
          -2.8838543957880614,
          -1.3716893569911068,
          0.7480938586216911,
          1.0727256487591685,
          0.7556061042160078,
          -0.569710937960718,
          -0.2572286558201384,
          0.6612014976945597,
          0.6872284839208533,
          -0.7676758604740248,
          1.0768845366719304,
          1.876256666253043,
          0.02503037789950774,
          -0.08051042599657673,
          -0.37228033048148534,
          0.528686332445205,
          0.2806930373117171,
          0.28303830756254555,
          -0.6610236746296789,
          -1.4763720632866817,
          0.4560189266726886,
          -0.5039925593971786,
          0.2581964461548919,
          -1.4648123465370693,
          1.4932899976330045,
          -1.0799365208244496,
          0.054559273836520615,
          -1.1306625536900647,
          -0.09813823214962726,
          -0.3745709308875171,
          -2.047146067835456,
          0.8994109703654587,
          0.9188490923830214,
          0.40606104821339417,
          -0.49575598402750887,
          -1.8573856051394957,
          -2.0121696580887707,
          1.6739484444898365,
          -0.9584542531620102,
          0.5798606118142224,
          -2.3526693579514775,
          -0.5299577680228179,
          0.19143635862280575,
          -1.8449690785469168,
          -0.5777617276874916,
          -0.4845696809847296,
          -0.6616625203112892,
          -0.20109016827442341,
          -0.6282209604114846,
          0.7752937910552843,
          -1.4164042241724444,
          1.2014661477322799,
          -0.19666078500287543,
          1.2916189848125033,
          -0.7194816491154908,
          -0.3532906729102711,
          -1.091604561824679,
          -1.6367437246605883,
          0.9170929680164284,
          2.582193578933481,
          0.01410657945138658,
          -0.4175645365814485,
          0.6501255343003968,
          0.42409881504080704,
          -0.4949225427374735,
          -0.9411751336584238,
          0.5577134415144482,
          -0.9030177942140664,
          0.5170377598983321,
          -0.6674404603964206,
          0.8376632105666031,
          1.3939146225212105,
          0.29288657371599797,
          -1.373468385420474,
          0.5816703568431664,
          -2.06277664567349,
          -0.0648548953516463,
          -0.11309764132684032,
          0.4435540256380173,
          -1.1589668431045486,
          -1.416656702826845,
          2.1823383449207476,
          0.5797828360744677,
          -0.9055225267410405,
          0.5928200057025734,
          1.3663635783023746,
          2.181444133504116,
          0.2566646431125985,
          0.013114276899927104,
          1.0085848218646363,
          -0.6507923808547258,
          -0.04788164305191231,
          -0.5365277640665024,
          -0.8281222947637028,
          -0.27318088954759945,
          0.34031164210921805,
          -0.03927840307658409,
          1.1430209799223376,
          -0.13508819694930388,
          0.6809939613831009,
          0.06214077003342647,
          -0.6484519594577315,
          -1.331214954522313,
          1.4058799910728343,
          -0.3672762796401115,
          2.1331277279171044,
          0.20082866282639933,
          -0.677959788386725,
          1.298776064723743,
          -0.1008294702606458,
          -0.13249570848841472,
          0.0234710947071281,
          -0.4766282309892996,
          0.22719044697743304,
          -0.16729940610539892,
          0.40688326151676457,
          0.23949333349405685,
          -0.6600189415894246,
          1.0714433691024683,
          -0.008609084805457653,
          -0.6462007540781382,
          0.13223151420112478,
          0.5781679209095941,
          1.8039814731217334,
          -0.6868628018007451,
          -0.5937328368915068,
          -0.062141622362935175,
          0.3961874482956573,
          0.2337404396293554,
          1.141662273306519,
          0.8521589677163276,
          0.8784447533203725,
          -2.206819275719508,
          -0.14306652134288464,
          -0.8527134269053771,
          -0.8633197067559973,
          -0.040466241338246015,
          0.3201620964585817,
          -0.8907527619852408,
          0.43471341101081595,
          -0.3143796305598539,
          -2.2644063228597444,
          -0.7529450062769325,
          0.8873902559467493,
          -0.11127453209392704,
          -0.0198423243612728,
          -0.1779094075694172,
          -0.25829735048141395,
          -1.1373181322327608,
          -0.3381382889331087,
          0.042580870664553086,
          1.2151678839696014,
          -0.9786277236367544,
          -0.15813234589720485,
          -0.13190939388474562,
          1.4326035120066003,
          -1.0071230638424928,
          0.4344995168921951,
          0.8858129906900476,
          -0.7176305040488273,
          0.1863452319398821,
          -2.0251575905727988,
          1.0311080811048141,
          0.5675366335152499,
          -1.3822158817753885,
          -2.1540224006476545,
          -1.7694693827494228,
          -1.5108363649330963,
          0.0348989089061825,
          0.8178636510907089,
          0.1289144419882096,
          -0.8341883373771936,
          -0.17898130884239127,
          -0.3249405532971902,
          -0.437433182919335,
          0.7071174848522802,
          -0.6147316268878226,
          2.417639588177097,
          -1.0350273496340958,
          0.10362915582061562,
          0.24905532916206527,
          0.4154791097071788,
          -0.7792190562410457,
          0.35470638945491634,
          0.27044450886285065,
          -1.6184844456311085,
          -1.7343311915381705,
          0.4635177553683533,
          -0.18243609632214855,
          -0.2734826025122155,
          -0.04548019711808613,
          1.5647088817369577,
          -0.5474681996804355,
          0.16162619795808972,
          0.75687325997892,
          1.7527004050153865,
          0.21888830969851217,
          -0.3433147008021146,
          -0.09090264342837337,
          0.10662601728986625,
          -0.2347231962733783,
          -0.03241907298065123,
          -0.14378873913775347,
          1.747710006995581,
          1.0604148157521998,
          -0.5654672177463944,
          -0.20725290587697123,
          -1.7830079957511593,
          0.19130714208017122,
          0.1677951451052299,
          0.2210009930374381,
          0.695520759590195,
          1.5095912492515142,
          -0.720076533158379,
          0.008497939996099033,
          0.31582403829316624,
          0.22190102962217106,
          1.2868137759942784,
          -0.813037117748235,
          -0.15930682713169927,
          0.40307702247107374,
          0.6193436646763653,
          2.6352840706119776,
          0.9691844145279619,
          -0.7114792665852916,
          0.6656072536681217,
          1.2285998477524336,
          1.7417879947226955,
          -0.4441898460158809,
          0.4634269969247364,
          0.024821689035168914,
          -0.9333371690388076,
          0.6827548802694402,
          -1.0136630426881421,
          -1.448717108602471,
          0.5157299235570122,
          -0.7995673328018797,
          -1.3001675150152137,
          -0.874418805437889,
          -0.4260618575724494,
          -0.4223577085333401,
          -0.9112207407173613,
          0.07943186630517174,
          0.723427286579793,
          0.9917323568127951,
          0.2902186998377006,
          1.1161794241304805,
          -0.08789547401764085,
          0.14388429214153564,
          -0.2564683936640589,
          0.9496540260934333,
          0.9248997928046384,
          -0.6573122152556125,
          -0.6213176338022377,
          0.9448180237507847,
          -0.7168660904873534,
          0.5319143682060578,
          -0.2704725204840741,
          1.1215789330744226,
          -2.2552556436544067,
          -0.03060023445472509,
          1.7555069255488605,
          -1.0896559789063514,
          -0.9349603437281755,
          -0.12937279375250255,
          0.23164421727346876,
          -1.7765697538278051,
          1.0311356005524792,
          -0.9753686664372283,
          -0.3496927309759738,
          0.17858536419584162,
          0.25344302622753084,
          -0.8926118296192264,
          -0.36870732091013686,
          0.6667049868384005,
          -0.48197083800725254,
          1.7577281306421872,
          1.5892573401871901,
          -0.8643103644198191,
          0.0400985086376306,
          0.21940790934096413,
          1.0662600017995376,
          -0.7744012358481515,
          1.0210089819163197,
          0.6685631784980495,
          -0.8281411031734398,
          -1.3417394124318631,
          0.4054508248317672,
          0.01736082480645343,
          0.12304024195463951,
          -0.29107165353892683,
          -0.9041828303322312,
          1.0937616766865912,
          -0.6818904381271316,
          -2.582703457228564,
          -0.2876266461706517,
          0.5867634364184438,
          -0.05210560930864459,
          -0.5465820455502399,
          1.3053300575430193,
          0.27579987995995825,
          -0.6477609588352577,
          -0.43527893397424133,
          0.35185343256234825,
          0.9348342351146378,
          -0.3895691601701128,
          -1.139383371700629,
          0.7632230296828555,
          -1.2723657901704262,
          0.04173727637241506,
          -0.9754607574535862,
          -0.8334980011771718,
          1.6355375893244588,
          -0.9704000710791515,
          1.9353218790426798,
          1.9127026917897236,
          -0.03207098343211398,
          -0.20989469932188357,
          0.6126499604914174,
          0.9235233847798476,
          0.7750965842385713,
          -1.2466408059293603,
          0.7652857939221829,
          0.3485706479093674,
          -0.5162425483688634,
          -0.44453068779403476,
          0.40488504960299576,
          0.12125359930754676,
          0.670732006400923,
          0.051348451075442815,
          -1.7062642234551697,
          -1.061362301441095,
          -0.933279916858411,
          -0.44719764744604096,
          0.6035618741805098,
          0.7395639872857154,
          -0.08687826639469087,
          2.0192225121681298,
          0.8656353586567126,
          0.9231750145208419,
          0.4622469066940701,
          0.6897363036426313,
          -0.10846348159248065,
          -0.6283233583819804,
          0.33769746876926354,
          -1.3060963531630734,
          1.4397767659094385,
          0.9145295064034866,
          -0.8655622697602801,
          2.7423625240207894,
          -0.8636177105359252,
          -1.0583262304641334,
          -0.9626381626981761,
          -1.3224990215532384,
          -0.6099835092772912,
          0.05601478428578912,
          0.1702326337076188,
          0.009607472877664327,
          -0.7106404064675363,
          0.7548047018021917,
          0.96839523061399,
          -0.22228257953250385,
          0.3635263701084436,
          -0.516686005485859,
          -0.5275471604292976,
          3.234348799649425,
          -1.0802221514971082,
          1.6505233965180477,
          1.580391495026916,
          -1.193154271271104,
          -0.1384665829129428,
          1.7043298333253538,
          -0.8641921552686852,
          1.9355893242541844,
          1.9459167829423745,
          0.2350465393372376,
          -0.44330080205427613,
          0.01763781098192395,
          -1.6227467699530655,
          1.1200190627208328,
          -0.9618312599210894,
          -0.06755084261338555
         ],
         "y": [
          0.3000965337558242,
          -0.6622060422627833,
          -0.6255454807639107,
          -0.24671511643986768,
          -0.6714747746936721,
          -0.4360082529291445,
          0.6145040984469414,
          -2.860954640338079,
          0.17558997772807503,
          -1.5862004149027202,
          1.198109606792879,
          0.7665080545601795,
          -0.507459506305366,
          0.9921464324731367,
          0.43087198460522697,
          0.443594468862559,
          -0.02560932446399946,
          -1.2571275045538621,
          0.5841954464993808,
          -0.75188341071366,
          0.552675062324356,
          0.8169151910794679,
          -0.9236714023903445,
          0.4620005081730469,
          0.6523196543266234,
          -0.022522371043274054,
          0.6133577017378952,
          -0.950786018201875,
          0.3244309519454992,
          0.26772449009009436,
          -0.38441550036265054,
          -0.812637501715616,
          -0.5698442258886488,
          -1.0836091593124861,
          0.7825112036933256,
          -1.2492950570662549,
          0.7691466587011834,
          -0.4668789262802108,
          -1.8287931396127337,
          -1.1647893385051558,
          0.25999332861021546,
          -1.8501408093521576,
          -1.512533767429815,
          -1.0650023338562364,
          -0.6652934250537913,
          -0.545382248312073,
          0.5420475738650817,
          -1.3921525924963187,
          0.6066051274738851,
          -0.6161652293982794,
          0.35001602985900915,
          -0.5463365924466214,
          0.5007707849644665,
          -0.10780168936124859,
          -0.11731231476354499,
          1.2054569352657916,
          0.6061374223856343,
          0.5675985589087075,
          0.7113657275875482,
          -0.1844325427041221,
          1.2182599194899204,
          -0.6504355039406811,
          -0.589923124073727,
          0.4187466348107679,
          0.4840026523358317,
          -0.46298657298120094,
          -1.610607811800595,
          -0.12001858555854975,
          0.7070778753155859,
          -0.6004867117661746,
          -0.028886515526639133,
          1.6525947758660593,
          -0.16601512914682293,
          0.8520815301730631,
          0.821608324035881,
          -0.3317777351044744,
          0.03864540398274388,
          0.4857819881990711,
          -1.7071605662687745,
          0.18077595881157368,
          -0.7148908336917146,
          0.32982351581499336,
          1.8237892864928251,
          -0.8324423106192601,
          -0.4423279297264777,
          -1.059447505459557,
          -0.5953955025297858,
          1.2097390853035404,
          0.5420825218612197,
          -0.1646252969498541,
          -0.1998095372185911,
          -0.2508330244971629,
          2.9110192061246276,
          1.2164738479558166,
          -0.4310689793716912,
          -1.9354633143097235,
          0.7716505429144108,
          2.0562465251148403,
          -0.3704366162221528,
          -0.5360104647485238,
          -0.5997609816748237,
          -0.16848531574821188,
          -0.023392635255922164,
          -0.07588684302083958,
          -0.3562321858470732,
          -1.2359795949730876,
          -0.031833980450831495,
          -0.25787402768824214,
          -0.11984433964392911,
          1.5009082407325751,
          0.659697616313674,
          -0.9994161353272216,
          0.8948065396209894,
          0.038446196230463706,
          -0.8712141202964525,
          0.3170419612098258,
          -0.43984461484888443,
          1.0891320607745771,
          -0.47998390590350415,
          -0.6314594859845669,
          -1.7479263460848586,
          -1.509873141878387,
          1.2017880578590465,
          1.3014826647537552,
          -0.06123971938976598,
          0.6043584198960321,
          1.965928864483165,
          -0.33170664409511497,
          -0.07872998586132925,
          0.9984941396553529,
          -0.35927633854420415,
          1.3945205981567557,
          0.9236338188626007,
          -0.7336717351860301,
          1.9293326810624358,
          1.4781786684593519,
          -2.1478290342771684,
          -1.3143013216234927,
          0.12329630440272556,
          0.7504685563816519,
          0.6283217692237331,
          0.6627122994961895,
          -0.642609074008479,
          1.3489174345924417,
          0.36336863547156195,
          0.36413096785742594,
          -0.28005093697162486,
          -0.4699097550806751,
          -1.0736971893687701,
          0.3950977451885334,
          -0.3278867216708752,
          -0.10546431117825099,
          0.4587070065610349,
          -0.65340865188872,
          0.006107077895869637,
          0.11948920544312448,
          0.21577332307658736,
          0.5082217979236703,
          -1.2166220166952442,
          -0.03859111519567607,
          -0.1390026826746915,
          0.4526876757947997,
          -0.3997118109080042,
          0.6981874130690366,
          0.2605910881006682,
          0.5309728516115519,
          -0.6662874625938394,
          -2.048385149866087,
          1.2394210718086496,
          1.1410770879430774,
          -0.20033547728300266,
          -0.5408633704033107,
          -1.8726993579625428,
          0.580107445881817,
          1.4577573399674553,
          0.5973466294174727,
          0.6241616777714127,
          -1.5590109725820243,
          -0.7634034281662548,
          -0.9064764458922066,
          0.08464216784788361,
          -0.7223875927085862,
          1.4529773027403614,
          1.2967424303487882,
          0.3023538254105902,
          0.7004566991586241,
          0.018607665849684863,
          0.1429461704733975,
          0.6157226073960557,
          -1.5902217760111668,
          1.693089215905571,
          -0.9393567912524463,
          0.4789072419025591,
          -0.09477696570316589,
          -0.051347154271863316,
          -1.074113723548934,
          -1.882245397642388,
          -0.5571870682797838,
          -0.5720111790726128,
          -0.5174384173837708,
          -0.35523974056706165,
          -1.1640888617615284,
          0.31668846351235963,
          -0.21850243488164414,
          0.16538391279045933,
          -1.7954584479407683,
          -0.3747657439240893,
          0.9833580006201057,
          0.37813421759098303,
          -0.10361894234488786,
          1.589092398270833,
          0.08229796179227518,
          -0.6600009062427287,
          0.6145286691676337,
          2.380467175197941,
          0.29138880399205636,
          0.61803157821157,
          2.3623465346493244,
          0.7165813160798976,
          -0.21494129536707843,
          0.48925533606470517,
          0.6529165975461874,
          2.1180539967241248,
          -0.6941836742117943,
          0.3146463195651609,
          1.3969231144205978,
          0.8070657021552265,
          0.886937914714607,
          -0.3439205949565988,
          -0.5643874159699409,
          -1.2297926381938251,
          0.10491425152593836,
          -1.8649270547345005,
          -1.2891959072388335,
          -1.326414139380523,
          1.578089375663216,
          0.4522777932627522,
          1.9920843801072947,
          -1.803277084347039,
          0.38641162664971385,
          1.0786205215322988,
          -0.25235609940907305,
          0.4122180350623475,
          -1.4566365074848353,
          -0.9022994698957753,
          0.07838320228552617,
          1.7486774296923953,
          0.021307711856408486,
          0.40141641066703865,
          -0.0029450352722528842,
          1.2044687788164579,
          0.7208461333365749,
          -0.3425850913969502,
          -0.8551150076672209,
          -0.02988516294914262,
          -0.3666366089575686,
          0.7057695339343635,
          -0.823186694558676,
          0.686157511656028,
          1.5673745291661274,
          -0.20323461698245202,
          0.8167823779329451,
          1.0452622426658627,
          -0.2778020783330923,
          -1.649940754759397,
          -1.8135835902468505,
          0.7772507091260056,
          -1.7206376930596223,
          -2.1749710396756616,
          1.1247714241282807,
          0.6153112199198738,
          -1.1556020970433427,
          -1.1913219475016812,
          0.038849740126815344,
          -1.2690672350919812,
          -0.04329778778174044,
          -0.6629289914257308,
          0.4177854807685212,
          0.22753685303922785,
          0.02708479269304928,
          1.3348998154474445,
          -0.43046513469200737,
          -1.0932381837919196,
          0.49754246685932346,
          0.5086388097640699,
          -1.1414607673708075,
          -0.6762485971256533,
          -0.11745918002124824,
          -1.152821611093572,
          -0.6983795754570912,
          -0.5225002269189287,
          0.3497610958231352,
          1.6794774505080121,
          0.8707597129485565,
          0.8827246424109162,
          -1.2351525280149922,
          -0.0157599393773304,
          0.09704946873776261,
          1.3703847702657228,
          0.9120787374014809,
          -0.38755862059117263,
          0.5485205637376899,
          0.3042054721999129,
          1.5432760574162852,
          -1.0942224684092088,
          0.77196716299773,
          -0.18756505938612533,
          -0.034704073913039556,
          0.8221947913977694,
          -2.1276949916473518,
          0.12982176692125988,
          2.1937966368710646,
          2.139311619913967,
          0.48442466664552203,
          1.5217703503585969,
          2.1129636147066564,
          -1.0829914771975968,
          -0.6776855992197287,
          0.4778794856245995,
          -0.11615554153665139,
          1.0000796735916702,
          0.4792102220266998,
          -1.7007672773357576,
          -1.1368706799815718,
          -1.0578452240270622,
          1.5281445657103734,
          0.12940638033615853,
          -0.12746977281487196,
          -1.2244838454328602,
          0.5062793935122472,
          2.942339798703422,
          -1.5275638804403473,
          0.31335074109873295,
          -0.32560041911245824,
          -0.8521888835184834,
          -0.5608778330957874,
          -0.2880909862130461,
          0.34197781886617,
          -0.011725895338222124,
          1.022856073849384,
          1.6556140790663028,
          0.9784733161529762,
          -0.15875369084579077,
          -0.15261749933538302,
          2.320346795209393,
          0.8216401268991659,
          1.9888942651971546,
          0.08640759398484318,
          -1.0142071585398207,
          -0.4477655775221203,
          0.1784645022527957,
          1.9611680257742155,
          -2.0196656126215378,
          -0.6078739085429158,
          -0.9297356427246422,
          1.0449017774727867,
          0.8023098280057497,
          -0.7176104246391589,
          -0.00415448456361441,
          1.887937803331563,
          1.5215399983719369,
          -0.21624946981102808,
          -0.09485656354882463,
          0.21625851913479116,
          0.9993126890136829,
          -1.0407561800742287,
          -0.5520161405306738,
          -0.717948870768211,
          -0.971832418138069,
          1.0476217283044518,
          -0.9623525590154298,
          -0.5290934474848548,
          -0.4716260977951499,
          -0.1287674949828575,
          -0.006253557988255923,
          0.16399705929072914,
          1.4619296017178212,
          -1.4040350894093978,
          -2.407197424729574,
          -0.10891587987151999,
          1.264969820996261,
          -0.26816467789596216,
          -0.2772065122157676,
          0.7338676296826216,
          -0.8576027707408136,
          -1.1136620050813306,
          0.04636662631493915,
          0.5470526329305402,
          0.3937983222429867,
          -0.4934234573091285,
          -1.7883514148083755,
          1.5660220112015781,
          0.45395579769810024,
          -0.2758002048014602,
          0.059729521961174974,
          1.1428204388858512,
          0.5659256922715341,
          -0.2456658073016655,
          -1.4969235368546403,
          -0.3433114173904529,
          -1.0660606954155047,
          0.3661312942810044,
          0.3359144394683781,
          -0.1017623537858684,
          1.4131667821972809,
          0.17489069805965687,
          0.9008382350838119,
          -0.2774086483083402,
          -0.31064748075214393,
          -0.2657280725838553,
          1.0928308414663737,
          0.31661945866266517,
          -0.9128315355537538,
          1.1909531271295613,
          -0.00697030444781099,
          -0.6579221594398444,
          0.48681793392894845,
          0.11746705887864896,
          1.1203831255946002,
          -0.11960013289185904,
          0.025031402817319724,
          -1.2234862918603042,
          -1.278301455593156,
          -2.128374611960122,
          -0.8845929187492445,
          -0.3732215071329268,
          0.9369366469291903,
          -1.5752327082924196,
          -1.2436061070253859,
          3.188047590611553,
          0.3027548377555539,
          -0.7247104532471094,
          -0.09973394708027161,
          -0.9532111634914058,
          0.18788422661545093,
          0.6855782783093999,
          -1.6593508566554802,
          0.4187449256021565,
          -1.5752975421322493,
          -0.6702878058335691,
          0.3615788537692024,
          1.6823369310528493,
          -0.24016889361721058,
          -0.5732677332604732,
          1.752596153699116,
          0.39149812461555733,
          -0.07995565770446579,
          -0.23328184469800992,
          0.17587891469010722,
          -0.6172450698655484,
          0.6445966652077249,
          0.10103442272060162,
          1.7347257115465102,
          1.7806662961797601,
          -0.1938558080599387,
          0.2397216146416673,
          0.6763869430810064,
          -0.34231045817138883,
          -1.119616199377268,
          0.00462878839181791,
          -1.0717199160526145,
          -1.4366769157047194,
          0.045831589631815495,
          1.1541468233661003,
          -0.981004507941493,
          1.0180732872828133,
          0.47226253825676534,
          -2.305745670240027,
          -0.7072000252768729,
          0.32851709587178735,
          -0.25153263941751797,
          -0.3924442879075363,
          -1.1303317127458918,
          0.07941862548267314,
          -0.5969145117857448,
          -0.7638377377722322,
          -1.1869569887258125,
          -0.9465142452206949,
          1.4705902074355155,
          0.8473276408521941,
          -2.4191470236510413,
          -0.6773599529462588,
          0.7284848190080727,
          -0.9253129012513994,
          1.063886986347232,
          1.5845093246985154,
          -0.782746175393006,
          1.6735849379196732,
          -0.7465183408569328,
          0.3351377946450067,
          0.5699138927191375,
          -0.682520366217551,
          -1.3570748487989086,
          -0.39598791392733684,
          1.1809128437132943,
          -0.3660483575406652,
          1.0481160328422492,
          -1.3074796683036016,
          0.17056392783514102,
          -0.6821635636048302,
          0.937400539338893,
          0.035364580848501935,
          0.5242686994488863,
          -0.9480252851683959,
          0.4033279068930447,
          -0.2836750701814224,
          1.744948806676534,
          -3.5446262474573556,
          0.6682199327293077,
          0.2981019422944905,
          -0.029110589617113845,
          0.07958501406654596,
          0.19475942051915,
          -0.4445868085773377,
          1.7212982710454574,
          -0.2618481753949887,
          2.6293653670050126,
          -3.029157894524853,
          1.20930270057541,
          0.057606821005230346,
          -1.6339402240412004,
          0.3385028912460932,
          -0.7445750065207586,
          0.07683560807644028,
          -1.4515709693707404,
          -0.3187783511974969,
          -0.464368731268909,
          -0.904420292327056,
          0.5289684683138359,
          -0.6495164556684916,
          -0.083241037222575,
          0.5550214315331422,
          1.2225516356299588,
          -0.3479860759045742,
          0.5530812387502952,
          -0.17586417343693359,
          0.10091987917533717,
          -0.9745420005201629,
          3.028436014804464,
          -1.9005796144509866,
          -0.10667131625234921,
          -0.4223255412999534,
          0.17345123914961286,
          -0.5571196282622332,
          0.4790047854809911,
          0.274458622066195,
          0.8617935569377103,
          1.5035519093263163,
          1.67391227598776,
          1.481133271829295,
          -0.3575714860205165,
          0.878153799235304,
          0.03913200881133877,
          1.0287598069945179,
          0.2645733605028272,
          -1.2434082624316636,
          0.13381174193393736,
          -0.22921294521052402,
          -0.23852050578170048,
          2.318145404397662,
          -0.45047139286497656,
          0.5450262553961036,
          -0.3928896176745221,
          0.11827689949657975,
          -0.43031515278943655,
          1.1372326429519943,
          -0.3274869589905798,
          0.5214614782529591,
          -0.19011180538542335,
          2.819968979943936,
          0.19122144087028475,
          0.3603385433122641,
          0.19888460761301663,
          -0.1214774488008872,
          0.13232368967751326,
          0.2675755289520323,
          0.05679178352154046,
          -1.9825909021777481,
          -0.49247900846904014,
          -0.7128107076420164,
          3.2346993869704646,
          0.3878989907978376,
          0.17649646430764238,
          0.1830963217359682,
          -0.5878491376496018,
          -1.5224190881663573,
          -1.7178627613939,
          -0.5696235189158492,
          -1.0757576091067393,
          -0.31448388166785407,
          -0.44938305691619773,
          0.808321997859924,
          -0.8695044381757009,
          0.9424456197382116,
          -0.39447323049755495,
          -1.138308457819718,
          0.7982801154715211,
          2.0458466368033394,
          -1.2771245242591098,
          -0.3501057374985777,
          -0.1967565250508591,
          0.8120723136428043,
          0.006281554306054073,
          0.18778162950730082,
          -0.5258760156335168,
          0.16604511321726248,
          0.12829142106512453,
          0.21919899308979818,
          -1.524394426887501,
          -0.4159600103581868,
          -1.0577930198796424,
          1.0078469403097203,
          -1.5344051538196763,
          -0.6666560412881998,
          0.1459541464187733,
          -1.0155204406813427,
          -1.1683951814927718,
          -0.5884605304070921,
          0.7922992597956127,
          -0.62870339892056,
          -0.7815474211946751,
          -1.8228228940501061,
          1.8222426163722965,
          0.5130722429126072,
          0.11199752527887362,
          -0.594613342050695,
          2.1775697086603425,
          0.3267392388681639,
          -0.2780692538393225,
          0.17947086577158305,
          -0.8906879668552072,
          2.3358638019918487,
          -2.350423454361674,
          1.8553948364586745,
          1.4997873358897311,
          -1.6067104246199795,
          -1.6731040950959553,
          0.7076880170209751,
          0.507739568714019,
          0.34149096816223506,
          1.025600644794461,
          0.5304077323829749,
          1.1517050259667183,
          -1.4686756284920155,
          -1.9430266646676004,
          -0.8836935503286035,
          -1.3015825391996658,
          1.7279912647104334,
          2.4165466652321665,
          0.06538394928313518,
          1.5319507813307498,
          0.9774296671951446,
          0.17721700884270308,
          0.3666589011171379,
          -1.650239735758663,
          0.2673247646197328,
          0.4529587240750453,
          -0.7256861939745157,
          -0.11692621987543204,
          0.8356430335708326,
          0.08319060254482125,
          -0.684044207051324,
          -0.6789112504493583,
          0.275081017817397,
          -1.6478610550283095,
          0.9216840422386389,
          1.3661538813338605,
          -0.12327800362518117,
          -0.1225056790673047,
          0.4957319340001226,
          -3.0092555377703194,
          0.34667939505315143,
          0.0778782460549943,
          -0.26607100401830647,
          -0.5440308354492275,
          -1.7321365046253292,
          -0.33598550076549094,
          0.6158470050071189,
          -2.26485390270602,
          -1.9950473313467783,
          -0.589272624220585,
          -1.339384312596419,
          -1.745477966262482,
          0.06014603085530819,
          0.10779687195398052,
          -0.542724501864808,
          -1.0258666022591738,
          1.0383761469769106,
          -0.10522420014006906,
          -1.0925280155451664,
          -0.499472026000626,
          -1.0667879545000951,
          0.4358227384729053,
          -0.6458581795032757,
          1.0414037138221903,
          -1.637433828843948,
          0.1979432051011812,
          -0.7739989773571927,
          2.757987419797681,
          -0.6494977098712184,
          0.594328058224819,
          -0.38509589909328723,
          0.6657198383589705,
          2.624274695736214,
          -1.345131752933393,
          -1.5167176724474933,
          0.036204387996247624,
          1.590548523178604,
          -0.5964691773866301,
          -0.39528037384547254,
          1.3604503760991662,
          1.1886567639297616,
          -1.226760985581291,
          -0.35984872646893834,
          0.5242662835096515,
          0.28847368785327687,
          0.999609633905385,
          -1.119550573000042,
          -0.04918349967034368,
          -0.22393250659531386,
          1.3549986835589696,
          0.6588599030475646,
          -0.4291618670451682,
          0.022501675447632968,
          -0.2764770118257481,
          -0.39738008423828874,
          0.8200167243036821,
          0.34683081188896286,
          -0.2992120256696344,
          -0.4490849343938408,
          -0.2991916903150262,
          -1.5706337979402247,
          0.8997443759615131,
          0.7382451841268531,
          0.3682217432941136,
          0.23505104091349976,
          0.4349033264090058,
          0.09004685194823281,
          0.4199636073847622,
          -0.5764085242840037,
          -0.08792959219114437,
          0.582955524084023,
          0.6934169289629681,
          1.2277871449274325,
          -0.5093235749982176,
          -1.5154993328875346,
          -0.15649412095632595,
          -0.3093703526618702,
          -1.0857080488497624,
          1.6062823141692257,
          -1.111218912702154,
          -1.9771034818758664,
          -0.948156348352355,
          1.3506759430084354,
          0.5986041790930153,
          -0.8830749608118195,
          1.0392200514510044,
          1.1674853572303256,
          -0.9122004896421182,
          1.8194205096603973,
          -0.9415992543569978,
          0.7362473020674493,
          -0.4185414891116474,
          1.8026978084048892,
          -0.7423178508117393,
          1.7564853234009774,
          0.11416489077680335,
          -0.25240039921955487,
          -2.2394533824229437,
          -0.6503141256063626,
          -1.4668341972360892,
          0.6882227181071225,
          1.6571418084289726,
          -1.130362999437417,
          0.34223169626064653,
          0.06383855000427135,
          0.1322825774520104,
          1.0476302247127312,
          1.9287804767058454,
          1.9275630386119524,
          -1.892006367488687,
          -0.24555071953598384,
          -0.32819586032700443,
          -0.003725799309202896,
          0.3428299980772545,
          0.20361106739616244,
          1.1360601266651857,
          -0.7825256809266253,
          1.5350217266224513,
          0.2647274701537899,
          -1.4668288783366659,
          0.8287279716853622,
          -0.3785215942325941,
          1.3656659827812634,
          0.8661389396239623,
          -1.118255634518565,
          -1.0198316080070524,
          0.4704143150536626,
          -0.6024215238053815,
          -0.05963652078360807,
          2.117838672159037,
          -0.010694943740466086,
          0.11361300129399149,
          0.8116390840133013,
          -0.8932927713372554,
          2.1161619057772825,
          -0.25621474979539066,
          1.9414388577640602,
          0.784940740802411,
          0.7206227008587276,
          0.002802419518649457,
          -0.04407573714923375,
          -0.3984812332974388,
          0.06642027015419101,
          -0.18296856725063512,
          -1.6998987019142127,
          -0.011248210000823022,
          -0.5292308831635902,
          1.9658983137125665,
          -1.6564175470346993,
          0.5997042652925455,
          0.3884053283723698,
          0.9108736597492276,
          2.0886184783648933,
          0.3458648549374735,
          -1.5764527260785122,
          -1.6200104383110556,
          -0.6440104071943888,
          -0.47735116956689577,
          0.015269907805966246,
          0.6494341543106551,
          0.047796062416089,
          -1.5106746379351126,
          0.6357103849773172,
          0.9373360766841223,
          0.06178878353176169,
          0.6529679086154799,
          1.3605714903290171,
          0.391537554110335,
          -0.3860974014614505,
          1.1322731151849683,
          1.1656944505369935,
          -0.30210251858816684,
          -0.564989428945951,
          -0.31388899102598955,
          0.9739824091958967,
          0.6438753488557601,
          -0.30970407694920477,
          -0.5678001676670309,
          0.18314123502039453,
          0.5407650005154883,
          0.5700371385142012,
          -0.30828683103004306,
          1.1639127421004258,
          0.1395701460945526,
          1.203738179968304,
          -1.4916111082931154,
          -0.43626987405757295,
          0.17669913116223565,
          -0.8007040431691989,
          0.5255402730386088,
          1.6455557782748154,
          0.8955558297516747,
          0.16493733120125162,
          -0.5958739624053755,
          -0.6182992243257311,
          -1.3883176361741623,
          0.3537798745011771,
          -0.5960470481698271,
          -1.4904504420676072,
          0.8027015221066071,
          -1.1519862435134065,
          0.14645351726353317,
          2.2379960305082287,
          0.8218530565448399,
          1.4379156053954845,
          0.5617903980962838,
          0.3773718091141812,
          -1.685980055983562,
          1.001510105471823,
          0.9079142551880052,
          -1.4352123398246286,
          -0.19217970855177444,
          2.000569357246832,
          0.5660528352405897,
          -1.0486331980299621,
          -0.14688430360966062,
          -2.5369102431521036,
          -0.03769138258752432,
          -0.15998102843146783,
          -0.653176483876173,
          -0.1388612877312301,
          0.265717574145675,
          -1.0707562427543351,
          0.9949064912077022,
          0.41170951692936464,
          -0.06465152584649692,
          -0.5702923868264961,
          2.78135142281774,
          -0.21516187873486892,
          -1.0187645547139268,
          0.6218438874469219,
          -0.9685654477261417,
          -2.002917202728024,
          1.3294135568096397,
          0.9168552592626303,
          -0.7456594935822463,
          -0.9352217012065916,
          -1.7435303956300514,
          0.8688940456787911,
          1.4873600965037241,
          0.14097350811317186,
          0.6815458106407345,
          1.6491205386131433,
          -1.4217884218124102,
          1.006042291803432,
          -0.9363900288712943,
          0.3573628939185281,
          1.7049975232989476,
          -1.0629050090498966,
          0.9324475717133867,
          -1.1101478574323551,
          -0.5245645547293104,
          -0.5742228039946019,
          -0.6555861958592287,
          0.5407290817373781,
          -1.1028202394456064,
          -0.995438131643143,
          -0.6749703833101083,
          -1.341727187854198,
          -1.684241592725115,
          -0.6655553058900453,
          -0.32423334026484185,
          0.034467843655275075,
          2.31433428171849,
          0.04793726636934433,
          1.729709626129629,
          -0.49759529412547693,
          -0.5336621320279641,
          -0.9212249087039001,
          0.4689607052675922,
          1.1057574797605754,
          1.5641898484377152,
          0.3786235749702807,
          -0.10155219829093498,
          -3.3854207903681006,
          -1.2335011196949812,
          -0.25361562904709556,
          0.6864294278390484,
          0.9211086801004926,
          -1.4975611545479128,
          -0.3845765980951739,
          -1.537195409697672,
          2.6986184870448375,
          -0.32103911021870457,
          -0.7251965772783956,
          0.25331010737635695,
          -0.11014123741940657,
          1.420644378560037,
          0.24101872261819524,
          -0.03932364239268024,
          -0.5239689099484174,
          0.645603622624388,
          -1.965995366337817,
          2.514151129693074,
          1.462323555819678,
          1.823993345338868,
          -0.2541437476572842,
          -1.1346289884170961,
          1.082680598944245,
          -1.2292183035274484,
          0.8199615146996405,
          1.2522921855531282,
          1.594841845291984,
          0.5127856317428903,
          0.5003583148369337,
          1.512124869249513,
          -0.2515630839986148,
          -1.767425110525496,
          1.7005009327623228,
          -1.2866161747910876,
          1.0933385138014948,
          -0.9163182514030599,
          -0.04688396879198591,
          0.6821980243221573,
          -0.026910710993480302,
          -0.9831797476820195,
          1.4355066519399517,
          0.5155516114954903,
          0.10667559808969655,
          -0.8411664410905924,
          -0.6278900405824083,
          0.9125171075866673,
          -0.8451148885707622,
          -0.32179952943705015,
          0.507114162170305,
          -0.4140591980402332,
          2.8097493958794377,
          -1.7679942979065253,
          -0.5721039734132318,
          1.2931484182656696,
          0.04966121209156876,
          0.744975955791401,
          1.380765752411507,
          -0.09913258611707818,
          -0.0173910455224437,
          -0.26210793327733833,
          0.7025012802388676,
          -0.2676980290426366,
          1.183745688959957,
          -0.30081252750805065,
          1.1302899155582529,
          0.12616991501464422,
          0.21576623617202045,
          -0.9834346650223821,
          -1.5661059886221966,
          -0.9159722122701872,
          -0.687738881103709,
          -0.8783393694861409,
          0.13142141503454097,
          -0.999799513032423,
          1.3017091155615572,
          0.6249833259209676,
          -0.11978667318288742,
          -1.6292311640901365,
          -0.359777909757133,
          2.3849881417929364,
          0.2869900502241777,
          1.4796244451981895,
          0.3914927718849549,
          -0.4644079714633704,
          0.3138550256411204,
          -0.7294720829936936,
          0.8778292432518824,
          0.5100299867180582,
          -1.6033996341909769,
          -1.7556474223254064,
          0.03476573785462707,
          -1.0991837072808495,
          0.011168969514864416,
          -0.4445738202776282,
          0.2907260945091732,
          0.4872393039860094,
          -0.3999412403791589,
          -0.24153190514226466,
          -0.03454279934533933,
          2.3387097581289864,
          2.075086188575638,
          1.0692478258041267,
          -0.10894477056580423,
          1.1242745292790137,
          -0.4601582054378134,
          1.6186449179644091,
          0.7256829513800732,
          -0.5726792763042593,
          -0.6897959173545347,
          -0.8915173630909315,
          0.052102575888706135,
          0.8983249264779419,
          1.8745707941752674,
          1.3181889173409727,
          1.440041086665314,
          -0.9040115627597497,
          -0.24271191297650538,
          -1.4712139923821044,
          -0.188582347835469,
          2.2455499854305674,
          -0.027270927885148847,
          -0.5409236894820948,
          -0.6674933900866732,
          0.8511558607048925,
          0.14571416315337882,
          2.013803554569388,
          0.04973900682950704,
          -0.7688088824404016,
          0.3531143006912937,
          -1.1769891835036244,
          -1.3906873361924112,
          -0.07177601401075523,
          0.1824648075063022,
          0.27392022757742834,
          0.8725228683546128,
          0.15035304916552594,
          -0.02325706102937277,
          0.45553076574080875,
          0.5446700487025833,
          -0.3543470358396605,
          0.5348897116400864,
          1.5393243665122833,
          -1.9016119937946827,
          -0.3854211013457926,
          2.2712556167825833,
          1.1000678754984792,
          1.119750150706362,
          -1.1086229210663883,
          -1.0303125780913684,
          -1.194505748085431,
          0.5781763787372068,
          2.033983409227629,
          0.9240638059741844,
          0.6706776468459335,
          -0.4309098280905014,
          0.6901031428836937,
          -0.49657062746572056,
          -0.457718738543111,
          -1.0534920225402116,
          -0.4053582624783491,
          -1.0167215860610666,
          0.47534836918890244,
          -0.6663822959386884,
          -0.7177213695661315,
          1.271285485598453,
          0.48593490484037066,
          -1.9985096442165906,
          -0.5077446771627225,
          1.4099807306276197,
          0.2795705513404788,
          -1.4313353597504725,
          -0.9058541687188303,
          -1.4584834204602142,
          1.1100254931934577,
          2.249049708674928,
          0.5037119981188342,
          -1.6137311090608573,
          0.9060583851389888,
          0.1128316889983879,
          -0.17015422947524247,
          -0.21947735695051532,
          0.0946504100863702,
          0.5786329252824682,
          -1.6709282424947438,
          0.09464889448752946,
          1.3320816070232582,
          -0.05079402781996618,
          1.5168528316094816,
          -1.5781274436796235,
          0.8186581211689424,
          -0.8990328981079536,
          2.412035583446264,
          0.1797491084607588,
          1.4869201405542094,
          -1.7993944607947898,
          -0.7858672165245022,
          -2.41450882006792,
          -1.7742384031721306,
          2.047142100110566,
          -1.7271198532516694,
          -1.588954466305407,
          -0.28054700716837766,
          2.0224975577390834,
          -0.024351233126666146,
          0.3813789121963668,
          0.25900820538864094,
          0.9128957765228748,
          0.9990911162766299,
          0.9644330801966527,
          -2.538035929647335,
          -0.083059302323931,
          1.7666135364556708,
          -0.3249410129095207,
          0.7635748979440498,
          -0.3723501925035694,
          0.25611603355229245,
          -0.8780863963656185,
          0.2697952698665294,
          -0.35742706767721333,
          -0.9511095673927766,
          0.9221578609584058,
          -0.24761031918152943,
          -0.9386176112744303,
          0.12405570087841752,
          -1.0602265389454004,
          1.208636245549967,
          0.20989438774789743,
          -0.9848359599986255,
          -0.1932070364414215,
          -0.476997506039832,
          -1.0866062837947208,
          -0.4617022965593181,
          0.2097049888137442,
          -0.030962241498154196,
          -1.111727732872041,
          1.2147157514149813,
          0.8184536786719924,
          0.7454700882754394,
          0.09039649093808752,
          -1.2631691177999207,
          -1.6279956498604802,
          -1.0383463804383446,
          1.5498079586135867,
          0.26951426373340404,
          1.0167066414401487,
          -0.2576413445279091,
          -0.428374357280591,
          -1.1986379020259361,
          1.3432376986638823,
          0.06758946069492348,
          0.16736885679162306,
          0.6883769992093476,
          1.2622863578400776,
          1.4855465138941384,
          0.4882826149276636,
          -0.7982460742927341,
          -0.6481341536707965,
          -1.1154650651894296,
          -0.55397937339361,
          0.5230936692978522,
          -0.6477212205190713,
          0.062267377361292085,
          0.05911317653629764,
          1.7479507540822536,
          -0.4192235749834473,
          1.778771209541196,
          0.5092834747224569,
          1.151968104975515,
          0.2316213043456976,
          1.130087695738295,
          -0.32285567137279947,
          -0.06233264715569665,
          -0.07875802431664466,
          -1.2301065836667833,
          0.8073132661552156,
          -0.8548891694286521,
          -0.22303999898989504,
          0.03170306556802527,
          0.8604327900444939,
          -0.3145791993203225,
          -0.4490406786280118,
          -0.8518450002820349,
          -0.9462929317553103,
          0.4487814599676847,
          -1.2436874162412763,
          -0.10108163173099768,
          0.54053015061433,
          -0.4406026515985268,
          -1.8560448909660365,
          0.7022731277091714,
          -0.6963717158737831,
          -0.02564955317712126,
          1.2800613155187552,
          -0.5660473051656085,
          -0.6618876233914646,
          1.039268991333114,
          -0.18813550792452832,
          -0.533548730487009,
          -0.3743059432370249,
          0.46341058481170555,
          -2.2143145239329125,
          1.3476399821813818,
          -1.5907884815512454,
          0.07994542396402331,
          0.18019787588974318,
          1.2758744383616445,
          -0.46786904729443485,
          0.44351040858845253,
          1.0480151279623207,
          -2.9552589067361974,
          -1.2106924781266166,
          -0.6080717798042827,
          -1.8380728196099152,
          0.044235387919476996,
          1.3083721583007688,
          -0.6214963483338817,
          0.3502291743746289,
          0.31927807082647575,
          0.7924801991544612,
          0.30192629239781565,
          0.61234977011572,
          -2.365474283049725,
          1.2807632519428562,
          -0.291214859972226,
          -1.4306455973918741,
          0.9587272066324547,
          0.1727647537928504,
          -0.05523629784918908,
          0.37589273040557347,
          -0.845168942600053,
          0.8345857934597704,
          2.738887847324301,
          -0.7990396775118304,
          0.35970814651863536,
          -0.38478782632429254,
          0.3095560222054899,
          -0.33257091663189753,
          -0.06577167654313272,
          -1.4778163886771867,
          0.530131075227013,
          -1.2672743066630034,
          0.7991868892184326,
          0.6763966447623296,
          -0.5141442921541565,
          -0.4829933112361459,
          -2.029406754280368,
          -0.12326422509780444,
          -0.08094519454532406,
          -1.5065701066101056,
          -0.5015131696616073,
          -0.41613080366165217,
          1.0251910861265698,
          -1.6532317304070423,
          0.568606586388852,
          0.9461894062217283,
          -0.8193041738694347,
          0.8115428984660485,
          -0.2559147570035117,
          -2.043684182544566,
          0.4743153089828473,
          -0.23934574106135556,
          -1.1006891892802664,
          0.2663169754583225,
          -0.32170344543012575,
          -1.6134649923054227,
          -2.1348708206822815,
          0.40208231499261626,
          -0.44007797361201717,
          -1.0017005315819423,
          0.8103024991730742,
          -0.7603566600432798,
          -1.3330016712641513,
          1.0185874478262988,
          -0.4669284681600266,
          -0.7501103827075406,
          -1.9715997483497372,
          -1.0051580170416237,
          -0.24109227830511334,
          1.0858083188913266,
          0.27290606153594904,
          0.44121970643068037,
          0.44777029230666376,
          -0.8232646995033963,
          0.9248948912058231,
          -1.9570003325432428,
          -0.8536427447386438,
          -0.02204989790487881,
          0.8742105896899022,
          -0.24522161151307237,
          0.21780913365379917,
          0.8258348812356614,
          0.3398385894578365,
          -0.9973386445559941,
          0.7413741753324739,
          0.5907200148566127,
          1.4710422315919613,
          -0.39285817317953814,
          -0.44108380528104557,
          0.020622914013210404,
          -0.5400085784854332,
          -0.7151238544748074,
          0.6966349480473714,
          0.7162181523626757,
          -0.01938470219879502,
          -1.2855046316897558,
          0.32992889521706636,
          1.3689747845992273,
          0.9278501566320544,
          -0.45398903152916587,
          -0.49464870866846805,
          -1.3227057620207068,
          -2.1333580404633197,
          0.05656481643202774,
          0.2890843565029356,
          0.9083999923633277,
          0.1364371327139184,
          1.0070652372873365,
          0.4318012550568024,
          -0.1526743569665275,
          1.0681289941530416,
          0.3741856969969001,
          -0.3134784118174564,
          1.2997646904950169,
          -0.3330436362315921,
          -0.22318061147738777,
          0.7334108158795545,
          0.19394613279297912,
          -0.11167427894923697,
          -1.9700431559178366,
          -1.4973627033203174,
          0.8133139223522857,
          0.7628401921085938,
          -0.23501802310697337,
          -1.2031808362288876,
          1.1590228466375987,
          -0.06772798232812642,
          -0.08889441251509021,
          0.7676910308610769,
          -0.41672407543522566,
          0.32636909572484774,
          -1.243473179142381,
          -0.29790989441945864,
          0.8925011036173087,
          0.9251596575610579,
          -0.7395715089493227,
          0.021233423318929953,
          0.10384511957369977,
          -0.03497993348725333,
          -0.4359511673213006,
          1.6229621862678845,
          -0.4706211783634847,
          1.040522158214663,
          0.4030463917525518,
          1.0050437928739213,
          0.615139174507343,
          1.689400561357603,
          1.7187655376737114,
          -1.4680377298053746,
          1.052913194556844,
          1.3262987149938295,
          1.2205351723867495,
          -0.22862700326843197,
          0.23695935337040308,
          -1.4428218365545022,
          1.0927623600461345,
          -0.7473587305241655,
          -0.20346419090299442,
          -0.8581616907245354,
          -0.678326120884985,
          1.1956815002819092,
          -0.27648321165898676,
          -0.0890794685436881,
          -2.053774976036317,
          -0.7294190976920055,
          -0.41612464818581624,
          -0.8028798607089611,
          -0.5545511347615437,
          1.2643895961354896,
          0.6136319519550816,
          -0.7501900776903898,
          -0.8539272041997746,
          -0.8800249481233363,
          0.33428836670694323,
          1.3928485821407028,
          0.9921826855834963,
          0.27923130559474846,
          -1.9006411528476168,
          -1.6752692531708133,
          1.0652283136865677,
          0.9740897940078862,
          -0.7139076737476459,
          0.6642816581570236,
          0.6808678711661657,
          -0.7065087414580424,
          -0.7195350720571345,
          0.7161929042889641,
          -0.18462051847190586,
          -1.0945820626815757,
          0.840133901049857,
          -0.484850191801133,
          -1.261776209814344,
          -0.42648869178497556,
          -0.2517668138376384,
          0.7883975806075405,
          0.7593336513851804,
          -1.000371114218278,
          0.7254141017485374,
          0.4058918980000507,
          1.2277193331229213,
          0.4784472510793952,
          0.3723782752389136,
          -0.3791093927016261,
          0.6404789030869273,
          -1.0923801282460786,
          0.7679633003940655,
          -0.1497820726712073,
          -0.12380391056390554,
          1.0024649372311565,
          0.37159794466840773,
          -0.13447033587402438,
          1.401144761159961,
          0.08914179551330063,
          0.1730452340220499,
          0.01547084228613301,
          -0.5662425166021228,
          -0.48550487124843705,
          -0.17332805102530388,
          0.9037698019550273,
          0.2027258124473254,
          0.5045907090641992,
          0.72575831107409,
          -1.7767879433245923,
          2.1349467216749916,
          -1.2952163200962168,
          0.9753329895136559,
          -1.269630319005062,
          1.3615040086112047,
          0.9140315622559803,
          -0.03584530331147152,
          -0.5781127240279454,
          1.241401387477026,
          -0.9314703361757481,
          -1.8314269970099988,
          1.1462140500398859,
          0.7669156464273037,
          -0.10661033849733076,
          0.3865926664453478,
          0.47623320147942677,
          0.7145110003020245,
          0.9723015059224468,
          0.5075228648399311,
          1.1026016604188256,
          -1.316038695725824,
          -0.6944621267177089,
          0.10930207622647897,
          0.03800531628785441,
          1.9178375772796834,
          0.2919274566916911,
          1.3666427044379623,
          1.8741805181777935,
          0.5787220364383576,
          -0.04063463728721132,
          -2.030915021377018,
          1.241232655478122,
          1.6144818662034992,
          -0.3259906007768486,
          0.6706334366909029,
          1.2605685803000917,
          0.39469514882550594,
          0.11270766129075714,
          0.5311978444153683,
          0.13607665477289216,
          -2.0617471841733064,
          1.286928657442384,
          -0.6659531231653086,
          0.9718933720827598,
          0.014481310600588795,
          0.8710336541149715,
          -1.1093342343761767,
          0.6445558024113244,
          0.5468155408453387,
          -0.09756373470890611,
          -2.0324947911887254,
          -0.0968069051624039,
          -0.21484132556173127,
          0.14712184810034212,
          -0.7820763174811285,
          0.08180670826887589,
          -0.4788261937146483,
          0.22815003651102503,
          -1.6049656810900934,
          1.5935817652526412,
          0.03309709824681222,
          -0.25114202157703797,
          0.11202487665791287,
          0.3861298509725211,
          0.5222586039173898,
          0.001448985951407824,
          0.17360572192275386,
          1.2640654249352317,
          -1.3471453342585273,
          -0.747131083336377,
          -1.0530077235057405,
          -0.1292260192090414,
          -0.2915750786558554,
          1.2470704787128353,
          0.8326956886442702,
          -0.07527212067753501,
          0.8577113626920014,
          0.8593279607385602,
          1.6473472368180846,
          -1.5825370629854432,
          -1.7366729994468386,
          0.6434710506671166,
          0.13099443459753118,
          -1.0958761015463458,
          -0.08144647982510901,
          -0.5286326783964475,
          -1.8454540847420609,
          1.466186861684458,
          2.376060855411581,
          -0.4629370504722098,
          1.079149731842824,
          -1.292587908203772,
          -1.4533340021247474,
          0.7100516354150989,
          0.43541633888582676,
          0.07011808796130879,
          0.3011725778060104,
          -0.06934922436057821,
          -2.2026507184798167,
          -0.35913564292502287,
          -2.3114789233079605,
          0.11012095215692748,
          -0.026197251264377396,
          0.06230749758264849,
          -0.523546214607716,
          -0.025831326569130127,
          1.016949866196347,
          -0.6054731489510525,
          0.29304769701950506,
          -1.2815569248892291,
          1.8302280100376727,
          -0.06326033812778738,
          2.0902668434939233,
          -0.3237274287157394,
          -0.47791394600174697,
          -0.4782085301163245,
          -0.6961111615836922,
          1.3762348981135637,
          -0.619291243977868,
          1.115161296012162,
          0.16343423759147085,
          1.0205524397812649,
          -0.4931063937313019,
          0.7242744211739295,
          -1.986511568891589,
          0.29111281399377975,
          -0.5352447013317213,
          -0.18580443230560656,
          -1.0913053427645012,
          0.37239853273456586,
          1.0769060901501595,
          0.36443156556319906,
          0.8780427719382524,
          -0.02453298824649211,
          -0.19523658828758766,
          -0.6972485191817804,
          -1.0030391758725508,
          -0.05142706095642019,
          -0.4403116247451662,
          -0.3805637595219524,
          -0.48752358918148747,
          -0.2577152091181055,
          1.127676827808492,
          1.3063923793200067,
          -2.1005375272090547,
          -0.8080368152106501,
          0.42877553870726204,
          1.229916429143129,
          -1.5038128202668217,
          1.2758827203145044,
          -0.2681730257096876,
          -0.03966058059150911,
          0.6793521847187608,
          -0.37710733254955536,
          0.37355119976943313,
          0.18928766459760454,
          0.40767222881492565,
          0.9216839224762832,
          1.005559100246221,
          0.5949228246104261,
          -0.5012014169503207,
          -1.281279571227391,
          -0.8176131544926392,
          0.8244404174788688,
          0.32862114979616486,
          0.48560706004412246,
          -1.2615435273149467,
          -0.036222665694833366,
          0.3872349241151004,
          -0.03316893843656378,
          2.358648121450509,
          0.7669587124913054,
          -1.1143695301407726,
          -0.3529324361826723,
          0.6836109099388129,
          1.2820869167472482,
          -0.582961552833753,
          0.6658368197778262,
          -0.6260196921176532,
          -0.26779166689616474,
          0.990125023779195,
          -1.5439052763760983,
          1.4555780727995264,
          0.33990022107879164,
          0.44199386219098324,
          0.9670382841662559,
          -0.4787481018721826,
          -0.24013307019393457,
          -1.3774449586235147,
          -0.7013554360192407,
          0.40050241352557653,
          -0.23235224043997388,
          0.7939284415812249,
          0.8586283196136045,
          -1.146033036305083,
          2.237118589628563,
          0.2685063787054474,
          1.2210271613754842,
          0.7477937125188363,
          0.3593432970417965,
          -0.03368197516481641,
          0.5658284765765762,
          0.26796120865590667,
          -1.553432921001717,
          0.4521911671659747,
          0.7494685325643908,
          -0.8406757852879909,
          -1.5605449159610174,
          0.4607221146407505,
          0.8384654418389003,
          -0.7048596759311285,
          -0.08398359834676809,
          1.6771053294517213,
          1.251217349165359,
          1.1634507930867277,
          -0.48204108565194803,
          0.7972626028776714,
          0.1975951013407111,
          0.7883947659756368,
          0.535638894483501,
          -1.5342135615182855,
          0.33829326072023774,
          0.16894216580984123,
          -0.7937021278681532,
          -0.3533823514619475,
          0.10151689542333141,
          0.5947508594907025,
          0.25064898188726165,
          1.113867421641052,
          0.4991919860044686,
          0.9122059506406364,
          -0.3545524512439147,
          1.065834916362699,
          1.6046833941577414,
          -0.7362341431109961,
          0.6895248484238409,
          0.6116354702340345,
          -0.7481612302416446,
          0.47775916460373696,
          -0.6541672425173441,
          1.046918284210579,
          0.7743685039335083,
          -0.032926532866684545,
          -2.759484711471035,
          -1.2715112351061173,
          0.6007825135004307,
          -1.1077452455758872,
          1.3875712565508436,
          -0.09181018803728591,
          -0.6186158635045067,
          -0.28522746203531135,
          1.1619798363524447,
          -0.5074568467267948,
          0.8036210693481777,
          -0.25165815405901,
          -0.2578648896175028,
          -1.438499279941401,
          -0.2913599175384296,
          0.060817005671869,
          1.3769956235748897,
          -0.1312486042425554,
          0.4899056907268137,
          -0.3059039738544831,
          -0.605078723293003,
          -1.1038333306043606,
          -0.06193184256208062,
          -1.620890180396884,
          -0.25370060381137594,
          -0.568648351769695,
          0.7170197114691567,
          0.8021922497135143,
          1.3359333343085824,
          -0.0860373744240186,
          0.49858306912142586,
          1.9159478128766971,
          -1.2709701274005367,
          -0.7260348342485287,
          -1.5595719483286337,
          0.19567339529599082,
          2.502553337980865,
          -2.2273518618442942,
          -1.3511922531355556,
          0.347470301389285,
          -0.6143714898676501,
          2.156052655459132,
          0.5603468508055681,
          -1.6756688941854172,
          1.1547934836217266,
          -0.5224455286283206,
          -1.9738333987602381,
          1.5735252123066032,
          -1.0932606257825253,
          1.2575007195823833,
          0.5584843162303977,
          -0.08172164629305961,
          -0.3295044306680116,
          0.25105738841459374,
          0.05190099858705358,
          -0.9158532967266093,
          -1.805367044143394,
          -0.33455430813147463,
          0.671327740893251,
          0.32442605975097627,
          -1.9647477091816883,
          1.5688426888257971,
          -0.15500231994008007,
          -0.272337393119179,
          0.2713384650160146,
          1.9300831696099845,
          0.7112277866664484,
          -0.5661195283742967,
          -1.1368280777736803,
          2.8287276923827376,
          0.783876922763463,
          0.268672582334275,
          0.58598120728741,
          0.41519476978092973,
          1.413250223694653,
          0.8707371040816789,
          0.8478115454608791,
          0.8416002410926312,
          -0.430514414309718,
          0.6131170525973991,
          0.9621160145825438,
          -0.20923743513372248,
          0.8537460744702893,
          0.9070947969591916,
          -1.2656141721391219,
          -0.4422765054649847,
          -0.8708076263967441,
          0.042703946194250185,
          0.469567433802472,
          0.8899886598497615,
          -0.16242671064467082,
          0.913094965863483,
          -0.33400685698561733,
          -1.3111079866795796,
          -0.5579561110726409,
          0.6875756133561444,
          -0.2897534890361183,
          2.015405972143198,
          -0.006942892687281079,
          -0.5153579783546884,
          1.0331659657928982,
          -0.29088328191210466,
          0.27645843724852065,
          -0.20005581897384875,
          0.6431241634710569,
          -0.22645008723080012,
          1.4565763079440635,
          0.025392740666993173,
          -0.851102707914758,
          -0.15789577025249585,
          -0.7356281724486858,
          0.2949719569018239,
          0.04210357285318301,
          -0.2094825565727871,
          -0.03625574204715304,
          1.8914412365531792,
          -1.1260012813242357,
          -0.21746222075724314,
          0.18849867476288598,
          -0.9627814955561452,
          1.1608356608084467,
          1.8173103219847084,
          0.483312501373453,
          1.0013551018545517,
          0.3264649418681868,
          0.08449739772559432,
          0.183965340122034,
          -0.5328236927237516,
          0.3915043622604645,
          0.49658242338867686,
          -0.16825185373832544,
          -0.2852908961424231,
          0.6659652941572518,
          -0.41981427400405175,
          -0.7078164795912555,
          1.0272959642286625,
          -0.85349264258082,
          -1.589065837288137,
          -1.2065105471474433,
          -0.8705950701212755,
          -0.9163122031999404,
          1.701057051831151,
          0.14421766293914695,
          0.7453434772950237,
          -0.4939720841952424,
          1.6138494846308569,
          0.42932970425854544,
          0.09032070041741252,
          0.8957684625888735,
          0.4712644251334752,
          -0.6190258766984522,
          0.501638732151209,
          2.3876551984882664,
          -1.4990081577290066,
          -1.357753531175594,
          -0.07129244464843751,
          -0.4462467636204637,
          -1.7421183153939177,
          -0.5656257479197417,
          0.9061708473471233,
          0.7142242041366987,
          -0.03307625526600524,
          -0.23762770057350127,
          1.3928545699093653,
          -1.1404025633971036,
          -1.1145087880487703,
          1.3994484971332548,
          -2.1125282159486947,
          1.343724319272574,
          0.5516219601435616,
          0.8206106402328254,
          -0.19054784340157346,
          -0.05997798388283872,
          1.0379977026320497,
          -0.7191237773774072,
          -1.5672922214153042,
          -1.0031821587229117,
          -0.2573925724554862,
          -3.1330944648612755,
          0.17967371130263157,
          1.8724752856515314,
          2.180291776910062,
          -1.0529138612298263,
          0.9390641203420305,
          0.6570555746846487,
          0.274439541762871,
          0.5825727418818644,
          -2.149206102298741,
          -0.7383121709498279,
          -0.42243878330800577,
          -0.4153473503930798,
          -0.5165464705678887,
          0.42445917641785963,
          0.1750748714354799,
          1.2282981139150595,
          -1.3412004572118048,
          -0.29789339102549484,
          1.0827858532811008,
          -0.32604259850829664,
          1.6761248565521067,
          0.4813066539109912,
          -0.17771929484324653,
          0.4655032069369809,
          1.554826694947068,
          2.5858738685560927,
          1.6866532438568036,
          0.1272878235214108,
          -0.5391779990224952,
          -0.709398895369875,
          2.2123209889076025,
          0.7736478701541167,
          0.0816410684735492,
          -0.7651031650572263,
          -0.15937695950923278,
          -0.737772731505638,
          0.6397914615908531,
          -0.2522049574733123,
          0.6045748457570436,
          0.4802672766630533,
          1.5264727978866885,
          -0.7575411336154265,
          -0.4630711135015008,
          0.301671385217551,
          -0.31527519636421564,
          -1.2646685797596082,
          1.335944391543036,
          0.6095823214858691,
          -0.174406029257218,
          0.8522028257707622,
          -0.19832660188497242,
          -0.1470585591469562,
          -1.2000038660195083,
          0.7446409485819391,
          1.010706343057684,
          0.020146130187663362,
          -0.7353203025031437,
          -2.0361736316152284,
          0.7592945710515505,
          -1.430167208482014,
          -0.13094456853597064,
          -2.183753936668168,
          -0.02294332578377914,
          -1.1171912979298422,
          1.4939098927455259,
          0.6061364216260997,
          -2.155044437468747,
          0.7751403387262858,
          -0.8003211101873121,
          0.20963626678304065,
          0.703099083938772,
          -0.3405672455466593,
          -0.5200978975474682,
          -0.45702258044052935,
          -0.8103352302220768,
          2.9952827317118347,
          0.4466261824006516,
          -0.07199197438760671,
          -1.196460728194086,
          1.0215699055819742,
          -0.11597822248137206,
          -0.1143978420960033,
          0.04182272509719269,
          0.9737005459119855,
          1.452004696972332,
          0.16609742163570415,
          -0.20191212078980253,
          0.3520594834349998,
          -0.2762236852751559,
          0.9008242594784046,
          -0.8685525121430594,
          -0.9731694488289697,
          2.365447884942671,
          -1.412846294547311,
          1.0719012568083404,
          -0.25439454651222654,
          -0.34428985878375884,
          1.358522503354922,
          -0.5933427785361537
         ]
        },
        {
         "marker": {
          "color": "white",
          "opacity": 0.3,
          "size": 3
         },
         "mode": "markers",
         "type": "scatter",
         "x": [
          1.152546791222012,
          -0.7370399500843016,
          0.6993221104291064,
          0.4264867902984868,
          0.6063172996570473,
          -0.9266661500858345,
          2.0935093402192386,
          0.6318013459595805,
          0.4095248559729628,
          -0.022201958975300987,
          -0.8942302280310265,
          -0.4817404057452254,
          0.3805064856476494,
          0.10253107303155841,
          -2.7827124175913993,
          1.5979246929324016,
          0.9961175741342574,
          -1.7816895783634765,
          -0.07813829765420528,
          0.7426921560539741,
          -1.1444352231227064,
          -0.8751875361433372,
          0.2770109943614443,
          -1.9053533913332956,
          -0.775064761751138,
          -0.1725258703008309,
          0.5004773507290724,
          -0.33205589672239383,
          0.18560746579755213,
          -0.7029597443713418,
          -0.9210507595515767,
          0.6607134100939032,
          -1.2140328624471586,
          0.5974865263211587,
          -0.7065265667721977,
          -0.08210155721996884,
          -0.3040124668269388,
          1.1996851082679612,
          1.7610614404201437,
          -2.5081458596215827,
          0.8245654676019054,
          -1.2960245257489684,
          1.5635900615470957,
          1.5020553825422385,
          -1.455941412838057,
          -2.400250847848283,
          -1.659817972360161,
          -0.9090582627864575,
          -1.0141214470355664,
          0.556953127441688,
          -0.7992811721288292,
          1.0840021249247265,
          -1.6825500506102948,
          -0.1624400491054101,
          1.3348554133909747,
          0.4164355222454636,
          0.7130226214491435,
          0.20234184319723697,
          0.772262246530208,
          -0.47170784589525044,
          0.721188737213422,
          0.8142832066393654,
          2.160567743593026,
          0.7227682842459232,
          0.6466947695018972,
          0.5049150642927293,
          1.6560681158116042,
          1.3155893577606426,
          -0.9498706903833197,
          1.268694902273891,
          1.1857989166388068,
          1.3546861655522853,
          -2.7692137204257152,
          0.10330612147716994,
          -0.518754047835244,
          -1.5974932616452873,
          -0.27444122961719036,
          -0.3230708273417084,
          0.9980280022126632,
          1.3641880300743023,
          -1.9257047261998037,
          -0.05745073876598651,
          0.20683833334251797,
          1.332872666777252,
          0.7221172477879156,
          0.6661555122602384,
          -1.5613758360586856,
          -0.12336080858368113,
          -1.4441958095781557,
          0.1774067119112596,
          0.45039763328174404,
          1.0255194822859655,
          -0.18025762604482792,
          0.0697632247418607,
          0.12420525693749347,
          -0.12006086349473433,
          -0.7062479616375621,
          -0.9336450791554151,
          0.16936128686739724,
          -0.2022505217278325,
          -0.5211991721288327,
          -0.9851933896756913,
          -0.12946701404585004,
          1.5569001608864907,
          0.29397576395043573,
          -1.7318368532140753,
          -0.4127279334060745,
          -0.9809410201839255,
          0.12384100208680748,
          1.1996178248351763,
          -1.413890533909005,
          -1.0231975624967193,
          0.7182343479117016,
          -1.7506316380629616,
          1.7282976349360268,
          -0.3901243828249314,
          -0.3491446326342405,
          0.7083090004130702,
          -0.442816587325228,
          -0.1545059503621476,
          0.04167939324489844,
          1.8434338727718425,
          -1.8164790326264169,
          -0.008193015221022478,
          0.8910714970136602,
          0.2986524931435756,
          0.9860452124470759,
          0.925552770841494,
          -1.5307720701624405,
          0.775273145907985,
          -0.4980491137728628,
          0.8309833137599708,
          0.9263912024114069,
          -1.1732863692729867,
          -0.7498827160813805,
          -1.0020470717663321,
          0.7443269253226841,
          0.09322190535267265,
          0.3057869426776777,
          1.5752234918235475,
          0.8283520731395724,
          -1.0488120482340806,
          1.0041193302797784,
          0.3947955546411656,
          0.7642859431813049,
          -0.35885901195577774,
          -0.5522797757124234,
          -0.3189478175729652,
          0.08052127922552953,
          0.18132602691363503,
          1.2671197956498612,
          -1.1059156098662721,
          -0.13025289720205013,
          0.8681419569064899,
          0.030397882072806717,
          0.23286995589824372,
          -0.2728213316144635,
          -1.9953625971016584,
          -1.205361919385081,
          -1.002528003071727,
          -1.36782734333787,
          1.349540234600784,
          0.18812944215483185,
          -0.22870746320756785,
          0.2346338260975645,
          0.34523936718763204,
          0.004308260558035633,
          0.5185829013921177,
          1.2642962256392316,
          0.24069879608687209,
          -0.5183106945098369,
          0.40294705959142907,
          -0.8455852420076054,
          1.4971579650596398,
          -1.4435174230680783,
          -0.2901868085365506,
          -1.2787668052203718,
          0.9225408697537049,
          1.2673026677572814,
          -1.6951277998884953,
          -0.9297315748534418,
          0.05643093629606839,
          0.4537534375474726,
          -1.2947095808158824,
          2.124335515766928,
          0.9939360900634399,
          -1.0069064545472513,
          -0.2787916954897312,
          -0.7744079059396192,
          -1.6287125998825762,
          -0.6544769044637359,
          2.8627523525965524,
          -1.198585321684777,
          -2.1905925664160373,
          -0.029041222904893516,
          -1.102772550141819,
          -0.442124865672348,
          0.5410925925586652,
          -0.2355484625780725,
          0.4840477021867882,
          0.6821410977090282,
          -1.4852905819076694,
          0.38690420014717425,
          0.685094165729011,
          0.38778834957728425,
          -0.143296408618015,
          0.9320287017865605,
          0.4370828132897788,
          1.8171651312792296,
          0.47902679182711183,
          -0.2057411209172835,
          0.15165091626292498,
          0.6055879731353354,
          0.33037761753898265,
          -0.4680932174469599,
          1.2563705192961623,
          2.3278366036321736,
          0.725098159362943,
          -1.415457361060728,
          0.44957601851690315,
          -0.09105177102060845,
          0.46954585036380586,
          -1.284949937782445,
          0.5115327802930941,
          0.05874076396466593,
          0.8926582704520095,
          -0.7485469007526189,
          -0.15770747501678642,
          0.9642348132560977,
          -0.4672266784568882,
          -0.5391275206730429,
          -2.0092381385441698,
          -0.49729547575645966,
          -0.9597557921145086,
          -0.22557160130957835,
          2.4490387344019227,
          0.8577154750228775,
          0.5552301103142513,
          0.6098076730519949,
          -1.2156290250912902,
          -0.9905985613542202,
          0.6764108121525154,
          0.5122427611789929,
          -1.1598208106243288,
          0.6533311589425983,
          0.09258649802433007,
          0.768515040718849,
          0.0919859279654667,
          -1.9729081227532665,
          1.1562331586534182,
          -1.0571542374155236,
          -0.6532230187335251,
          0.5911909829591248,
          0.4017214948853058,
          -0.4428335589307233,
          -0.1065297275488797,
          -0.6835498492656664,
          1.3059256917911972,
          0.9755365763155661,
          0.7333713842222631,
          0.2443795654074906,
          -0.8055943759740006,
          -0.9613220919506312,
          0.7526676724253546,
          1.4229653639182418,
          -1.8919572566364318,
          0.9762452515834923,
          -0.305646970699555,
          1.147894865514527,
          -0.8673452734265892,
          0.9826624071092421,
          -0.41766567093019835,
          0.3098862606463828,
          0.3837862372337093,
          -0.9592406406968805,
          -1.3430701491975712,
          1.014689679306253,
          0.7281595586242209,
          0.9859003308339103,
          -1.056758683247209,
          -0.6727018263142885,
          -1.2524754484190903,
          -0.1348895000258153,
          0.07714363756737612,
          -0.25686873907964386,
          -0.046705383726622175,
          0.33812501772542686,
          0.39752404310253325,
          1.0711183062432634,
          1.9697719032934038,
          0.06411397220961731,
          0.7268700132456083,
          -0.7372517879185306,
          -0.4373469459649258,
          0.0013726553235512324,
          1.2395196240220827,
          3.2622522641739473,
          0.12436409970184112,
          0.23517502192542664,
          -1.4456608493478786,
          0.1965179145557991,
          -0.79993574673479,
          0.4454922480642943,
          0.13347571200206274,
          -1.0457811873503908,
          -1.0234900204488229,
          0.40873431578103286,
          0.4729239622197453,
          1.251324172521653,
          0.6016627560036237,
          -0.07496989961432136,
          -1.1020277863236823,
          -0.9651914797188268,
          -1.5356698731235947,
          -0.9780598901438131,
          0.839934352758767,
          -1.1744785112656866,
          -0.713591265069294,
          -0.8446983096282714,
          -1.0317075867823224,
          0.25740061378124646,
          1.2305567772867907,
          0.5777055133407284,
          -0.3915450782837435,
          -1.2925878477641415,
          0.5901611942154811,
          0.3942939610823489,
          -0.7668833411712195,
          2.38178561765786,
          0.41146838946640074,
          -0.79582582545164,
          0.38125559781939655,
          1.13833415089832,
          -0.08957270435948271,
          -1.7160497997437574,
          0.9732206244547796,
          -0.8484765405519696,
          -0.016417379843589514,
          -0.8010196157461011,
          1.2189142958554735,
          -0.3013054991111783,
          -1.309869832733838,
          0.7868950967002148,
          0.6622932437082542,
          1.2277052548219158,
          -0.20998401243369635,
          -0.6301877515427989,
          -0.05927976543984331,
          0.5603872315765156,
          1.6501760401119527,
          -1.3701888364666985,
          0.32991957007156336,
          0.8549182429198043,
          0.384830350812669,
          1.1648848016783384,
          0.4564099548282881,
          0.540196617748343,
          -0.48876615366977916,
          -0.010978846864784429,
          -1.0493519718096394,
          -1.5341338035292043,
          0.6523044874166768,
          0.9119343399665606,
          -0.7454208979778534,
          0.758492975183482,
          -1.2734613082161061,
          0.5514030708599399,
          1.3082241559004826,
          0.5689062755950868,
          -0.48689420617426993,
          0.9867232592891694,
          0.4522263053912223,
          -0.7323514216431836,
          -0.023621915770410652,
          0.5362537403940916,
          2.1156226126762547,
          -1.344575593426909,
          -0.42113149518106235,
          0.6547510986238292,
          -0.31026330054240153,
          -0.42685643838289034,
          -1.4402293267052129,
          -0.2873168463873898,
          -0.9491855483011348,
          2.3600932718254066,
          0.22650355912086684,
          -0.5225919058182282,
          0.5651701104768944,
          -0.7972408967435544,
          -0.3081648987952384,
          -0.711435401912784,
          0.6709065278182977,
          -1.738480096812626,
          2.1281016637983634,
          -0.5363232050432516,
          -0.7996922113615479,
          2.3245644429649106,
          -0.6342209469741756,
          -0.29974617347632176,
          0.5372892369018166,
          0.07218678711934026,
          0.9450887429497941,
          0.8084581895832066,
          -1.2796507321893753,
          0.852984393613751,
          -1.6210268038991644,
          -0.6613218052714692,
          -0.21128938421156002,
          -0.8627631586941668,
          0.32183424396453697,
          2.021988964109344,
          -1.078016570445192,
          -0.7097603338569154,
          1.4837184435618171,
          0.4702368759512663,
          -2.12409992585793,
          0.6206307932329566,
          1.0778652938209758,
          0.6578539941075421,
          -0.24500672666375142,
          0.3228640785993014,
          -0.8657761379163003,
          1.7764094211130628,
          -0.9660133705650922,
          0.1738515374433588,
          0.31365159012431343,
          -2.2402564429462255,
          1.2502313301914982,
          0.25789057304793056,
          -1.400884591874982,
          -0.8208395218666079,
          -0.7420327412799778,
          -1.1648952018450227,
          0.5729834832655182,
          -0.14473321151287644,
          -1.2051900442913093,
          -0.883613383454931,
          -2.5379152810628662,
          0.33257730115450523,
          -0.48297393935728133,
          0.29147716927750794,
          -0.29372662965592966,
          -1.8475474954586961,
          0.1477903987309491,
          -0.48836687338697926,
          0.6116080230355707,
          -0.20372488087648435,
          0.738138989668209,
          1.84897291033393,
          -0.40605133674001426,
          0.16224830063745685,
          -1.0362143903181795,
          -0.6643777164679691,
          1.4454619829300746,
          0.43317233825123347,
          -1.4965307267853998,
          0.9803919410375826,
          -0.5299176124553804,
          0.2095949847325801,
          -0.7607292379492876,
          0.22888051642728507,
          1.1127891232604026,
          0.053631043624210756,
          2.144225681132775,
          -3.1079861987203783,
          -1.436201312117516,
          -0.03185075189321315,
          -0.14216238524168412,
          1.2327272311841306,
          -1.7152408944578428,
          0.14357674379365154,
          -0.09626702397354701,
          -3.398807925285652,
          -1.2975203939460869,
          0.10749114765386895,
          0.5727220349588846,
          1.293191062561167,
          0.7991333502500568,
          -0.24113906868600188,
          -0.6148339841552948,
          0.1641408766929524,
          0.7126896959515505,
          -1.2650557517334526,
          -1.388497125289844,
          0.011789440538542313,
          -0.8328542934222427,
          0.6401044054378999,
          -1.6147279647778292,
          -0.33990303922639403,
          -0.09403446014646229,
          -0.5450762667029694,
          -0.3083267763365318,
          -0.6255854239605211,
          0.22873516733459612,
          1.1060268344125401,
          1.159220375155377,
          -1.8414048032931918,
          0.11935043394930839,
          -1.168235972502739,
          -1.2442565684276825,
          0.5954564561432837,
          0.7673506476841365,
          -0.6909811264354414,
          0.2724451305321715,
          0.34301397384272264,
          -0.9253701759100662,
          0.9229089070578279,
          -0.43381006087106644,
          1.1892371434873727,
          0.893583697846812,
          2.5189727252868996,
          -0.5672959361157464,
          0.8198715786159901,
          0.13456643461890178,
          0.6201911751668422,
          -0.2913531736412864,
          -0.20483038710286,
          -1.1719642427172907,
          -0.8569356737004411,
          0.2365217346217846,
          0.7115988310312201,
          -0.9787021859537897,
          0.7996705653101849,
          2.3137542204770583,
          0.14835835262585317,
          0.23116700786799277,
          -0.6493694105694906,
          0.18034723258721305,
          -0.4700874701131557,
          -0.3161740899132331,
          -1.2677356764684056,
          -0.9780841067906564,
          2.3496333235518065,
          0.4663103804373333,
          0.09123500987404111,
          -1.8527537280380406,
          -0.743144013986019,
          1.1827629606893204,
          1.300048297384857,
          -0.26711116142850333,
          0.034514031271499226,
          0.6106225171705207,
          -0.5708306526663378,
          -0.08894483755738024,
          0.728202284242823,
          -0.15600158959590546,
          0.5562197982563676,
          -0.07102043120004356,
          -0.003283815193994162,
          -1.2787129125468544,
          -0.10129949254444351,
          0.4745390890168643,
          -0.12963306267640268,
          0.23201085644235148,
          1.124344134997806,
          -1.3425298884035688,
          -0.013007087697657816,
          -0.7918754227710105,
          -1.524083719905721,
          0.13306718260093656,
          -0.9371581232061313,
          -0.03924876479740951,
          0.5011715593454114,
          -0.787823592771566,
          -1.381262624797102,
          -1.9235294610171367,
          0.6650234820833099,
          2.1346895587448125,
          1.1643051454182658,
          -1.4490936662586684,
          1.5997898286430965,
          -1.0157288488426917,
          -0.8848406827405876,
          -0.5565702734215884,
          -0.134524793957796,
          0.309265053339059,
          -0.3818600236459313,
          0.1844073397321306,
          1.059603560885201,
          0.6254634675804215,
          0.10320332592637929,
          0.3638899750527005,
          0.5642905305270065,
          -1.992161027284728,
          -0.8964075294337371,
          1.0279029694013615,
          -0.1671526434841901,
          2.1791453903545714,
          1.9921064814744538,
          -1.1350726555441668,
          -0.5850335507787637,
          -0.8120784410013282,
          -0.16884847287806368,
          0.5008210036774814,
          1.484080041124809,
          -0.45034248021609125,
          -0.6459729932009095,
          -0.9956469339584477,
          0.9978626672246803,
          1.3751965467596043,
          -0.5290195362975731,
          -2.512933827017696,
          0.8612223972662527,
          -0.6016329790989341,
          -1.2993872036790197,
          0.6211912938598859,
          -2.141011775559256,
          0.6959414273230562,
          0.3970499530689876,
          0.31733011090452773,
          -1.9232404629812105,
          -0.36455017034730774,
          -0.532807646236423,
          1.0964350665303482,
          -0.4887336034139148,
          0.06983923084966848,
          0.34217870679933754,
          -1.407942887530287,
          0.5424118206644162,
          0.6023510430108792,
          -0.8187615853958137,
          0.0028376159542113553,
          0.3952574001736576,
          -0.20252939134694248,
          1.7529445625857827,
          0.14547212893170067,
          -0.2552428470367834,
          -0.990938528041455,
          -0.981844065892855,
          -2.006798501431243,
          -1.2414088189822179,
          -0.7108290290315581,
          0.2418894388103198,
          -1.18484303135052,
          -0.201859025643727,
          -0.2622592843820966,
          1.4676293830237785,
          -0.24289959395091176,
          -0.04660487093836513,
          -1.278665205339113,
          0.07661703148185413,
          0.23767971355945347,
          0.4748104117516315,
          1.8357280260662872,
          -0.8133426482515941,
          -0.16361959037749088,
          0.9082278941307855,
          0.509926322338997,
          1.1498734142239615,
          -0.15837015219290107,
          0.39675186896031384,
          0.3467990299829797,
          -0.06264972816252483,
          0.9607615953300553,
          -0.30093352014634966,
          1.9286620229130655,
          -0.05550023841760419,
          -1.1395093248491568,
          -0.3455064497753759,
          -0.2107365405214748,
          0.7904706416144074,
          0.9692491222401204,
          -0.9352770676484149,
          0.8784867419902772,
          -1.3104529728815186,
          0.948139444526615,
          0.9734042013452125,
          -2.4668030523548192,
          -0.9737745580057596,
          3.1428020739362443,
          -1.068934834259572,
          -0.5508545894712235,
          -1.0206907812119859,
          -0.5428501154358479,
          -0.1775704877285997,
          -0.5391341197020159,
          1.2415948896340463,
          -0.6669218518737149,
          -0.27447282190070893,
          -0.09580141191176672,
          0.9506161583152726,
          -0.5551588237584328,
          -0.49317565181048373,
          -0.2327702436355657,
          0.6650738115785395,
          0.6763485934486829,
          -0.5846555102950337,
          0.6387922915695403,
          0.5768389682631061,
          1.5570428568730943,
          -0.772163717274672,
          -1.7060497504888066,
          -0.02352220808400045,
          -1.1710464643853202,
          0.08534279796383999,
          -0.989296715566966,
          0.32024545575036006,
          2.5859615512239773,
          0.31202748782410133,
          1.2413189797000945,
          0.8613989147383609,
          -0.8337011781798626,
          -1.2719696501318938,
          0.26798199661795885,
          0.8051888756866256,
          -1.0508881234718124,
          0.0020232395056088265,
          1.4161037161489363,
          0.5940621010077066,
          -0.2075394804774101,
          -0.004803234328867703,
          -2.3083658809765897,
          0.06803575513405222,
          0.7190807536338749,
          0.058696506655736974,
          -0.9549906118024014,
          0.5323768120185614,
          -0.22820905317156912,
          -0.5770274784142873,
          0.5821827868068112,
          -0.43915977462787664,
          0.26438668375861685,
          1.115276767141305,
          -0.30134024159948025,
          -1.1121415111133421,
          0.15465208948566114,
          1.350820198766197,
          0.7509912913769715,
          -0.06144275602033257,
          -0.08651916202237075,
          0.8992778532602379,
          -0.36711111127277596,
          0.72255539067097,
          0.1959153963504628,
          0.14625687649277164,
          -1.1973269120910992,
          0.40679394905768773,
          1.016326156871808,
          0.6179776188875066,
          -1.1342229241204447,
          -1.7225243700049175,
          0.09473142597769889,
          0.31410089475174396,
          -0.3711124384574565,
          -0.6681873664475048,
          0.027840342306719088,
          -0.14769755371347548,
          -0.11628690854322629,
          1.1681852876333485,
          -1.512963587036903,
          2.0571212871970745,
          -0.6041131098512103,
          0.838337360403475,
          -0.7266409136127562,
          0.8856824724237227,
          -0.9739892023060143,
          -0.31521929081932615,
          1.2474813134369303,
          -0.30405464149868244,
          -0.30088298061274626,
          2.4212360860104147,
          -1.2793760039851263,
          1.253386011136396,
          -0.6849041371280511,
          0.3279931015545742,
          -0.8383141838347998,
          0.6651655023146792,
          0.4894179711735725,
          0.01710737927729761,
          0.8360934905885719,
          0.31458201303185757,
          -1.1065598314241882,
          0.30266211278644933,
          1.6673477126030054,
          0.001101045351825895,
          0.20045245843416246,
          1.0003088948581793,
          -0.6086924806573942,
          0.23506085568712504,
          0.13909471388250544,
          0.18977260521057313,
          1.1828183842368098,
          -1.9511161833444208,
          0.3302940257960211,
          -0.04085328729983681,
          0.08841334776964488,
          -0.3616040285025427,
          1.7126002475706092,
          0.845205336530139,
          0.6704628381774052,
          0.15048943531259812,
          0.9676079661212691,
          2.009201928539606,
          -0.5372152535337883,
          -0.35621936102100293,
          0.0637703029224342,
          -0.8728342160281073,
          1.06202987128552,
          -0.41144461911291047,
          1.2626607557144194,
          0.3890517650179341,
          1.646395173146291,
          0.7642042541252305,
          -0.3276023819071012,
          -0.22063271962068337,
          -1.563977815157442,
          1.0173347073609327,
          2.138162785963922,
          0.028796640651909223,
          0.16887575619800854,
          0.8792852195890866,
          -0.4613682063556425,
          0.6611318796440061,
          -0.005557401202003697,
          -1.3361304513379026,
          -0.05692769271104998,
          1.6267559218245846,
          0.5892273127739436,
          0.7962739611744948,
          -0.687877451551931,
          -0.340071700740505,
          2.2690926965397997,
          0.289430887664579,
          0.5119562217920738,
          -0.02163794742637716,
          0.7001708417246698,
          -1.529091632464278,
          1.807781839520128,
          0.430012098618446,
          -0.5786344919520775,
          -0.16106672320318904,
          0.3947859459698327,
          -1.7740224463191634,
          -0.19648702842087348,
          -0.04173126429050309,
          -1.5855643302753255,
          1.1378404323750382,
          -0.16525270072540976,
          0.05608911991396274,
          0.3160597362825191,
          1.5107582078620216,
          -0.6484835120185677,
          0.8954057945056846,
          -0.02186031001141333,
          0.6488824528296497,
          -1.649650665168256,
          -0.20102826637851975,
          0.3464773459863535,
          0.2658967176626311,
          -1.0836986308625303,
          2.731084161288676,
          -0.8096220762159688,
          -0.022785957633552442,
          -0.06581848018537606,
          0.612088620421897,
          -1.6153248930579385,
          -0.32368511694139257,
          -0.39550677850872956,
          -0.3267896836303601,
          0.015882225886522203,
          -0.261302313858551,
          -2.307320719708466,
          0.10151866361391343,
          0.31472455393770843,
          -0.6107010525479266,
          -0.8469718625142855,
          0.7792059519950038,
          0.34302424618392996,
          -0.7534589826740342,
          0.6040032659966442,
          1.2057687054897777,
          -0.0708297509621099,
          0.43094058976887434,
          -1.2622837200362271,
          -0.5325818358170754,
          0.8122807815713293,
          -1.6060267427249,
          0.7628283635514905,
          0.9262385812051137,
          -0.2467252950300738,
          -1.4319718152393037,
          0.3838076754521465,
          -0.922178512461309,
          0.5427770161126972,
          0.5472528930470871,
          -0.6727551755212864,
          1.890782437588625,
          -1.4108219378937172,
          0.8044897560279048,
          2.8226846265853904,
          0.6464900481779583,
          -0.02068222917792895,
          -1.701111199790491,
          0.3468033183467016,
          0.6338810824140235,
          0.22967126807137103,
          0.6934992966098421,
          1.1774919692821681,
          0.8555398715625526,
          0.40915288909293124,
          -0.0073291211304871914,
          0.15433511798608096,
          -0.9526702472490112,
          -0.7411878975246885,
          0.9838538096643359,
          -0.3863366032714195,
          1.107382063193894,
          -0.11113721677278354,
          -0.035037888510207706,
          0.28884111641193594,
          -1.3177741110890004,
          -0.4887937440309987,
          0.33553596996898855,
          0.5470883853413282,
          -0.14046417221301183,
          -0.3435538658345107,
          1.0211158174179504,
          -0.1597763427732513,
          -0.7855625962628073,
          -1.0762188888420752,
          0.7255628993258935,
          0.5209053882352517,
          0.6034814584664108,
          -0.5988271809390016,
          1.4368449015192062,
          -0.12716430020976072,
          0.15970782516537665,
          -0.232809849008697,
          -1.2754687535787637,
          -1.2071935393766564,
          -1.0373184735922139,
          0.362341553590797,
          1.5979114526705263,
          0.7828866951010437,
          0.8354539299947079,
          1.4139051399723221,
          -0.2842089811921046,
          -0.018879881321417095,
          0.6452082889450536,
          1.6433474717025705,
          1.1863764944445083,
          -0.5980691875416994,
          -0.11592192062756562,
          0.14885518463789166,
          0.6128467528640958,
          -0.433791267158611,
          -1.3255107376231714,
          0.4244975929624891,
          -0.5379330906929496,
          -0.1710031337560576,
          -0.07610242208860846,
          -0.31226038119051913,
          -0.37388505147443746,
          0.9165395396147232,
          -1.5265569248853115,
          0.5392869537431004,
          1.3485442014391227,
          -0.059849960600757354,
          -0.056567712229748775,
          -1.274461056359799,
          -0.715056240278575,
          0.01674825663677028,
          0.13449208032757304,
          -1.657682966834884,
          -0.9641057590713236,
          -0.21224151129536437,
          1.4491718603540613,
          -1.2275558897854468,
          -0.03970426791463578,
          0.22992131104304706,
          1.1826117209170044,
          1.9488072394476534,
          1.5808753723774343,
          1.8449599915830182,
          0.5769768453857202,
          1.481831758368459,
          -0.6535375452738719,
          0.652251817981664,
          -1.6582437584210477,
          1.120225644926101,
          -0.4790722391047021,
          0.5358352997777369,
          0.7639363284194365,
          -0.9963410151276424,
          0.4973088199988619,
          -0.2890430531822414,
          0.5424748858726931,
          -1.6302646134666172,
          0.42883114775271525,
          0.055351275833025175,
          -0.7042106860211121,
          1.5543423449549083,
          0.6071394242661348,
          -0.680527480961381,
          0.07280734185320671,
          -0.3083111274971211,
          0.2271641181892249,
          -0.3101927617059047,
          -0.24278394701748685,
          0.5686118153018659,
          0.6306547481773271,
          0.5641516458709641,
          -1.6854025266206272,
          0.47207877723928665,
          0.5291493113691461,
          0.351400807642833,
          0.4877631688924384,
          0.651639063238394,
          0.4959777727336577,
          0.036713704011555465,
          0.07943016925856855,
          1.1867093738077523,
          -0.4932877158474147,
          1.3898338220889033,
          -0.22684720717335582,
          -1.3879022982674707,
          -1.860751609981323,
          -0.41905803941810615,
          -1.0597733492272434,
          0.6339551113099728,
          0.19202928008821019,
          -0.502406397462315,
          1.2064996415179503,
          -0.20140972294459095,
          0.9598102140805403,
          2.1742460717049483,
          -1.2542802516138822,
          -0.19938827455615843,
          0.8678405683311723,
          0.9674295798271845,
          2.8610377767242756,
          0.014768118165623987,
          -0.4937919624744952,
          1.0320013765170803,
          0.07223831972730925,
          -1.6645103616180201,
          0.2984402356443497,
          -1.4985825383591669,
          1.3598716761971474,
          -0.01887192810273838,
          0.0725823998006109,
          -0.5758141704721198,
          -1.2975273147521276,
          1.4852846250693914,
          -0.9562204872830107,
          -0.20093195686994728,
          0.37445119995285,
          0.26000986853369584,
          1.3426566953611179,
          -0.7153309222586024,
          -1.3257134356194584,
          -1.195792283152045,
          1.3105007224628629,
          -0.1326078075824708,
          -0.8195584420731944,
          0.2508370005624297,
          0.5617514586129089,
          0.8529210184671394,
          -1.208068733626737,
          -0.3833465418812282,
          0.39017216628276435,
          0.8411145626626655,
          1.3568683231142908,
          -2.288996378347333,
          0.1415272549361661,
          -0.3904188071923872,
          -4.2129561216954,
          0.9638735643287257,
          1.0861412110183717,
          -1.9040302028267067,
          0.02317503996947193,
          -1.407534684617923,
          0.5455685863086599,
          -1.5954100082682072,
          1.4415664302889681,
          0.7921801644972283,
          -0.10601373626705558,
          -0.5311525370081943,
          -1.2382375117718247,
          1.0611489393983666,
          -1.3904898503264755,
          -1.1191330342038568,
          -1.4602686916446324,
          0.05745074902394581,
          -0.8111445141335704,
          0.5325599307881994,
          -0.9991859944967231,
          2.149489567855584,
          1.5892221076401007,
          -0.2219279159550459,
          0.10692993688474739,
          -1.0439854031037297,
          2.537675056023719,
          1.3665049391236053,
          0.7357603854895377,
          1.3072084998979097,
          1.2158897069315233,
          2.6514738894600174,
          -0.5076668771578153,
          0.5939715581385467,
          0.5271017366643151,
          0.09174322034069086,
          1.5914914100095314,
          -1.1164236610085727,
          -0.33547761718822655,
          0.36425234357617087,
          -1.2053175426710663,
          1.4893763778259674,
          -1.1412993714210289,
          -1.1920698007623136,
          0.3042784635539238,
          -0.10258748489164277,
          1.5826385391120803,
          1.8010940760000285,
          0.18638799070008044,
          0.13555212942566616,
          0.6512765025682576,
          -0.1253878888171616,
          2.131461983108554,
          -0.34421355358885447,
          0.2596852617960854,
          -0.9762952194587845,
          1.2221360254477256,
          -0.29901350721916686,
          0.29685924935229774,
          -1.0185651874546988,
          0.5504118395766223,
          1.0114640045435683,
          -0.4254779856458929,
          -0.5402498764007498,
          -0.3558476174329047,
          0.4079765530911452,
          0.45226568655267635,
          -1.0002106168563312,
          2.1241829366722382,
          -0.331928783241,
          1.8492821558391437,
          0.04009431728428549,
          -1.4260464536043689,
          -0.3274030664650063,
          -1.8191677809966644,
          0.176828571915503,
          -0.7033635504149003,
          -0.03162564274157362,
          -0.7923355299218908,
          -0.49611003649231633,
          0.6959285507047814,
          -1.9493512117235368,
          1.8985637034673557,
          -0.12997879916833993,
          0.0013486970566614978,
          -0.101730086106992,
          0.38950279896084977,
          -0.33528073411208986,
          -0.2665249073668679,
          -1.1171632085743333,
          0.4942284005554424,
          1.4407293479664458,
          -0.31137362030263144,
          0.4919214550163674,
          -0.09907407533344996,
          0.4393326477501065,
          0.5450417473702511,
          -0.4117068517640326,
          0.2426029428314111,
          0.37717179209508295,
          -1.2946361994458706,
          -0.5934751010870318,
          -0.36622925397134265,
          0.26580637938702556,
          -0.6777081593424555,
          1.3263220678938712,
          0.11181334519898031,
          0.12592494982063493,
          0.586434404185486,
          -0.0151953387428774,
          -0.04757474408267661,
          0.9499367363802909,
          -0.9861764756835811,
          -0.5408378194245134,
          0.6449438932728697,
          1.724027549959688,
          -0.6937999518901409,
          -0.5405707459605706,
          -0.6409547763406608,
          0.7928808634494541,
          1.3574766107753966,
          0.9085367393028574,
          1.1804414368979053,
          0.8931278629422535,
          1.8092978227144136,
          0.7917190756449035,
          -1.111276373537329,
          1.5583744066171017,
          0.19195590936039916,
          -0.9705168858463116,
          -1.9039830878523751,
          0.6227090325588462,
          -2.227611887175978,
          -0.527722506799397,
          1.616157672291195,
          1.057697507273253,
          0.1979838993247995,
          0.395841379145771,
          -1.4344526668672577,
          -0.5901945217409215,
          1.2766760587385138,
          -0.7137690690848582,
          0.3368254035192179,
          2.4048304424802023,
          -1.1754386251003546,
          -1.3180502381708301,
          -1.8744278369665623,
          -0.17444428664933864,
          0.2133656766614956,
          0.003983807770407357,
          -0.5275061560682169,
          -0.38261953125224424,
          -0.8033141044698902,
          0.9307223842938147,
          -0.4525319276376844,
          -0.18256971779641362,
          2.20075497119147,
          0.8555492180058804,
          -1.2131814574806234,
          -0.016744253862776892,
          1.170008695179457,
          -0.36815469091666964,
          -0.5919154747180936,
          -1.5565160350061358,
          -0.15687609663309,
          0.6195442193512972,
          -1.3661914160746944,
          -1.5116497678739698,
          0.10513839691110341,
          -1.8787148652561745,
          -0.04942459360671143,
          -2.4399308488683262,
          -0.5483438290548861,
          -1.3442441717879725,
          2.013349579512198,
          0.17100404995213747,
          0.800277190965589,
          1.3175488224980958,
          0.7072752895145651,
          -1.3297334228982713,
          -0.03384484271660122,
          1.100936812505464,
          0.36836243404661456,
          1.0880722268418128,
          -0.3394736873225724,
          -1.2921263753743883,
          -0.366982763227189,
          -1.0083626726543093,
          -0.26843175738475966,
          -0.02838722367235584,
          -0.37996411381455064,
          -1.0954222984591184,
          -1.418283547220512,
          2.633517520023089,
          0.41760140023023173,
          -0.32390553994236493,
          -0.6775165968753104,
          -0.9040820140398312,
          -0.46571213855812577,
          -0.672295774273415,
          -1.1060486421673688,
          0.5602210627322751,
          -0.09970189996808818,
          -0.7370028670519523,
          -1.0229633951870496,
          1.5051482611690925,
          0.3771687370715008,
          -1.3989234477288819,
          0.5547031829149194,
          -0.5104119173164489,
          1.4406621167800284,
          -0.11030752689182023,
          -0.147181840443346,
          -0.14097384989501374,
          2.2748424423473503,
          0.28026320084330997,
          -0.9542329260275738,
          0.13087047690063486,
          -1.5685331365012944,
          -1.2448521836061328,
          -1.3190013396032993,
          0.1541844824385299,
          0.22793304759236083,
          -0.08165277684401397,
          0.7985130137217141,
          0.1371709204952531,
          1.1017078512263305,
          -0.23833548170923224,
          0.4356396634532475,
          -1.5221189336731875,
          0.28504940677850676,
          -1.0728163299839253,
          -0.929275141612786,
          0.3672112175978265,
          0.06584852811107157,
          -1.3391606163333203,
          -0.7590858848395164,
          0.09267894989668878,
          -0.7573160746429874,
          -1.2218864724210112,
          -1.0399215361377954,
          1.6622616447039917,
          1.9619218923119068,
          -0.19523484845066885,
          1.025046623859655,
          -0.7808889056037387,
          0.4994223599173124,
          0.529438924321208,
          0.5574573998955163,
          -0.34961000916279633,
          1.1808018246533314,
          0.39583711079203926,
          0.07241179456643591,
          1.7128144704435715,
          1.0009839458364984,
          -1.792681440374667,
          0.9195701071389271,
          1.1804421310371238,
          -0.28888848105425935,
          0.9169189407452817,
          0.16140948021994544,
          -1.5015913682330797,
          -0.9443062050068521,
          -0.8688786699645838,
          1.30560973399844,
          -1.4980352034866276,
          -0.0025328928599999277,
          0.14674933109170415,
          -0.9069022077979352,
          0.20953738160237564,
          -0.7611803582592507,
          -1.4028882772960325,
          0.013760413036154646,
          0.5621684476524652,
          0.5745984958903568,
          0.30381633713496065,
          -0.5849501786189116,
          -0.34369541673478055,
          -0.9758501477845578,
          0.9749439831759247,
          1.2079538548124995,
          -0.7800410158406759,
          0.4310027219221291,
          0.12586403890992265,
          0.561989877141811,
          0.6331811458787903,
          -0.13631733764859666,
          2.1095072456483246,
          -0.32117710192978366,
          -0.9557364062986987,
          -1.4631132855226017,
          1.215023572600138,
          0.5607948559987562,
          -0.22511962728531995,
          0.3580942165958841,
          -1.1310875203353175,
          -2.3436690598545686,
          0.005815402257036128,
          0.3747460730689684,
          -0.06072712545797918,
          -0.048021639955490254,
          -0.31225080545654477,
          -0.9504007068429159,
          -0.5167889745226154,
          -1.214259803021866,
          0.4583114965709305,
          -1.6582125258460705,
          -1.326220071539565,
          1.2592929350310467,
          -2.368570695084377,
          0.5175053486956321,
          -0.30404160715412903,
          0.8112640237076019,
          -0.1843966991271158,
          0.03048678408220428,
          1.18529683227866,
          2.7239778259956857,
          -0.6951179187409314,
          -1.1263386197265248,
          0.5292780823119773,
          0.11474706690668418,
          1.8879738791850182,
          1.8167642370934003,
          -0.6308853684898662,
          -0.0636691860168729,
          -0.3116891109220481,
          -2.0415725219390777,
          1.2034137329713093,
          -1.316911354759518,
          0.2023289295861853,
          -2.8299827292804793,
          0.9160990883624136,
          1.0472607788190766,
          -0.5392164291161566,
          -1.2600937449488805,
          1.1226353371403928,
          -0.44841268218941516,
          -0.45984135646991486,
          2.051990113709105,
          -1.566155203853308,
          -0.16547354771974546,
          0.2116622549320087,
          0.05882744063708607,
          -0.46594006754285067,
          0.48322617285208647,
          -1.1074851139380022,
          0.22198799908813602,
          1.0906867343343725,
          2.2814203983616026,
          0.0815113552798416,
          -0.2367563531175384,
          -0.5243158772013633,
          0.2717171691304793,
          0.4987611999062551,
          0.026291191426340316,
          -0.4967364255352449,
          1.3581338614695544,
          -1.1923841738962142,
          0.27545258150439295,
          2.492545178024051,
          -0.282887194614645,
          -1.402861119473655,
          0.17097197439356326,
          0.08238644818549444,
          2.0999395694263066,
          0.30482974722390493,
          0.46492180651973153,
          0.3768149035903265,
          0.8812579779564637,
          0.16602074012059223,
          -2.0509743901462048,
          0.6577573538977665,
          -0.14597339773543733,
          0.2628245567796615,
          -0.23514752418795948,
          -0.7046645575450917,
          -1.246965544887261,
          -0.2168441483894102,
          0.3616813570034935,
          0.05383424934609756,
          -0.07736958813499248,
          1.2449185552400848,
          0.26693386396994606,
          0.5790969903796406,
          0.676504095514266,
          -1.1731619951283654,
          1.3007007178737389,
          0.5860196280352195,
          -1.4088215884542437,
          0.8603475502955513,
          0.29245391873339366,
          -0.1696092499323584,
          -1.4141627841561597,
          0.48069487811717926,
          -0.34104433144856994,
          -0.26127282385893347,
          0.70067075628148,
          0.2667903661466085,
          1.229303647435279,
          0.19824249151976758,
          -0.3570369236315642,
          -0.8706490689662829,
          1.2280430272198246,
          0.6222283237332242,
          -1.4621840390604524,
          -1.0533368652731958,
          -0.4171355422537869,
          -0.328264621153431,
          2.1674152554942605,
          0.272132668139579,
          -1.4104227923710717,
          -0.6011489071549511,
          -1.1393104297755572,
          1.6535586862730558,
          0.4038244408888193,
          -0.6146413064416181,
          0.073657119346105,
          0.5942923372694005,
          -0.47822930636043093,
          0.19073006432308037,
          0.025130430257808745,
          0.033862998546147806,
          -0.040877278664421146,
          -0.20891479087505976,
          0.18933013273441038,
          0.35035102886443853,
          0.22082201025161596,
          0.510893136345477,
          1.1807790410357917,
          0.4907721118179804,
          0.2275691723811052,
          0.06621605777365795,
          -0.3056424793497921,
          0.43876336483877754,
          -1.269632657689617,
          -0.182051293415719,
          1.1426010331515373,
          1.3370820907115204,
          0.6254741698267995,
          -0.5065539987686202,
          0.7233402631262641,
          -1.2629286341518,
          -1.670182482759563,
          0.12677558759305413,
          -2.6266516651887653,
          -0.520799966073207,
          0.9369232902998019,
          0.2801796003920542,
          -0.70323091648113,
          -0.9704813983200156,
          0.011356348116442528,
          0.4966567627537941,
          0.9846022082264851,
          0.637987066466301,
          -0.4325126449887407,
          -0.7750140835782577,
          -0.6369362646980907,
          0.24425486479289782,
          -1.0342045791942438,
          0.5969125453413464,
          -0.05106947210346452,
          -0.2477026510448354,
          -0.28589175568073144,
          -0.20731333224972665,
          0.5729090657546534,
          -0.7428522968522885,
          -0.19128699678832295,
          2.0416497800738775,
          0.054540109582987856,
          1.6521923949073292,
          -0.7138245907799082,
          -0.20917495991058513,
          0.20021323801925572,
          0.8810303560117538,
          -0.7279175909672954,
          -0.14730692996833428,
          0.08339174513293905,
          -1.3865771820669617,
          0.9779898082300191,
          0.8066072367910371,
          0.2372109081940844,
          0.11441704678514125,
          0.626746963653835,
          1.4952957844877797,
          -0.7972550352605836,
          0.04835434161292159,
          -2.7692593211847907,
          -1.3752272429927437,
          1.9193868157711098,
          -0.9328506020252874,
          0.5939490368524474,
          -1.079568589451931,
          0.18480990340707842,
          0.6326641646074549,
          0.197427947641814,
          -0.3939584721867786,
          0.14104755672878927,
          -0.5838503390334591,
          1.4059512127634926,
          0.0948128584783743,
          -0.40748106154583547,
          -0.005915271585605974,
          1.748876096998198,
          -1.0390089394428415,
          0.36665844988088575,
          1.2974612998080235,
          -0.849928604277483,
          -0.4128067318865876,
          1.641349014983064,
          -0.4778718772841628,
          -0.1867808009976987,
          -1.169410993079307,
          1.1779697288774937,
          1.4228542149091536,
          0.9334434437074437,
          -0.9125197981101955,
          -1.064757426471644,
          0.38810672269958,
          1.0695189268597738,
          0.425246779585569,
          -0.9854609516687058,
          -0.19720926107484482,
          0.2201317516783242,
          0.9911501468608893,
          0.7255810423188019,
          2.0648158889306765,
          -0.5194915448607414,
          2.066639804029373,
          1.1961194119446545,
          -0.10412723445528115,
          -0.46991916696438757,
          0.7870229655950841,
          1.7589071393129556,
          0.546501356822595,
          -1.2624869055949655,
          0.5069282706961721,
          2.1804996669455265,
          0.07242423770177284,
          0.7704736339749824,
          -0.9900511078553523,
          0.15614424251499062,
          -1.721518352687393,
          -0.13030853441577536,
          0.0010286851675667351,
          -0.24877031851504808,
          -1.0063468377850886,
          0.09647552016862651,
          -1.1476477950743238,
          -0.10666316938982173,
          0.7710421618772761,
          0.7922703700685804,
          -0.7315121063064045,
          -2.8838543957880614,
          -1.3716893569911068,
          0.7480938586216911,
          1.0727256487591685,
          0.7556061042160078,
          -0.569710937960718,
          -0.2572286558201384,
          0.6612014976945597,
          0.6872284839208533,
          -0.7676758604740248,
          1.0768845366719304,
          1.876256666253043,
          0.02503037789950774,
          -0.08051042599657673,
          -0.37228033048148534,
          0.528686332445205,
          0.2806930373117171,
          0.28303830756254555,
          -0.6610236746296789,
          -1.4763720632866817,
          0.4560189266726886,
          -0.5039925593971786,
          0.2581964461548919,
          -1.4648123465370693,
          1.4932899976330045,
          -1.0799365208244496,
          0.054559273836520615,
          -1.1306625536900647,
          -0.09813823214962726,
          -0.3745709308875171,
          -2.047146067835456,
          0.8994109703654587,
          0.9188490923830214,
          0.40606104821339417,
          -0.49575598402750887,
          -1.8573856051394957,
          -2.0121696580887707,
          1.6739484444898365,
          -0.9584542531620102,
          0.5798606118142224,
          -2.3526693579514775,
          -0.5299577680228179,
          0.19143635862280575,
          -1.8449690785469168,
          -0.5777617276874916,
          -0.4845696809847296,
          -0.6616625203112892,
          -0.20109016827442341,
          -0.6282209604114846,
          0.7752937910552843,
          -1.4164042241724444,
          1.2014661477322799,
          -0.19666078500287543,
          1.2916189848125033,
          -0.7194816491154908,
          -0.3532906729102711,
          -1.091604561824679,
          -1.6367437246605883,
          0.9170929680164284,
          2.582193578933481,
          0.01410657945138658,
          -0.4175645365814485,
          0.6501255343003968,
          0.42409881504080704,
          -0.4949225427374735,
          -0.9411751336584238,
          0.5577134415144482,
          -0.9030177942140664,
          0.5170377598983321,
          -0.6674404603964206,
          0.8376632105666031,
          1.3939146225212105,
          0.29288657371599797,
          -1.373468385420474,
          0.5816703568431664,
          -2.06277664567349,
          -0.0648548953516463,
          -0.11309764132684032,
          0.4435540256380173,
          -1.1589668431045486,
          -1.416656702826845,
          2.1823383449207476,
          0.5797828360744677,
          -0.9055225267410405,
          0.5928200057025734,
          1.3663635783023746,
          2.181444133504116,
          0.2566646431125985,
          0.013114276899927104,
          1.0085848218646363,
          -0.6507923808547258,
          -0.04788164305191231,
          -0.5365277640665024,
          -0.8281222947637028,
          -0.27318088954759945,
          0.34031164210921805,
          -0.03927840307658409,
          1.1430209799223376,
          -0.13508819694930388,
          0.6809939613831009,
          0.06214077003342647,
          -0.6484519594577315,
          -1.331214954522313,
          1.4058799910728343,
          -0.3672762796401115,
          2.1331277279171044,
          0.20082866282639933,
          -0.677959788386725,
          1.298776064723743,
          -0.1008294702606458,
          -0.13249570848841472,
          0.0234710947071281,
          -0.4766282309892996,
          0.22719044697743304,
          -0.16729940610539892,
          0.40688326151676457,
          0.23949333349405685,
          -0.6600189415894246,
          1.0714433691024683,
          -0.008609084805457653,
          -0.6462007540781382,
          0.13223151420112478,
          0.5781679209095941,
          1.8039814731217334,
          -0.6868628018007451,
          -0.5937328368915068,
          -0.062141622362935175,
          0.3961874482956573,
          0.2337404396293554,
          1.141662273306519,
          0.8521589677163276,
          0.8784447533203725,
          -2.206819275719508,
          -0.14306652134288464,
          -0.8527134269053771,
          -0.8633197067559973,
          -0.040466241338246015,
          0.3201620964585817,
          -0.8907527619852408,
          0.43471341101081595,
          -0.3143796305598539,
          -2.2644063228597444,
          -0.7529450062769325,
          0.8873902559467493,
          -0.11127453209392704,
          -0.0198423243612728,
          -0.1779094075694172,
          -0.25829735048141395,
          -1.1373181322327608,
          -0.3381382889331087,
          0.042580870664553086,
          1.2151678839696014,
          -0.9786277236367544,
          -0.15813234589720485,
          -0.13190939388474562,
          1.4326035120066003,
          -1.0071230638424928,
          0.4344995168921951,
          0.8858129906900476,
          -0.7176305040488273,
          0.1863452319398821,
          -2.0251575905727988,
          1.0311080811048141,
          0.5675366335152499,
          -1.3822158817753885,
          -2.1540224006476545,
          -1.7694693827494228,
          -1.5108363649330963,
          0.0348989089061825,
          0.8178636510907089,
          0.1289144419882096,
          -0.8341883373771936,
          -0.17898130884239127,
          -0.3249405532971902,
          -0.437433182919335,
          0.7071174848522802,
          -0.6147316268878226,
          2.417639588177097,
          -1.0350273496340958,
          0.10362915582061562,
          0.24905532916206527,
          0.4154791097071788,
          -0.7792190562410457,
          0.35470638945491634,
          0.27044450886285065,
          -1.6184844456311085,
          -1.7343311915381705,
          0.4635177553683533,
          -0.18243609632214855,
          -0.2734826025122155,
          -0.04548019711808613,
          1.5647088817369577,
          -0.5474681996804355,
          0.16162619795808972,
          0.75687325997892,
          1.7527004050153865,
          0.21888830969851217,
          -0.3433147008021146,
          -0.09090264342837337,
          0.10662601728986625,
          -0.2347231962733783,
          -0.03241907298065123,
          -0.14378873913775347,
          1.747710006995581,
          1.0604148157521998,
          -0.5654672177463944,
          -0.20725290587697123,
          -1.7830079957511593,
          0.19130714208017122,
          0.1677951451052299,
          0.2210009930374381,
          0.695520759590195,
          1.5095912492515142,
          -0.720076533158379,
          0.008497939996099033,
          0.31582403829316624,
          0.22190102962217106,
          1.2868137759942784,
          -0.813037117748235,
          -0.15930682713169927,
          0.40307702247107374,
          0.6193436646763653,
          2.6352840706119776,
          0.9691844145279619,
          -0.7114792665852916,
          0.6656072536681217,
          1.2285998477524336,
          1.7417879947226955,
          -0.4441898460158809,
          0.4634269969247364,
          0.024821689035168914,
          -0.9333371690388076,
          0.6827548802694402,
          -1.0136630426881421,
          -1.448717108602471,
          0.5157299235570122,
          -0.7995673328018797,
          -1.3001675150152137,
          -0.874418805437889,
          -0.4260618575724494,
          -0.4223577085333401,
          -0.9112207407173613,
          0.07943186630517174,
          0.723427286579793,
          0.9917323568127951,
          0.2902186998377006,
          1.1161794241304805,
          -0.08789547401764085,
          0.14388429214153564,
          -0.2564683936640589,
          0.9496540260934333,
          0.9248997928046384,
          -0.6573122152556125,
          -0.6213176338022377,
          0.9448180237507847,
          -0.7168660904873534,
          0.5319143682060578,
          -0.2704725204840741,
          1.1215789330744226,
          -2.2552556436544067,
          -0.03060023445472509,
          1.7555069255488605,
          -1.0896559789063514,
          -0.9349603437281755,
          -0.12937279375250255,
          0.23164421727346876,
          -1.7765697538278051,
          1.0311356005524792,
          -0.9753686664372283,
          -0.3496927309759738,
          0.17858536419584162,
          0.25344302622753084,
          -0.8926118296192264,
          -0.36870732091013686,
          0.6667049868384005,
          -0.48197083800725254,
          1.7577281306421872,
          1.5892573401871901,
          -0.8643103644198191,
          0.0400985086376306,
          0.21940790934096413,
          1.0662600017995376,
          -0.7744012358481515,
          1.0210089819163197,
          0.6685631784980495,
          -0.8281411031734398,
          -1.3417394124318631,
          0.4054508248317672,
          0.01736082480645343,
          0.12304024195463951,
          -0.29107165353892683,
          -0.9041828303322312,
          1.0937616766865912,
          -0.6818904381271316,
          -2.582703457228564,
          -0.2876266461706517,
          0.5867634364184438,
          -0.05210560930864459,
          -0.5465820455502399,
          1.3053300575430193,
          0.27579987995995825,
          -0.6477609588352577,
          -0.43527893397424133,
          0.35185343256234825,
          0.9348342351146378,
          -0.3895691601701128,
          -1.139383371700629,
          0.7632230296828555,
          -1.2723657901704262,
          0.04173727637241506,
          -0.9754607574535862,
          -0.8334980011771718,
          1.6355375893244588,
          -0.9704000710791515,
          1.9353218790426798,
          1.9127026917897236,
          -0.03207098343211398,
          -0.20989469932188357,
          0.6126499604914174,
          0.9235233847798476,
          0.7750965842385713,
          -1.2466408059293603,
          0.7652857939221829,
          0.3485706479093674,
          -0.5162425483688634,
          -0.44453068779403476,
          0.40488504960299576,
          0.12125359930754676,
          0.670732006400923,
          0.051348451075442815,
          -1.7062642234551697,
          -1.061362301441095,
          -0.933279916858411,
          -0.44719764744604096,
          0.6035618741805098,
          0.7395639872857154,
          -0.08687826639469087,
          2.0192225121681298,
          0.8656353586567126,
          0.9231750145208419,
          0.4622469066940701,
          0.6897363036426313,
          -0.10846348159248065,
          -0.6283233583819804,
          0.33769746876926354,
          -1.3060963531630734,
          1.4397767659094385,
          0.9145295064034866,
          -0.8655622697602801,
          2.7423625240207894,
          -0.8636177105359252,
          -1.0583262304641334,
          -0.9626381626981761,
          -1.3224990215532384,
          -0.6099835092772912,
          0.05601478428578912,
          0.1702326337076188,
          0.009607472877664327,
          -0.7106404064675363,
          0.7548047018021917,
          0.96839523061399,
          -0.22228257953250385,
          0.3635263701084436,
          -0.516686005485859,
          -0.5275471604292976,
          3.234348799649425,
          -1.0802221514971082,
          1.6505233965180477,
          1.580391495026916,
          -1.193154271271104,
          -0.1384665829129428,
          1.7043298333253538,
          -0.8641921552686852,
          1.9355893242541844,
          1.9459167829423745,
          0.2350465393372376,
          -0.44330080205427613,
          0.01763781098192395,
          -1.6227467699530655,
          1.1200190627208328,
          -0.9618312599210894,
          -0.06755084261338555
         ],
         "y": [
          0.3000965337558242,
          -0.6622060422627833,
          -0.6255454807639107,
          -0.24671511643986768,
          -0.6714747746936721,
          -0.4360082529291445,
          0.6145040984469414,
          -2.860954640338079,
          0.17558997772807503,
          -1.5862004149027202,
          1.198109606792879,
          0.7665080545601795,
          -0.507459506305366,
          0.9921464324731367,
          0.43087198460522697,
          0.443594468862559,
          -0.02560932446399946,
          -1.2571275045538621,
          0.5841954464993808,
          -0.75188341071366,
          0.552675062324356,
          0.8169151910794679,
          -0.9236714023903445,
          0.4620005081730469,
          0.6523196543266234,
          -0.022522371043274054,
          0.6133577017378952,
          -0.950786018201875,
          0.3244309519454992,
          0.26772449009009436,
          -0.38441550036265054,
          -0.812637501715616,
          -0.5698442258886488,
          -1.0836091593124861,
          0.7825112036933256,
          -1.2492950570662549,
          0.7691466587011834,
          -0.4668789262802108,
          -1.8287931396127337,
          -1.1647893385051558,
          0.25999332861021546,
          -1.8501408093521576,
          -1.512533767429815,
          -1.0650023338562364,
          -0.6652934250537913,
          -0.545382248312073,
          0.5420475738650817,
          -1.3921525924963187,
          0.6066051274738851,
          -0.6161652293982794,
          0.35001602985900915,
          -0.5463365924466214,
          0.5007707849644665,
          -0.10780168936124859,
          -0.11731231476354499,
          1.2054569352657916,
          0.6061374223856343,
          0.5675985589087075,
          0.7113657275875482,
          -0.1844325427041221,
          1.2182599194899204,
          -0.6504355039406811,
          -0.589923124073727,
          0.4187466348107679,
          0.4840026523358317,
          -0.46298657298120094,
          -1.610607811800595,
          -0.12001858555854975,
          0.7070778753155859,
          -0.6004867117661746,
          -0.028886515526639133,
          1.6525947758660593,
          -0.16601512914682293,
          0.8520815301730631,
          0.821608324035881,
          -0.3317777351044744,
          0.03864540398274388,
          0.4857819881990711,
          -1.7071605662687745,
          0.18077595881157368,
          -0.7148908336917146,
          0.32982351581499336,
          1.8237892864928251,
          -0.8324423106192601,
          -0.4423279297264777,
          -1.059447505459557,
          -0.5953955025297858,
          1.2097390853035404,
          0.5420825218612197,
          -0.1646252969498541,
          -0.1998095372185911,
          -0.2508330244971629,
          2.9110192061246276,
          1.2164738479558166,
          -0.4310689793716912,
          -1.9354633143097235,
          0.7716505429144108,
          2.0562465251148403,
          -0.3704366162221528,
          -0.5360104647485238,
          -0.5997609816748237,
          -0.16848531574821188,
          -0.023392635255922164,
          -0.07588684302083958,
          -0.3562321858470732,
          -1.2359795949730876,
          -0.031833980450831495,
          -0.25787402768824214,
          -0.11984433964392911,
          1.5009082407325751,
          0.659697616313674,
          -0.9994161353272216,
          0.8948065396209894,
          0.038446196230463706,
          -0.8712141202964525,
          0.3170419612098258,
          -0.43984461484888443,
          1.0891320607745771,
          -0.47998390590350415,
          -0.6314594859845669,
          -1.7479263460848586,
          -1.509873141878387,
          1.2017880578590465,
          1.3014826647537552,
          -0.06123971938976598,
          0.6043584198960321,
          1.965928864483165,
          -0.33170664409511497,
          -0.07872998586132925,
          0.9984941396553529,
          -0.35927633854420415,
          1.3945205981567557,
          0.9236338188626007,
          -0.7336717351860301,
          1.9293326810624358,
          1.4781786684593519,
          -2.1478290342771684,
          -1.3143013216234927,
          0.12329630440272556,
          0.7504685563816519,
          0.6283217692237331,
          0.6627122994961895,
          -0.642609074008479,
          1.3489174345924417,
          0.36336863547156195,
          0.36413096785742594,
          -0.28005093697162486,
          -0.4699097550806751,
          -1.0736971893687701,
          0.3950977451885334,
          -0.3278867216708752,
          -0.10546431117825099,
          0.4587070065610349,
          -0.65340865188872,
          0.006107077895869637,
          0.11948920544312448,
          0.21577332307658736,
          0.5082217979236703,
          -1.2166220166952442,
          -0.03859111519567607,
          -0.1390026826746915,
          0.4526876757947997,
          -0.3997118109080042,
          0.6981874130690366,
          0.2605910881006682,
          0.5309728516115519,
          -0.6662874625938394,
          -2.048385149866087,
          1.2394210718086496,
          1.1410770879430774,
          -0.20033547728300266,
          -0.5408633704033107,
          -1.8726993579625428,
          0.580107445881817,
          1.4577573399674553,
          0.5973466294174727,
          0.6241616777714127,
          -1.5590109725820243,
          -0.7634034281662548,
          -0.9064764458922066,
          0.08464216784788361,
          -0.7223875927085862,
          1.4529773027403614,
          1.2967424303487882,
          0.3023538254105902,
          0.7004566991586241,
          0.018607665849684863,
          0.1429461704733975,
          0.6157226073960557,
          -1.5902217760111668,
          1.693089215905571,
          -0.9393567912524463,
          0.4789072419025591,
          -0.09477696570316589,
          -0.051347154271863316,
          -1.074113723548934,
          -1.882245397642388,
          -0.5571870682797838,
          -0.5720111790726128,
          -0.5174384173837708,
          -0.35523974056706165,
          -1.1640888617615284,
          0.31668846351235963,
          -0.21850243488164414,
          0.16538391279045933,
          -1.7954584479407683,
          -0.3747657439240893,
          0.9833580006201057,
          0.37813421759098303,
          -0.10361894234488786,
          1.589092398270833,
          0.08229796179227518,
          -0.6600009062427287,
          0.6145286691676337,
          2.380467175197941,
          0.29138880399205636,
          0.61803157821157,
          2.3623465346493244,
          0.7165813160798976,
          -0.21494129536707843,
          0.48925533606470517,
          0.6529165975461874,
          2.1180539967241248,
          -0.6941836742117943,
          0.3146463195651609,
          1.3969231144205978,
          0.8070657021552265,
          0.886937914714607,
          -0.3439205949565988,
          -0.5643874159699409,
          -1.2297926381938251,
          0.10491425152593836,
          -1.8649270547345005,
          -1.2891959072388335,
          -1.326414139380523,
          1.578089375663216,
          0.4522777932627522,
          1.9920843801072947,
          -1.803277084347039,
          0.38641162664971385,
          1.0786205215322988,
          -0.25235609940907305,
          0.4122180350623475,
          -1.4566365074848353,
          -0.9022994698957753,
          0.07838320228552617,
          1.7486774296923953,
          0.021307711856408486,
          0.40141641066703865,
          -0.0029450352722528842,
          1.2044687788164579,
          0.7208461333365749,
          -0.3425850913969502,
          -0.8551150076672209,
          -0.02988516294914262,
          -0.3666366089575686,
          0.7057695339343635,
          -0.823186694558676,
          0.686157511656028,
          1.5673745291661274,
          -0.20323461698245202,
          0.8167823779329451,
          1.0452622426658627,
          -0.2778020783330923,
          -1.649940754759397,
          -1.8135835902468505,
          0.7772507091260056,
          -1.7206376930596223,
          -2.1749710396756616,
          1.1247714241282807,
          0.6153112199198738,
          -1.1556020970433427,
          -1.1913219475016812,
          0.038849740126815344,
          -1.2690672350919812,
          -0.04329778778174044,
          -0.6629289914257308,
          0.4177854807685212,
          0.22753685303922785,
          0.02708479269304928,
          1.3348998154474445,
          -0.43046513469200737,
          -1.0932381837919196,
          0.49754246685932346,
          0.5086388097640699,
          -1.1414607673708075,
          -0.6762485971256533,
          -0.11745918002124824,
          -1.152821611093572,
          -0.6983795754570912,
          -0.5225002269189287,
          0.3497610958231352,
          1.6794774505080121,
          0.8707597129485565,
          0.8827246424109162,
          -1.2351525280149922,
          -0.0157599393773304,
          0.09704946873776261,
          1.3703847702657228,
          0.9120787374014809,
          -0.38755862059117263,
          0.5485205637376899,
          0.3042054721999129,
          1.5432760574162852,
          -1.0942224684092088,
          0.77196716299773,
          -0.18756505938612533,
          -0.034704073913039556,
          0.8221947913977694,
          -2.1276949916473518,
          0.12982176692125988,
          2.1937966368710646,
          2.139311619913967,
          0.48442466664552203,
          1.5217703503585969,
          2.1129636147066564,
          -1.0829914771975968,
          -0.6776855992197287,
          0.4778794856245995,
          -0.11615554153665139,
          1.0000796735916702,
          0.4792102220266998,
          -1.7007672773357576,
          -1.1368706799815718,
          -1.0578452240270622,
          1.5281445657103734,
          0.12940638033615853,
          -0.12746977281487196,
          -1.2244838454328602,
          0.5062793935122472,
          2.942339798703422,
          -1.5275638804403473,
          0.31335074109873295,
          -0.32560041911245824,
          -0.8521888835184834,
          -0.5608778330957874,
          -0.2880909862130461,
          0.34197781886617,
          -0.011725895338222124,
          1.022856073849384,
          1.6556140790663028,
          0.9784733161529762,
          -0.15875369084579077,
          -0.15261749933538302,
          2.320346795209393,
          0.8216401268991659,
          1.9888942651971546,
          0.08640759398484318,
          -1.0142071585398207,
          -0.4477655775221203,
          0.1784645022527957,
          1.9611680257742155,
          -2.0196656126215378,
          -0.6078739085429158,
          -0.9297356427246422,
          1.0449017774727867,
          0.8023098280057497,
          -0.7176104246391589,
          -0.00415448456361441,
          1.887937803331563,
          1.5215399983719369,
          -0.21624946981102808,
          -0.09485656354882463,
          0.21625851913479116,
          0.9993126890136829,
          -1.0407561800742287,
          -0.5520161405306738,
          -0.717948870768211,
          -0.971832418138069,
          1.0476217283044518,
          -0.9623525590154298,
          -0.5290934474848548,
          -0.4716260977951499,
          -0.1287674949828575,
          -0.006253557988255923,
          0.16399705929072914,
          1.4619296017178212,
          -1.4040350894093978,
          -2.407197424729574,
          -0.10891587987151999,
          1.264969820996261,
          -0.26816467789596216,
          -0.2772065122157676,
          0.7338676296826216,
          -0.8576027707408136,
          -1.1136620050813306,
          0.04636662631493915,
          0.5470526329305402,
          0.3937983222429867,
          -0.4934234573091285,
          -1.7883514148083755,
          1.5660220112015781,
          0.45395579769810024,
          -0.2758002048014602,
          0.059729521961174974,
          1.1428204388858512,
          0.5659256922715341,
          -0.2456658073016655,
          -1.4969235368546403,
          -0.3433114173904529,
          -1.0660606954155047,
          0.3661312942810044,
          0.3359144394683781,
          -0.1017623537858684,
          1.4131667821972809,
          0.17489069805965687,
          0.9008382350838119,
          -0.2774086483083402,
          -0.31064748075214393,
          -0.2657280725838553,
          1.0928308414663737,
          0.31661945866266517,
          -0.9128315355537538,
          1.1909531271295613,
          -0.00697030444781099,
          -0.6579221594398444,
          0.48681793392894845,
          0.11746705887864896,
          1.1203831255946002,
          -0.11960013289185904,
          0.025031402817319724,
          -1.2234862918603042,
          -1.278301455593156,
          -2.128374611960122,
          -0.8845929187492445,
          -0.3732215071329268,
          0.9369366469291903,
          -1.5752327082924196,
          -1.2436061070253859,
          3.188047590611553,
          0.3027548377555539,
          -0.7247104532471094,
          -0.09973394708027161,
          -0.9532111634914058,
          0.18788422661545093,
          0.6855782783093999,
          -1.6593508566554802,
          0.4187449256021565,
          -1.5752975421322493,
          -0.6702878058335691,
          0.3615788537692024,
          1.6823369310528493,
          -0.24016889361721058,
          -0.5732677332604732,
          1.752596153699116,
          0.39149812461555733,
          -0.07995565770446579,
          -0.23328184469800992,
          0.17587891469010722,
          -0.6172450698655484,
          0.6445966652077249,
          0.10103442272060162,
          1.7347257115465102,
          1.7806662961797601,
          -0.1938558080599387,
          0.2397216146416673,
          0.6763869430810064,
          -0.34231045817138883,
          -1.119616199377268,
          0.00462878839181791,
          -1.0717199160526145,
          -1.4366769157047194,
          0.045831589631815495,
          1.1541468233661003,
          -0.981004507941493,
          1.0180732872828133,
          0.47226253825676534,
          -2.305745670240027,
          -0.7072000252768729,
          0.32851709587178735,
          -0.25153263941751797,
          -0.3924442879075363,
          -1.1303317127458918,
          0.07941862548267314,
          -0.5969145117857448,
          -0.7638377377722322,
          -1.1869569887258125,
          -0.9465142452206949,
          1.4705902074355155,
          0.8473276408521941,
          -2.4191470236510413,
          -0.6773599529462588,
          0.7284848190080727,
          -0.9253129012513994,
          1.063886986347232,
          1.5845093246985154,
          -0.782746175393006,
          1.6735849379196732,
          -0.7465183408569328,
          0.3351377946450067,
          0.5699138927191375,
          -0.682520366217551,
          -1.3570748487989086,
          -0.39598791392733684,
          1.1809128437132943,
          -0.3660483575406652,
          1.0481160328422492,
          -1.3074796683036016,
          0.17056392783514102,
          -0.6821635636048302,
          0.937400539338893,
          0.035364580848501935,
          0.5242686994488863,
          -0.9480252851683959,
          0.4033279068930447,
          -0.2836750701814224,
          1.744948806676534,
          -3.5446262474573556,
          0.6682199327293077,
          0.2981019422944905,
          -0.029110589617113845,
          0.07958501406654596,
          0.19475942051915,
          -0.4445868085773377,
          1.7212982710454574,
          -0.2618481753949887,
          2.6293653670050126,
          -3.029157894524853,
          1.20930270057541,
          0.057606821005230346,
          -1.6339402240412004,
          0.3385028912460932,
          -0.7445750065207586,
          0.07683560807644028,
          -1.4515709693707404,
          -0.3187783511974969,
          -0.464368731268909,
          -0.904420292327056,
          0.5289684683138359,
          -0.6495164556684916,
          -0.083241037222575,
          0.5550214315331422,
          1.2225516356299588,
          -0.3479860759045742,
          0.5530812387502952,
          -0.17586417343693359,
          0.10091987917533717,
          -0.9745420005201629,
          3.028436014804464,
          -1.9005796144509866,
          -0.10667131625234921,
          -0.4223255412999534,
          0.17345123914961286,
          -0.5571196282622332,
          0.4790047854809911,
          0.274458622066195,
          0.8617935569377103,
          1.5035519093263163,
          1.67391227598776,
          1.481133271829295,
          -0.3575714860205165,
          0.878153799235304,
          0.03913200881133877,
          1.0287598069945179,
          0.2645733605028272,
          -1.2434082624316636,
          0.13381174193393736,
          -0.22921294521052402,
          -0.23852050578170048,
          2.318145404397662,
          -0.45047139286497656,
          0.5450262553961036,
          -0.3928896176745221,
          0.11827689949657975,
          -0.43031515278943655,
          1.1372326429519943,
          -0.3274869589905798,
          0.5214614782529591,
          -0.19011180538542335,
          2.819968979943936,
          0.19122144087028475,
          0.3603385433122641,
          0.19888460761301663,
          -0.1214774488008872,
          0.13232368967751326,
          0.2675755289520323,
          0.05679178352154046,
          -1.9825909021777481,
          -0.49247900846904014,
          -0.7128107076420164,
          3.2346993869704646,
          0.3878989907978376,
          0.17649646430764238,
          0.1830963217359682,
          -0.5878491376496018,
          -1.5224190881663573,
          -1.7178627613939,
          -0.5696235189158492,
          -1.0757576091067393,
          -0.31448388166785407,
          -0.44938305691619773,
          0.808321997859924,
          -0.8695044381757009,
          0.9424456197382116,
          -0.39447323049755495,
          -1.138308457819718,
          0.7982801154715211,
          2.0458466368033394,
          -1.2771245242591098,
          -0.3501057374985777,
          -0.1967565250508591,
          0.8120723136428043,
          0.006281554306054073,
          0.18778162950730082,
          -0.5258760156335168,
          0.16604511321726248,
          0.12829142106512453,
          0.21919899308979818,
          -1.524394426887501,
          -0.4159600103581868,
          -1.0577930198796424,
          1.0078469403097203,
          -1.5344051538196763,
          -0.6666560412881998,
          0.1459541464187733,
          -1.0155204406813427,
          -1.1683951814927718,
          -0.5884605304070921,
          0.7922992597956127,
          -0.62870339892056,
          -0.7815474211946751,
          -1.8228228940501061,
          1.8222426163722965,
          0.5130722429126072,
          0.11199752527887362,
          -0.594613342050695,
          2.1775697086603425,
          0.3267392388681639,
          -0.2780692538393225,
          0.17947086577158305,
          -0.8906879668552072,
          2.3358638019918487,
          -2.350423454361674,
          1.8553948364586745,
          1.4997873358897311,
          -1.6067104246199795,
          -1.6731040950959553,
          0.7076880170209751,
          0.507739568714019,
          0.34149096816223506,
          1.025600644794461,
          0.5304077323829749,
          1.1517050259667183,
          -1.4686756284920155,
          -1.9430266646676004,
          -0.8836935503286035,
          -1.3015825391996658,
          1.7279912647104334,
          2.4165466652321665,
          0.06538394928313518,
          1.5319507813307498,
          0.9774296671951446,
          0.17721700884270308,
          0.3666589011171379,
          -1.650239735758663,
          0.2673247646197328,
          0.4529587240750453,
          -0.7256861939745157,
          -0.11692621987543204,
          0.8356430335708326,
          0.08319060254482125,
          -0.684044207051324,
          -0.6789112504493583,
          0.275081017817397,
          -1.6478610550283095,
          0.9216840422386389,
          1.3661538813338605,
          -0.12327800362518117,
          -0.1225056790673047,
          0.4957319340001226,
          -3.0092555377703194,
          0.34667939505315143,
          0.0778782460549943,
          -0.26607100401830647,
          -0.5440308354492275,
          -1.7321365046253292,
          -0.33598550076549094,
          0.6158470050071189,
          -2.26485390270602,
          -1.9950473313467783,
          -0.589272624220585,
          -1.339384312596419,
          -1.745477966262482,
          0.06014603085530819,
          0.10779687195398052,
          -0.542724501864808,
          -1.0258666022591738,
          1.0383761469769106,
          -0.10522420014006906,
          -1.0925280155451664,
          -0.499472026000626,
          -1.0667879545000951,
          0.4358227384729053,
          -0.6458581795032757,
          1.0414037138221903,
          -1.637433828843948,
          0.1979432051011812,
          -0.7739989773571927,
          2.757987419797681,
          -0.6494977098712184,
          0.594328058224819,
          -0.38509589909328723,
          0.6657198383589705,
          2.624274695736214,
          -1.345131752933393,
          -1.5167176724474933,
          0.036204387996247624,
          1.590548523178604,
          -0.5964691773866301,
          -0.39528037384547254,
          1.3604503760991662,
          1.1886567639297616,
          -1.226760985581291,
          -0.35984872646893834,
          0.5242662835096515,
          0.28847368785327687,
          0.999609633905385,
          -1.119550573000042,
          -0.04918349967034368,
          -0.22393250659531386,
          1.3549986835589696,
          0.6588599030475646,
          -0.4291618670451682,
          0.022501675447632968,
          -0.2764770118257481,
          -0.39738008423828874,
          0.8200167243036821,
          0.34683081188896286,
          -0.2992120256696344,
          -0.4490849343938408,
          -0.2991916903150262,
          -1.5706337979402247,
          0.8997443759615131,
          0.7382451841268531,
          0.3682217432941136,
          0.23505104091349976,
          0.4349033264090058,
          0.09004685194823281,
          0.4199636073847622,
          -0.5764085242840037,
          -0.08792959219114437,
          0.582955524084023,
          0.6934169289629681,
          1.2277871449274325,
          -0.5093235749982176,
          -1.5154993328875346,
          -0.15649412095632595,
          -0.3093703526618702,
          -1.0857080488497624,
          1.6062823141692257,
          -1.111218912702154,
          -1.9771034818758664,
          -0.948156348352355,
          1.3506759430084354,
          0.5986041790930153,
          -0.8830749608118195,
          1.0392200514510044,
          1.1674853572303256,
          -0.9122004896421182,
          1.8194205096603973,
          -0.9415992543569978,
          0.7362473020674493,
          -0.4185414891116474,
          1.8026978084048892,
          -0.7423178508117393,
          1.7564853234009774,
          0.11416489077680335,
          -0.25240039921955487,
          -2.2394533824229437,
          -0.6503141256063626,
          -1.4668341972360892,
          0.6882227181071225,
          1.6571418084289726,
          -1.130362999437417,
          0.34223169626064653,
          0.06383855000427135,
          0.1322825774520104,
          1.0476302247127312,
          1.9287804767058454,
          1.9275630386119524,
          -1.892006367488687,
          -0.24555071953598384,
          -0.32819586032700443,
          -0.003725799309202896,
          0.3428299980772545,
          0.20361106739616244,
          1.1360601266651857,
          -0.7825256809266253,
          1.5350217266224513,
          0.2647274701537899,
          -1.4668288783366659,
          0.8287279716853622,
          -0.3785215942325941,
          1.3656659827812634,
          0.8661389396239623,
          -1.118255634518565,
          -1.0198316080070524,
          0.4704143150536626,
          -0.6024215238053815,
          -0.05963652078360807,
          2.117838672159037,
          -0.010694943740466086,
          0.11361300129399149,
          0.8116390840133013,
          -0.8932927713372554,
          2.1161619057772825,
          -0.25621474979539066,
          1.9414388577640602,
          0.784940740802411,
          0.7206227008587276,
          0.002802419518649457,
          -0.04407573714923375,
          -0.3984812332974388,
          0.06642027015419101,
          -0.18296856725063512,
          -1.6998987019142127,
          -0.011248210000823022,
          -0.5292308831635902,
          1.9658983137125665,
          -1.6564175470346993,
          0.5997042652925455,
          0.3884053283723698,
          0.9108736597492276,
          2.0886184783648933,
          0.3458648549374735,
          -1.5764527260785122,
          -1.6200104383110556,
          -0.6440104071943888,
          -0.47735116956689577,
          0.015269907805966246,
          0.6494341543106551,
          0.047796062416089,
          -1.5106746379351126,
          0.6357103849773172,
          0.9373360766841223,
          0.06178878353176169,
          0.6529679086154799,
          1.3605714903290171,
          0.391537554110335,
          -0.3860974014614505,
          1.1322731151849683,
          1.1656944505369935,
          -0.30210251858816684,
          -0.564989428945951,
          -0.31388899102598955,
          0.9739824091958967,
          0.6438753488557601,
          -0.30970407694920477,
          -0.5678001676670309,
          0.18314123502039453,
          0.5407650005154883,
          0.5700371385142012,
          -0.30828683103004306,
          1.1639127421004258,
          0.1395701460945526,
          1.203738179968304,
          -1.4916111082931154,
          -0.43626987405757295,
          0.17669913116223565,
          -0.8007040431691989,
          0.5255402730386088,
          1.6455557782748154,
          0.8955558297516747,
          0.16493733120125162,
          -0.5958739624053755,
          -0.6182992243257311,
          -1.3883176361741623,
          0.3537798745011771,
          -0.5960470481698271,
          -1.4904504420676072,
          0.8027015221066071,
          -1.1519862435134065,
          0.14645351726353317,
          2.2379960305082287,
          0.8218530565448399,
          1.4379156053954845,
          0.5617903980962838,
          0.3773718091141812,
          -1.685980055983562,
          1.001510105471823,
          0.9079142551880052,
          -1.4352123398246286,
          -0.19217970855177444,
          2.000569357246832,
          0.5660528352405897,
          -1.0486331980299621,
          -0.14688430360966062,
          -2.5369102431521036,
          -0.03769138258752432,
          -0.15998102843146783,
          -0.653176483876173,
          -0.1388612877312301,
          0.265717574145675,
          -1.0707562427543351,
          0.9949064912077022,
          0.41170951692936464,
          -0.06465152584649692,
          -0.5702923868264961,
          2.78135142281774,
          -0.21516187873486892,
          -1.0187645547139268,
          0.6218438874469219,
          -0.9685654477261417,
          -2.002917202728024,
          1.3294135568096397,
          0.9168552592626303,
          -0.7456594935822463,
          -0.9352217012065916,
          -1.7435303956300514,
          0.8688940456787911,
          1.4873600965037241,
          0.14097350811317186,
          0.6815458106407345,
          1.6491205386131433,
          -1.4217884218124102,
          1.006042291803432,
          -0.9363900288712943,
          0.3573628939185281,
          1.7049975232989476,
          -1.0629050090498966,
          0.9324475717133867,
          -1.1101478574323551,
          -0.5245645547293104,
          -0.5742228039946019,
          -0.6555861958592287,
          0.5407290817373781,
          -1.1028202394456064,
          -0.995438131643143,
          -0.6749703833101083,
          -1.341727187854198,
          -1.684241592725115,
          -0.6655553058900453,
          -0.32423334026484185,
          0.034467843655275075,
          2.31433428171849,
          0.04793726636934433,
          1.729709626129629,
          -0.49759529412547693,
          -0.5336621320279641,
          -0.9212249087039001,
          0.4689607052675922,
          1.1057574797605754,
          1.5641898484377152,
          0.3786235749702807,
          -0.10155219829093498,
          -3.3854207903681006,
          -1.2335011196949812,
          -0.25361562904709556,
          0.6864294278390484,
          0.9211086801004926,
          -1.4975611545479128,
          -0.3845765980951739,
          -1.537195409697672,
          2.6986184870448375,
          -0.32103911021870457,
          -0.7251965772783956,
          0.25331010737635695,
          -0.11014123741940657,
          1.420644378560037,
          0.24101872261819524,
          -0.03932364239268024,
          -0.5239689099484174,
          0.645603622624388,
          -1.965995366337817,
          2.514151129693074,
          1.462323555819678,
          1.823993345338868,
          -0.2541437476572842,
          -1.1346289884170961,
          1.082680598944245,
          -1.2292183035274484,
          0.8199615146996405,
          1.2522921855531282,
          1.594841845291984,
          0.5127856317428903,
          0.5003583148369337,
          1.512124869249513,
          -0.2515630839986148,
          -1.767425110525496,
          1.7005009327623228,
          -1.2866161747910876,
          1.0933385138014948,
          -0.9163182514030599,
          -0.04688396879198591,
          0.6821980243221573,
          -0.026910710993480302,
          -0.9831797476820195,
          1.4355066519399517,
          0.5155516114954903,
          0.10667559808969655,
          -0.8411664410905924,
          -0.6278900405824083,
          0.9125171075866673,
          -0.8451148885707622,
          -0.32179952943705015,
          0.507114162170305,
          -0.4140591980402332,
          2.8097493958794377,
          -1.7679942979065253,
          -0.5721039734132318,
          1.2931484182656696,
          0.04966121209156876,
          0.744975955791401,
          1.380765752411507,
          -0.09913258611707818,
          -0.0173910455224437,
          -0.26210793327733833,
          0.7025012802388676,
          -0.2676980290426366,
          1.183745688959957,
          -0.30081252750805065,
          1.1302899155582529,
          0.12616991501464422,
          0.21576623617202045,
          -0.9834346650223821,
          -1.5661059886221966,
          -0.9159722122701872,
          -0.687738881103709,
          -0.8783393694861409,
          0.13142141503454097,
          -0.999799513032423,
          1.3017091155615572,
          0.6249833259209676,
          -0.11978667318288742,
          -1.6292311640901365,
          -0.359777909757133,
          2.3849881417929364,
          0.2869900502241777,
          1.4796244451981895,
          0.3914927718849549,
          -0.4644079714633704,
          0.3138550256411204,
          -0.7294720829936936,
          0.8778292432518824,
          0.5100299867180582,
          -1.6033996341909769,
          -1.7556474223254064,
          0.03476573785462707,
          -1.0991837072808495,
          0.011168969514864416,
          -0.4445738202776282,
          0.2907260945091732,
          0.4872393039860094,
          -0.3999412403791589,
          -0.24153190514226466,
          -0.03454279934533933,
          2.3387097581289864,
          2.075086188575638,
          1.0692478258041267,
          -0.10894477056580423,
          1.1242745292790137,
          -0.4601582054378134,
          1.6186449179644091,
          0.7256829513800732,
          -0.5726792763042593,
          -0.6897959173545347,
          -0.8915173630909315,
          0.052102575888706135,
          0.8983249264779419,
          1.8745707941752674,
          1.3181889173409727,
          1.440041086665314,
          -0.9040115627597497,
          -0.24271191297650538,
          -1.4712139923821044,
          -0.188582347835469,
          2.2455499854305674,
          -0.027270927885148847,
          -0.5409236894820948,
          -0.6674933900866732,
          0.8511558607048925,
          0.14571416315337882,
          2.013803554569388,
          0.04973900682950704,
          -0.7688088824404016,
          0.3531143006912937,
          -1.1769891835036244,
          -1.3906873361924112,
          -0.07177601401075523,
          0.1824648075063022,
          0.27392022757742834,
          0.8725228683546128,
          0.15035304916552594,
          -0.02325706102937277,
          0.45553076574080875,
          0.5446700487025833,
          -0.3543470358396605,
          0.5348897116400864,
          1.5393243665122833,
          -1.9016119937946827,
          -0.3854211013457926,
          2.2712556167825833,
          1.1000678754984792,
          1.119750150706362,
          -1.1086229210663883,
          -1.0303125780913684,
          -1.194505748085431,
          0.5781763787372068,
          2.033983409227629,
          0.9240638059741844,
          0.6706776468459335,
          -0.4309098280905014,
          0.6901031428836937,
          -0.49657062746572056,
          -0.457718738543111,
          -1.0534920225402116,
          -0.4053582624783491,
          -1.0167215860610666,
          0.47534836918890244,
          -0.6663822959386884,
          -0.7177213695661315,
          1.271285485598453,
          0.48593490484037066,
          -1.9985096442165906,
          -0.5077446771627225,
          1.4099807306276197,
          0.2795705513404788,
          -1.4313353597504725,
          -0.9058541687188303,
          -1.4584834204602142,
          1.1100254931934577,
          2.249049708674928,
          0.5037119981188342,
          -1.6137311090608573,
          0.9060583851389888,
          0.1128316889983879,
          -0.17015422947524247,
          -0.21947735695051532,
          0.0946504100863702,
          0.5786329252824682,
          -1.6709282424947438,
          0.09464889448752946,
          1.3320816070232582,
          -0.05079402781996618,
          1.5168528316094816,
          -1.5781274436796235,
          0.8186581211689424,
          -0.8990328981079536,
          2.412035583446264,
          0.1797491084607588,
          1.4869201405542094,
          -1.7993944607947898,
          -0.7858672165245022,
          -2.41450882006792,
          -1.7742384031721306,
          2.047142100110566,
          -1.7271198532516694,
          -1.588954466305407,
          -0.28054700716837766,
          2.0224975577390834,
          -0.024351233126666146,
          0.3813789121963668,
          0.25900820538864094,
          0.9128957765228748,
          0.9990911162766299,
          0.9644330801966527,
          -2.538035929647335,
          -0.083059302323931,
          1.7666135364556708,
          -0.3249410129095207,
          0.7635748979440498,
          -0.3723501925035694,
          0.25611603355229245,
          -0.8780863963656185,
          0.2697952698665294,
          -0.35742706767721333,
          -0.9511095673927766,
          0.9221578609584058,
          -0.24761031918152943,
          -0.9386176112744303,
          0.12405570087841752,
          -1.0602265389454004,
          1.208636245549967,
          0.20989438774789743,
          -0.9848359599986255,
          -0.1932070364414215,
          -0.476997506039832,
          -1.0866062837947208,
          -0.4617022965593181,
          0.2097049888137442,
          -0.030962241498154196,
          -1.111727732872041,
          1.2147157514149813,
          0.8184536786719924,
          0.7454700882754394,
          0.09039649093808752,
          -1.2631691177999207,
          -1.6279956498604802,
          -1.0383463804383446,
          1.5498079586135867,
          0.26951426373340404,
          1.0167066414401487,
          -0.2576413445279091,
          -0.428374357280591,
          -1.1986379020259361,
          1.3432376986638823,
          0.06758946069492348,
          0.16736885679162306,
          0.6883769992093476,
          1.2622863578400776,
          1.4855465138941384,
          0.4882826149276636,
          -0.7982460742927341,
          -0.6481341536707965,
          -1.1154650651894296,
          -0.55397937339361,
          0.5230936692978522,
          -0.6477212205190713,
          0.062267377361292085,
          0.05911317653629764,
          1.7479507540822536,
          -0.4192235749834473,
          1.778771209541196,
          0.5092834747224569,
          1.151968104975515,
          0.2316213043456976,
          1.130087695738295,
          -0.32285567137279947,
          -0.06233264715569665,
          -0.07875802431664466,
          -1.2301065836667833,
          0.8073132661552156,
          -0.8548891694286521,
          -0.22303999898989504,
          0.03170306556802527,
          0.8604327900444939,
          -0.3145791993203225,
          -0.4490406786280118,
          -0.8518450002820349,
          -0.9462929317553103,
          0.4487814599676847,
          -1.2436874162412763,
          -0.10108163173099768,
          0.54053015061433,
          -0.4406026515985268,
          -1.8560448909660365,
          0.7022731277091714,
          -0.6963717158737831,
          -0.02564955317712126,
          1.2800613155187552,
          -0.5660473051656085,
          -0.6618876233914646,
          1.039268991333114,
          -0.18813550792452832,
          -0.533548730487009,
          -0.3743059432370249,
          0.46341058481170555,
          -2.2143145239329125,
          1.3476399821813818,
          -1.5907884815512454,
          0.07994542396402331,
          0.18019787588974318,
          1.2758744383616445,
          -0.46786904729443485,
          0.44351040858845253,
          1.0480151279623207,
          -2.9552589067361974,
          -1.2106924781266166,
          -0.6080717798042827,
          -1.8380728196099152,
          0.044235387919476996,
          1.3083721583007688,
          -0.6214963483338817,
          0.3502291743746289,
          0.31927807082647575,
          0.7924801991544612,
          0.30192629239781565,
          0.61234977011572,
          -2.365474283049725,
          1.2807632519428562,
          -0.291214859972226,
          -1.4306455973918741,
          0.9587272066324547,
          0.1727647537928504,
          -0.05523629784918908,
          0.37589273040557347,
          -0.845168942600053,
          0.8345857934597704,
          2.738887847324301,
          -0.7990396775118304,
          0.35970814651863536,
          -0.38478782632429254,
          0.3095560222054899,
          -0.33257091663189753,
          -0.06577167654313272,
          -1.4778163886771867,
          0.530131075227013,
          -1.2672743066630034,
          0.7991868892184326,
          0.6763966447623296,
          -0.5141442921541565,
          -0.4829933112361459,
          -2.029406754280368,
          -0.12326422509780444,
          -0.08094519454532406,
          -1.5065701066101056,
          -0.5015131696616073,
          -0.41613080366165217,
          1.0251910861265698,
          -1.6532317304070423,
          0.568606586388852,
          0.9461894062217283,
          -0.8193041738694347,
          0.8115428984660485,
          -0.2559147570035117,
          -2.043684182544566,
          0.4743153089828473,
          -0.23934574106135556,
          -1.1006891892802664,
          0.2663169754583225,
          -0.32170344543012575,
          -1.6134649923054227,
          -2.1348708206822815,
          0.40208231499261626,
          -0.44007797361201717,
          -1.0017005315819423,
          0.8103024991730742,
          -0.7603566600432798,
          -1.3330016712641513,
          1.0185874478262988,
          -0.4669284681600266,
          -0.7501103827075406,
          -1.9715997483497372,
          -1.0051580170416237,
          -0.24109227830511334,
          1.0858083188913266,
          0.27290606153594904,
          0.44121970643068037,
          0.44777029230666376,
          -0.8232646995033963,
          0.9248948912058231,
          -1.9570003325432428,
          -0.8536427447386438,
          -0.02204989790487881,
          0.8742105896899022,
          -0.24522161151307237,
          0.21780913365379917,
          0.8258348812356614,
          0.3398385894578365,
          -0.9973386445559941,
          0.7413741753324739,
          0.5907200148566127,
          1.4710422315919613,
          -0.39285817317953814,
          -0.44108380528104557,
          0.020622914013210404,
          -0.5400085784854332,
          -0.7151238544748074,
          0.6966349480473714,
          0.7162181523626757,
          -0.01938470219879502,
          -1.2855046316897558,
          0.32992889521706636,
          1.3689747845992273,
          0.9278501566320544,
          -0.45398903152916587,
          -0.49464870866846805,
          -1.3227057620207068,
          -2.1333580404633197,
          0.05656481643202774,
          0.2890843565029356,
          0.9083999923633277,
          0.1364371327139184,
          1.0070652372873365,
          0.4318012550568024,
          -0.1526743569665275,
          1.0681289941530416,
          0.3741856969969001,
          -0.3134784118174564,
          1.2997646904950169,
          -0.3330436362315921,
          -0.22318061147738777,
          0.7334108158795545,
          0.19394613279297912,
          -0.11167427894923697,
          -1.9700431559178366,
          -1.4973627033203174,
          0.8133139223522857,
          0.7628401921085938,
          -0.23501802310697337,
          -1.2031808362288876,
          1.1590228466375987,
          -0.06772798232812642,
          -0.08889441251509021,
          0.7676910308610769,
          -0.41672407543522566,
          0.32636909572484774,
          -1.243473179142381,
          -0.29790989441945864,
          0.8925011036173087,
          0.9251596575610579,
          -0.7395715089493227,
          0.021233423318929953,
          0.10384511957369977,
          -0.03497993348725333,
          -0.4359511673213006,
          1.6229621862678845,
          -0.4706211783634847,
          1.040522158214663,
          0.4030463917525518,
          1.0050437928739213,
          0.615139174507343,
          1.689400561357603,
          1.7187655376737114,
          -1.4680377298053746,
          1.052913194556844,
          1.3262987149938295,
          1.2205351723867495,
          -0.22862700326843197,
          0.23695935337040308,
          -1.4428218365545022,
          1.0927623600461345,
          -0.7473587305241655,
          -0.20346419090299442,
          -0.8581616907245354,
          -0.678326120884985,
          1.1956815002819092,
          -0.27648321165898676,
          -0.0890794685436881,
          -2.053774976036317,
          -0.7294190976920055,
          -0.41612464818581624,
          -0.8028798607089611,
          -0.5545511347615437,
          1.2643895961354896,
          0.6136319519550816,
          -0.7501900776903898,
          -0.8539272041997746,
          -0.8800249481233363,
          0.33428836670694323,
          1.3928485821407028,
          0.9921826855834963,
          0.27923130559474846,
          -1.9006411528476168,
          -1.6752692531708133,
          1.0652283136865677,
          0.9740897940078862,
          -0.7139076737476459,
          0.6642816581570236,
          0.6808678711661657,
          -0.7065087414580424,
          -0.7195350720571345,
          0.7161929042889641,
          -0.18462051847190586,
          -1.0945820626815757,
          0.840133901049857,
          -0.484850191801133,
          -1.261776209814344,
          -0.42648869178497556,
          -0.2517668138376384,
          0.7883975806075405,
          0.7593336513851804,
          -1.000371114218278,
          0.7254141017485374,
          0.4058918980000507,
          1.2277193331229213,
          0.4784472510793952,
          0.3723782752389136,
          -0.3791093927016261,
          0.6404789030869273,
          -1.0923801282460786,
          0.7679633003940655,
          -0.1497820726712073,
          -0.12380391056390554,
          1.0024649372311565,
          0.37159794466840773,
          -0.13447033587402438,
          1.401144761159961,
          0.08914179551330063,
          0.1730452340220499,
          0.01547084228613301,
          -0.5662425166021228,
          -0.48550487124843705,
          -0.17332805102530388,
          0.9037698019550273,
          0.2027258124473254,
          0.5045907090641992,
          0.72575831107409,
          -1.7767879433245923,
          2.1349467216749916,
          -1.2952163200962168,
          0.9753329895136559,
          -1.269630319005062,
          1.3615040086112047,
          0.9140315622559803,
          -0.03584530331147152,
          -0.5781127240279454,
          1.241401387477026,
          -0.9314703361757481,
          -1.8314269970099988,
          1.1462140500398859,
          0.7669156464273037,
          -0.10661033849733076,
          0.3865926664453478,
          0.47623320147942677,
          0.7145110003020245,
          0.9723015059224468,
          0.5075228648399311,
          1.1026016604188256,
          -1.316038695725824,
          -0.6944621267177089,
          0.10930207622647897,
          0.03800531628785441,
          1.9178375772796834,
          0.2919274566916911,
          1.3666427044379623,
          1.8741805181777935,
          0.5787220364383576,
          -0.04063463728721132,
          -2.030915021377018,
          1.241232655478122,
          1.6144818662034992,
          -0.3259906007768486,
          0.6706334366909029,
          1.2605685803000917,
          0.39469514882550594,
          0.11270766129075714,
          0.5311978444153683,
          0.13607665477289216,
          -2.0617471841733064,
          1.286928657442384,
          -0.6659531231653086,
          0.9718933720827598,
          0.014481310600588795,
          0.8710336541149715,
          -1.1093342343761767,
          0.6445558024113244,
          0.5468155408453387,
          -0.09756373470890611,
          -2.0324947911887254,
          -0.0968069051624039,
          -0.21484132556173127,
          0.14712184810034212,
          -0.7820763174811285,
          0.08180670826887589,
          -0.4788261937146483,
          0.22815003651102503,
          -1.6049656810900934,
          1.5935817652526412,
          0.03309709824681222,
          -0.25114202157703797,
          0.11202487665791287,
          0.3861298509725211,
          0.5222586039173898,
          0.001448985951407824,
          0.17360572192275386,
          1.2640654249352317,
          -1.3471453342585273,
          -0.747131083336377,
          -1.0530077235057405,
          -0.1292260192090414,
          -0.2915750786558554,
          1.2470704787128353,
          0.8326956886442702,
          -0.07527212067753501,
          0.8577113626920014,
          0.8593279607385602,
          1.6473472368180846,
          -1.5825370629854432,
          -1.7366729994468386,
          0.6434710506671166,
          0.13099443459753118,
          -1.0958761015463458,
          -0.08144647982510901,
          -0.5286326783964475,
          -1.8454540847420609,
          1.466186861684458,
          2.376060855411581,
          -0.4629370504722098,
          1.079149731842824,
          -1.292587908203772,
          -1.4533340021247474,
          0.7100516354150989,
          0.43541633888582676,
          0.07011808796130879,
          0.3011725778060104,
          -0.06934922436057821,
          -2.2026507184798167,
          -0.35913564292502287,
          -2.3114789233079605,
          0.11012095215692748,
          -0.026197251264377396,
          0.06230749758264849,
          -0.523546214607716,
          -0.025831326569130127,
          1.016949866196347,
          -0.6054731489510525,
          0.29304769701950506,
          -1.2815569248892291,
          1.8302280100376727,
          -0.06326033812778738,
          2.0902668434939233,
          -0.3237274287157394,
          -0.47791394600174697,
          -0.4782085301163245,
          -0.6961111615836922,
          1.3762348981135637,
          -0.619291243977868,
          1.115161296012162,
          0.16343423759147085,
          1.0205524397812649,
          -0.4931063937313019,
          0.7242744211739295,
          -1.986511568891589,
          0.29111281399377975,
          -0.5352447013317213,
          -0.18580443230560656,
          -1.0913053427645012,
          0.37239853273456586,
          1.0769060901501595,
          0.36443156556319906,
          0.8780427719382524,
          -0.02453298824649211,
          -0.19523658828758766,
          -0.6972485191817804,
          -1.0030391758725508,
          -0.05142706095642019,
          -0.4403116247451662,
          -0.3805637595219524,
          -0.48752358918148747,
          -0.2577152091181055,
          1.127676827808492,
          1.3063923793200067,
          -2.1005375272090547,
          -0.8080368152106501,
          0.42877553870726204,
          1.229916429143129,
          -1.5038128202668217,
          1.2758827203145044,
          -0.2681730257096876,
          -0.03966058059150911,
          0.6793521847187608,
          -0.37710733254955536,
          0.37355119976943313,
          0.18928766459760454,
          0.40767222881492565,
          0.9216839224762832,
          1.005559100246221,
          0.5949228246104261,
          -0.5012014169503207,
          -1.281279571227391,
          -0.8176131544926392,
          0.8244404174788688,
          0.32862114979616486,
          0.48560706004412246,
          -1.2615435273149467,
          -0.036222665694833366,
          0.3872349241151004,
          -0.03316893843656378,
          2.358648121450509,
          0.7669587124913054,
          -1.1143695301407726,
          -0.3529324361826723,
          0.6836109099388129,
          1.2820869167472482,
          -0.582961552833753,
          0.6658368197778262,
          -0.6260196921176532,
          -0.26779166689616474,
          0.990125023779195,
          -1.5439052763760983,
          1.4555780727995264,
          0.33990022107879164,
          0.44199386219098324,
          0.9670382841662559,
          -0.4787481018721826,
          -0.24013307019393457,
          -1.3774449586235147,
          -0.7013554360192407,
          0.40050241352557653,
          -0.23235224043997388,
          0.7939284415812249,
          0.8586283196136045,
          -1.146033036305083,
          2.237118589628563,
          0.2685063787054474,
          1.2210271613754842,
          0.7477937125188363,
          0.3593432970417965,
          -0.03368197516481641,
          0.5658284765765762,
          0.26796120865590667,
          -1.553432921001717,
          0.4521911671659747,
          0.7494685325643908,
          -0.8406757852879909,
          -1.5605449159610174,
          0.4607221146407505,
          0.8384654418389003,
          -0.7048596759311285,
          -0.08398359834676809,
          1.6771053294517213,
          1.251217349165359,
          1.1634507930867277,
          -0.48204108565194803,
          0.7972626028776714,
          0.1975951013407111,
          0.7883947659756368,
          0.535638894483501,
          -1.5342135615182855,
          0.33829326072023774,
          0.16894216580984123,
          -0.7937021278681532,
          -0.3533823514619475,
          0.10151689542333141,
          0.5947508594907025,
          0.25064898188726165,
          1.113867421641052,
          0.4991919860044686,
          0.9122059506406364,
          -0.3545524512439147,
          1.065834916362699,
          1.6046833941577414,
          -0.7362341431109961,
          0.6895248484238409,
          0.6116354702340345,
          -0.7481612302416446,
          0.47775916460373696,
          -0.6541672425173441,
          1.046918284210579,
          0.7743685039335083,
          -0.032926532866684545,
          -2.759484711471035,
          -1.2715112351061173,
          0.6007825135004307,
          -1.1077452455758872,
          1.3875712565508436,
          -0.09181018803728591,
          -0.6186158635045067,
          -0.28522746203531135,
          1.1619798363524447,
          -0.5074568467267948,
          0.8036210693481777,
          -0.25165815405901,
          -0.2578648896175028,
          -1.438499279941401,
          -0.2913599175384296,
          0.060817005671869,
          1.3769956235748897,
          -0.1312486042425554,
          0.4899056907268137,
          -0.3059039738544831,
          -0.605078723293003,
          -1.1038333306043606,
          -0.06193184256208062,
          -1.620890180396884,
          -0.25370060381137594,
          -0.568648351769695,
          0.7170197114691567,
          0.8021922497135143,
          1.3359333343085824,
          -0.0860373744240186,
          0.49858306912142586,
          1.9159478128766971,
          -1.2709701274005367,
          -0.7260348342485287,
          -1.5595719483286337,
          0.19567339529599082,
          2.502553337980865,
          -2.2273518618442942,
          -1.3511922531355556,
          0.347470301389285,
          -0.6143714898676501,
          2.156052655459132,
          0.5603468508055681,
          -1.6756688941854172,
          1.1547934836217266,
          -0.5224455286283206,
          -1.9738333987602381,
          1.5735252123066032,
          -1.0932606257825253,
          1.2575007195823833,
          0.5584843162303977,
          -0.08172164629305961,
          -0.3295044306680116,
          0.25105738841459374,
          0.05190099858705358,
          -0.9158532967266093,
          -1.805367044143394,
          -0.33455430813147463,
          0.671327740893251,
          0.32442605975097627,
          -1.9647477091816883,
          1.5688426888257971,
          -0.15500231994008007,
          -0.272337393119179,
          0.2713384650160146,
          1.9300831696099845,
          0.7112277866664484,
          -0.5661195283742967,
          -1.1368280777736803,
          2.8287276923827376,
          0.783876922763463,
          0.268672582334275,
          0.58598120728741,
          0.41519476978092973,
          1.413250223694653,
          0.8707371040816789,
          0.8478115454608791,
          0.8416002410926312,
          -0.430514414309718,
          0.6131170525973991,
          0.9621160145825438,
          -0.20923743513372248,
          0.8537460744702893,
          0.9070947969591916,
          -1.2656141721391219,
          -0.4422765054649847,
          -0.8708076263967441,
          0.042703946194250185,
          0.469567433802472,
          0.8899886598497615,
          -0.16242671064467082,
          0.913094965863483,
          -0.33400685698561733,
          -1.3111079866795796,
          -0.5579561110726409,
          0.6875756133561444,
          -0.2897534890361183,
          2.015405972143198,
          -0.006942892687281079,
          -0.5153579783546884,
          1.0331659657928982,
          -0.29088328191210466,
          0.27645843724852065,
          -0.20005581897384875,
          0.6431241634710569,
          -0.22645008723080012,
          1.4565763079440635,
          0.025392740666993173,
          -0.851102707914758,
          -0.15789577025249585,
          -0.7356281724486858,
          0.2949719569018239,
          0.04210357285318301,
          -0.2094825565727871,
          -0.03625574204715304,
          1.8914412365531792,
          -1.1260012813242357,
          -0.21746222075724314,
          0.18849867476288598,
          -0.9627814955561452,
          1.1608356608084467,
          1.8173103219847084,
          0.483312501373453,
          1.0013551018545517,
          0.3264649418681868,
          0.08449739772559432,
          0.183965340122034,
          -0.5328236927237516,
          0.3915043622604645,
          0.49658242338867686,
          -0.16825185373832544,
          -0.2852908961424231,
          0.6659652941572518,
          -0.41981427400405175,
          -0.7078164795912555,
          1.0272959642286625,
          -0.85349264258082,
          -1.589065837288137,
          -1.2065105471474433,
          -0.8705950701212755,
          -0.9163122031999404,
          1.701057051831151,
          0.14421766293914695,
          0.7453434772950237,
          -0.4939720841952424,
          1.6138494846308569,
          0.42932970425854544,
          0.09032070041741252,
          0.8957684625888735,
          0.4712644251334752,
          -0.6190258766984522,
          0.501638732151209,
          2.3876551984882664,
          -1.4990081577290066,
          -1.357753531175594,
          -0.07129244464843751,
          -0.4462467636204637,
          -1.7421183153939177,
          -0.5656257479197417,
          0.9061708473471233,
          0.7142242041366987,
          -0.03307625526600524,
          -0.23762770057350127,
          1.3928545699093653,
          -1.1404025633971036,
          -1.1145087880487703,
          1.3994484971332548,
          -2.1125282159486947,
          1.343724319272574,
          0.5516219601435616,
          0.8206106402328254,
          -0.19054784340157346,
          -0.05997798388283872,
          1.0379977026320497,
          -0.7191237773774072,
          -1.5672922214153042,
          -1.0031821587229117,
          -0.2573925724554862,
          -3.1330944648612755,
          0.17967371130263157,
          1.8724752856515314,
          2.180291776910062,
          -1.0529138612298263,
          0.9390641203420305,
          0.6570555746846487,
          0.274439541762871,
          0.5825727418818644,
          -2.149206102298741,
          -0.7383121709498279,
          -0.42243878330800577,
          -0.4153473503930798,
          -0.5165464705678887,
          0.42445917641785963,
          0.1750748714354799,
          1.2282981139150595,
          -1.3412004572118048,
          -0.29789339102549484,
          1.0827858532811008,
          -0.32604259850829664,
          1.6761248565521067,
          0.4813066539109912,
          -0.17771929484324653,
          0.4655032069369809,
          1.554826694947068,
          2.5858738685560927,
          1.6866532438568036,
          0.1272878235214108,
          -0.5391779990224952,
          -0.709398895369875,
          2.2123209889076025,
          0.7736478701541167,
          0.0816410684735492,
          -0.7651031650572263,
          -0.15937695950923278,
          -0.737772731505638,
          0.6397914615908531,
          -0.2522049574733123,
          0.6045748457570436,
          0.4802672766630533,
          1.5264727978866885,
          -0.7575411336154265,
          -0.4630711135015008,
          0.301671385217551,
          -0.31527519636421564,
          -1.2646685797596082,
          1.335944391543036,
          0.6095823214858691,
          -0.174406029257218,
          0.8522028257707622,
          -0.19832660188497242,
          -0.1470585591469562,
          -1.2000038660195083,
          0.7446409485819391,
          1.010706343057684,
          0.020146130187663362,
          -0.7353203025031437,
          -2.0361736316152284,
          0.7592945710515505,
          -1.430167208482014,
          -0.13094456853597064,
          -2.183753936668168,
          -0.02294332578377914,
          -1.1171912979298422,
          1.4939098927455259,
          0.6061364216260997,
          -2.155044437468747,
          0.7751403387262858,
          -0.8003211101873121,
          0.20963626678304065,
          0.703099083938772,
          -0.3405672455466593,
          -0.5200978975474682,
          -0.45702258044052935,
          -0.8103352302220768,
          2.9952827317118347,
          0.4466261824006516,
          -0.07199197438760671,
          -1.196460728194086,
          1.0215699055819742,
          -0.11597822248137206,
          -0.1143978420960033,
          0.04182272509719269,
          0.9737005459119855,
          1.452004696972332,
          0.16609742163570415,
          -0.20191212078980253,
          0.3520594834349998,
          -0.2762236852751559,
          0.9008242594784046,
          -0.8685525121430594,
          -0.9731694488289697,
          2.365447884942671,
          -1.412846294547311,
          1.0719012568083404,
          -0.25439454651222654,
          -0.34428985878375884,
          1.358522503354922,
          -0.5933427785361537
         ]
        }
       ],
       "layout": {
        "template": {
         "data": {
          "bar": [
           {
            "error_x": {
             "color": "#2a3f5f"
            },
            "error_y": {
             "color": "#2a3f5f"
            },
            "marker": {
             "line": {
              "color": "#E5ECF6",
              "width": 0.5
             }
            },
            "type": "bar"
           }
          ],
          "barpolar": [
           {
            "marker": {
             "line": {
              "color": "#E5ECF6",
              "width": 0.5
             }
            },
            "type": "barpolar"
           }
          ],
          "carpet": [
           {
            "aaxis": {
             "endlinecolor": "#2a3f5f",
             "gridcolor": "white",
             "linecolor": "white",
             "minorgridcolor": "white",
             "startlinecolor": "#2a3f5f"
            },
            "baxis": {
             "endlinecolor": "#2a3f5f",
             "gridcolor": "white",
             "linecolor": "white",
             "minorgridcolor": "white",
             "startlinecolor": "#2a3f5f"
            },
            "type": "carpet"
           }
          ],
          "choropleth": [
           {
            "colorbar": {
             "outlinewidth": 0,
             "ticks": ""
            },
            "type": "choropleth"
           }
          ],
          "contour": [
           {
            "colorbar": {
             "outlinewidth": 0,
             "ticks": ""
            },
            "colorscale": [
             [
              0,
              "#0d0887"
             ],
             [
              0.1111111111111111,
              "#46039f"
             ],
             [
              0.2222222222222222,
              "#7201a8"
             ],
             [
              0.3333333333333333,
              "#9c179e"
             ],
             [
              0.4444444444444444,
              "#bd3786"
             ],
             [
              0.5555555555555556,
              "#d8576b"
             ],
             [
              0.6666666666666666,
              "#ed7953"
             ],
             [
              0.7777777777777778,
              "#fb9f3a"
             ],
             [
              0.8888888888888888,
              "#fdca26"
             ],
             [
              1,
              "#f0f921"
             ]
            ],
            "type": "contour"
           }
          ],
          "contourcarpet": [
           {
            "colorbar": {
             "outlinewidth": 0,
             "ticks": ""
            },
            "type": "contourcarpet"
           }
          ],
          "heatmap": [
           {
            "colorbar": {
             "outlinewidth": 0,
             "ticks": ""
            },
            "colorscale": [
             [
              0,
              "#0d0887"
             ],
             [
              0.1111111111111111,
              "#46039f"
             ],
             [
              0.2222222222222222,
              "#7201a8"
             ],
             [
              0.3333333333333333,
              "#9c179e"
             ],
             [
              0.4444444444444444,
              "#bd3786"
             ],
             [
              0.5555555555555556,
              "#d8576b"
             ],
             [
              0.6666666666666666,
              "#ed7953"
             ],
             [
              0.7777777777777778,
              "#fb9f3a"
             ],
             [
              0.8888888888888888,
              "#fdca26"
             ],
             [
              1,
              "#f0f921"
             ]
            ],
            "type": "heatmap"
           }
          ],
          "heatmapgl": [
           {
            "colorbar": {
             "outlinewidth": 0,
             "ticks": ""
            },
            "colorscale": [
             [
              0,
              "#0d0887"
             ],
             [
              0.1111111111111111,
              "#46039f"
             ],
             [
              0.2222222222222222,
              "#7201a8"
             ],
             [
              0.3333333333333333,
              "#9c179e"
             ],
             [
              0.4444444444444444,
              "#bd3786"
             ],
             [
              0.5555555555555556,
              "#d8576b"
             ],
             [
              0.6666666666666666,
              "#ed7953"
             ],
             [
              0.7777777777777778,
              "#fb9f3a"
             ],
             [
              0.8888888888888888,
              "#fdca26"
             ],
             [
              1,
              "#f0f921"
             ]
            ],
            "type": "heatmapgl"
           }
          ],
          "histogram": [
           {
            "marker": {
             "colorbar": {
              "outlinewidth": 0,
              "ticks": ""
             }
            },
            "type": "histogram"
           }
          ],
          "histogram2d": [
           {
            "colorbar": {
             "outlinewidth": 0,
             "ticks": ""
            },
            "colorscale": [
             [
              0,
              "#0d0887"
             ],
             [
              0.1111111111111111,
              "#46039f"
             ],
             [
              0.2222222222222222,
              "#7201a8"
             ],
             [
              0.3333333333333333,
              "#9c179e"
             ],
             [
              0.4444444444444444,
              "#bd3786"
             ],
             [
              0.5555555555555556,
              "#d8576b"
             ],
             [
              0.6666666666666666,
              "#ed7953"
             ],
             [
              0.7777777777777778,
              "#fb9f3a"
             ],
             [
              0.8888888888888888,
              "#fdca26"
             ],
             [
              1,
              "#f0f921"
             ]
            ],
            "type": "histogram2d"
           }
          ],
          "histogram2dcontour": [
           {
            "colorbar": {
             "outlinewidth": 0,
             "ticks": ""
            },
            "colorscale": [
             [
              0,
              "#0d0887"
             ],
             [
              0.1111111111111111,
              "#46039f"
             ],
             [
              0.2222222222222222,
              "#7201a8"
             ],
             [
              0.3333333333333333,
              "#9c179e"
             ],
             [
              0.4444444444444444,
              "#bd3786"
             ],
             [
              0.5555555555555556,
              "#d8576b"
             ],
             [
              0.6666666666666666,
              "#ed7953"
             ],
             [
              0.7777777777777778,
              "#fb9f3a"
             ],
             [
              0.8888888888888888,
              "#fdca26"
             ],
             [
              1,
              "#f0f921"
             ]
            ],
            "type": "histogram2dcontour"
           }
          ],
          "mesh3d": [
           {
            "colorbar": {
             "outlinewidth": 0,
             "ticks": ""
            },
            "type": "mesh3d"
           }
          ],
          "parcoords": [
           {
            "line": {
             "colorbar": {
              "outlinewidth": 0,
              "ticks": ""
             }
            },
            "type": "parcoords"
           }
          ],
          "pie": [
           {
            "automargin": true,
            "type": "pie"
           }
          ],
          "scatter": [
           {
            "marker": {
             "colorbar": {
              "outlinewidth": 0,
              "ticks": ""
             }
            },
            "type": "scatter"
           }
          ],
          "scatter3d": [
           {
            "line": {
             "colorbar": {
              "outlinewidth": 0,
              "ticks": ""
             }
            },
            "marker": {
             "colorbar": {
              "outlinewidth": 0,
              "ticks": ""
             }
            },
            "type": "scatter3d"
           }
          ],
          "scattercarpet": [
           {
            "marker": {
             "colorbar": {
              "outlinewidth": 0,
              "ticks": ""
             }
            },
            "type": "scattercarpet"
           }
          ],
          "scattergeo": [
           {
            "marker": {
             "colorbar": {
              "outlinewidth": 0,
              "ticks": ""
             }
            },
            "type": "scattergeo"
           }
          ],
          "scattergl": [
           {
            "marker": {
             "colorbar": {
              "outlinewidth": 0,
              "ticks": ""
             }
            },
            "type": "scattergl"
           }
          ],
          "scattermapbox": [
           {
            "marker": {
             "colorbar": {
              "outlinewidth": 0,
              "ticks": ""
             }
            },
            "type": "scattermapbox"
           }
          ],
          "scatterpolar": [
           {
            "marker": {
             "colorbar": {
              "outlinewidth": 0,
              "ticks": ""
             }
            },
            "type": "scatterpolar"
           }
          ],
          "scatterpolargl": [
           {
            "marker": {
             "colorbar": {
              "outlinewidth": 0,
              "ticks": ""
             }
            },
            "type": "scatterpolargl"
           }
          ],
          "scatterternary": [
           {
            "marker": {
             "colorbar": {
              "outlinewidth": 0,
              "ticks": ""
             }
            },
            "type": "scatterternary"
           }
          ],
          "surface": [
           {
            "colorbar": {
             "outlinewidth": 0,
             "ticks": ""
            },
            "colorscale": [
             [
              0,
              "#0d0887"
             ],
             [
              0.1111111111111111,
              "#46039f"
             ],
             [
              0.2222222222222222,
              "#7201a8"
             ],
             [
              0.3333333333333333,
              "#9c179e"
             ],
             [
              0.4444444444444444,
              "#bd3786"
             ],
             [
              0.5555555555555556,
              "#d8576b"
             ],
             [
              0.6666666666666666,
              "#ed7953"
             ],
             [
              0.7777777777777778,
              "#fb9f3a"
             ],
             [
              0.8888888888888888,
              "#fdca26"
             ],
             [
              1,
              "#f0f921"
             ]
            ],
            "type": "surface"
           }
          ],
          "table": [
           {
            "cells": {
             "fill": {
              "color": "#EBF0F8"
             },
             "line": {
              "color": "white"
             }
            },
            "header": {
             "fill": {
              "color": "#C8D4E3"
             },
             "line": {
              "color": "white"
             }
            },
            "type": "table"
           }
          ]
         },
         "layout": {
          "annotationdefaults": {
           "arrowcolor": "#2a3f5f",
           "arrowhead": 0,
           "arrowwidth": 1
          },
          "coloraxis": {
           "colorbar": {
            "outlinewidth": 0,
            "ticks": ""
           }
          },
          "colorscale": {
           "diverging": [
            [
             0,
             "#8e0152"
            ],
            [
             0.1,
             "#c51b7d"
            ],
            [
             0.2,
             "#de77ae"
            ],
            [
             0.3,
             "#f1b6da"
            ],
            [
             0.4,
             "#fde0ef"
            ],
            [
             0.5,
             "#f7f7f7"
            ],
            [
             0.6,
             "#e6f5d0"
            ],
            [
             0.7,
             "#b8e186"
            ],
            [
             0.8,
             "#7fbc41"
            ],
            [
             0.9,
             "#4d9221"
            ],
            [
             1,
             "#276419"
            ]
           ],
           "sequential": [
            [
             0,
             "#0d0887"
            ],
            [
             0.1111111111111111,
             "#46039f"
            ],
            [
             0.2222222222222222,
             "#7201a8"
            ],
            [
             0.3333333333333333,
             "#9c179e"
            ],
            [
             0.4444444444444444,
             "#bd3786"
            ],
            [
             0.5555555555555556,
             "#d8576b"
            ],
            [
             0.6666666666666666,
             "#ed7953"
            ],
            [
             0.7777777777777778,
             "#fb9f3a"
            ],
            [
             0.8888888888888888,
             "#fdca26"
            ],
            [
             1,
             "#f0f921"
            ]
           ],
           "sequentialminus": [
            [
             0,
             "#0d0887"
            ],
            [
             0.1111111111111111,
             "#46039f"
            ],
            [
             0.2222222222222222,
             "#7201a8"
            ],
            [
             0.3333333333333333,
             "#9c179e"
            ],
            [
             0.4444444444444444,
             "#bd3786"
            ],
            [
             0.5555555555555556,
             "#d8576b"
            ],
            [
             0.6666666666666666,
             "#ed7953"
            ],
            [
             0.7777777777777778,
             "#fb9f3a"
            ],
            [
             0.8888888888888888,
             "#fdca26"
            ],
            [
             1,
             "#f0f921"
            ]
           ]
          },
          "colorway": [
           "#636efa",
           "#EF553B",
           "#00cc96",
           "#ab63fa",
           "#FFA15A",
           "#19d3f3",
           "#FF6692",
           "#B6E880",
           "#FF97FF",
           "#FECB52"
          ],
          "font": {
           "color": "#2a3f5f"
          },
          "geo": {
           "bgcolor": "white",
           "lakecolor": "white",
           "landcolor": "#E5ECF6",
           "showlakes": true,
           "showland": true,
           "subunitcolor": "white"
          },
          "hoverlabel": {
           "align": "left"
          },
          "hovermode": "closest",
          "mapbox": {
           "style": "light"
          },
          "paper_bgcolor": "white",
          "plot_bgcolor": "#E5ECF6",
          "polar": {
           "angularaxis": {
            "gridcolor": "white",
            "linecolor": "white",
            "ticks": ""
           },
           "bgcolor": "#E5ECF6",
           "radialaxis": {
            "gridcolor": "white",
            "linecolor": "white",
            "ticks": ""
           }
          },
          "scene": {
           "xaxis": {
            "backgroundcolor": "#E5ECF6",
            "gridcolor": "white",
            "gridwidth": 2,
            "linecolor": "white",
            "showbackground": true,
            "ticks": "",
            "zerolinecolor": "white"
           },
           "yaxis": {
            "backgroundcolor": "#E5ECF6",
            "gridcolor": "white",
            "gridwidth": 2,
            "linecolor": "white",
            "showbackground": true,
            "ticks": "",
            "zerolinecolor": "white"
           },
           "zaxis": {
            "backgroundcolor": "#E5ECF6",
            "gridcolor": "white",
            "gridwidth": 2,
            "linecolor": "white",
            "showbackground": true,
            "ticks": "",
            "zerolinecolor": "white"
           }
          },
          "shapedefaults": {
           "line": {
            "color": "#2a3f5f"
           }
          },
          "ternary": {
           "aaxis": {
            "gridcolor": "white",
            "linecolor": "white",
            "ticks": ""
           },
           "baxis": {
            "gridcolor": "white",
            "linecolor": "white",
            "ticks": ""
           },
           "bgcolor": "#E5ECF6",
           "caxis": {
            "gridcolor": "white",
            "linecolor": "white",
            "ticks": ""
           }
          },
          "title": {
           "x": 0.05
          },
          "xaxis": {
           "automargin": true,
           "gridcolor": "white",
           "linecolor": "white",
           "ticks": "",
           "title": {
            "standoff": 15
           },
           "zerolinecolor": "white",
           "zerolinewidth": 2
          },
          "yaxis": {
           "automargin": true,
           "gridcolor": "white",
           "linecolor": "white",
           "ticks": "",
           "title": {
            "standoff": 15
           },
           "zerolinecolor": "white",
           "zerolinewidth": 2
          }
         }
        }
       }
      },
      "text/html": [
       "<div>\n",
       "        \n",
       "        \n",
       "            <div id=\"ebc89057-63f1-4488-9d72-81a86694d112\" class=\"plotly-graph-div\" style=\"height:525px; width:100%;\"></div>\n",
       "            <script type=\"text/javascript\">\n",
       "                require([\"plotly\"], function(Plotly) {\n",
       "                    window.PLOTLYENV=window.PLOTLYENV || {};\n",
       "                    \n",
       "                if (document.getElementById(\"ebc89057-63f1-4488-9d72-81a86694d112\")) {\n",
       "                    Plotly.newPlot(\n",
       "                        'ebc89057-63f1-4488-9d72-81a86694d112',\n",
       "                        [{\"contours\": {\"coloring\": \"heatmap\"}, \"type\": \"histogram2dcontour\", \"x\": [1.152546791222012, -0.7370399500843016, 0.6993221104291064, 0.4264867902984868, 0.6063172996570473, -0.9266661500858345, 2.0935093402192386, 0.6318013459595805, 0.4095248559729628, -0.022201958975300987, -0.8942302280310265, -0.4817404057452254, 0.3805064856476494, 0.10253107303155841, -2.7827124175913993, 1.5979246929324016, 0.9961175741342574, -1.7816895783634765, -0.07813829765420528, 0.7426921560539741, -1.1444352231227064, -0.8751875361433372, 0.2770109943614443, -1.9053533913332956, -0.775064761751138, -0.1725258703008309, 0.5004773507290724, -0.33205589672239383, 0.18560746579755213, -0.7029597443713418, -0.9210507595515767, 0.6607134100939032, -1.2140328624471586, 0.5974865263211587, -0.7065265667721977, -0.08210155721996884, -0.3040124668269388, 1.1996851082679612, 1.7610614404201437, -2.5081458596215827, 0.8245654676019054, -1.2960245257489684, 1.5635900615470957, 1.5020553825422385, -1.455941412838057, -2.400250847848283, -1.659817972360161, -0.9090582627864575, -1.0141214470355664, 0.556953127441688, -0.7992811721288292, 1.0840021249247265, -1.6825500506102948, -0.1624400491054101, 1.3348554133909747, 0.4164355222454636, 0.7130226214491435, 0.20234184319723697, 0.772262246530208, -0.47170784589525044, 0.721188737213422, 0.8142832066393654, 2.160567743593026, 0.7227682842459232, 0.6466947695018972, 0.5049150642927293, 1.6560681158116042, 1.3155893577606426, -0.9498706903833197, 1.268694902273891, 1.1857989166388068, 1.3546861655522853, -2.7692137204257152, 0.10330612147716994, -0.518754047835244, -1.5974932616452873, -0.27444122961719036, -0.3230708273417084, 0.9980280022126632, 1.3641880300743023, -1.9257047261998037, -0.05745073876598651, 0.20683833334251797, 1.332872666777252, 0.7221172477879156, 0.6661555122602384, -1.5613758360586856, -0.12336080858368113, -1.4441958095781557, 0.1774067119112596, 0.45039763328174404, 1.0255194822859655, -0.18025762604482792, 0.0697632247418607, 0.12420525693749347, -0.12006086349473433, -0.7062479616375621, -0.9336450791554151, 0.16936128686739724, -0.2022505217278325, -0.5211991721288327, -0.9851933896756913, -0.12946701404585004, 1.5569001608864907, 0.29397576395043573, -1.7318368532140753, -0.4127279334060745, -0.9809410201839255, 0.12384100208680748, 1.1996178248351763, -1.413890533909005, -1.0231975624967193, 0.7182343479117016, -1.7506316380629616, 1.7282976349360268, -0.3901243828249314, -0.3491446326342405, 0.7083090004130702, -0.442816587325228, -0.1545059503621476, 0.04167939324489844, 1.8434338727718425, -1.8164790326264169, -0.008193015221022478, 0.8910714970136602, 0.2986524931435756, 0.9860452124470759, 0.925552770841494, -1.5307720701624405, 0.775273145907985, -0.4980491137728628, 0.8309833137599708, 0.9263912024114069, -1.1732863692729867, -0.7498827160813805, -1.0020470717663321, 0.7443269253226841, 0.09322190535267265, 0.3057869426776777, 1.5752234918235475, 0.8283520731395724, -1.0488120482340806, 1.0041193302797784, 0.3947955546411656, 0.7642859431813049, -0.35885901195577774, -0.5522797757124234, -0.3189478175729652, 0.08052127922552953, 0.18132602691363503, 1.2671197956498612, -1.1059156098662721, -0.13025289720205013, 0.8681419569064899, 0.030397882072806717, 0.23286995589824372, -0.2728213316144635, -1.9953625971016584, -1.205361919385081, -1.002528003071727, -1.36782734333787, 1.349540234600784, 0.18812944215483185, -0.22870746320756785, 0.2346338260975645, 0.34523936718763204, 0.004308260558035633, 0.5185829013921177, 1.2642962256392316, 0.24069879608687209, -0.5183106945098369, 0.40294705959142907, -0.8455852420076054, 1.4971579650596398, -1.4435174230680783, -0.2901868085365506, -1.2787668052203718, 0.9225408697537049, 1.2673026677572814, -1.6951277998884953, -0.9297315748534418, 0.05643093629606839, 0.4537534375474726, -1.2947095808158824, 2.124335515766928, 0.9939360900634399, -1.0069064545472513, -0.2787916954897312, -0.7744079059396192, -1.6287125998825762, -0.6544769044637359, 2.8627523525965524, -1.198585321684777, -2.1905925664160373, -0.029041222904893516, -1.102772550141819, -0.442124865672348, 0.5410925925586652, -0.2355484625780725, 0.4840477021867882, 0.6821410977090282, -1.4852905819076694, 0.38690420014717425, 0.685094165729011, 0.38778834957728425, -0.143296408618015, 0.9320287017865605, 0.4370828132897788, 1.8171651312792296, 0.47902679182711183, -0.2057411209172835, 0.15165091626292498, 0.6055879731353354, 0.33037761753898265, -0.4680932174469599, 1.2563705192961623, 2.3278366036321736, 0.725098159362943, -1.415457361060728, 0.44957601851690315, -0.09105177102060845, 0.46954585036380586, -1.284949937782445, 0.5115327802930941, 0.05874076396466593, 0.8926582704520095, -0.7485469007526189, -0.15770747501678642, 0.9642348132560977, -0.4672266784568882, -0.5391275206730429, -2.0092381385441698, -0.49729547575645966, -0.9597557921145086, -0.22557160130957835, 2.4490387344019227, 0.8577154750228775, 0.5552301103142513, 0.6098076730519949, -1.2156290250912902, -0.9905985613542202, 0.6764108121525154, 0.5122427611789929, -1.1598208106243288, 0.6533311589425983, 0.09258649802433007, 0.768515040718849, 0.0919859279654667, -1.9729081227532665, 1.1562331586534182, -1.0571542374155236, -0.6532230187335251, 0.5911909829591248, 0.4017214948853058, -0.4428335589307233, -0.1065297275488797, -0.6835498492656664, 1.3059256917911972, 0.9755365763155661, 0.7333713842222631, 0.2443795654074906, -0.8055943759740006, -0.9613220919506312, 0.7526676724253546, 1.4229653639182418, -1.8919572566364318, 0.9762452515834923, -0.305646970699555, 1.147894865514527, -0.8673452734265892, 0.9826624071092421, -0.41766567093019835, 0.3098862606463828, 0.3837862372337093, -0.9592406406968805, -1.3430701491975712, 1.014689679306253, 0.7281595586242209, 0.9859003308339103, -1.056758683247209, -0.6727018263142885, -1.2524754484190903, -0.1348895000258153, 0.07714363756737612, -0.25686873907964386, -0.046705383726622175, 0.33812501772542686, 0.39752404310253325, 1.0711183062432634, 1.9697719032934038, 0.06411397220961731, 0.7268700132456083, -0.7372517879185306, -0.4373469459649258, 0.0013726553235512324, 1.2395196240220827, 3.2622522641739473, 0.12436409970184112, 0.23517502192542664, -1.4456608493478786, 0.1965179145557991, -0.79993574673479, 0.4454922480642943, 0.13347571200206274, -1.0457811873503908, -1.0234900204488229, 0.40873431578103286, 0.4729239622197453, 1.251324172521653, 0.6016627560036237, -0.07496989961432136, -1.1020277863236823, -0.9651914797188268, -1.5356698731235947, -0.9780598901438131, 0.839934352758767, -1.1744785112656866, -0.713591265069294, -0.8446983096282714, -1.0317075867823224, 0.25740061378124646, 1.2305567772867907, 0.5777055133407284, -0.3915450782837435, -1.2925878477641415, 0.5901611942154811, 0.3942939610823489, -0.7668833411712195, 2.38178561765786, 0.41146838946640074, -0.79582582545164, 0.38125559781939655, 1.13833415089832, -0.08957270435948271, -1.7160497997437574, 0.9732206244547796, -0.8484765405519696, -0.016417379843589514, -0.8010196157461011, 1.2189142958554735, -0.3013054991111783, -1.309869832733838, 0.7868950967002148, 0.6622932437082542, 1.2277052548219158, -0.20998401243369635, -0.6301877515427989, -0.05927976543984331, 0.5603872315765156, 1.6501760401119527, -1.3701888364666985, 0.32991957007156336, 0.8549182429198043, 0.384830350812669, 1.1648848016783384, 0.4564099548282881, 0.540196617748343, -0.48876615366977916, -0.010978846864784429, -1.0493519718096394, -1.5341338035292043, 0.6523044874166768, 0.9119343399665606, -0.7454208979778534, 0.758492975183482, -1.2734613082161061, 0.5514030708599399, 1.3082241559004826, 0.5689062755950868, -0.48689420617426993, 0.9867232592891694, 0.4522263053912223, -0.7323514216431836, -0.023621915770410652, 0.5362537403940916, 2.1156226126762547, -1.344575593426909, -0.42113149518106235, 0.6547510986238292, -0.31026330054240153, -0.42685643838289034, -1.4402293267052129, -0.2873168463873898, -0.9491855483011348, 2.3600932718254066, 0.22650355912086684, -0.5225919058182282, 0.5651701104768944, -0.7972408967435544, -0.3081648987952384, -0.711435401912784, 0.6709065278182977, -1.738480096812626, 2.1281016637983634, -0.5363232050432516, -0.7996922113615479, 2.3245644429649106, -0.6342209469741756, -0.29974617347632176, 0.5372892369018166, 0.07218678711934026, 0.9450887429497941, 0.8084581895832066, -1.2796507321893753, 0.852984393613751, -1.6210268038991644, -0.6613218052714692, -0.21128938421156002, -0.8627631586941668, 0.32183424396453697, 2.021988964109344, -1.078016570445192, -0.7097603338569154, 1.4837184435618171, 0.4702368759512663, -2.12409992585793, 0.6206307932329566, 1.0778652938209758, 0.6578539941075421, -0.24500672666375142, 0.3228640785993014, -0.8657761379163003, 1.7764094211130628, -0.9660133705650922, 0.1738515374433588, 0.31365159012431343, -2.2402564429462255, 1.2502313301914982, 0.25789057304793056, -1.400884591874982, -0.8208395218666079, -0.7420327412799778, -1.1648952018450227, 0.5729834832655182, -0.14473321151287644, -1.2051900442913093, -0.883613383454931, -2.5379152810628662, 0.33257730115450523, -0.48297393935728133, 0.29147716927750794, -0.29372662965592966, -1.8475474954586961, 0.1477903987309491, -0.48836687338697926, 0.6116080230355707, -0.20372488087648435, 0.738138989668209, 1.84897291033393, -0.40605133674001426, 0.16224830063745685, -1.0362143903181795, -0.6643777164679691, 1.4454619829300746, 0.43317233825123347, -1.4965307267853998, 0.9803919410375826, -0.5299176124553804, 0.2095949847325801, -0.7607292379492876, 0.22888051642728507, 1.1127891232604026, 0.053631043624210756, 2.144225681132775, -3.1079861987203783, -1.436201312117516, -0.03185075189321315, -0.14216238524168412, 1.2327272311841306, -1.7152408944578428, 0.14357674379365154, -0.09626702397354701, -3.398807925285652, -1.2975203939460869, 0.10749114765386895, 0.5727220349588846, 1.293191062561167, 0.7991333502500568, -0.24113906868600188, -0.6148339841552948, 0.1641408766929524, 0.7126896959515505, -1.2650557517334526, -1.388497125289844, 0.011789440538542313, -0.8328542934222427, 0.6401044054378999, -1.6147279647778292, -0.33990303922639403, -0.09403446014646229, -0.5450762667029694, -0.3083267763365318, -0.6255854239605211, 0.22873516733459612, 1.1060268344125401, 1.159220375155377, -1.8414048032931918, 0.11935043394930839, -1.168235972502739, -1.2442565684276825, 0.5954564561432837, 0.7673506476841365, -0.6909811264354414, 0.2724451305321715, 0.34301397384272264, -0.9253701759100662, 0.9229089070578279, -0.43381006087106644, 1.1892371434873727, 0.893583697846812, 2.5189727252868996, -0.5672959361157464, 0.8198715786159901, 0.13456643461890178, 0.6201911751668422, -0.2913531736412864, -0.20483038710286, -1.1719642427172907, -0.8569356737004411, 0.2365217346217846, 0.7115988310312201, -0.9787021859537897, 0.7996705653101849, 2.3137542204770583, 0.14835835262585317, 0.23116700786799277, -0.6493694105694906, 0.18034723258721305, -0.4700874701131557, -0.3161740899132331, -1.2677356764684056, -0.9780841067906564, 2.3496333235518065, 0.4663103804373333, 0.09123500987404111, -1.8527537280380406, -0.743144013986019, 1.1827629606893204, 1.300048297384857, -0.26711116142850333, 0.034514031271499226, 0.6106225171705207, -0.5708306526663378, -0.08894483755738024, 0.728202284242823, -0.15600158959590546, 0.5562197982563676, -0.07102043120004356, -0.003283815193994162, -1.2787129125468544, -0.10129949254444351, 0.4745390890168643, -0.12963306267640268, 0.23201085644235148, 1.124344134997806, -1.3425298884035688, -0.013007087697657816, -0.7918754227710105, -1.524083719905721, 0.13306718260093656, -0.9371581232061313, -0.03924876479740951, 0.5011715593454114, -0.787823592771566, -1.381262624797102, -1.9235294610171367, 0.6650234820833099, 2.1346895587448125, 1.1643051454182658, -1.4490936662586684, 1.5997898286430965, -1.0157288488426917, -0.8848406827405876, -0.5565702734215884, -0.134524793957796, 0.309265053339059, -0.3818600236459313, 0.1844073397321306, 1.059603560885201, 0.6254634675804215, 0.10320332592637929, 0.3638899750527005, 0.5642905305270065, -1.992161027284728, -0.8964075294337371, 1.0279029694013615, -0.1671526434841901, 2.1791453903545714, 1.9921064814744538, -1.1350726555441668, -0.5850335507787637, -0.8120784410013282, -0.16884847287806368, 0.5008210036774814, 1.484080041124809, -0.45034248021609125, -0.6459729932009095, -0.9956469339584477, 0.9978626672246803, 1.3751965467596043, -0.5290195362975731, -2.512933827017696, 0.8612223972662527, -0.6016329790989341, -1.2993872036790197, 0.6211912938598859, -2.141011775559256, 0.6959414273230562, 0.3970499530689876, 0.31733011090452773, -1.9232404629812105, -0.36455017034730774, -0.532807646236423, 1.0964350665303482, -0.4887336034139148, 0.06983923084966848, 0.34217870679933754, -1.407942887530287, 0.5424118206644162, 0.6023510430108792, -0.8187615853958137, 0.0028376159542113553, 0.3952574001736576, -0.20252939134694248, 1.7529445625857827, 0.14547212893170067, -0.2552428470367834, -0.990938528041455, -0.981844065892855, -2.006798501431243, -1.2414088189822179, -0.7108290290315581, 0.2418894388103198, -1.18484303135052, -0.201859025643727, -0.2622592843820966, 1.4676293830237785, -0.24289959395091176, -0.04660487093836513, -1.278665205339113, 0.07661703148185413, 0.23767971355945347, 0.4748104117516315, 1.8357280260662872, -0.8133426482515941, -0.16361959037749088, 0.9082278941307855, 0.509926322338997, 1.1498734142239615, -0.15837015219290107, 0.39675186896031384, 0.3467990299829797, -0.06264972816252483, 0.9607615953300553, -0.30093352014634966, 1.9286620229130655, -0.05550023841760419, -1.1395093248491568, -0.3455064497753759, -0.2107365405214748, 0.7904706416144074, 0.9692491222401204, -0.9352770676484149, 0.8784867419902772, -1.3104529728815186, 0.948139444526615, 0.9734042013452125, -2.4668030523548192, -0.9737745580057596, 3.1428020739362443, -1.068934834259572, -0.5508545894712235, -1.0206907812119859, -0.5428501154358479, -0.1775704877285997, -0.5391341197020159, 1.2415948896340463, -0.6669218518737149, -0.27447282190070893, -0.09580141191176672, 0.9506161583152726, -0.5551588237584328, -0.49317565181048373, -0.2327702436355657, 0.6650738115785395, 0.6763485934486829, -0.5846555102950337, 0.6387922915695403, 0.5768389682631061, 1.5570428568730943, -0.772163717274672, -1.7060497504888066, -0.02352220808400045, -1.1710464643853202, 0.08534279796383999, -0.989296715566966, 0.32024545575036006, 2.5859615512239773, 0.31202748782410133, 1.2413189797000945, 0.8613989147383609, -0.8337011781798626, -1.2719696501318938, 0.26798199661795885, 0.8051888756866256, -1.0508881234718124, 0.0020232395056088265, 1.4161037161489363, 0.5940621010077066, -0.2075394804774101, -0.004803234328867703, -2.3083658809765897, 0.06803575513405222, 0.7190807536338749, 0.058696506655736974, -0.9549906118024014, 0.5323768120185614, -0.22820905317156912, -0.5770274784142873, 0.5821827868068112, -0.43915977462787664, 0.26438668375861685, 1.115276767141305, -0.30134024159948025, -1.1121415111133421, 0.15465208948566114, 1.350820198766197, 0.7509912913769715, -0.06144275602033257, -0.08651916202237075, 0.8992778532602379, -0.36711111127277596, 0.72255539067097, 0.1959153963504628, 0.14625687649277164, -1.1973269120910992, 0.40679394905768773, 1.016326156871808, 0.6179776188875066, -1.1342229241204447, -1.7225243700049175, 0.09473142597769889, 0.31410089475174396, -0.3711124384574565, -0.6681873664475048, 0.027840342306719088, -0.14769755371347548, -0.11628690854322629, 1.1681852876333485, -1.512963587036903, 2.0571212871970745, -0.6041131098512103, 0.838337360403475, -0.7266409136127562, 0.8856824724237227, -0.9739892023060143, -0.31521929081932615, 1.2474813134369303, -0.30405464149868244, -0.30088298061274626, 2.4212360860104147, -1.2793760039851263, 1.253386011136396, -0.6849041371280511, 0.3279931015545742, -0.8383141838347998, 0.6651655023146792, 0.4894179711735725, 0.01710737927729761, 0.8360934905885719, 0.31458201303185757, -1.1065598314241882, 0.30266211278644933, 1.6673477126030054, 0.001101045351825895, 0.20045245843416246, 1.0003088948581793, -0.6086924806573942, 0.23506085568712504, 0.13909471388250544, 0.18977260521057313, 1.1828183842368098, -1.9511161833444208, 0.3302940257960211, -0.04085328729983681, 0.08841334776964488, -0.3616040285025427, 1.7126002475706092, 0.845205336530139, 0.6704628381774052, 0.15048943531259812, 0.9676079661212691, 2.009201928539606, -0.5372152535337883, -0.35621936102100293, 0.0637703029224342, -0.8728342160281073, 1.06202987128552, -0.41144461911291047, 1.2626607557144194, 0.3890517650179341, 1.646395173146291, 0.7642042541252305, -0.3276023819071012, -0.22063271962068337, -1.563977815157442, 1.0173347073609327, 2.138162785963922, 0.028796640651909223, 0.16887575619800854, 0.8792852195890866, -0.4613682063556425, 0.6611318796440061, -0.005557401202003697, -1.3361304513379026, -0.05692769271104998, 1.6267559218245846, 0.5892273127739436, 0.7962739611744948, -0.687877451551931, -0.340071700740505, 2.2690926965397997, 0.289430887664579, 0.5119562217920738, -0.02163794742637716, 0.7001708417246698, -1.529091632464278, 1.807781839520128, 0.430012098618446, -0.5786344919520775, -0.16106672320318904, 0.3947859459698327, -1.7740224463191634, -0.19648702842087348, -0.04173126429050309, -1.5855643302753255, 1.1378404323750382, -0.16525270072540976, 0.05608911991396274, 0.3160597362825191, 1.5107582078620216, -0.6484835120185677, 0.8954057945056846, -0.02186031001141333, 0.6488824528296497, -1.649650665168256, -0.20102826637851975, 0.3464773459863535, 0.2658967176626311, -1.0836986308625303, 2.731084161288676, -0.8096220762159688, -0.022785957633552442, -0.06581848018537606, 0.612088620421897, -1.6153248930579385, -0.32368511694139257, -0.39550677850872956, -0.3267896836303601, 0.015882225886522203, -0.261302313858551, -2.307320719708466, 0.10151866361391343, 0.31472455393770843, -0.6107010525479266, -0.8469718625142855, 0.7792059519950038, 0.34302424618392996, -0.7534589826740342, 0.6040032659966442, 1.2057687054897777, -0.0708297509621099, 0.43094058976887434, -1.2622837200362271, -0.5325818358170754, 0.8122807815713293, -1.6060267427249, 0.7628283635514905, 0.9262385812051137, -0.2467252950300738, -1.4319718152393037, 0.3838076754521465, -0.922178512461309, 0.5427770161126972, 0.5472528930470871, -0.6727551755212864, 1.890782437588625, -1.4108219378937172, 0.8044897560279048, 2.8226846265853904, 0.6464900481779583, -0.02068222917792895, -1.701111199790491, 0.3468033183467016, 0.6338810824140235, 0.22967126807137103, 0.6934992966098421, 1.1774919692821681, 0.8555398715625526, 0.40915288909293124, -0.0073291211304871914, 0.15433511798608096, -0.9526702472490112, -0.7411878975246885, 0.9838538096643359, -0.3863366032714195, 1.107382063193894, -0.11113721677278354, -0.035037888510207706, 0.28884111641193594, -1.3177741110890004, -0.4887937440309987, 0.33553596996898855, 0.5470883853413282, -0.14046417221301183, -0.3435538658345107, 1.0211158174179504, -0.1597763427732513, -0.7855625962628073, -1.0762188888420752, 0.7255628993258935, 0.5209053882352517, 0.6034814584664108, -0.5988271809390016, 1.4368449015192062, -0.12716430020976072, 0.15970782516537665, -0.232809849008697, -1.2754687535787637, -1.2071935393766564, -1.0373184735922139, 0.362341553590797, 1.5979114526705263, 0.7828866951010437, 0.8354539299947079, 1.4139051399723221, -0.2842089811921046, -0.018879881321417095, 0.6452082889450536, 1.6433474717025705, 1.1863764944445083, -0.5980691875416994, -0.11592192062756562, 0.14885518463789166, 0.6128467528640958, -0.433791267158611, -1.3255107376231714, 0.4244975929624891, -0.5379330906929496, -0.1710031337560576, -0.07610242208860846, -0.31226038119051913, -0.37388505147443746, 0.9165395396147232, -1.5265569248853115, 0.5392869537431004, 1.3485442014391227, -0.059849960600757354, -0.056567712229748775, -1.274461056359799, -0.715056240278575, 0.01674825663677028, 0.13449208032757304, -1.657682966834884, -0.9641057590713236, -0.21224151129536437, 1.4491718603540613, -1.2275558897854468, -0.03970426791463578, 0.22992131104304706, 1.1826117209170044, 1.9488072394476534, 1.5808753723774343, 1.8449599915830182, 0.5769768453857202, 1.481831758368459, -0.6535375452738719, 0.652251817981664, -1.6582437584210477, 1.120225644926101, -0.4790722391047021, 0.5358352997777369, 0.7639363284194365, -0.9963410151276424, 0.4973088199988619, -0.2890430531822414, 0.5424748858726931, -1.6302646134666172, 0.42883114775271525, 0.055351275833025175, -0.7042106860211121, 1.5543423449549083, 0.6071394242661348, -0.680527480961381, 0.07280734185320671, -0.3083111274971211, 0.2271641181892249, -0.3101927617059047, -0.24278394701748685, 0.5686118153018659, 0.6306547481773271, 0.5641516458709641, -1.6854025266206272, 0.47207877723928665, 0.5291493113691461, 0.351400807642833, 0.4877631688924384, 0.651639063238394, 0.4959777727336577, 0.036713704011555465, 0.07943016925856855, 1.1867093738077523, -0.4932877158474147, 1.3898338220889033, -0.22684720717335582, -1.3879022982674707, -1.860751609981323, -0.41905803941810615, -1.0597733492272434, 0.6339551113099728, 0.19202928008821019, -0.502406397462315, 1.2064996415179503, -0.20140972294459095, 0.9598102140805403, 2.1742460717049483, -1.2542802516138822, -0.19938827455615843, 0.8678405683311723, 0.9674295798271845, 2.8610377767242756, 0.014768118165623987, -0.4937919624744952, 1.0320013765170803, 0.07223831972730925, -1.6645103616180201, 0.2984402356443497, -1.4985825383591669, 1.3598716761971474, -0.01887192810273838, 0.0725823998006109, -0.5758141704721198, -1.2975273147521276, 1.4852846250693914, -0.9562204872830107, -0.20093195686994728, 0.37445119995285, 0.26000986853369584, 1.3426566953611179, -0.7153309222586024, -1.3257134356194584, -1.195792283152045, 1.3105007224628629, -0.1326078075824708, -0.8195584420731944, 0.2508370005624297, 0.5617514586129089, 0.8529210184671394, -1.208068733626737, -0.3833465418812282, 0.39017216628276435, 0.8411145626626655, 1.3568683231142908, -2.288996378347333, 0.1415272549361661, -0.3904188071923872, -4.2129561216954, 0.9638735643287257, 1.0861412110183717, -1.9040302028267067, 0.02317503996947193, -1.407534684617923, 0.5455685863086599, -1.5954100082682072, 1.4415664302889681, 0.7921801644972283, -0.10601373626705558, -0.5311525370081943, -1.2382375117718247, 1.0611489393983666, -1.3904898503264755, -1.1191330342038568, -1.4602686916446324, 0.05745074902394581, -0.8111445141335704, 0.5325599307881994, -0.9991859944967231, 2.149489567855584, 1.5892221076401007, -0.2219279159550459, 0.10692993688474739, -1.0439854031037297, 2.537675056023719, 1.3665049391236053, 0.7357603854895377, 1.3072084998979097, 1.2158897069315233, 2.6514738894600174, -0.5076668771578153, 0.5939715581385467, 0.5271017366643151, 0.09174322034069086, 1.5914914100095314, -1.1164236610085727, -0.33547761718822655, 0.36425234357617087, -1.2053175426710663, 1.4893763778259674, -1.1412993714210289, -1.1920698007623136, 0.3042784635539238, -0.10258748489164277, 1.5826385391120803, 1.8010940760000285, 0.18638799070008044, 0.13555212942566616, 0.6512765025682576, -0.1253878888171616, 2.131461983108554, -0.34421355358885447, 0.2596852617960854, -0.9762952194587845, 1.2221360254477256, -0.29901350721916686, 0.29685924935229774, -1.0185651874546988, 0.5504118395766223, 1.0114640045435683, -0.4254779856458929, -0.5402498764007498, -0.3558476174329047, 0.4079765530911452, 0.45226568655267635, -1.0002106168563312, 2.1241829366722382, -0.331928783241, 1.8492821558391437, 0.04009431728428549, -1.4260464536043689, -0.3274030664650063, -1.8191677809966644, 0.176828571915503, -0.7033635504149003, -0.03162564274157362, -0.7923355299218908, -0.49611003649231633, 0.6959285507047814, -1.9493512117235368, 1.8985637034673557, -0.12997879916833993, 0.0013486970566614978, -0.101730086106992, 0.38950279896084977, -0.33528073411208986, -0.2665249073668679, -1.1171632085743333, 0.4942284005554424, 1.4407293479664458, -0.31137362030263144, 0.4919214550163674, -0.09907407533344996, 0.4393326477501065, 0.5450417473702511, -0.4117068517640326, 0.2426029428314111, 0.37717179209508295, -1.2946361994458706, -0.5934751010870318, -0.36622925397134265, 0.26580637938702556, -0.6777081593424555, 1.3263220678938712, 0.11181334519898031, 0.12592494982063493, 0.586434404185486, -0.0151953387428774, -0.04757474408267661, 0.9499367363802909, -0.9861764756835811, -0.5408378194245134, 0.6449438932728697, 1.724027549959688, -0.6937999518901409, -0.5405707459605706, -0.6409547763406608, 0.7928808634494541, 1.3574766107753966, 0.9085367393028574, 1.1804414368979053, 0.8931278629422535, 1.8092978227144136, 0.7917190756449035, -1.111276373537329, 1.5583744066171017, 0.19195590936039916, -0.9705168858463116, -1.9039830878523751, 0.6227090325588462, -2.227611887175978, -0.527722506799397, 1.616157672291195, 1.057697507273253, 0.1979838993247995, 0.395841379145771, -1.4344526668672577, -0.5901945217409215, 1.2766760587385138, -0.7137690690848582, 0.3368254035192179, 2.4048304424802023, -1.1754386251003546, -1.3180502381708301, -1.8744278369665623, -0.17444428664933864, 0.2133656766614956, 0.003983807770407357, -0.5275061560682169, -0.38261953125224424, -0.8033141044698902, 0.9307223842938147, -0.4525319276376844, -0.18256971779641362, 2.20075497119147, 0.8555492180058804, -1.2131814574806234, -0.016744253862776892, 1.170008695179457, -0.36815469091666964, -0.5919154747180936, -1.5565160350061358, -0.15687609663309, 0.6195442193512972, -1.3661914160746944, -1.5116497678739698, 0.10513839691110341, -1.8787148652561745, -0.04942459360671143, -2.4399308488683262, -0.5483438290548861, -1.3442441717879725, 2.013349579512198, 0.17100404995213747, 0.800277190965589, 1.3175488224980958, 0.7072752895145651, -1.3297334228982713, -0.03384484271660122, 1.100936812505464, 0.36836243404661456, 1.0880722268418128, -0.3394736873225724, -1.2921263753743883, -0.366982763227189, -1.0083626726543093, -0.26843175738475966, -0.02838722367235584, -0.37996411381455064, -1.0954222984591184, -1.418283547220512, 2.633517520023089, 0.41760140023023173, -0.32390553994236493, -0.6775165968753104, -0.9040820140398312, -0.46571213855812577, -0.672295774273415, -1.1060486421673688, 0.5602210627322751, -0.09970189996808818, -0.7370028670519523, -1.0229633951870496, 1.5051482611690925, 0.3771687370715008, -1.3989234477288819, 0.5547031829149194, -0.5104119173164489, 1.4406621167800284, -0.11030752689182023, -0.147181840443346, -0.14097384989501374, 2.2748424423473503, 0.28026320084330997, -0.9542329260275738, 0.13087047690063486, -1.5685331365012944, -1.2448521836061328, -1.3190013396032993, 0.1541844824385299, 0.22793304759236083, -0.08165277684401397, 0.7985130137217141, 0.1371709204952531, 1.1017078512263305, -0.23833548170923224, 0.4356396634532475, -1.5221189336731875, 0.28504940677850676, -1.0728163299839253, -0.929275141612786, 0.3672112175978265, 0.06584852811107157, -1.3391606163333203, -0.7590858848395164, 0.09267894989668878, -0.7573160746429874, -1.2218864724210112, -1.0399215361377954, 1.6622616447039917, 1.9619218923119068, -0.19523484845066885, 1.025046623859655, -0.7808889056037387, 0.4994223599173124, 0.529438924321208, 0.5574573998955163, -0.34961000916279633, 1.1808018246533314, 0.39583711079203926, 0.07241179456643591, 1.7128144704435715, 1.0009839458364984, -1.792681440374667, 0.9195701071389271, 1.1804421310371238, -0.28888848105425935, 0.9169189407452817, 0.16140948021994544, -1.5015913682330797, -0.9443062050068521, -0.8688786699645838, 1.30560973399844, -1.4980352034866276, -0.0025328928599999277, 0.14674933109170415, -0.9069022077979352, 0.20953738160237564, -0.7611803582592507, -1.4028882772960325, 0.013760413036154646, 0.5621684476524652, 0.5745984958903568, 0.30381633713496065, -0.5849501786189116, -0.34369541673478055, -0.9758501477845578, 0.9749439831759247, 1.2079538548124995, -0.7800410158406759, 0.4310027219221291, 0.12586403890992265, 0.561989877141811, 0.6331811458787903, -0.13631733764859666, 2.1095072456483246, -0.32117710192978366, -0.9557364062986987, -1.4631132855226017, 1.215023572600138, 0.5607948559987562, -0.22511962728531995, 0.3580942165958841, -1.1310875203353175, -2.3436690598545686, 0.005815402257036128, 0.3747460730689684, -0.06072712545797918, -0.048021639955490254, -0.31225080545654477, -0.9504007068429159, -0.5167889745226154, -1.214259803021866, 0.4583114965709305, -1.6582125258460705, -1.326220071539565, 1.2592929350310467, -2.368570695084377, 0.5175053486956321, -0.30404160715412903, 0.8112640237076019, -0.1843966991271158, 0.03048678408220428, 1.18529683227866, 2.7239778259956857, -0.6951179187409314, -1.1263386197265248, 0.5292780823119773, 0.11474706690668418, 1.8879738791850182, 1.8167642370934003, -0.6308853684898662, -0.0636691860168729, -0.3116891109220481, -2.0415725219390777, 1.2034137329713093, -1.316911354759518, 0.2023289295861853, -2.8299827292804793, 0.9160990883624136, 1.0472607788190766, -0.5392164291161566, -1.2600937449488805, 1.1226353371403928, -0.44841268218941516, -0.45984135646991486, 2.051990113709105, -1.566155203853308, -0.16547354771974546, 0.2116622549320087, 0.05882744063708607, -0.46594006754285067, 0.48322617285208647, -1.1074851139380022, 0.22198799908813602, 1.0906867343343725, 2.2814203983616026, 0.0815113552798416, -0.2367563531175384, -0.5243158772013633, 0.2717171691304793, 0.4987611999062551, 0.026291191426340316, -0.4967364255352449, 1.3581338614695544, -1.1923841738962142, 0.27545258150439295, 2.492545178024051, -0.282887194614645, -1.402861119473655, 0.17097197439356326, 0.08238644818549444, 2.0999395694263066, 0.30482974722390493, 0.46492180651973153, 0.3768149035903265, 0.8812579779564637, 0.16602074012059223, -2.0509743901462048, 0.6577573538977665, -0.14597339773543733, 0.2628245567796615, -0.23514752418795948, -0.7046645575450917, -1.246965544887261, -0.2168441483894102, 0.3616813570034935, 0.05383424934609756, -0.07736958813499248, 1.2449185552400848, 0.26693386396994606, 0.5790969903796406, 0.676504095514266, -1.1731619951283654, 1.3007007178737389, 0.5860196280352195, -1.4088215884542437, 0.8603475502955513, 0.29245391873339366, -0.1696092499323584, -1.4141627841561597, 0.48069487811717926, -0.34104433144856994, -0.26127282385893347, 0.70067075628148, 0.2667903661466085, 1.229303647435279, 0.19824249151976758, -0.3570369236315642, -0.8706490689662829, 1.2280430272198246, 0.6222283237332242, -1.4621840390604524, -1.0533368652731958, -0.4171355422537869, -0.328264621153431, 2.1674152554942605, 0.272132668139579, -1.4104227923710717, -0.6011489071549511, -1.1393104297755572, 1.6535586862730558, 0.4038244408888193, -0.6146413064416181, 0.073657119346105, 0.5942923372694005, -0.47822930636043093, 0.19073006432308037, 0.025130430257808745, 0.033862998546147806, -0.040877278664421146, -0.20891479087505976, 0.18933013273441038, 0.35035102886443853, 0.22082201025161596, 0.510893136345477, 1.1807790410357917, 0.4907721118179804, 0.2275691723811052, 0.06621605777365795, -0.3056424793497921, 0.43876336483877754, -1.269632657689617, -0.182051293415719, 1.1426010331515373, 1.3370820907115204, 0.6254741698267995, -0.5065539987686202, 0.7233402631262641, -1.2629286341518, -1.670182482759563, 0.12677558759305413, -2.6266516651887653, -0.520799966073207, 0.9369232902998019, 0.2801796003920542, -0.70323091648113, -0.9704813983200156, 0.011356348116442528, 0.4966567627537941, 0.9846022082264851, 0.637987066466301, -0.4325126449887407, -0.7750140835782577, -0.6369362646980907, 0.24425486479289782, -1.0342045791942438, 0.5969125453413464, -0.05106947210346452, -0.2477026510448354, -0.28589175568073144, -0.20731333224972665, 0.5729090657546534, -0.7428522968522885, -0.19128699678832295, 2.0416497800738775, 0.054540109582987856, 1.6521923949073292, -0.7138245907799082, -0.20917495991058513, 0.20021323801925572, 0.8810303560117538, -0.7279175909672954, -0.14730692996833428, 0.08339174513293905, -1.3865771820669617, 0.9779898082300191, 0.8066072367910371, 0.2372109081940844, 0.11441704678514125, 0.626746963653835, 1.4952957844877797, -0.7972550352605836, 0.04835434161292159, -2.7692593211847907, -1.3752272429927437, 1.9193868157711098, -0.9328506020252874, 0.5939490368524474, -1.079568589451931, 0.18480990340707842, 0.6326641646074549, 0.197427947641814, -0.3939584721867786, 0.14104755672878927, -0.5838503390334591, 1.4059512127634926, 0.0948128584783743, -0.40748106154583547, -0.005915271585605974, 1.748876096998198, -1.0390089394428415, 0.36665844988088575, 1.2974612998080235, -0.849928604277483, -0.4128067318865876, 1.641349014983064, -0.4778718772841628, -0.1867808009976987, -1.169410993079307, 1.1779697288774937, 1.4228542149091536, 0.9334434437074437, -0.9125197981101955, -1.064757426471644, 0.38810672269958, 1.0695189268597738, 0.425246779585569, -0.9854609516687058, -0.19720926107484482, 0.2201317516783242, 0.9911501468608893, 0.7255810423188019, 2.0648158889306765, -0.5194915448607414, 2.066639804029373, 1.1961194119446545, -0.10412723445528115, -0.46991916696438757, 0.7870229655950841, 1.7589071393129556, 0.546501356822595, -1.2624869055949655, 0.5069282706961721, 2.1804996669455265, 0.07242423770177284, 0.7704736339749824, -0.9900511078553523, 0.15614424251499062, -1.721518352687393, -0.13030853441577536, 0.0010286851675667351, -0.24877031851504808, -1.0063468377850886, 0.09647552016862651, -1.1476477950743238, -0.10666316938982173, 0.7710421618772761, 0.7922703700685804, -0.7315121063064045, -2.8838543957880614, -1.3716893569911068, 0.7480938586216911, 1.0727256487591685, 0.7556061042160078, -0.569710937960718, -0.2572286558201384, 0.6612014976945597, 0.6872284839208533, -0.7676758604740248, 1.0768845366719304, 1.876256666253043, 0.02503037789950774, -0.08051042599657673, -0.37228033048148534, 0.528686332445205, 0.2806930373117171, 0.28303830756254555, -0.6610236746296789, -1.4763720632866817, 0.4560189266726886, -0.5039925593971786, 0.2581964461548919, -1.4648123465370693, 1.4932899976330045, -1.0799365208244496, 0.054559273836520615, -1.1306625536900647, -0.09813823214962726, -0.3745709308875171, -2.047146067835456, 0.8994109703654587, 0.9188490923830214, 0.40606104821339417, -0.49575598402750887, -1.8573856051394957, -2.0121696580887707, 1.6739484444898365, -0.9584542531620102, 0.5798606118142224, -2.3526693579514775, -0.5299577680228179, 0.19143635862280575, -1.8449690785469168, -0.5777617276874916, -0.4845696809847296, -0.6616625203112892, -0.20109016827442341, -0.6282209604114846, 0.7752937910552843, -1.4164042241724444, 1.2014661477322799, -0.19666078500287543, 1.2916189848125033, -0.7194816491154908, -0.3532906729102711, -1.091604561824679, -1.6367437246605883, 0.9170929680164284, 2.582193578933481, 0.01410657945138658, -0.4175645365814485, 0.6501255343003968, 0.42409881504080704, -0.4949225427374735, -0.9411751336584238, 0.5577134415144482, -0.9030177942140664, 0.5170377598983321, -0.6674404603964206, 0.8376632105666031, 1.3939146225212105, 0.29288657371599797, -1.373468385420474, 0.5816703568431664, -2.06277664567349, -0.0648548953516463, -0.11309764132684032, 0.4435540256380173, -1.1589668431045486, -1.416656702826845, 2.1823383449207476, 0.5797828360744677, -0.9055225267410405, 0.5928200057025734, 1.3663635783023746, 2.181444133504116, 0.2566646431125985, 0.013114276899927104, 1.0085848218646363, -0.6507923808547258, -0.04788164305191231, -0.5365277640665024, -0.8281222947637028, -0.27318088954759945, 0.34031164210921805, -0.03927840307658409, 1.1430209799223376, -0.13508819694930388, 0.6809939613831009, 0.06214077003342647, -0.6484519594577315, -1.331214954522313, 1.4058799910728343, -0.3672762796401115, 2.1331277279171044, 0.20082866282639933, -0.677959788386725, 1.298776064723743, -0.1008294702606458, -0.13249570848841472, 0.0234710947071281, -0.4766282309892996, 0.22719044697743304, -0.16729940610539892, 0.40688326151676457, 0.23949333349405685, -0.6600189415894246, 1.0714433691024683, -0.008609084805457653, -0.6462007540781382, 0.13223151420112478, 0.5781679209095941, 1.8039814731217334, -0.6868628018007451, -0.5937328368915068, -0.062141622362935175, 0.3961874482956573, 0.2337404396293554, 1.141662273306519, 0.8521589677163276, 0.8784447533203725, -2.206819275719508, -0.14306652134288464, -0.8527134269053771, -0.8633197067559973, -0.040466241338246015, 0.3201620964585817, -0.8907527619852408, 0.43471341101081595, -0.3143796305598539, -2.2644063228597444, -0.7529450062769325, 0.8873902559467493, -0.11127453209392704, -0.0198423243612728, -0.1779094075694172, -0.25829735048141395, -1.1373181322327608, -0.3381382889331087, 0.042580870664553086, 1.2151678839696014, -0.9786277236367544, -0.15813234589720485, -0.13190939388474562, 1.4326035120066003, -1.0071230638424928, 0.4344995168921951, 0.8858129906900476, -0.7176305040488273, 0.1863452319398821, -2.0251575905727988, 1.0311080811048141, 0.5675366335152499, -1.3822158817753885, -2.1540224006476545, -1.7694693827494228, -1.5108363649330963, 0.0348989089061825, 0.8178636510907089, 0.1289144419882096, -0.8341883373771936, -0.17898130884239127, -0.3249405532971902, -0.437433182919335, 0.7071174848522802, -0.6147316268878226, 2.417639588177097, -1.0350273496340958, 0.10362915582061562, 0.24905532916206527, 0.4154791097071788, -0.7792190562410457, 0.35470638945491634, 0.27044450886285065, -1.6184844456311085, -1.7343311915381705, 0.4635177553683533, -0.18243609632214855, -0.2734826025122155, -0.04548019711808613, 1.5647088817369577, -0.5474681996804355, 0.16162619795808972, 0.75687325997892, 1.7527004050153865, 0.21888830969851217, -0.3433147008021146, -0.09090264342837337, 0.10662601728986625, -0.2347231962733783, -0.03241907298065123, -0.14378873913775347, 1.747710006995581, 1.0604148157521998, -0.5654672177463944, -0.20725290587697123, -1.7830079957511593, 0.19130714208017122, 0.1677951451052299, 0.2210009930374381, 0.695520759590195, 1.5095912492515142, -0.720076533158379, 0.008497939996099033, 0.31582403829316624, 0.22190102962217106, 1.2868137759942784, -0.813037117748235, -0.15930682713169927, 0.40307702247107374, 0.6193436646763653, 2.6352840706119776, 0.9691844145279619, -0.7114792665852916, 0.6656072536681217, 1.2285998477524336, 1.7417879947226955, -0.4441898460158809, 0.4634269969247364, 0.024821689035168914, -0.9333371690388076, 0.6827548802694402, -1.0136630426881421, -1.448717108602471, 0.5157299235570122, -0.7995673328018797, -1.3001675150152137, -0.874418805437889, -0.4260618575724494, -0.4223577085333401, -0.9112207407173613, 0.07943186630517174, 0.723427286579793, 0.9917323568127951, 0.2902186998377006, 1.1161794241304805, -0.08789547401764085, 0.14388429214153564, -0.2564683936640589, 0.9496540260934333, 0.9248997928046384, -0.6573122152556125, -0.6213176338022377, 0.9448180237507847, -0.7168660904873534, 0.5319143682060578, -0.2704725204840741, 1.1215789330744226, -2.2552556436544067, -0.03060023445472509, 1.7555069255488605, -1.0896559789063514, -0.9349603437281755, -0.12937279375250255, 0.23164421727346876, -1.7765697538278051, 1.0311356005524792, -0.9753686664372283, -0.3496927309759738, 0.17858536419584162, 0.25344302622753084, -0.8926118296192264, -0.36870732091013686, 0.6667049868384005, -0.48197083800725254, 1.7577281306421872, 1.5892573401871901, -0.8643103644198191, 0.0400985086376306, 0.21940790934096413, 1.0662600017995376, -0.7744012358481515, 1.0210089819163197, 0.6685631784980495, -0.8281411031734398, -1.3417394124318631, 0.4054508248317672, 0.01736082480645343, 0.12304024195463951, -0.29107165353892683, -0.9041828303322312, 1.0937616766865912, -0.6818904381271316, -2.582703457228564, -0.2876266461706517, 0.5867634364184438, -0.05210560930864459, -0.5465820455502399, 1.3053300575430193, 0.27579987995995825, -0.6477609588352577, -0.43527893397424133, 0.35185343256234825, 0.9348342351146378, -0.3895691601701128, -1.139383371700629, 0.7632230296828555, -1.2723657901704262, 0.04173727637241506, -0.9754607574535862, -0.8334980011771718, 1.6355375893244588, -0.9704000710791515, 1.9353218790426798, 1.9127026917897236, -0.03207098343211398, -0.20989469932188357, 0.6126499604914174, 0.9235233847798476, 0.7750965842385713, -1.2466408059293603, 0.7652857939221829, 0.3485706479093674, -0.5162425483688634, -0.44453068779403476, 0.40488504960299576, 0.12125359930754676, 0.670732006400923, 0.051348451075442815, -1.7062642234551697, -1.061362301441095, -0.933279916858411, -0.44719764744604096, 0.6035618741805098, 0.7395639872857154, -0.08687826639469087, 2.0192225121681298, 0.8656353586567126, 0.9231750145208419, 0.4622469066940701, 0.6897363036426313, -0.10846348159248065, -0.6283233583819804, 0.33769746876926354, -1.3060963531630734, 1.4397767659094385, 0.9145295064034866, -0.8655622697602801, 2.7423625240207894, -0.8636177105359252, -1.0583262304641334, -0.9626381626981761, -1.3224990215532384, -0.6099835092772912, 0.05601478428578912, 0.1702326337076188, 0.009607472877664327, -0.7106404064675363, 0.7548047018021917, 0.96839523061399, -0.22228257953250385, 0.3635263701084436, -0.516686005485859, -0.5275471604292976, 3.234348799649425, -1.0802221514971082, 1.6505233965180477, 1.580391495026916, -1.193154271271104, -0.1384665829129428, 1.7043298333253538, -0.8641921552686852, 1.9355893242541844, 1.9459167829423745, 0.2350465393372376, -0.44330080205427613, 0.01763781098192395, -1.6227467699530655, 1.1200190627208328, -0.9618312599210894, -0.06755084261338555], \"y\": [0.3000965337558242, -0.6622060422627833, -0.6255454807639107, -0.24671511643986768, -0.6714747746936721, -0.4360082529291445, 0.6145040984469414, -2.860954640338079, 0.17558997772807503, -1.5862004149027202, 1.198109606792879, 0.7665080545601795, -0.507459506305366, 0.9921464324731367, 0.43087198460522697, 0.443594468862559, -0.02560932446399946, -1.2571275045538621, 0.5841954464993808, -0.75188341071366, 0.552675062324356, 0.8169151910794679, -0.9236714023903445, 0.4620005081730469, 0.6523196543266234, -0.022522371043274054, 0.6133577017378952, -0.950786018201875, 0.3244309519454992, 0.26772449009009436, -0.38441550036265054, -0.812637501715616, -0.5698442258886488, -1.0836091593124861, 0.7825112036933256, -1.2492950570662549, 0.7691466587011834, -0.4668789262802108, -1.8287931396127337, -1.1647893385051558, 0.25999332861021546, -1.8501408093521576, -1.512533767429815, -1.0650023338562364, -0.6652934250537913, -0.545382248312073, 0.5420475738650817, -1.3921525924963187, 0.6066051274738851, -0.6161652293982794, 0.35001602985900915, -0.5463365924466214, 0.5007707849644665, -0.10780168936124859, -0.11731231476354499, 1.2054569352657916, 0.6061374223856343, 0.5675985589087075, 0.7113657275875482, -0.1844325427041221, 1.2182599194899204, -0.6504355039406811, -0.589923124073727, 0.4187466348107679, 0.4840026523358317, -0.46298657298120094, -1.610607811800595, -0.12001858555854975, 0.7070778753155859, -0.6004867117661746, -0.028886515526639133, 1.6525947758660593, -0.16601512914682293, 0.8520815301730631, 0.821608324035881, -0.3317777351044744, 0.03864540398274388, 0.4857819881990711, -1.7071605662687745, 0.18077595881157368, -0.7148908336917146, 0.32982351581499336, 1.8237892864928251, -0.8324423106192601, -0.4423279297264777, -1.059447505459557, -0.5953955025297858, 1.2097390853035404, 0.5420825218612197, -0.1646252969498541, -0.1998095372185911, -0.2508330244971629, 2.9110192061246276, 1.2164738479558166, -0.4310689793716912, -1.9354633143097235, 0.7716505429144108, 2.0562465251148403, -0.3704366162221528, -0.5360104647485238, -0.5997609816748237, -0.16848531574821188, -0.023392635255922164, -0.07588684302083958, -0.3562321858470732, -1.2359795949730876, -0.031833980450831495, -0.25787402768824214, -0.11984433964392911, 1.5009082407325751, 0.659697616313674, -0.9994161353272216, 0.8948065396209894, 0.038446196230463706, -0.8712141202964525, 0.3170419612098258, -0.43984461484888443, 1.0891320607745771, -0.47998390590350415, -0.6314594859845669, -1.7479263460848586, -1.509873141878387, 1.2017880578590465, 1.3014826647537552, -0.06123971938976598, 0.6043584198960321, 1.965928864483165, -0.33170664409511497, -0.07872998586132925, 0.9984941396553529, -0.35927633854420415, 1.3945205981567557, 0.9236338188626007, -0.7336717351860301, 1.9293326810624358, 1.4781786684593519, -2.1478290342771684, -1.3143013216234927, 0.12329630440272556, 0.7504685563816519, 0.6283217692237331, 0.6627122994961895, -0.642609074008479, 1.3489174345924417, 0.36336863547156195, 0.36413096785742594, -0.28005093697162486, -0.4699097550806751, -1.0736971893687701, 0.3950977451885334, -0.3278867216708752, -0.10546431117825099, 0.4587070065610349, -0.65340865188872, 0.006107077895869637, 0.11948920544312448, 0.21577332307658736, 0.5082217979236703, -1.2166220166952442, -0.03859111519567607, -0.1390026826746915, 0.4526876757947997, -0.3997118109080042, 0.6981874130690366, 0.2605910881006682, 0.5309728516115519, -0.6662874625938394, -2.048385149866087, 1.2394210718086496, 1.1410770879430774, -0.20033547728300266, -0.5408633704033107, -1.8726993579625428, 0.580107445881817, 1.4577573399674553, 0.5973466294174727, 0.6241616777714127, -1.5590109725820243, -0.7634034281662548, -0.9064764458922066, 0.08464216784788361, -0.7223875927085862, 1.4529773027403614, 1.2967424303487882, 0.3023538254105902, 0.7004566991586241, 0.018607665849684863, 0.1429461704733975, 0.6157226073960557, -1.5902217760111668, 1.693089215905571, -0.9393567912524463, 0.4789072419025591, -0.09477696570316589, -0.051347154271863316, -1.074113723548934, -1.882245397642388, -0.5571870682797838, -0.5720111790726128, -0.5174384173837708, -0.35523974056706165, -1.1640888617615284, 0.31668846351235963, -0.21850243488164414, 0.16538391279045933, -1.7954584479407683, -0.3747657439240893, 0.9833580006201057, 0.37813421759098303, -0.10361894234488786, 1.589092398270833, 0.08229796179227518, -0.6600009062427287, 0.6145286691676337, 2.380467175197941, 0.29138880399205636, 0.61803157821157, 2.3623465346493244, 0.7165813160798976, -0.21494129536707843, 0.48925533606470517, 0.6529165975461874, 2.1180539967241248, -0.6941836742117943, 0.3146463195651609, 1.3969231144205978, 0.8070657021552265, 0.886937914714607, -0.3439205949565988, -0.5643874159699409, -1.2297926381938251, 0.10491425152593836, -1.8649270547345005, -1.2891959072388335, -1.326414139380523, 1.578089375663216, 0.4522777932627522, 1.9920843801072947, -1.803277084347039, 0.38641162664971385, 1.0786205215322988, -0.25235609940907305, 0.4122180350623475, -1.4566365074848353, -0.9022994698957753, 0.07838320228552617, 1.7486774296923953, 0.021307711856408486, 0.40141641066703865, -0.0029450352722528842, 1.2044687788164579, 0.7208461333365749, -0.3425850913969502, -0.8551150076672209, -0.02988516294914262, -0.3666366089575686, 0.7057695339343635, -0.823186694558676, 0.686157511656028, 1.5673745291661274, -0.20323461698245202, 0.8167823779329451, 1.0452622426658627, -0.2778020783330923, -1.649940754759397, -1.8135835902468505, 0.7772507091260056, -1.7206376930596223, -2.1749710396756616, 1.1247714241282807, 0.6153112199198738, -1.1556020970433427, -1.1913219475016812, 0.038849740126815344, -1.2690672350919812, -0.04329778778174044, -0.6629289914257308, 0.4177854807685212, 0.22753685303922785, 0.02708479269304928, 1.3348998154474445, -0.43046513469200737, -1.0932381837919196, 0.49754246685932346, 0.5086388097640699, -1.1414607673708075, -0.6762485971256533, -0.11745918002124824, -1.152821611093572, -0.6983795754570912, -0.5225002269189287, 0.3497610958231352, 1.6794774505080121, 0.8707597129485565, 0.8827246424109162, -1.2351525280149922, -0.0157599393773304, 0.09704946873776261, 1.3703847702657228, 0.9120787374014809, -0.38755862059117263, 0.5485205637376899, 0.3042054721999129, 1.5432760574162852, -1.0942224684092088, 0.77196716299773, -0.18756505938612533, -0.034704073913039556, 0.8221947913977694, -2.1276949916473518, 0.12982176692125988, 2.1937966368710646, 2.139311619913967, 0.48442466664552203, 1.5217703503585969, 2.1129636147066564, -1.0829914771975968, -0.6776855992197287, 0.4778794856245995, -0.11615554153665139, 1.0000796735916702, 0.4792102220266998, -1.7007672773357576, -1.1368706799815718, -1.0578452240270622, 1.5281445657103734, 0.12940638033615853, -0.12746977281487196, -1.2244838454328602, 0.5062793935122472, 2.942339798703422, -1.5275638804403473, 0.31335074109873295, -0.32560041911245824, -0.8521888835184834, -0.5608778330957874, -0.2880909862130461, 0.34197781886617, -0.011725895338222124, 1.022856073849384, 1.6556140790663028, 0.9784733161529762, -0.15875369084579077, -0.15261749933538302, 2.320346795209393, 0.8216401268991659, 1.9888942651971546, 0.08640759398484318, -1.0142071585398207, -0.4477655775221203, 0.1784645022527957, 1.9611680257742155, -2.0196656126215378, -0.6078739085429158, -0.9297356427246422, 1.0449017774727867, 0.8023098280057497, -0.7176104246391589, -0.00415448456361441, 1.887937803331563, 1.5215399983719369, -0.21624946981102808, -0.09485656354882463, 0.21625851913479116, 0.9993126890136829, -1.0407561800742287, -0.5520161405306738, -0.717948870768211, -0.971832418138069, 1.0476217283044518, -0.9623525590154298, -0.5290934474848548, -0.4716260977951499, -0.1287674949828575, -0.006253557988255923, 0.16399705929072914, 1.4619296017178212, -1.4040350894093978, -2.407197424729574, -0.10891587987151999, 1.264969820996261, -0.26816467789596216, -0.2772065122157676, 0.7338676296826216, -0.8576027707408136, -1.1136620050813306, 0.04636662631493915, 0.5470526329305402, 0.3937983222429867, -0.4934234573091285, -1.7883514148083755, 1.5660220112015781, 0.45395579769810024, -0.2758002048014602, 0.059729521961174974, 1.1428204388858512, 0.5659256922715341, -0.2456658073016655, -1.4969235368546403, -0.3433114173904529, -1.0660606954155047, 0.3661312942810044, 0.3359144394683781, -0.1017623537858684, 1.4131667821972809, 0.17489069805965687, 0.9008382350838119, -0.2774086483083402, -0.31064748075214393, -0.2657280725838553, 1.0928308414663737, 0.31661945866266517, -0.9128315355537538, 1.1909531271295613, -0.00697030444781099, -0.6579221594398444, 0.48681793392894845, 0.11746705887864896, 1.1203831255946002, -0.11960013289185904, 0.025031402817319724, -1.2234862918603042, -1.278301455593156, -2.128374611960122, -0.8845929187492445, -0.3732215071329268, 0.9369366469291903, -1.5752327082924196, -1.2436061070253859, 3.188047590611553, 0.3027548377555539, -0.7247104532471094, -0.09973394708027161, -0.9532111634914058, 0.18788422661545093, 0.6855782783093999, -1.6593508566554802, 0.4187449256021565, -1.5752975421322493, -0.6702878058335691, 0.3615788537692024, 1.6823369310528493, -0.24016889361721058, -0.5732677332604732, 1.752596153699116, 0.39149812461555733, -0.07995565770446579, -0.23328184469800992, 0.17587891469010722, -0.6172450698655484, 0.6445966652077249, 0.10103442272060162, 1.7347257115465102, 1.7806662961797601, -0.1938558080599387, 0.2397216146416673, 0.6763869430810064, -0.34231045817138883, -1.119616199377268, 0.00462878839181791, -1.0717199160526145, -1.4366769157047194, 0.045831589631815495, 1.1541468233661003, -0.981004507941493, 1.0180732872828133, 0.47226253825676534, -2.305745670240027, -0.7072000252768729, 0.32851709587178735, -0.25153263941751797, -0.3924442879075363, -1.1303317127458918, 0.07941862548267314, -0.5969145117857448, -0.7638377377722322, -1.1869569887258125, -0.9465142452206949, 1.4705902074355155, 0.8473276408521941, -2.4191470236510413, -0.6773599529462588, 0.7284848190080727, -0.9253129012513994, 1.063886986347232, 1.5845093246985154, -0.782746175393006, 1.6735849379196732, -0.7465183408569328, 0.3351377946450067, 0.5699138927191375, -0.682520366217551, -1.3570748487989086, -0.39598791392733684, 1.1809128437132943, -0.3660483575406652, 1.0481160328422492, -1.3074796683036016, 0.17056392783514102, -0.6821635636048302, 0.937400539338893, 0.035364580848501935, 0.5242686994488863, -0.9480252851683959, 0.4033279068930447, -0.2836750701814224, 1.744948806676534, -3.5446262474573556, 0.6682199327293077, 0.2981019422944905, -0.029110589617113845, 0.07958501406654596, 0.19475942051915, -0.4445868085773377, 1.7212982710454574, -0.2618481753949887, 2.6293653670050126, -3.029157894524853, 1.20930270057541, 0.057606821005230346, -1.6339402240412004, 0.3385028912460932, -0.7445750065207586, 0.07683560807644028, -1.4515709693707404, -0.3187783511974969, -0.464368731268909, -0.904420292327056, 0.5289684683138359, -0.6495164556684916, -0.083241037222575, 0.5550214315331422, 1.2225516356299588, -0.3479860759045742, 0.5530812387502952, -0.17586417343693359, 0.10091987917533717, -0.9745420005201629, 3.028436014804464, -1.9005796144509866, -0.10667131625234921, -0.4223255412999534, 0.17345123914961286, -0.5571196282622332, 0.4790047854809911, 0.274458622066195, 0.8617935569377103, 1.5035519093263163, 1.67391227598776, 1.481133271829295, -0.3575714860205165, 0.878153799235304, 0.03913200881133877, 1.0287598069945179, 0.2645733605028272, -1.2434082624316636, 0.13381174193393736, -0.22921294521052402, -0.23852050578170048, 2.318145404397662, -0.45047139286497656, 0.5450262553961036, -0.3928896176745221, 0.11827689949657975, -0.43031515278943655, 1.1372326429519943, -0.3274869589905798, 0.5214614782529591, -0.19011180538542335, 2.819968979943936, 0.19122144087028475, 0.3603385433122641, 0.19888460761301663, -0.1214774488008872, 0.13232368967751326, 0.2675755289520323, 0.05679178352154046, -1.9825909021777481, -0.49247900846904014, -0.7128107076420164, 3.2346993869704646, 0.3878989907978376, 0.17649646430764238, 0.1830963217359682, -0.5878491376496018, -1.5224190881663573, -1.7178627613939, -0.5696235189158492, -1.0757576091067393, -0.31448388166785407, -0.44938305691619773, 0.808321997859924, -0.8695044381757009, 0.9424456197382116, -0.39447323049755495, -1.138308457819718, 0.7982801154715211, 2.0458466368033394, -1.2771245242591098, -0.3501057374985777, -0.1967565250508591, 0.8120723136428043, 0.006281554306054073, 0.18778162950730082, -0.5258760156335168, 0.16604511321726248, 0.12829142106512453, 0.21919899308979818, -1.524394426887501, -0.4159600103581868, -1.0577930198796424, 1.0078469403097203, -1.5344051538196763, -0.6666560412881998, 0.1459541464187733, -1.0155204406813427, -1.1683951814927718, -0.5884605304070921, 0.7922992597956127, -0.62870339892056, -0.7815474211946751, -1.8228228940501061, 1.8222426163722965, 0.5130722429126072, 0.11199752527887362, -0.594613342050695, 2.1775697086603425, 0.3267392388681639, -0.2780692538393225, 0.17947086577158305, -0.8906879668552072, 2.3358638019918487, -2.350423454361674, 1.8553948364586745, 1.4997873358897311, -1.6067104246199795, -1.6731040950959553, 0.7076880170209751, 0.507739568714019, 0.34149096816223506, 1.025600644794461, 0.5304077323829749, 1.1517050259667183, -1.4686756284920155, -1.9430266646676004, -0.8836935503286035, -1.3015825391996658, 1.7279912647104334, 2.4165466652321665, 0.06538394928313518, 1.5319507813307498, 0.9774296671951446, 0.17721700884270308, 0.3666589011171379, -1.650239735758663, 0.2673247646197328, 0.4529587240750453, -0.7256861939745157, -0.11692621987543204, 0.8356430335708326, 0.08319060254482125, -0.684044207051324, -0.6789112504493583, 0.275081017817397, -1.6478610550283095, 0.9216840422386389, 1.3661538813338605, -0.12327800362518117, -0.1225056790673047, 0.4957319340001226, -3.0092555377703194, 0.34667939505315143, 0.0778782460549943, -0.26607100401830647, -0.5440308354492275, -1.7321365046253292, -0.33598550076549094, 0.6158470050071189, -2.26485390270602, -1.9950473313467783, -0.589272624220585, -1.339384312596419, -1.745477966262482, 0.06014603085530819, 0.10779687195398052, -0.542724501864808, -1.0258666022591738, 1.0383761469769106, -0.10522420014006906, -1.0925280155451664, -0.499472026000626, -1.0667879545000951, 0.4358227384729053, -0.6458581795032757, 1.0414037138221903, -1.637433828843948, 0.1979432051011812, -0.7739989773571927, 2.757987419797681, -0.6494977098712184, 0.594328058224819, -0.38509589909328723, 0.6657198383589705, 2.624274695736214, -1.345131752933393, -1.5167176724474933, 0.036204387996247624, 1.590548523178604, -0.5964691773866301, -0.39528037384547254, 1.3604503760991662, 1.1886567639297616, -1.226760985581291, -0.35984872646893834, 0.5242662835096515, 0.28847368785327687, 0.999609633905385, -1.119550573000042, -0.04918349967034368, -0.22393250659531386, 1.3549986835589696, 0.6588599030475646, -0.4291618670451682, 0.022501675447632968, -0.2764770118257481, -0.39738008423828874, 0.8200167243036821, 0.34683081188896286, -0.2992120256696344, -0.4490849343938408, -0.2991916903150262, -1.5706337979402247, 0.8997443759615131, 0.7382451841268531, 0.3682217432941136, 0.23505104091349976, 0.4349033264090058, 0.09004685194823281, 0.4199636073847622, -0.5764085242840037, -0.08792959219114437, 0.582955524084023, 0.6934169289629681, 1.2277871449274325, -0.5093235749982176, -1.5154993328875346, -0.15649412095632595, -0.3093703526618702, -1.0857080488497624, 1.6062823141692257, -1.111218912702154, -1.9771034818758664, -0.948156348352355, 1.3506759430084354, 0.5986041790930153, -0.8830749608118195, 1.0392200514510044, 1.1674853572303256, -0.9122004896421182, 1.8194205096603973, -0.9415992543569978, 0.7362473020674493, -0.4185414891116474, 1.8026978084048892, -0.7423178508117393, 1.7564853234009774, 0.11416489077680335, -0.25240039921955487, -2.2394533824229437, -0.6503141256063626, -1.4668341972360892, 0.6882227181071225, 1.6571418084289726, -1.130362999437417, 0.34223169626064653, 0.06383855000427135, 0.1322825774520104, 1.0476302247127312, 1.9287804767058454, 1.9275630386119524, -1.892006367488687, -0.24555071953598384, -0.32819586032700443, -0.003725799309202896, 0.3428299980772545, 0.20361106739616244, 1.1360601266651857, -0.7825256809266253, 1.5350217266224513, 0.2647274701537899, -1.4668288783366659, 0.8287279716853622, -0.3785215942325941, 1.3656659827812634, 0.8661389396239623, -1.118255634518565, -1.0198316080070524, 0.4704143150536626, -0.6024215238053815, -0.05963652078360807, 2.117838672159037, -0.010694943740466086, 0.11361300129399149, 0.8116390840133013, -0.8932927713372554, 2.1161619057772825, -0.25621474979539066, 1.9414388577640602, 0.784940740802411, 0.7206227008587276, 0.002802419518649457, -0.04407573714923375, -0.3984812332974388, 0.06642027015419101, -0.18296856725063512, -1.6998987019142127, -0.011248210000823022, -0.5292308831635902, 1.9658983137125665, -1.6564175470346993, 0.5997042652925455, 0.3884053283723698, 0.9108736597492276, 2.0886184783648933, 0.3458648549374735, -1.5764527260785122, -1.6200104383110556, -0.6440104071943888, -0.47735116956689577, 0.015269907805966246, 0.6494341543106551, 0.047796062416089, -1.5106746379351126, 0.6357103849773172, 0.9373360766841223, 0.06178878353176169, 0.6529679086154799, 1.3605714903290171, 0.391537554110335, -0.3860974014614505, 1.1322731151849683, 1.1656944505369935, -0.30210251858816684, -0.564989428945951, -0.31388899102598955, 0.9739824091958967, 0.6438753488557601, -0.30970407694920477, -0.5678001676670309, 0.18314123502039453, 0.5407650005154883, 0.5700371385142012, -0.30828683103004306, 1.1639127421004258, 0.1395701460945526, 1.203738179968304, -1.4916111082931154, -0.43626987405757295, 0.17669913116223565, -0.8007040431691989, 0.5255402730386088, 1.6455557782748154, 0.8955558297516747, 0.16493733120125162, -0.5958739624053755, -0.6182992243257311, -1.3883176361741623, 0.3537798745011771, -0.5960470481698271, -1.4904504420676072, 0.8027015221066071, -1.1519862435134065, 0.14645351726353317, 2.2379960305082287, 0.8218530565448399, 1.4379156053954845, 0.5617903980962838, 0.3773718091141812, -1.685980055983562, 1.001510105471823, 0.9079142551880052, -1.4352123398246286, -0.19217970855177444, 2.000569357246832, 0.5660528352405897, -1.0486331980299621, -0.14688430360966062, -2.5369102431521036, -0.03769138258752432, -0.15998102843146783, -0.653176483876173, -0.1388612877312301, 0.265717574145675, -1.0707562427543351, 0.9949064912077022, 0.41170951692936464, -0.06465152584649692, -0.5702923868264961, 2.78135142281774, -0.21516187873486892, -1.0187645547139268, 0.6218438874469219, -0.9685654477261417, -2.002917202728024, 1.3294135568096397, 0.9168552592626303, -0.7456594935822463, -0.9352217012065916, -1.7435303956300514, 0.8688940456787911, 1.4873600965037241, 0.14097350811317186, 0.6815458106407345, 1.6491205386131433, -1.4217884218124102, 1.006042291803432, -0.9363900288712943, 0.3573628939185281, 1.7049975232989476, -1.0629050090498966, 0.9324475717133867, -1.1101478574323551, -0.5245645547293104, -0.5742228039946019, -0.6555861958592287, 0.5407290817373781, -1.1028202394456064, -0.995438131643143, -0.6749703833101083, -1.341727187854198, -1.684241592725115, -0.6655553058900453, -0.32423334026484185, 0.034467843655275075, 2.31433428171849, 0.04793726636934433, 1.729709626129629, -0.49759529412547693, -0.5336621320279641, -0.9212249087039001, 0.4689607052675922, 1.1057574797605754, 1.5641898484377152, 0.3786235749702807, -0.10155219829093498, -3.3854207903681006, -1.2335011196949812, -0.25361562904709556, 0.6864294278390484, 0.9211086801004926, -1.4975611545479128, -0.3845765980951739, -1.537195409697672, 2.6986184870448375, -0.32103911021870457, -0.7251965772783956, 0.25331010737635695, -0.11014123741940657, 1.420644378560037, 0.24101872261819524, -0.03932364239268024, -0.5239689099484174, 0.645603622624388, -1.965995366337817, 2.514151129693074, 1.462323555819678, 1.823993345338868, -0.2541437476572842, -1.1346289884170961, 1.082680598944245, -1.2292183035274484, 0.8199615146996405, 1.2522921855531282, 1.594841845291984, 0.5127856317428903, 0.5003583148369337, 1.512124869249513, -0.2515630839986148, -1.767425110525496, 1.7005009327623228, -1.2866161747910876, 1.0933385138014948, -0.9163182514030599, -0.04688396879198591, 0.6821980243221573, -0.026910710993480302, -0.9831797476820195, 1.4355066519399517, 0.5155516114954903, 0.10667559808969655, -0.8411664410905924, -0.6278900405824083, 0.9125171075866673, -0.8451148885707622, -0.32179952943705015, 0.507114162170305, -0.4140591980402332, 2.8097493958794377, -1.7679942979065253, -0.5721039734132318, 1.2931484182656696, 0.04966121209156876, 0.744975955791401, 1.380765752411507, -0.09913258611707818, -0.0173910455224437, -0.26210793327733833, 0.7025012802388676, -0.2676980290426366, 1.183745688959957, -0.30081252750805065, 1.1302899155582529, 0.12616991501464422, 0.21576623617202045, -0.9834346650223821, -1.5661059886221966, -0.9159722122701872, -0.687738881103709, -0.8783393694861409, 0.13142141503454097, -0.999799513032423, 1.3017091155615572, 0.6249833259209676, -0.11978667318288742, -1.6292311640901365, -0.359777909757133, 2.3849881417929364, 0.2869900502241777, 1.4796244451981895, 0.3914927718849549, -0.4644079714633704, 0.3138550256411204, -0.7294720829936936, 0.8778292432518824, 0.5100299867180582, -1.6033996341909769, -1.7556474223254064, 0.03476573785462707, -1.0991837072808495, 0.011168969514864416, -0.4445738202776282, 0.2907260945091732, 0.4872393039860094, -0.3999412403791589, -0.24153190514226466, -0.03454279934533933, 2.3387097581289864, 2.075086188575638, 1.0692478258041267, -0.10894477056580423, 1.1242745292790137, -0.4601582054378134, 1.6186449179644091, 0.7256829513800732, -0.5726792763042593, -0.6897959173545347, -0.8915173630909315, 0.052102575888706135, 0.8983249264779419, 1.8745707941752674, 1.3181889173409727, 1.440041086665314, -0.9040115627597497, -0.24271191297650538, -1.4712139923821044, -0.188582347835469, 2.2455499854305674, -0.027270927885148847, -0.5409236894820948, -0.6674933900866732, 0.8511558607048925, 0.14571416315337882, 2.013803554569388, 0.04973900682950704, -0.7688088824404016, 0.3531143006912937, -1.1769891835036244, -1.3906873361924112, -0.07177601401075523, 0.1824648075063022, 0.27392022757742834, 0.8725228683546128, 0.15035304916552594, -0.02325706102937277, 0.45553076574080875, 0.5446700487025833, -0.3543470358396605, 0.5348897116400864, 1.5393243665122833, -1.9016119937946827, -0.3854211013457926, 2.2712556167825833, 1.1000678754984792, 1.119750150706362, -1.1086229210663883, -1.0303125780913684, -1.194505748085431, 0.5781763787372068, 2.033983409227629, 0.9240638059741844, 0.6706776468459335, -0.4309098280905014, 0.6901031428836937, -0.49657062746572056, -0.457718738543111, -1.0534920225402116, -0.4053582624783491, -1.0167215860610666, 0.47534836918890244, -0.6663822959386884, -0.7177213695661315, 1.271285485598453, 0.48593490484037066, -1.9985096442165906, -0.5077446771627225, 1.4099807306276197, 0.2795705513404788, -1.4313353597504725, -0.9058541687188303, -1.4584834204602142, 1.1100254931934577, 2.249049708674928, 0.5037119981188342, -1.6137311090608573, 0.9060583851389888, 0.1128316889983879, -0.17015422947524247, -0.21947735695051532, 0.0946504100863702, 0.5786329252824682, -1.6709282424947438, 0.09464889448752946, 1.3320816070232582, -0.05079402781996618, 1.5168528316094816, -1.5781274436796235, 0.8186581211689424, -0.8990328981079536, 2.412035583446264, 0.1797491084607588, 1.4869201405542094, -1.7993944607947898, -0.7858672165245022, -2.41450882006792, -1.7742384031721306, 2.047142100110566, -1.7271198532516694, -1.588954466305407, -0.28054700716837766, 2.0224975577390834, -0.024351233126666146, 0.3813789121963668, 0.25900820538864094, 0.9128957765228748, 0.9990911162766299, 0.9644330801966527, -2.538035929647335, -0.083059302323931, 1.7666135364556708, -0.3249410129095207, 0.7635748979440498, -0.3723501925035694, 0.25611603355229245, -0.8780863963656185, 0.2697952698665294, -0.35742706767721333, -0.9511095673927766, 0.9221578609584058, -0.24761031918152943, -0.9386176112744303, 0.12405570087841752, -1.0602265389454004, 1.208636245549967, 0.20989438774789743, -0.9848359599986255, -0.1932070364414215, -0.476997506039832, -1.0866062837947208, -0.4617022965593181, 0.2097049888137442, -0.030962241498154196, -1.111727732872041, 1.2147157514149813, 0.8184536786719924, 0.7454700882754394, 0.09039649093808752, -1.2631691177999207, -1.6279956498604802, -1.0383463804383446, 1.5498079586135867, 0.26951426373340404, 1.0167066414401487, -0.2576413445279091, -0.428374357280591, -1.1986379020259361, 1.3432376986638823, 0.06758946069492348, 0.16736885679162306, 0.6883769992093476, 1.2622863578400776, 1.4855465138941384, 0.4882826149276636, -0.7982460742927341, -0.6481341536707965, -1.1154650651894296, -0.55397937339361, 0.5230936692978522, -0.6477212205190713, 0.062267377361292085, 0.05911317653629764, 1.7479507540822536, -0.4192235749834473, 1.778771209541196, 0.5092834747224569, 1.151968104975515, 0.2316213043456976, 1.130087695738295, -0.32285567137279947, -0.06233264715569665, -0.07875802431664466, -1.2301065836667833, 0.8073132661552156, -0.8548891694286521, -0.22303999898989504, 0.03170306556802527, 0.8604327900444939, -0.3145791993203225, -0.4490406786280118, -0.8518450002820349, -0.9462929317553103, 0.4487814599676847, -1.2436874162412763, -0.10108163173099768, 0.54053015061433, -0.4406026515985268, -1.8560448909660365, 0.7022731277091714, -0.6963717158737831, -0.02564955317712126, 1.2800613155187552, -0.5660473051656085, -0.6618876233914646, 1.039268991333114, -0.18813550792452832, -0.533548730487009, -0.3743059432370249, 0.46341058481170555, -2.2143145239329125, 1.3476399821813818, -1.5907884815512454, 0.07994542396402331, 0.18019787588974318, 1.2758744383616445, -0.46786904729443485, 0.44351040858845253, 1.0480151279623207, -2.9552589067361974, -1.2106924781266166, -0.6080717798042827, -1.8380728196099152, 0.044235387919476996, 1.3083721583007688, -0.6214963483338817, 0.3502291743746289, 0.31927807082647575, 0.7924801991544612, 0.30192629239781565, 0.61234977011572, -2.365474283049725, 1.2807632519428562, -0.291214859972226, -1.4306455973918741, 0.9587272066324547, 0.1727647537928504, -0.05523629784918908, 0.37589273040557347, -0.845168942600053, 0.8345857934597704, 2.738887847324301, -0.7990396775118304, 0.35970814651863536, -0.38478782632429254, 0.3095560222054899, -0.33257091663189753, -0.06577167654313272, -1.4778163886771867, 0.530131075227013, -1.2672743066630034, 0.7991868892184326, 0.6763966447623296, -0.5141442921541565, -0.4829933112361459, -2.029406754280368, -0.12326422509780444, -0.08094519454532406, -1.5065701066101056, -0.5015131696616073, -0.41613080366165217, 1.0251910861265698, -1.6532317304070423, 0.568606586388852, 0.9461894062217283, -0.8193041738694347, 0.8115428984660485, -0.2559147570035117, -2.043684182544566, 0.4743153089828473, -0.23934574106135556, -1.1006891892802664, 0.2663169754583225, -0.32170344543012575, -1.6134649923054227, -2.1348708206822815, 0.40208231499261626, -0.44007797361201717, -1.0017005315819423, 0.8103024991730742, -0.7603566600432798, -1.3330016712641513, 1.0185874478262988, -0.4669284681600266, -0.7501103827075406, -1.9715997483497372, -1.0051580170416237, -0.24109227830511334, 1.0858083188913266, 0.27290606153594904, 0.44121970643068037, 0.44777029230666376, -0.8232646995033963, 0.9248948912058231, -1.9570003325432428, -0.8536427447386438, -0.02204989790487881, 0.8742105896899022, -0.24522161151307237, 0.21780913365379917, 0.8258348812356614, 0.3398385894578365, -0.9973386445559941, 0.7413741753324739, 0.5907200148566127, 1.4710422315919613, -0.39285817317953814, -0.44108380528104557, 0.020622914013210404, -0.5400085784854332, -0.7151238544748074, 0.6966349480473714, 0.7162181523626757, -0.01938470219879502, -1.2855046316897558, 0.32992889521706636, 1.3689747845992273, 0.9278501566320544, -0.45398903152916587, -0.49464870866846805, -1.3227057620207068, -2.1333580404633197, 0.05656481643202774, 0.2890843565029356, 0.9083999923633277, 0.1364371327139184, 1.0070652372873365, 0.4318012550568024, -0.1526743569665275, 1.0681289941530416, 0.3741856969969001, -0.3134784118174564, 1.2997646904950169, -0.3330436362315921, -0.22318061147738777, 0.7334108158795545, 0.19394613279297912, -0.11167427894923697, -1.9700431559178366, -1.4973627033203174, 0.8133139223522857, 0.7628401921085938, -0.23501802310697337, -1.2031808362288876, 1.1590228466375987, -0.06772798232812642, -0.08889441251509021, 0.7676910308610769, -0.41672407543522566, 0.32636909572484774, -1.243473179142381, -0.29790989441945864, 0.8925011036173087, 0.9251596575610579, -0.7395715089493227, 0.021233423318929953, 0.10384511957369977, -0.03497993348725333, -0.4359511673213006, 1.6229621862678845, -0.4706211783634847, 1.040522158214663, 0.4030463917525518, 1.0050437928739213, 0.615139174507343, 1.689400561357603, 1.7187655376737114, -1.4680377298053746, 1.052913194556844, 1.3262987149938295, 1.2205351723867495, -0.22862700326843197, 0.23695935337040308, -1.4428218365545022, 1.0927623600461345, -0.7473587305241655, -0.20346419090299442, -0.8581616907245354, -0.678326120884985, 1.1956815002819092, -0.27648321165898676, -0.0890794685436881, -2.053774976036317, -0.7294190976920055, -0.41612464818581624, -0.8028798607089611, -0.5545511347615437, 1.2643895961354896, 0.6136319519550816, -0.7501900776903898, -0.8539272041997746, -0.8800249481233363, 0.33428836670694323, 1.3928485821407028, 0.9921826855834963, 0.27923130559474846, -1.9006411528476168, -1.6752692531708133, 1.0652283136865677, 0.9740897940078862, -0.7139076737476459, 0.6642816581570236, 0.6808678711661657, -0.7065087414580424, -0.7195350720571345, 0.7161929042889641, -0.18462051847190586, -1.0945820626815757, 0.840133901049857, -0.484850191801133, -1.261776209814344, -0.42648869178497556, -0.2517668138376384, 0.7883975806075405, 0.7593336513851804, -1.000371114218278, 0.7254141017485374, 0.4058918980000507, 1.2277193331229213, 0.4784472510793952, 0.3723782752389136, -0.3791093927016261, 0.6404789030869273, -1.0923801282460786, 0.7679633003940655, -0.1497820726712073, -0.12380391056390554, 1.0024649372311565, 0.37159794466840773, -0.13447033587402438, 1.401144761159961, 0.08914179551330063, 0.1730452340220499, 0.01547084228613301, -0.5662425166021228, -0.48550487124843705, -0.17332805102530388, 0.9037698019550273, 0.2027258124473254, 0.5045907090641992, 0.72575831107409, -1.7767879433245923, 2.1349467216749916, -1.2952163200962168, 0.9753329895136559, -1.269630319005062, 1.3615040086112047, 0.9140315622559803, -0.03584530331147152, -0.5781127240279454, 1.241401387477026, -0.9314703361757481, -1.8314269970099988, 1.1462140500398859, 0.7669156464273037, -0.10661033849733076, 0.3865926664453478, 0.47623320147942677, 0.7145110003020245, 0.9723015059224468, 0.5075228648399311, 1.1026016604188256, -1.316038695725824, -0.6944621267177089, 0.10930207622647897, 0.03800531628785441, 1.9178375772796834, 0.2919274566916911, 1.3666427044379623, 1.8741805181777935, 0.5787220364383576, -0.04063463728721132, -2.030915021377018, 1.241232655478122, 1.6144818662034992, -0.3259906007768486, 0.6706334366909029, 1.2605685803000917, 0.39469514882550594, 0.11270766129075714, 0.5311978444153683, 0.13607665477289216, -2.0617471841733064, 1.286928657442384, -0.6659531231653086, 0.9718933720827598, 0.014481310600588795, 0.8710336541149715, -1.1093342343761767, 0.6445558024113244, 0.5468155408453387, -0.09756373470890611, -2.0324947911887254, -0.0968069051624039, -0.21484132556173127, 0.14712184810034212, -0.7820763174811285, 0.08180670826887589, -0.4788261937146483, 0.22815003651102503, -1.6049656810900934, 1.5935817652526412, 0.03309709824681222, -0.25114202157703797, 0.11202487665791287, 0.3861298509725211, 0.5222586039173898, 0.001448985951407824, 0.17360572192275386, 1.2640654249352317, -1.3471453342585273, -0.747131083336377, -1.0530077235057405, -0.1292260192090414, -0.2915750786558554, 1.2470704787128353, 0.8326956886442702, -0.07527212067753501, 0.8577113626920014, 0.8593279607385602, 1.6473472368180846, -1.5825370629854432, -1.7366729994468386, 0.6434710506671166, 0.13099443459753118, -1.0958761015463458, -0.08144647982510901, -0.5286326783964475, -1.8454540847420609, 1.466186861684458, 2.376060855411581, -0.4629370504722098, 1.079149731842824, -1.292587908203772, -1.4533340021247474, 0.7100516354150989, 0.43541633888582676, 0.07011808796130879, 0.3011725778060104, -0.06934922436057821, -2.2026507184798167, -0.35913564292502287, -2.3114789233079605, 0.11012095215692748, -0.026197251264377396, 0.06230749758264849, -0.523546214607716, -0.025831326569130127, 1.016949866196347, -0.6054731489510525, 0.29304769701950506, -1.2815569248892291, 1.8302280100376727, -0.06326033812778738, 2.0902668434939233, -0.3237274287157394, -0.47791394600174697, -0.4782085301163245, -0.6961111615836922, 1.3762348981135637, -0.619291243977868, 1.115161296012162, 0.16343423759147085, 1.0205524397812649, -0.4931063937313019, 0.7242744211739295, -1.986511568891589, 0.29111281399377975, -0.5352447013317213, -0.18580443230560656, -1.0913053427645012, 0.37239853273456586, 1.0769060901501595, 0.36443156556319906, 0.8780427719382524, -0.02453298824649211, -0.19523658828758766, -0.6972485191817804, -1.0030391758725508, -0.05142706095642019, -0.4403116247451662, -0.3805637595219524, -0.48752358918148747, -0.2577152091181055, 1.127676827808492, 1.3063923793200067, -2.1005375272090547, -0.8080368152106501, 0.42877553870726204, 1.229916429143129, -1.5038128202668217, 1.2758827203145044, -0.2681730257096876, -0.03966058059150911, 0.6793521847187608, -0.37710733254955536, 0.37355119976943313, 0.18928766459760454, 0.40767222881492565, 0.9216839224762832, 1.005559100246221, 0.5949228246104261, -0.5012014169503207, -1.281279571227391, -0.8176131544926392, 0.8244404174788688, 0.32862114979616486, 0.48560706004412246, -1.2615435273149467, -0.036222665694833366, 0.3872349241151004, -0.03316893843656378, 2.358648121450509, 0.7669587124913054, -1.1143695301407726, -0.3529324361826723, 0.6836109099388129, 1.2820869167472482, -0.582961552833753, 0.6658368197778262, -0.6260196921176532, -0.26779166689616474, 0.990125023779195, -1.5439052763760983, 1.4555780727995264, 0.33990022107879164, 0.44199386219098324, 0.9670382841662559, -0.4787481018721826, -0.24013307019393457, -1.3774449586235147, -0.7013554360192407, 0.40050241352557653, -0.23235224043997388, 0.7939284415812249, 0.8586283196136045, -1.146033036305083, 2.237118589628563, 0.2685063787054474, 1.2210271613754842, 0.7477937125188363, 0.3593432970417965, -0.03368197516481641, 0.5658284765765762, 0.26796120865590667, -1.553432921001717, 0.4521911671659747, 0.7494685325643908, -0.8406757852879909, -1.5605449159610174, 0.4607221146407505, 0.8384654418389003, -0.7048596759311285, -0.08398359834676809, 1.6771053294517213, 1.251217349165359, 1.1634507930867277, -0.48204108565194803, 0.7972626028776714, 0.1975951013407111, 0.7883947659756368, 0.535638894483501, -1.5342135615182855, 0.33829326072023774, 0.16894216580984123, -0.7937021278681532, -0.3533823514619475, 0.10151689542333141, 0.5947508594907025, 0.25064898188726165, 1.113867421641052, 0.4991919860044686, 0.9122059506406364, -0.3545524512439147, 1.065834916362699, 1.6046833941577414, -0.7362341431109961, 0.6895248484238409, 0.6116354702340345, -0.7481612302416446, 0.47775916460373696, -0.6541672425173441, 1.046918284210579, 0.7743685039335083, -0.032926532866684545, -2.759484711471035, -1.2715112351061173, 0.6007825135004307, -1.1077452455758872, 1.3875712565508436, -0.09181018803728591, -0.6186158635045067, -0.28522746203531135, 1.1619798363524447, -0.5074568467267948, 0.8036210693481777, -0.25165815405901, -0.2578648896175028, -1.438499279941401, -0.2913599175384296, 0.060817005671869, 1.3769956235748897, -0.1312486042425554, 0.4899056907268137, -0.3059039738544831, -0.605078723293003, -1.1038333306043606, -0.06193184256208062, -1.620890180396884, -0.25370060381137594, -0.568648351769695, 0.7170197114691567, 0.8021922497135143, 1.3359333343085824, -0.0860373744240186, 0.49858306912142586, 1.9159478128766971, -1.2709701274005367, -0.7260348342485287, -1.5595719483286337, 0.19567339529599082, 2.502553337980865, -2.2273518618442942, -1.3511922531355556, 0.347470301389285, -0.6143714898676501, 2.156052655459132, 0.5603468508055681, -1.6756688941854172, 1.1547934836217266, -0.5224455286283206, -1.9738333987602381, 1.5735252123066032, -1.0932606257825253, 1.2575007195823833, 0.5584843162303977, -0.08172164629305961, -0.3295044306680116, 0.25105738841459374, 0.05190099858705358, -0.9158532967266093, -1.805367044143394, -0.33455430813147463, 0.671327740893251, 0.32442605975097627, -1.9647477091816883, 1.5688426888257971, -0.15500231994008007, -0.272337393119179, 0.2713384650160146, 1.9300831696099845, 0.7112277866664484, -0.5661195283742967, -1.1368280777736803, 2.8287276923827376, 0.783876922763463, 0.268672582334275, 0.58598120728741, 0.41519476978092973, 1.413250223694653, 0.8707371040816789, 0.8478115454608791, 0.8416002410926312, -0.430514414309718, 0.6131170525973991, 0.9621160145825438, -0.20923743513372248, 0.8537460744702893, 0.9070947969591916, -1.2656141721391219, -0.4422765054649847, -0.8708076263967441, 0.042703946194250185, 0.469567433802472, 0.8899886598497615, -0.16242671064467082, 0.913094965863483, -0.33400685698561733, -1.3111079866795796, -0.5579561110726409, 0.6875756133561444, -0.2897534890361183, 2.015405972143198, -0.006942892687281079, -0.5153579783546884, 1.0331659657928982, -0.29088328191210466, 0.27645843724852065, -0.20005581897384875, 0.6431241634710569, -0.22645008723080012, 1.4565763079440635, 0.025392740666993173, -0.851102707914758, -0.15789577025249585, -0.7356281724486858, 0.2949719569018239, 0.04210357285318301, -0.2094825565727871, -0.03625574204715304, 1.8914412365531792, -1.1260012813242357, -0.21746222075724314, 0.18849867476288598, -0.9627814955561452, 1.1608356608084467, 1.8173103219847084, 0.483312501373453, 1.0013551018545517, 0.3264649418681868, 0.08449739772559432, 0.183965340122034, -0.5328236927237516, 0.3915043622604645, 0.49658242338867686, -0.16825185373832544, -0.2852908961424231, 0.6659652941572518, -0.41981427400405175, -0.7078164795912555, 1.0272959642286625, -0.85349264258082, -1.589065837288137, -1.2065105471474433, -0.8705950701212755, -0.9163122031999404, 1.701057051831151, 0.14421766293914695, 0.7453434772950237, -0.4939720841952424, 1.6138494846308569, 0.42932970425854544, 0.09032070041741252, 0.8957684625888735, 0.4712644251334752, -0.6190258766984522, 0.501638732151209, 2.3876551984882664, -1.4990081577290066, -1.357753531175594, -0.07129244464843751, -0.4462467636204637, -1.7421183153939177, -0.5656257479197417, 0.9061708473471233, 0.7142242041366987, -0.03307625526600524, -0.23762770057350127, 1.3928545699093653, -1.1404025633971036, -1.1145087880487703, 1.3994484971332548, -2.1125282159486947, 1.343724319272574, 0.5516219601435616, 0.8206106402328254, -0.19054784340157346, -0.05997798388283872, 1.0379977026320497, -0.7191237773774072, -1.5672922214153042, -1.0031821587229117, -0.2573925724554862, -3.1330944648612755, 0.17967371130263157, 1.8724752856515314, 2.180291776910062, -1.0529138612298263, 0.9390641203420305, 0.6570555746846487, 0.274439541762871, 0.5825727418818644, -2.149206102298741, -0.7383121709498279, -0.42243878330800577, -0.4153473503930798, -0.5165464705678887, 0.42445917641785963, 0.1750748714354799, 1.2282981139150595, -1.3412004572118048, -0.29789339102549484, 1.0827858532811008, -0.32604259850829664, 1.6761248565521067, 0.4813066539109912, -0.17771929484324653, 0.4655032069369809, 1.554826694947068, 2.5858738685560927, 1.6866532438568036, 0.1272878235214108, -0.5391779990224952, -0.709398895369875, 2.2123209889076025, 0.7736478701541167, 0.0816410684735492, -0.7651031650572263, -0.15937695950923278, -0.737772731505638, 0.6397914615908531, -0.2522049574733123, 0.6045748457570436, 0.4802672766630533, 1.5264727978866885, -0.7575411336154265, -0.4630711135015008, 0.301671385217551, -0.31527519636421564, -1.2646685797596082, 1.335944391543036, 0.6095823214858691, -0.174406029257218, 0.8522028257707622, -0.19832660188497242, -0.1470585591469562, -1.2000038660195083, 0.7446409485819391, 1.010706343057684, 0.020146130187663362, -0.7353203025031437, -2.0361736316152284, 0.7592945710515505, -1.430167208482014, -0.13094456853597064, -2.183753936668168, -0.02294332578377914, -1.1171912979298422, 1.4939098927455259, 0.6061364216260997, -2.155044437468747, 0.7751403387262858, -0.8003211101873121, 0.20963626678304065, 0.703099083938772, -0.3405672455466593, -0.5200978975474682, -0.45702258044052935, -0.8103352302220768, 2.9952827317118347, 0.4466261824006516, -0.07199197438760671, -1.196460728194086, 1.0215699055819742, -0.11597822248137206, -0.1143978420960033, 0.04182272509719269, 0.9737005459119855, 1.452004696972332, 0.16609742163570415, -0.20191212078980253, 0.3520594834349998, -0.2762236852751559, 0.9008242594784046, -0.8685525121430594, -0.9731694488289697, 2.365447884942671, -1.412846294547311, 1.0719012568083404, -0.25439454651222654, -0.34428985878375884, 1.358522503354922, -0.5933427785361537]}, {\"marker\": {\"color\": \"white\", \"opacity\": 0.3, \"size\": 3}, \"mode\": \"markers\", \"type\": \"scatter\", \"x\": [1.152546791222012, -0.7370399500843016, 0.6993221104291064, 0.4264867902984868, 0.6063172996570473, -0.9266661500858345, 2.0935093402192386, 0.6318013459595805, 0.4095248559729628, -0.022201958975300987, -0.8942302280310265, -0.4817404057452254, 0.3805064856476494, 0.10253107303155841, -2.7827124175913993, 1.5979246929324016, 0.9961175741342574, -1.7816895783634765, -0.07813829765420528, 0.7426921560539741, -1.1444352231227064, -0.8751875361433372, 0.2770109943614443, -1.9053533913332956, -0.775064761751138, -0.1725258703008309, 0.5004773507290724, -0.33205589672239383, 0.18560746579755213, -0.7029597443713418, -0.9210507595515767, 0.6607134100939032, -1.2140328624471586, 0.5974865263211587, -0.7065265667721977, -0.08210155721996884, -0.3040124668269388, 1.1996851082679612, 1.7610614404201437, -2.5081458596215827, 0.8245654676019054, -1.2960245257489684, 1.5635900615470957, 1.5020553825422385, -1.455941412838057, -2.400250847848283, -1.659817972360161, -0.9090582627864575, -1.0141214470355664, 0.556953127441688, -0.7992811721288292, 1.0840021249247265, -1.6825500506102948, -0.1624400491054101, 1.3348554133909747, 0.4164355222454636, 0.7130226214491435, 0.20234184319723697, 0.772262246530208, -0.47170784589525044, 0.721188737213422, 0.8142832066393654, 2.160567743593026, 0.7227682842459232, 0.6466947695018972, 0.5049150642927293, 1.6560681158116042, 1.3155893577606426, -0.9498706903833197, 1.268694902273891, 1.1857989166388068, 1.3546861655522853, -2.7692137204257152, 0.10330612147716994, -0.518754047835244, -1.5974932616452873, -0.27444122961719036, -0.3230708273417084, 0.9980280022126632, 1.3641880300743023, -1.9257047261998037, -0.05745073876598651, 0.20683833334251797, 1.332872666777252, 0.7221172477879156, 0.6661555122602384, -1.5613758360586856, -0.12336080858368113, -1.4441958095781557, 0.1774067119112596, 0.45039763328174404, 1.0255194822859655, -0.18025762604482792, 0.0697632247418607, 0.12420525693749347, -0.12006086349473433, -0.7062479616375621, -0.9336450791554151, 0.16936128686739724, -0.2022505217278325, -0.5211991721288327, -0.9851933896756913, -0.12946701404585004, 1.5569001608864907, 0.29397576395043573, -1.7318368532140753, -0.4127279334060745, -0.9809410201839255, 0.12384100208680748, 1.1996178248351763, -1.413890533909005, -1.0231975624967193, 0.7182343479117016, -1.7506316380629616, 1.7282976349360268, -0.3901243828249314, -0.3491446326342405, 0.7083090004130702, -0.442816587325228, -0.1545059503621476, 0.04167939324489844, 1.8434338727718425, -1.8164790326264169, -0.008193015221022478, 0.8910714970136602, 0.2986524931435756, 0.9860452124470759, 0.925552770841494, -1.5307720701624405, 0.775273145907985, -0.4980491137728628, 0.8309833137599708, 0.9263912024114069, -1.1732863692729867, -0.7498827160813805, -1.0020470717663321, 0.7443269253226841, 0.09322190535267265, 0.3057869426776777, 1.5752234918235475, 0.8283520731395724, -1.0488120482340806, 1.0041193302797784, 0.3947955546411656, 0.7642859431813049, -0.35885901195577774, -0.5522797757124234, -0.3189478175729652, 0.08052127922552953, 0.18132602691363503, 1.2671197956498612, -1.1059156098662721, -0.13025289720205013, 0.8681419569064899, 0.030397882072806717, 0.23286995589824372, -0.2728213316144635, -1.9953625971016584, -1.205361919385081, -1.002528003071727, -1.36782734333787, 1.349540234600784, 0.18812944215483185, -0.22870746320756785, 0.2346338260975645, 0.34523936718763204, 0.004308260558035633, 0.5185829013921177, 1.2642962256392316, 0.24069879608687209, -0.5183106945098369, 0.40294705959142907, -0.8455852420076054, 1.4971579650596398, -1.4435174230680783, -0.2901868085365506, -1.2787668052203718, 0.9225408697537049, 1.2673026677572814, -1.6951277998884953, -0.9297315748534418, 0.05643093629606839, 0.4537534375474726, -1.2947095808158824, 2.124335515766928, 0.9939360900634399, -1.0069064545472513, -0.2787916954897312, -0.7744079059396192, -1.6287125998825762, -0.6544769044637359, 2.8627523525965524, -1.198585321684777, -2.1905925664160373, -0.029041222904893516, -1.102772550141819, -0.442124865672348, 0.5410925925586652, -0.2355484625780725, 0.4840477021867882, 0.6821410977090282, -1.4852905819076694, 0.38690420014717425, 0.685094165729011, 0.38778834957728425, -0.143296408618015, 0.9320287017865605, 0.4370828132897788, 1.8171651312792296, 0.47902679182711183, -0.2057411209172835, 0.15165091626292498, 0.6055879731353354, 0.33037761753898265, -0.4680932174469599, 1.2563705192961623, 2.3278366036321736, 0.725098159362943, -1.415457361060728, 0.44957601851690315, -0.09105177102060845, 0.46954585036380586, -1.284949937782445, 0.5115327802930941, 0.05874076396466593, 0.8926582704520095, -0.7485469007526189, -0.15770747501678642, 0.9642348132560977, -0.4672266784568882, -0.5391275206730429, -2.0092381385441698, -0.49729547575645966, -0.9597557921145086, -0.22557160130957835, 2.4490387344019227, 0.8577154750228775, 0.5552301103142513, 0.6098076730519949, -1.2156290250912902, -0.9905985613542202, 0.6764108121525154, 0.5122427611789929, -1.1598208106243288, 0.6533311589425983, 0.09258649802433007, 0.768515040718849, 0.0919859279654667, -1.9729081227532665, 1.1562331586534182, -1.0571542374155236, -0.6532230187335251, 0.5911909829591248, 0.4017214948853058, -0.4428335589307233, -0.1065297275488797, -0.6835498492656664, 1.3059256917911972, 0.9755365763155661, 0.7333713842222631, 0.2443795654074906, -0.8055943759740006, -0.9613220919506312, 0.7526676724253546, 1.4229653639182418, -1.8919572566364318, 0.9762452515834923, -0.305646970699555, 1.147894865514527, -0.8673452734265892, 0.9826624071092421, -0.41766567093019835, 0.3098862606463828, 0.3837862372337093, -0.9592406406968805, -1.3430701491975712, 1.014689679306253, 0.7281595586242209, 0.9859003308339103, -1.056758683247209, -0.6727018263142885, -1.2524754484190903, -0.1348895000258153, 0.07714363756737612, -0.25686873907964386, -0.046705383726622175, 0.33812501772542686, 0.39752404310253325, 1.0711183062432634, 1.9697719032934038, 0.06411397220961731, 0.7268700132456083, -0.7372517879185306, -0.4373469459649258, 0.0013726553235512324, 1.2395196240220827, 3.2622522641739473, 0.12436409970184112, 0.23517502192542664, -1.4456608493478786, 0.1965179145557991, -0.79993574673479, 0.4454922480642943, 0.13347571200206274, -1.0457811873503908, -1.0234900204488229, 0.40873431578103286, 0.4729239622197453, 1.251324172521653, 0.6016627560036237, -0.07496989961432136, -1.1020277863236823, -0.9651914797188268, -1.5356698731235947, -0.9780598901438131, 0.839934352758767, -1.1744785112656866, -0.713591265069294, -0.8446983096282714, -1.0317075867823224, 0.25740061378124646, 1.2305567772867907, 0.5777055133407284, -0.3915450782837435, -1.2925878477641415, 0.5901611942154811, 0.3942939610823489, -0.7668833411712195, 2.38178561765786, 0.41146838946640074, -0.79582582545164, 0.38125559781939655, 1.13833415089832, -0.08957270435948271, -1.7160497997437574, 0.9732206244547796, -0.8484765405519696, -0.016417379843589514, -0.8010196157461011, 1.2189142958554735, -0.3013054991111783, -1.309869832733838, 0.7868950967002148, 0.6622932437082542, 1.2277052548219158, -0.20998401243369635, -0.6301877515427989, -0.05927976543984331, 0.5603872315765156, 1.6501760401119527, -1.3701888364666985, 0.32991957007156336, 0.8549182429198043, 0.384830350812669, 1.1648848016783384, 0.4564099548282881, 0.540196617748343, -0.48876615366977916, -0.010978846864784429, -1.0493519718096394, -1.5341338035292043, 0.6523044874166768, 0.9119343399665606, -0.7454208979778534, 0.758492975183482, -1.2734613082161061, 0.5514030708599399, 1.3082241559004826, 0.5689062755950868, -0.48689420617426993, 0.9867232592891694, 0.4522263053912223, -0.7323514216431836, -0.023621915770410652, 0.5362537403940916, 2.1156226126762547, -1.344575593426909, -0.42113149518106235, 0.6547510986238292, -0.31026330054240153, -0.42685643838289034, -1.4402293267052129, -0.2873168463873898, -0.9491855483011348, 2.3600932718254066, 0.22650355912086684, -0.5225919058182282, 0.5651701104768944, -0.7972408967435544, -0.3081648987952384, -0.711435401912784, 0.6709065278182977, -1.738480096812626, 2.1281016637983634, -0.5363232050432516, -0.7996922113615479, 2.3245644429649106, -0.6342209469741756, -0.29974617347632176, 0.5372892369018166, 0.07218678711934026, 0.9450887429497941, 0.8084581895832066, -1.2796507321893753, 0.852984393613751, -1.6210268038991644, -0.6613218052714692, -0.21128938421156002, -0.8627631586941668, 0.32183424396453697, 2.021988964109344, -1.078016570445192, -0.7097603338569154, 1.4837184435618171, 0.4702368759512663, -2.12409992585793, 0.6206307932329566, 1.0778652938209758, 0.6578539941075421, -0.24500672666375142, 0.3228640785993014, -0.8657761379163003, 1.7764094211130628, -0.9660133705650922, 0.1738515374433588, 0.31365159012431343, -2.2402564429462255, 1.2502313301914982, 0.25789057304793056, -1.400884591874982, -0.8208395218666079, -0.7420327412799778, -1.1648952018450227, 0.5729834832655182, -0.14473321151287644, -1.2051900442913093, -0.883613383454931, -2.5379152810628662, 0.33257730115450523, -0.48297393935728133, 0.29147716927750794, -0.29372662965592966, -1.8475474954586961, 0.1477903987309491, -0.48836687338697926, 0.6116080230355707, -0.20372488087648435, 0.738138989668209, 1.84897291033393, -0.40605133674001426, 0.16224830063745685, -1.0362143903181795, -0.6643777164679691, 1.4454619829300746, 0.43317233825123347, -1.4965307267853998, 0.9803919410375826, -0.5299176124553804, 0.2095949847325801, -0.7607292379492876, 0.22888051642728507, 1.1127891232604026, 0.053631043624210756, 2.144225681132775, -3.1079861987203783, -1.436201312117516, -0.03185075189321315, -0.14216238524168412, 1.2327272311841306, -1.7152408944578428, 0.14357674379365154, -0.09626702397354701, -3.398807925285652, -1.2975203939460869, 0.10749114765386895, 0.5727220349588846, 1.293191062561167, 0.7991333502500568, -0.24113906868600188, -0.6148339841552948, 0.1641408766929524, 0.7126896959515505, -1.2650557517334526, -1.388497125289844, 0.011789440538542313, -0.8328542934222427, 0.6401044054378999, -1.6147279647778292, -0.33990303922639403, -0.09403446014646229, -0.5450762667029694, -0.3083267763365318, -0.6255854239605211, 0.22873516733459612, 1.1060268344125401, 1.159220375155377, -1.8414048032931918, 0.11935043394930839, -1.168235972502739, -1.2442565684276825, 0.5954564561432837, 0.7673506476841365, -0.6909811264354414, 0.2724451305321715, 0.34301397384272264, -0.9253701759100662, 0.9229089070578279, -0.43381006087106644, 1.1892371434873727, 0.893583697846812, 2.5189727252868996, -0.5672959361157464, 0.8198715786159901, 0.13456643461890178, 0.6201911751668422, -0.2913531736412864, -0.20483038710286, -1.1719642427172907, -0.8569356737004411, 0.2365217346217846, 0.7115988310312201, -0.9787021859537897, 0.7996705653101849, 2.3137542204770583, 0.14835835262585317, 0.23116700786799277, -0.6493694105694906, 0.18034723258721305, -0.4700874701131557, -0.3161740899132331, -1.2677356764684056, -0.9780841067906564, 2.3496333235518065, 0.4663103804373333, 0.09123500987404111, -1.8527537280380406, -0.743144013986019, 1.1827629606893204, 1.300048297384857, -0.26711116142850333, 0.034514031271499226, 0.6106225171705207, -0.5708306526663378, -0.08894483755738024, 0.728202284242823, -0.15600158959590546, 0.5562197982563676, -0.07102043120004356, -0.003283815193994162, -1.2787129125468544, -0.10129949254444351, 0.4745390890168643, -0.12963306267640268, 0.23201085644235148, 1.124344134997806, -1.3425298884035688, -0.013007087697657816, -0.7918754227710105, -1.524083719905721, 0.13306718260093656, -0.9371581232061313, -0.03924876479740951, 0.5011715593454114, -0.787823592771566, -1.381262624797102, -1.9235294610171367, 0.6650234820833099, 2.1346895587448125, 1.1643051454182658, -1.4490936662586684, 1.5997898286430965, -1.0157288488426917, -0.8848406827405876, -0.5565702734215884, -0.134524793957796, 0.309265053339059, -0.3818600236459313, 0.1844073397321306, 1.059603560885201, 0.6254634675804215, 0.10320332592637929, 0.3638899750527005, 0.5642905305270065, -1.992161027284728, -0.8964075294337371, 1.0279029694013615, -0.1671526434841901, 2.1791453903545714, 1.9921064814744538, -1.1350726555441668, -0.5850335507787637, -0.8120784410013282, -0.16884847287806368, 0.5008210036774814, 1.484080041124809, -0.45034248021609125, -0.6459729932009095, -0.9956469339584477, 0.9978626672246803, 1.3751965467596043, -0.5290195362975731, -2.512933827017696, 0.8612223972662527, -0.6016329790989341, -1.2993872036790197, 0.6211912938598859, -2.141011775559256, 0.6959414273230562, 0.3970499530689876, 0.31733011090452773, -1.9232404629812105, -0.36455017034730774, -0.532807646236423, 1.0964350665303482, -0.4887336034139148, 0.06983923084966848, 0.34217870679933754, -1.407942887530287, 0.5424118206644162, 0.6023510430108792, -0.8187615853958137, 0.0028376159542113553, 0.3952574001736576, -0.20252939134694248, 1.7529445625857827, 0.14547212893170067, -0.2552428470367834, -0.990938528041455, -0.981844065892855, -2.006798501431243, -1.2414088189822179, -0.7108290290315581, 0.2418894388103198, -1.18484303135052, -0.201859025643727, -0.2622592843820966, 1.4676293830237785, -0.24289959395091176, -0.04660487093836513, -1.278665205339113, 0.07661703148185413, 0.23767971355945347, 0.4748104117516315, 1.8357280260662872, -0.8133426482515941, -0.16361959037749088, 0.9082278941307855, 0.509926322338997, 1.1498734142239615, -0.15837015219290107, 0.39675186896031384, 0.3467990299829797, -0.06264972816252483, 0.9607615953300553, -0.30093352014634966, 1.9286620229130655, -0.05550023841760419, -1.1395093248491568, -0.3455064497753759, -0.2107365405214748, 0.7904706416144074, 0.9692491222401204, -0.9352770676484149, 0.8784867419902772, -1.3104529728815186, 0.948139444526615, 0.9734042013452125, -2.4668030523548192, -0.9737745580057596, 3.1428020739362443, -1.068934834259572, -0.5508545894712235, -1.0206907812119859, -0.5428501154358479, -0.1775704877285997, -0.5391341197020159, 1.2415948896340463, -0.6669218518737149, -0.27447282190070893, -0.09580141191176672, 0.9506161583152726, -0.5551588237584328, -0.49317565181048373, -0.2327702436355657, 0.6650738115785395, 0.6763485934486829, -0.5846555102950337, 0.6387922915695403, 0.5768389682631061, 1.5570428568730943, -0.772163717274672, -1.7060497504888066, -0.02352220808400045, -1.1710464643853202, 0.08534279796383999, -0.989296715566966, 0.32024545575036006, 2.5859615512239773, 0.31202748782410133, 1.2413189797000945, 0.8613989147383609, -0.8337011781798626, -1.2719696501318938, 0.26798199661795885, 0.8051888756866256, -1.0508881234718124, 0.0020232395056088265, 1.4161037161489363, 0.5940621010077066, -0.2075394804774101, -0.004803234328867703, -2.3083658809765897, 0.06803575513405222, 0.7190807536338749, 0.058696506655736974, -0.9549906118024014, 0.5323768120185614, -0.22820905317156912, -0.5770274784142873, 0.5821827868068112, -0.43915977462787664, 0.26438668375861685, 1.115276767141305, -0.30134024159948025, -1.1121415111133421, 0.15465208948566114, 1.350820198766197, 0.7509912913769715, -0.06144275602033257, -0.08651916202237075, 0.8992778532602379, -0.36711111127277596, 0.72255539067097, 0.1959153963504628, 0.14625687649277164, -1.1973269120910992, 0.40679394905768773, 1.016326156871808, 0.6179776188875066, -1.1342229241204447, -1.7225243700049175, 0.09473142597769889, 0.31410089475174396, -0.3711124384574565, -0.6681873664475048, 0.027840342306719088, -0.14769755371347548, -0.11628690854322629, 1.1681852876333485, -1.512963587036903, 2.0571212871970745, -0.6041131098512103, 0.838337360403475, -0.7266409136127562, 0.8856824724237227, -0.9739892023060143, -0.31521929081932615, 1.2474813134369303, -0.30405464149868244, -0.30088298061274626, 2.4212360860104147, -1.2793760039851263, 1.253386011136396, -0.6849041371280511, 0.3279931015545742, -0.8383141838347998, 0.6651655023146792, 0.4894179711735725, 0.01710737927729761, 0.8360934905885719, 0.31458201303185757, -1.1065598314241882, 0.30266211278644933, 1.6673477126030054, 0.001101045351825895, 0.20045245843416246, 1.0003088948581793, -0.6086924806573942, 0.23506085568712504, 0.13909471388250544, 0.18977260521057313, 1.1828183842368098, -1.9511161833444208, 0.3302940257960211, -0.04085328729983681, 0.08841334776964488, -0.3616040285025427, 1.7126002475706092, 0.845205336530139, 0.6704628381774052, 0.15048943531259812, 0.9676079661212691, 2.009201928539606, -0.5372152535337883, -0.35621936102100293, 0.0637703029224342, -0.8728342160281073, 1.06202987128552, -0.41144461911291047, 1.2626607557144194, 0.3890517650179341, 1.646395173146291, 0.7642042541252305, -0.3276023819071012, -0.22063271962068337, -1.563977815157442, 1.0173347073609327, 2.138162785963922, 0.028796640651909223, 0.16887575619800854, 0.8792852195890866, -0.4613682063556425, 0.6611318796440061, -0.005557401202003697, -1.3361304513379026, -0.05692769271104998, 1.6267559218245846, 0.5892273127739436, 0.7962739611744948, -0.687877451551931, -0.340071700740505, 2.2690926965397997, 0.289430887664579, 0.5119562217920738, -0.02163794742637716, 0.7001708417246698, -1.529091632464278, 1.807781839520128, 0.430012098618446, -0.5786344919520775, -0.16106672320318904, 0.3947859459698327, -1.7740224463191634, -0.19648702842087348, -0.04173126429050309, -1.5855643302753255, 1.1378404323750382, -0.16525270072540976, 0.05608911991396274, 0.3160597362825191, 1.5107582078620216, -0.6484835120185677, 0.8954057945056846, -0.02186031001141333, 0.6488824528296497, -1.649650665168256, -0.20102826637851975, 0.3464773459863535, 0.2658967176626311, -1.0836986308625303, 2.731084161288676, -0.8096220762159688, -0.022785957633552442, -0.06581848018537606, 0.612088620421897, -1.6153248930579385, -0.32368511694139257, -0.39550677850872956, -0.3267896836303601, 0.015882225886522203, -0.261302313858551, -2.307320719708466, 0.10151866361391343, 0.31472455393770843, -0.6107010525479266, -0.8469718625142855, 0.7792059519950038, 0.34302424618392996, -0.7534589826740342, 0.6040032659966442, 1.2057687054897777, -0.0708297509621099, 0.43094058976887434, -1.2622837200362271, -0.5325818358170754, 0.8122807815713293, -1.6060267427249, 0.7628283635514905, 0.9262385812051137, -0.2467252950300738, -1.4319718152393037, 0.3838076754521465, -0.922178512461309, 0.5427770161126972, 0.5472528930470871, -0.6727551755212864, 1.890782437588625, -1.4108219378937172, 0.8044897560279048, 2.8226846265853904, 0.6464900481779583, -0.02068222917792895, -1.701111199790491, 0.3468033183467016, 0.6338810824140235, 0.22967126807137103, 0.6934992966098421, 1.1774919692821681, 0.8555398715625526, 0.40915288909293124, -0.0073291211304871914, 0.15433511798608096, -0.9526702472490112, -0.7411878975246885, 0.9838538096643359, -0.3863366032714195, 1.107382063193894, -0.11113721677278354, -0.035037888510207706, 0.28884111641193594, -1.3177741110890004, -0.4887937440309987, 0.33553596996898855, 0.5470883853413282, -0.14046417221301183, -0.3435538658345107, 1.0211158174179504, -0.1597763427732513, -0.7855625962628073, -1.0762188888420752, 0.7255628993258935, 0.5209053882352517, 0.6034814584664108, -0.5988271809390016, 1.4368449015192062, -0.12716430020976072, 0.15970782516537665, -0.232809849008697, -1.2754687535787637, -1.2071935393766564, -1.0373184735922139, 0.362341553590797, 1.5979114526705263, 0.7828866951010437, 0.8354539299947079, 1.4139051399723221, -0.2842089811921046, -0.018879881321417095, 0.6452082889450536, 1.6433474717025705, 1.1863764944445083, -0.5980691875416994, -0.11592192062756562, 0.14885518463789166, 0.6128467528640958, -0.433791267158611, -1.3255107376231714, 0.4244975929624891, -0.5379330906929496, -0.1710031337560576, -0.07610242208860846, -0.31226038119051913, -0.37388505147443746, 0.9165395396147232, -1.5265569248853115, 0.5392869537431004, 1.3485442014391227, -0.059849960600757354, -0.056567712229748775, -1.274461056359799, -0.715056240278575, 0.01674825663677028, 0.13449208032757304, -1.657682966834884, -0.9641057590713236, -0.21224151129536437, 1.4491718603540613, -1.2275558897854468, -0.03970426791463578, 0.22992131104304706, 1.1826117209170044, 1.9488072394476534, 1.5808753723774343, 1.8449599915830182, 0.5769768453857202, 1.481831758368459, -0.6535375452738719, 0.652251817981664, -1.6582437584210477, 1.120225644926101, -0.4790722391047021, 0.5358352997777369, 0.7639363284194365, -0.9963410151276424, 0.4973088199988619, -0.2890430531822414, 0.5424748858726931, -1.6302646134666172, 0.42883114775271525, 0.055351275833025175, -0.7042106860211121, 1.5543423449549083, 0.6071394242661348, -0.680527480961381, 0.07280734185320671, -0.3083111274971211, 0.2271641181892249, -0.3101927617059047, -0.24278394701748685, 0.5686118153018659, 0.6306547481773271, 0.5641516458709641, -1.6854025266206272, 0.47207877723928665, 0.5291493113691461, 0.351400807642833, 0.4877631688924384, 0.651639063238394, 0.4959777727336577, 0.036713704011555465, 0.07943016925856855, 1.1867093738077523, -0.4932877158474147, 1.3898338220889033, -0.22684720717335582, -1.3879022982674707, -1.860751609981323, -0.41905803941810615, -1.0597733492272434, 0.6339551113099728, 0.19202928008821019, -0.502406397462315, 1.2064996415179503, -0.20140972294459095, 0.9598102140805403, 2.1742460717049483, -1.2542802516138822, -0.19938827455615843, 0.8678405683311723, 0.9674295798271845, 2.8610377767242756, 0.014768118165623987, -0.4937919624744952, 1.0320013765170803, 0.07223831972730925, -1.6645103616180201, 0.2984402356443497, -1.4985825383591669, 1.3598716761971474, -0.01887192810273838, 0.0725823998006109, -0.5758141704721198, -1.2975273147521276, 1.4852846250693914, -0.9562204872830107, -0.20093195686994728, 0.37445119995285, 0.26000986853369584, 1.3426566953611179, -0.7153309222586024, -1.3257134356194584, -1.195792283152045, 1.3105007224628629, -0.1326078075824708, -0.8195584420731944, 0.2508370005624297, 0.5617514586129089, 0.8529210184671394, -1.208068733626737, -0.3833465418812282, 0.39017216628276435, 0.8411145626626655, 1.3568683231142908, -2.288996378347333, 0.1415272549361661, -0.3904188071923872, -4.2129561216954, 0.9638735643287257, 1.0861412110183717, -1.9040302028267067, 0.02317503996947193, -1.407534684617923, 0.5455685863086599, -1.5954100082682072, 1.4415664302889681, 0.7921801644972283, -0.10601373626705558, -0.5311525370081943, -1.2382375117718247, 1.0611489393983666, -1.3904898503264755, -1.1191330342038568, -1.4602686916446324, 0.05745074902394581, -0.8111445141335704, 0.5325599307881994, -0.9991859944967231, 2.149489567855584, 1.5892221076401007, -0.2219279159550459, 0.10692993688474739, -1.0439854031037297, 2.537675056023719, 1.3665049391236053, 0.7357603854895377, 1.3072084998979097, 1.2158897069315233, 2.6514738894600174, -0.5076668771578153, 0.5939715581385467, 0.5271017366643151, 0.09174322034069086, 1.5914914100095314, -1.1164236610085727, -0.33547761718822655, 0.36425234357617087, -1.2053175426710663, 1.4893763778259674, -1.1412993714210289, -1.1920698007623136, 0.3042784635539238, -0.10258748489164277, 1.5826385391120803, 1.8010940760000285, 0.18638799070008044, 0.13555212942566616, 0.6512765025682576, -0.1253878888171616, 2.131461983108554, -0.34421355358885447, 0.2596852617960854, -0.9762952194587845, 1.2221360254477256, -0.29901350721916686, 0.29685924935229774, -1.0185651874546988, 0.5504118395766223, 1.0114640045435683, -0.4254779856458929, -0.5402498764007498, -0.3558476174329047, 0.4079765530911452, 0.45226568655267635, -1.0002106168563312, 2.1241829366722382, -0.331928783241, 1.8492821558391437, 0.04009431728428549, -1.4260464536043689, -0.3274030664650063, -1.8191677809966644, 0.176828571915503, -0.7033635504149003, -0.03162564274157362, -0.7923355299218908, -0.49611003649231633, 0.6959285507047814, -1.9493512117235368, 1.8985637034673557, -0.12997879916833993, 0.0013486970566614978, -0.101730086106992, 0.38950279896084977, -0.33528073411208986, -0.2665249073668679, -1.1171632085743333, 0.4942284005554424, 1.4407293479664458, -0.31137362030263144, 0.4919214550163674, -0.09907407533344996, 0.4393326477501065, 0.5450417473702511, -0.4117068517640326, 0.2426029428314111, 0.37717179209508295, -1.2946361994458706, -0.5934751010870318, -0.36622925397134265, 0.26580637938702556, -0.6777081593424555, 1.3263220678938712, 0.11181334519898031, 0.12592494982063493, 0.586434404185486, -0.0151953387428774, -0.04757474408267661, 0.9499367363802909, -0.9861764756835811, -0.5408378194245134, 0.6449438932728697, 1.724027549959688, -0.6937999518901409, -0.5405707459605706, -0.6409547763406608, 0.7928808634494541, 1.3574766107753966, 0.9085367393028574, 1.1804414368979053, 0.8931278629422535, 1.8092978227144136, 0.7917190756449035, -1.111276373537329, 1.5583744066171017, 0.19195590936039916, -0.9705168858463116, -1.9039830878523751, 0.6227090325588462, -2.227611887175978, -0.527722506799397, 1.616157672291195, 1.057697507273253, 0.1979838993247995, 0.395841379145771, -1.4344526668672577, -0.5901945217409215, 1.2766760587385138, -0.7137690690848582, 0.3368254035192179, 2.4048304424802023, -1.1754386251003546, -1.3180502381708301, -1.8744278369665623, -0.17444428664933864, 0.2133656766614956, 0.003983807770407357, -0.5275061560682169, -0.38261953125224424, -0.8033141044698902, 0.9307223842938147, -0.4525319276376844, -0.18256971779641362, 2.20075497119147, 0.8555492180058804, -1.2131814574806234, -0.016744253862776892, 1.170008695179457, -0.36815469091666964, -0.5919154747180936, -1.5565160350061358, -0.15687609663309, 0.6195442193512972, -1.3661914160746944, -1.5116497678739698, 0.10513839691110341, -1.8787148652561745, -0.04942459360671143, -2.4399308488683262, -0.5483438290548861, -1.3442441717879725, 2.013349579512198, 0.17100404995213747, 0.800277190965589, 1.3175488224980958, 0.7072752895145651, -1.3297334228982713, -0.03384484271660122, 1.100936812505464, 0.36836243404661456, 1.0880722268418128, -0.3394736873225724, -1.2921263753743883, -0.366982763227189, -1.0083626726543093, -0.26843175738475966, -0.02838722367235584, -0.37996411381455064, -1.0954222984591184, -1.418283547220512, 2.633517520023089, 0.41760140023023173, -0.32390553994236493, -0.6775165968753104, -0.9040820140398312, -0.46571213855812577, -0.672295774273415, -1.1060486421673688, 0.5602210627322751, -0.09970189996808818, -0.7370028670519523, -1.0229633951870496, 1.5051482611690925, 0.3771687370715008, -1.3989234477288819, 0.5547031829149194, -0.5104119173164489, 1.4406621167800284, -0.11030752689182023, -0.147181840443346, -0.14097384989501374, 2.2748424423473503, 0.28026320084330997, -0.9542329260275738, 0.13087047690063486, -1.5685331365012944, -1.2448521836061328, -1.3190013396032993, 0.1541844824385299, 0.22793304759236083, -0.08165277684401397, 0.7985130137217141, 0.1371709204952531, 1.1017078512263305, -0.23833548170923224, 0.4356396634532475, -1.5221189336731875, 0.28504940677850676, -1.0728163299839253, -0.929275141612786, 0.3672112175978265, 0.06584852811107157, -1.3391606163333203, -0.7590858848395164, 0.09267894989668878, -0.7573160746429874, -1.2218864724210112, -1.0399215361377954, 1.6622616447039917, 1.9619218923119068, -0.19523484845066885, 1.025046623859655, -0.7808889056037387, 0.4994223599173124, 0.529438924321208, 0.5574573998955163, -0.34961000916279633, 1.1808018246533314, 0.39583711079203926, 0.07241179456643591, 1.7128144704435715, 1.0009839458364984, -1.792681440374667, 0.9195701071389271, 1.1804421310371238, -0.28888848105425935, 0.9169189407452817, 0.16140948021994544, -1.5015913682330797, -0.9443062050068521, -0.8688786699645838, 1.30560973399844, -1.4980352034866276, -0.0025328928599999277, 0.14674933109170415, -0.9069022077979352, 0.20953738160237564, -0.7611803582592507, -1.4028882772960325, 0.013760413036154646, 0.5621684476524652, 0.5745984958903568, 0.30381633713496065, -0.5849501786189116, -0.34369541673478055, -0.9758501477845578, 0.9749439831759247, 1.2079538548124995, -0.7800410158406759, 0.4310027219221291, 0.12586403890992265, 0.561989877141811, 0.6331811458787903, -0.13631733764859666, 2.1095072456483246, -0.32117710192978366, -0.9557364062986987, -1.4631132855226017, 1.215023572600138, 0.5607948559987562, -0.22511962728531995, 0.3580942165958841, -1.1310875203353175, -2.3436690598545686, 0.005815402257036128, 0.3747460730689684, -0.06072712545797918, -0.048021639955490254, -0.31225080545654477, -0.9504007068429159, -0.5167889745226154, -1.214259803021866, 0.4583114965709305, -1.6582125258460705, -1.326220071539565, 1.2592929350310467, -2.368570695084377, 0.5175053486956321, -0.30404160715412903, 0.8112640237076019, -0.1843966991271158, 0.03048678408220428, 1.18529683227866, 2.7239778259956857, -0.6951179187409314, -1.1263386197265248, 0.5292780823119773, 0.11474706690668418, 1.8879738791850182, 1.8167642370934003, -0.6308853684898662, -0.0636691860168729, -0.3116891109220481, -2.0415725219390777, 1.2034137329713093, -1.316911354759518, 0.2023289295861853, -2.8299827292804793, 0.9160990883624136, 1.0472607788190766, -0.5392164291161566, -1.2600937449488805, 1.1226353371403928, -0.44841268218941516, -0.45984135646991486, 2.051990113709105, -1.566155203853308, -0.16547354771974546, 0.2116622549320087, 0.05882744063708607, -0.46594006754285067, 0.48322617285208647, -1.1074851139380022, 0.22198799908813602, 1.0906867343343725, 2.2814203983616026, 0.0815113552798416, -0.2367563531175384, -0.5243158772013633, 0.2717171691304793, 0.4987611999062551, 0.026291191426340316, -0.4967364255352449, 1.3581338614695544, -1.1923841738962142, 0.27545258150439295, 2.492545178024051, -0.282887194614645, -1.402861119473655, 0.17097197439356326, 0.08238644818549444, 2.0999395694263066, 0.30482974722390493, 0.46492180651973153, 0.3768149035903265, 0.8812579779564637, 0.16602074012059223, -2.0509743901462048, 0.6577573538977665, -0.14597339773543733, 0.2628245567796615, -0.23514752418795948, -0.7046645575450917, -1.246965544887261, -0.2168441483894102, 0.3616813570034935, 0.05383424934609756, -0.07736958813499248, 1.2449185552400848, 0.26693386396994606, 0.5790969903796406, 0.676504095514266, -1.1731619951283654, 1.3007007178737389, 0.5860196280352195, -1.4088215884542437, 0.8603475502955513, 0.29245391873339366, -0.1696092499323584, -1.4141627841561597, 0.48069487811717926, -0.34104433144856994, -0.26127282385893347, 0.70067075628148, 0.2667903661466085, 1.229303647435279, 0.19824249151976758, -0.3570369236315642, -0.8706490689662829, 1.2280430272198246, 0.6222283237332242, -1.4621840390604524, -1.0533368652731958, -0.4171355422537869, -0.328264621153431, 2.1674152554942605, 0.272132668139579, -1.4104227923710717, -0.6011489071549511, -1.1393104297755572, 1.6535586862730558, 0.4038244408888193, -0.6146413064416181, 0.073657119346105, 0.5942923372694005, -0.47822930636043093, 0.19073006432308037, 0.025130430257808745, 0.033862998546147806, -0.040877278664421146, -0.20891479087505976, 0.18933013273441038, 0.35035102886443853, 0.22082201025161596, 0.510893136345477, 1.1807790410357917, 0.4907721118179804, 0.2275691723811052, 0.06621605777365795, -0.3056424793497921, 0.43876336483877754, -1.269632657689617, -0.182051293415719, 1.1426010331515373, 1.3370820907115204, 0.6254741698267995, -0.5065539987686202, 0.7233402631262641, -1.2629286341518, -1.670182482759563, 0.12677558759305413, -2.6266516651887653, -0.520799966073207, 0.9369232902998019, 0.2801796003920542, -0.70323091648113, -0.9704813983200156, 0.011356348116442528, 0.4966567627537941, 0.9846022082264851, 0.637987066466301, -0.4325126449887407, -0.7750140835782577, -0.6369362646980907, 0.24425486479289782, -1.0342045791942438, 0.5969125453413464, -0.05106947210346452, -0.2477026510448354, -0.28589175568073144, -0.20731333224972665, 0.5729090657546534, -0.7428522968522885, -0.19128699678832295, 2.0416497800738775, 0.054540109582987856, 1.6521923949073292, -0.7138245907799082, -0.20917495991058513, 0.20021323801925572, 0.8810303560117538, -0.7279175909672954, -0.14730692996833428, 0.08339174513293905, -1.3865771820669617, 0.9779898082300191, 0.8066072367910371, 0.2372109081940844, 0.11441704678514125, 0.626746963653835, 1.4952957844877797, -0.7972550352605836, 0.04835434161292159, -2.7692593211847907, -1.3752272429927437, 1.9193868157711098, -0.9328506020252874, 0.5939490368524474, -1.079568589451931, 0.18480990340707842, 0.6326641646074549, 0.197427947641814, -0.3939584721867786, 0.14104755672878927, -0.5838503390334591, 1.4059512127634926, 0.0948128584783743, -0.40748106154583547, -0.005915271585605974, 1.748876096998198, -1.0390089394428415, 0.36665844988088575, 1.2974612998080235, -0.849928604277483, -0.4128067318865876, 1.641349014983064, -0.4778718772841628, -0.1867808009976987, -1.169410993079307, 1.1779697288774937, 1.4228542149091536, 0.9334434437074437, -0.9125197981101955, -1.064757426471644, 0.38810672269958, 1.0695189268597738, 0.425246779585569, -0.9854609516687058, -0.19720926107484482, 0.2201317516783242, 0.9911501468608893, 0.7255810423188019, 2.0648158889306765, -0.5194915448607414, 2.066639804029373, 1.1961194119446545, -0.10412723445528115, -0.46991916696438757, 0.7870229655950841, 1.7589071393129556, 0.546501356822595, -1.2624869055949655, 0.5069282706961721, 2.1804996669455265, 0.07242423770177284, 0.7704736339749824, -0.9900511078553523, 0.15614424251499062, -1.721518352687393, -0.13030853441577536, 0.0010286851675667351, -0.24877031851504808, -1.0063468377850886, 0.09647552016862651, -1.1476477950743238, -0.10666316938982173, 0.7710421618772761, 0.7922703700685804, -0.7315121063064045, -2.8838543957880614, -1.3716893569911068, 0.7480938586216911, 1.0727256487591685, 0.7556061042160078, -0.569710937960718, -0.2572286558201384, 0.6612014976945597, 0.6872284839208533, -0.7676758604740248, 1.0768845366719304, 1.876256666253043, 0.02503037789950774, -0.08051042599657673, -0.37228033048148534, 0.528686332445205, 0.2806930373117171, 0.28303830756254555, -0.6610236746296789, -1.4763720632866817, 0.4560189266726886, -0.5039925593971786, 0.2581964461548919, -1.4648123465370693, 1.4932899976330045, -1.0799365208244496, 0.054559273836520615, -1.1306625536900647, -0.09813823214962726, -0.3745709308875171, -2.047146067835456, 0.8994109703654587, 0.9188490923830214, 0.40606104821339417, -0.49575598402750887, -1.8573856051394957, -2.0121696580887707, 1.6739484444898365, -0.9584542531620102, 0.5798606118142224, -2.3526693579514775, -0.5299577680228179, 0.19143635862280575, -1.8449690785469168, -0.5777617276874916, -0.4845696809847296, -0.6616625203112892, -0.20109016827442341, -0.6282209604114846, 0.7752937910552843, -1.4164042241724444, 1.2014661477322799, -0.19666078500287543, 1.2916189848125033, -0.7194816491154908, -0.3532906729102711, -1.091604561824679, -1.6367437246605883, 0.9170929680164284, 2.582193578933481, 0.01410657945138658, -0.4175645365814485, 0.6501255343003968, 0.42409881504080704, -0.4949225427374735, -0.9411751336584238, 0.5577134415144482, -0.9030177942140664, 0.5170377598983321, -0.6674404603964206, 0.8376632105666031, 1.3939146225212105, 0.29288657371599797, -1.373468385420474, 0.5816703568431664, -2.06277664567349, -0.0648548953516463, -0.11309764132684032, 0.4435540256380173, -1.1589668431045486, -1.416656702826845, 2.1823383449207476, 0.5797828360744677, -0.9055225267410405, 0.5928200057025734, 1.3663635783023746, 2.181444133504116, 0.2566646431125985, 0.013114276899927104, 1.0085848218646363, -0.6507923808547258, -0.04788164305191231, -0.5365277640665024, -0.8281222947637028, -0.27318088954759945, 0.34031164210921805, -0.03927840307658409, 1.1430209799223376, -0.13508819694930388, 0.6809939613831009, 0.06214077003342647, -0.6484519594577315, -1.331214954522313, 1.4058799910728343, -0.3672762796401115, 2.1331277279171044, 0.20082866282639933, -0.677959788386725, 1.298776064723743, -0.1008294702606458, -0.13249570848841472, 0.0234710947071281, -0.4766282309892996, 0.22719044697743304, -0.16729940610539892, 0.40688326151676457, 0.23949333349405685, -0.6600189415894246, 1.0714433691024683, -0.008609084805457653, -0.6462007540781382, 0.13223151420112478, 0.5781679209095941, 1.8039814731217334, -0.6868628018007451, -0.5937328368915068, -0.062141622362935175, 0.3961874482956573, 0.2337404396293554, 1.141662273306519, 0.8521589677163276, 0.8784447533203725, -2.206819275719508, -0.14306652134288464, -0.8527134269053771, -0.8633197067559973, -0.040466241338246015, 0.3201620964585817, -0.8907527619852408, 0.43471341101081595, -0.3143796305598539, -2.2644063228597444, -0.7529450062769325, 0.8873902559467493, -0.11127453209392704, -0.0198423243612728, -0.1779094075694172, -0.25829735048141395, -1.1373181322327608, -0.3381382889331087, 0.042580870664553086, 1.2151678839696014, -0.9786277236367544, -0.15813234589720485, -0.13190939388474562, 1.4326035120066003, -1.0071230638424928, 0.4344995168921951, 0.8858129906900476, -0.7176305040488273, 0.1863452319398821, -2.0251575905727988, 1.0311080811048141, 0.5675366335152499, -1.3822158817753885, -2.1540224006476545, -1.7694693827494228, -1.5108363649330963, 0.0348989089061825, 0.8178636510907089, 0.1289144419882096, -0.8341883373771936, -0.17898130884239127, -0.3249405532971902, -0.437433182919335, 0.7071174848522802, -0.6147316268878226, 2.417639588177097, -1.0350273496340958, 0.10362915582061562, 0.24905532916206527, 0.4154791097071788, -0.7792190562410457, 0.35470638945491634, 0.27044450886285065, -1.6184844456311085, -1.7343311915381705, 0.4635177553683533, -0.18243609632214855, -0.2734826025122155, -0.04548019711808613, 1.5647088817369577, -0.5474681996804355, 0.16162619795808972, 0.75687325997892, 1.7527004050153865, 0.21888830969851217, -0.3433147008021146, -0.09090264342837337, 0.10662601728986625, -0.2347231962733783, -0.03241907298065123, -0.14378873913775347, 1.747710006995581, 1.0604148157521998, -0.5654672177463944, -0.20725290587697123, -1.7830079957511593, 0.19130714208017122, 0.1677951451052299, 0.2210009930374381, 0.695520759590195, 1.5095912492515142, -0.720076533158379, 0.008497939996099033, 0.31582403829316624, 0.22190102962217106, 1.2868137759942784, -0.813037117748235, -0.15930682713169927, 0.40307702247107374, 0.6193436646763653, 2.6352840706119776, 0.9691844145279619, -0.7114792665852916, 0.6656072536681217, 1.2285998477524336, 1.7417879947226955, -0.4441898460158809, 0.4634269969247364, 0.024821689035168914, -0.9333371690388076, 0.6827548802694402, -1.0136630426881421, -1.448717108602471, 0.5157299235570122, -0.7995673328018797, -1.3001675150152137, -0.874418805437889, -0.4260618575724494, -0.4223577085333401, -0.9112207407173613, 0.07943186630517174, 0.723427286579793, 0.9917323568127951, 0.2902186998377006, 1.1161794241304805, -0.08789547401764085, 0.14388429214153564, -0.2564683936640589, 0.9496540260934333, 0.9248997928046384, -0.6573122152556125, -0.6213176338022377, 0.9448180237507847, -0.7168660904873534, 0.5319143682060578, -0.2704725204840741, 1.1215789330744226, -2.2552556436544067, -0.03060023445472509, 1.7555069255488605, -1.0896559789063514, -0.9349603437281755, -0.12937279375250255, 0.23164421727346876, -1.7765697538278051, 1.0311356005524792, -0.9753686664372283, -0.3496927309759738, 0.17858536419584162, 0.25344302622753084, -0.8926118296192264, -0.36870732091013686, 0.6667049868384005, -0.48197083800725254, 1.7577281306421872, 1.5892573401871901, -0.8643103644198191, 0.0400985086376306, 0.21940790934096413, 1.0662600017995376, -0.7744012358481515, 1.0210089819163197, 0.6685631784980495, -0.8281411031734398, -1.3417394124318631, 0.4054508248317672, 0.01736082480645343, 0.12304024195463951, -0.29107165353892683, -0.9041828303322312, 1.0937616766865912, -0.6818904381271316, -2.582703457228564, -0.2876266461706517, 0.5867634364184438, -0.05210560930864459, -0.5465820455502399, 1.3053300575430193, 0.27579987995995825, -0.6477609588352577, -0.43527893397424133, 0.35185343256234825, 0.9348342351146378, -0.3895691601701128, -1.139383371700629, 0.7632230296828555, -1.2723657901704262, 0.04173727637241506, -0.9754607574535862, -0.8334980011771718, 1.6355375893244588, -0.9704000710791515, 1.9353218790426798, 1.9127026917897236, -0.03207098343211398, -0.20989469932188357, 0.6126499604914174, 0.9235233847798476, 0.7750965842385713, -1.2466408059293603, 0.7652857939221829, 0.3485706479093674, -0.5162425483688634, -0.44453068779403476, 0.40488504960299576, 0.12125359930754676, 0.670732006400923, 0.051348451075442815, -1.7062642234551697, -1.061362301441095, -0.933279916858411, -0.44719764744604096, 0.6035618741805098, 0.7395639872857154, -0.08687826639469087, 2.0192225121681298, 0.8656353586567126, 0.9231750145208419, 0.4622469066940701, 0.6897363036426313, -0.10846348159248065, -0.6283233583819804, 0.33769746876926354, -1.3060963531630734, 1.4397767659094385, 0.9145295064034866, -0.8655622697602801, 2.7423625240207894, -0.8636177105359252, -1.0583262304641334, -0.9626381626981761, -1.3224990215532384, -0.6099835092772912, 0.05601478428578912, 0.1702326337076188, 0.009607472877664327, -0.7106404064675363, 0.7548047018021917, 0.96839523061399, -0.22228257953250385, 0.3635263701084436, -0.516686005485859, -0.5275471604292976, 3.234348799649425, -1.0802221514971082, 1.6505233965180477, 1.580391495026916, -1.193154271271104, -0.1384665829129428, 1.7043298333253538, -0.8641921552686852, 1.9355893242541844, 1.9459167829423745, 0.2350465393372376, -0.44330080205427613, 0.01763781098192395, -1.6227467699530655, 1.1200190627208328, -0.9618312599210894, -0.06755084261338555], \"y\": [0.3000965337558242, -0.6622060422627833, -0.6255454807639107, -0.24671511643986768, -0.6714747746936721, -0.4360082529291445, 0.6145040984469414, -2.860954640338079, 0.17558997772807503, -1.5862004149027202, 1.198109606792879, 0.7665080545601795, -0.507459506305366, 0.9921464324731367, 0.43087198460522697, 0.443594468862559, -0.02560932446399946, -1.2571275045538621, 0.5841954464993808, -0.75188341071366, 0.552675062324356, 0.8169151910794679, -0.9236714023903445, 0.4620005081730469, 0.6523196543266234, -0.022522371043274054, 0.6133577017378952, -0.950786018201875, 0.3244309519454992, 0.26772449009009436, -0.38441550036265054, -0.812637501715616, -0.5698442258886488, -1.0836091593124861, 0.7825112036933256, -1.2492950570662549, 0.7691466587011834, -0.4668789262802108, -1.8287931396127337, -1.1647893385051558, 0.25999332861021546, -1.8501408093521576, -1.512533767429815, -1.0650023338562364, -0.6652934250537913, -0.545382248312073, 0.5420475738650817, -1.3921525924963187, 0.6066051274738851, -0.6161652293982794, 0.35001602985900915, -0.5463365924466214, 0.5007707849644665, -0.10780168936124859, -0.11731231476354499, 1.2054569352657916, 0.6061374223856343, 0.5675985589087075, 0.7113657275875482, -0.1844325427041221, 1.2182599194899204, -0.6504355039406811, -0.589923124073727, 0.4187466348107679, 0.4840026523358317, -0.46298657298120094, -1.610607811800595, -0.12001858555854975, 0.7070778753155859, -0.6004867117661746, -0.028886515526639133, 1.6525947758660593, -0.16601512914682293, 0.8520815301730631, 0.821608324035881, -0.3317777351044744, 0.03864540398274388, 0.4857819881990711, -1.7071605662687745, 0.18077595881157368, -0.7148908336917146, 0.32982351581499336, 1.8237892864928251, -0.8324423106192601, -0.4423279297264777, -1.059447505459557, -0.5953955025297858, 1.2097390853035404, 0.5420825218612197, -0.1646252969498541, -0.1998095372185911, -0.2508330244971629, 2.9110192061246276, 1.2164738479558166, -0.4310689793716912, -1.9354633143097235, 0.7716505429144108, 2.0562465251148403, -0.3704366162221528, -0.5360104647485238, -0.5997609816748237, -0.16848531574821188, -0.023392635255922164, -0.07588684302083958, -0.3562321858470732, -1.2359795949730876, -0.031833980450831495, -0.25787402768824214, -0.11984433964392911, 1.5009082407325751, 0.659697616313674, -0.9994161353272216, 0.8948065396209894, 0.038446196230463706, -0.8712141202964525, 0.3170419612098258, -0.43984461484888443, 1.0891320607745771, -0.47998390590350415, -0.6314594859845669, -1.7479263460848586, -1.509873141878387, 1.2017880578590465, 1.3014826647537552, -0.06123971938976598, 0.6043584198960321, 1.965928864483165, -0.33170664409511497, -0.07872998586132925, 0.9984941396553529, -0.35927633854420415, 1.3945205981567557, 0.9236338188626007, -0.7336717351860301, 1.9293326810624358, 1.4781786684593519, -2.1478290342771684, -1.3143013216234927, 0.12329630440272556, 0.7504685563816519, 0.6283217692237331, 0.6627122994961895, -0.642609074008479, 1.3489174345924417, 0.36336863547156195, 0.36413096785742594, -0.28005093697162486, -0.4699097550806751, -1.0736971893687701, 0.3950977451885334, -0.3278867216708752, -0.10546431117825099, 0.4587070065610349, -0.65340865188872, 0.006107077895869637, 0.11948920544312448, 0.21577332307658736, 0.5082217979236703, -1.2166220166952442, -0.03859111519567607, -0.1390026826746915, 0.4526876757947997, -0.3997118109080042, 0.6981874130690366, 0.2605910881006682, 0.5309728516115519, -0.6662874625938394, -2.048385149866087, 1.2394210718086496, 1.1410770879430774, -0.20033547728300266, -0.5408633704033107, -1.8726993579625428, 0.580107445881817, 1.4577573399674553, 0.5973466294174727, 0.6241616777714127, -1.5590109725820243, -0.7634034281662548, -0.9064764458922066, 0.08464216784788361, -0.7223875927085862, 1.4529773027403614, 1.2967424303487882, 0.3023538254105902, 0.7004566991586241, 0.018607665849684863, 0.1429461704733975, 0.6157226073960557, -1.5902217760111668, 1.693089215905571, -0.9393567912524463, 0.4789072419025591, -0.09477696570316589, -0.051347154271863316, -1.074113723548934, -1.882245397642388, -0.5571870682797838, -0.5720111790726128, -0.5174384173837708, -0.35523974056706165, -1.1640888617615284, 0.31668846351235963, -0.21850243488164414, 0.16538391279045933, -1.7954584479407683, -0.3747657439240893, 0.9833580006201057, 0.37813421759098303, -0.10361894234488786, 1.589092398270833, 0.08229796179227518, -0.6600009062427287, 0.6145286691676337, 2.380467175197941, 0.29138880399205636, 0.61803157821157, 2.3623465346493244, 0.7165813160798976, -0.21494129536707843, 0.48925533606470517, 0.6529165975461874, 2.1180539967241248, -0.6941836742117943, 0.3146463195651609, 1.3969231144205978, 0.8070657021552265, 0.886937914714607, -0.3439205949565988, -0.5643874159699409, -1.2297926381938251, 0.10491425152593836, -1.8649270547345005, -1.2891959072388335, -1.326414139380523, 1.578089375663216, 0.4522777932627522, 1.9920843801072947, -1.803277084347039, 0.38641162664971385, 1.0786205215322988, -0.25235609940907305, 0.4122180350623475, -1.4566365074848353, -0.9022994698957753, 0.07838320228552617, 1.7486774296923953, 0.021307711856408486, 0.40141641066703865, -0.0029450352722528842, 1.2044687788164579, 0.7208461333365749, -0.3425850913969502, -0.8551150076672209, -0.02988516294914262, -0.3666366089575686, 0.7057695339343635, -0.823186694558676, 0.686157511656028, 1.5673745291661274, -0.20323461698245202, 0.8167823779329451, 1.0452622426658627, -0.2778020783330923, -1.649940754759397, -1.8135835902468505, 0.7772507091260056, -1.7206376930596223, -2.1749710396756616, 1.1247714241282807, 0.6153112199198738, -1.1556020970433427, -1.1913219475016812, 0.038849740126815344, -1.2690672350919812, -0.04329778778174044, -0.6629289914257308, 0.4177854807685212, 0.22753685303922785, 0.02708479269304928, 1.3348998154474445, -0.43046513469200737, -1.0932381837919196, 0.49754246685932346, 0.5086388097640699, -1.1414607673708075, -0.6762485971256533, -0.11745918002124824, -1.152821611093572, -0.6983795754570912, -0.5225002269189287, 0.3497610958231352, 1.6794774505080121, 0.8707597129485565, 0.8827246424109162, -1.2351525280149922, -0.0157599393773304, 0.09704946873776261, 1.3703847702657228, 0.9120787374014809, -0.38755862059117263, 0.5485205637376899, 0.3042054721999129, 1.5432760574162852, -1.0942224684092088, 0.77196716299773, -0.18756505938612533, -0.034704073913039556, 0.8221947913977694, -2.1276949916473518, 0.12982176692125988, 2.1937966368710646, 2.139311619913967, 0.48442466664552203, 1.5217703503585969, 2.1129636147066564, -1.0829914771975968, -0.6776855992197287, 0.4778794856245995, -0.11615554153665139, 1.0000796735916702, 0.4792102220266998, -1.7007672773357576, -1.1368706799815718, -1.0578452240270622, 1.5281445657103734, 0.12940638033615853, -0.12746977281487196, -1.2244838454328602, 0.5062793935122472, 2.942339798703422, -1.5275638804403473, 0.31335074109873295, -0.32560041911245824, -0.8521888835184834, -0.5608778330957874, -0.2880909862130461, 0.34197781886617, -0.011725895338222124, 1.022856073849384, 1.6556140790663028, 0.9784733161529762, -0.15875369084579077, -0.15261749933538302, 2.320346795209393, 0.8216401268991659, 1.9888942651971546, 0.08640759398484318, -1.0142071585398207, -0.4477655775221203, 0.1784645022527957, 1.9611680257742155, -2.0196656126215378, -0.6078739085429158, -0.9297356427246422, 1.0449017774727867, 0.8023098280057497, -0.7176104246391589, -0.00415448456361441, 1.887937803331563, 1.5215399983719369, -0.21624946981102808, -0.09485656354882463, 0.21625851913479116, 0.9993126890136829, -1.0407561800742287, -0.5520161405306738, -0.717948870768211, -0.971832418138069, 1.0476217283044518, -0.9623525590154298, -0.5290934474848548, -0.4716260977951499, -0.1287674949828575, -0.006253557988255923, 0.16399705929072914, 1.4619296017178212, -1.4040350894093978, -2.407197424729574, -0.10891587987151999, 1.264969820996261, -0.26816467789596216, -0.2772065122157676, 0.7338676296826216, -0.8576027707408136, -1.1136620050813306, 0.04636662631493915, 0.5470526329305402, 0.3937983222429867, -0.4934234573091285, -1.7883514148083755, 1.5660220112015781, 0.45395579769810024, -0.2758002048014602, 0.059729521961174974, 1.1428204388858512, 0.5659256922715341, -0.2456658073016655, -1.4969235368546403, -0.3433114173904529, -1.0660606954155047, 0.3661312942810044, 0.3359144394683781, -0.1017623537858684, 1.4131667821972809, 0.17489069805965687, 0.9008382350838119, -0.2774086483083402, -0.31064748075214393, -0.2657280725838553, 1.0928308414663737, 0.31661945866266517, -0.9128315355537538, 1.1909531271295613, -0.00697030444781099, -0.6579221594398444, 0.48681793392894845, 0.11746705887864896, 1.1203831255946002, -0.11960013289185904, 0.025031402817319724, -1.2234862918603042, -1.278301455593156, -2.128374611960122, -0.8845929187492445, -0.3732215071329268, 0.9369366469291903, -1.5752327082924196, -1.2436061070253859, 3.188047590611553, 0.3027548377555539, -0.7247104532471094, -0.09973394708027161, -0.9532111634914058, 0.18788422661545093, 0.6855782783093999, -1.6593508566554802, 0.4187449256021565, -1.5752975421322493, -0.6702878058335691, 0.3615788537692024, 1.6823369310528493, -0.24016889361721058, -0.5732677332604732, 1.752596153699116, 0.39149812461555733, -0.07995565770446579, -0.23328184469800992, 0.17587891469010722, -0.6172450698655484, 0.6445966652077249, 0.10103442272060162, 1.7347257115465102, 1.7806662961797601, -0.1938558080599387, 0.2397216146416673, 0.6763869430810064, -0.34231045817138883, -1.119616199377268, 0.00462878839181791, -1.0717199160526145, -1.4366769157047194, 0.045831589631815495, 1.1541468233661003, -0.981004507941493, 1.0180732872828133, 0.47226253825676534, -2.305745670240027, -0.7072000252768729, 0.32851709587178735, -0.25153263941751797, -0.3924442879075363, -1.1303317127458918, 0.07941862548267314, -0.5969145117857448, -0.7638377377722322, -1.1869569887258125, -0.9465142452206949, 1.4705902074355155, 0.8473276408521941, -2.4191470236510413, -0.6773599529462588, 0.7284848190080727, -0.9253129012513994, 1.063886986347232, 1.5845093246985154, -0.782746175393006, 1.6735849379196732, -0.7465183408569328, 0.3351377946450067, 0.5699138927191375, -0.682520366217551, -1.3570748487989086, -0.39598791392733684, 1.1809128437132943, -0.3660483575406652, 1.0481160328422492, -1.3074796683036016, 0.17056392783514102, -0.6821635636048302, 0.937400539338893, 0.035364580848501935, 0.5242686994488863, -0.9480252851683959, 0.4033279068930447, -0.2836750701814224, 1.744948806676534, -3.5446262474573556, 0.6682199327293077, 0.2981019422944905, -0.029110589617113845, 0.07958501406654596, 0.19475942051915, -0.4445868085773377, 1.7212982710454574, -0.2618481753949887, 2.6293653670050126, -3.029157894524853, 1.20930270057541, 0.057606821005230346, -1.6339402240412004, 0.3385028912460932, -0.7445750065207586, 0.07683560807644028, -1.4515709693707404, -0.3187783511974969, -0.464368731268909, -0.904420292327056, 0.5289684683138359, -0.6495164556684916, -0.083241037222575, 0.5550214315331422, 1.2225516356299588, -0.3479860759045742, 0.5530812387502952, -0.17586417343693359, 0.10091987917533717, -0.9745420005201629, 3.028436014804464, -1.9005796144509866, -0.10667131625234921, -0.4223255412999534, 0.17345123914961286, -0.5571196282622332, 0.4790047854809911, 0.274458622066195, 0.8617935569377103, 1.5035519093263163, 1.67391227598776, 1.481133271829295, -0.3575714860205165, 0.878153799235304, 0.03913200881133877, 1.0287598069945179, 0.2645733605028272, -1.2434082624316636, 0.13381174193393736, -0.22921294521052402, -0.23852050578170048, 2.318145404397662, -0.45047139286497656, 0.5450262553961036, -0.3928896176745221, 0.11827689949657975, -0.43031515278943655, 1.1372326429519943, -0.3274869589905798, 0.5214614782529591, -0.19011180538542335, 2.819968979943936, 0.19122144087028475, 0.3603385433122641, 0.19888460761301663, -0.1214774488008872, 0.13232368967751326, 0.2675755289520323, 0.05679178352154046, -1.9825909021777481, -0.49247900846904014, -0.7128107076420164, 3.2346993869704646, 0.3878989907978376, 0.17649646430764238, 0.1830963217359682, -0.5878491376496018, -1.5224190881663573, -1.7178627613939, -0.5696235189158492, -1.0757576091067393, -0.31448388166785407, -0.44938305691619773, 0.808321997859924, -0.8695044381757009, 0.9424456197382116, -0.39447323049755495, -1.138308457819718, 0.7982801154715211, 2.0458466368033394, -1.2771245242591098, -0.3501057374985777, -0.1967565250508591, 0.8120723136428043, 0.006281554306054073, 0.18778162950730082, -0.5258760156335168, 0.16604511321726248, 0.12829142106512453, 0.21919899308979818, -1.524394426887501, -0.4159600103581868, -1.0577930198796424, 1.0078469403097203, -1.5344051538196763, -0.6666560412881998, 0.1459541464187733, -1.0155204406813427, -1.1683951814927718, -0.5884605304070921, 0.7922992597956127, -0.62870339892056, -0.7815474211946751, -1.8228228940501061, 1.8222426163722965, 0.5130722429126072, 0.11199752527887362, -0.594613342050695, 2.1775697086603425, 0.3267392388681639, -0.2780692538393225, 0.17947086577158305, -0.8906879668552072, 2.3358638019918487, -2.350423454361674, 1.8553948364586745, 1.4997873358897311, -1.6067104246199795, -1.6731040950959553, 0.7076880170209751, 0.507739568714019, 0.34149096816223506, 1.025600644794461, 0.5304077323829749, 1.1517050259667183, -1.4686756284920155, -1.9430266646676004, -0.8836935503286035, -1.3015825391996658, 1.7279912647104334, 2.4165466652321665, 0.06538394928313518, 1.5319507813307498, 0.9774296671951446, 0.17721700884270308, 0.3666589011171379, -1.650239735758663, 0.2673247646197328, 0.4529587240750453, -0.7256861939745157, -0.11692621987543204, 0.8356430335708326, 0.08319060254482125, -0.684044207051324, -0.6789112504493583, 0.275081017817397, -1.6478610550283095, 0.9216840422386389, 1.3661538813338605, -0.12327800362518117, -0.1225056790673047, 0.4957319340001226, -3.0092555377703194, 0.34667939505315143, 0.0778782460549943, -0.26607100401830647, -0.5440308354492275, -1.7321365046253292, -0.33598550076549094, 0.6158470050071189, -2.26485390270602, -1.9950473313467783, -0.589272624220585, -1.339384312596419, -1.745477966262482, 0.06014603085530819, 0.10779687195398052, -0.542724501864808, -1.0258666022591738, 1.0383761469769106, -0.10522420014006906, -1.0925280155451664, -0.499472026000626, -1.0667879545000951, 0.4358227384729053, -0.6458581795032757, 1.0414037138221903, -1.637433828843948, 0.1979432051011812, -0.7739989773571927, 2.757987419797681, -0.6494977098712184, 0.594328058224819, -0.38509589909328723, 0.6657198383589705, 2.624274695736214, -1.345131752933393, -1.5167176724474933, 0.036204387996247624, 1.590548523178604, -0.5964691773866301, -0.39528037384547254, 1.3604503760991662, 1.1886567639297616, -1.226760985581291, -0.35984872646893834, 0.5242662835096515, 0.28847368785327687, 0.999609633905385, -1.119550573000042, -0.04918349967034368, -0.22393250659531386, 1.3549986835589696, 0.6588599030475646, -0.4291618670451682, 0.022501675447632968, -0.2764770118257481, -0.39738008423828874, 0.8200167243036821, 0.34683081188896286, -0.2992120256696344, -0.4490849343938408, -0.2991916903150262, -1.5706337979402247, 0.8997443759615131, 0.7382451841268531, 0.3682217432941136, 0.23505104091349976, 0.4349033264090058, 0.09004685194823281, 0.4199636073847622, -0.5764085242840037, -0.08792959219114437, 0.582955524084023, 0.6934169289629681, 1.2277871449274325, -0.5093235749982176, -1.5154993328875346, -0.15649412095632595, -0.3093703526618702, -1.0857080488497624, 1.6062823141692257, -1.111218912702154, -1.9771034818758664, -0.948156348352355, 1.3506759430084354, 0.5986041790930153, -0.8830749608118195, 1.0392200514510044, 1.1674853572303256, -0.9122004896421182, 1.8194205096603973, -0.9415992543569978, 0.7362473020674493, -0.4185414891116474, 1.8026978084048892, -0.7423178508117393, 1.7564853234009774, 0.11416489077680335, -0.25240039921955487, -2.2394533824229437, -0.6503141256063626, -1.4668341972360892, 0.6882227181071225, 1.6571418084289726, -1.130362999437417, 0.34223169626064653, 0.06383855000427135, 0.1322825774520104, 1.0476302247127312, 1.9287804767058454, 1.9275630386119524, -1.892006367488687, -0.24555071953598384, -0.32819586032700443, -0.003725799309202896, 0.3428299980772545, 0.20361106739616244, 1.1360601266651857, -0.7825256809266253, 1.5350217266224513, 0.2647274701537899, -1.4668288783366659, 0.8287279716853622, -0.3785215942325941, 1.3656659827812634, 0.8661389396239623, -1.118255634518565, -1.0198316080070524, 0.4704143150536626, -0.6024215238053815, -0.05963652078360807, 2.117838672159037, -0.010694943740466086, 0.11361300129399149, 0.8116390840133013, -0.8932927713372554, 2.1161619057772825, -0.25621474979539066, 1.9414388577640602, 0.784940740802411, 0.7206227008587276, 0.002802419518649457, -0.04407573714923375, -0.3984812332974388, 0.06642027015419101, -0.18296856725063512, -1.6998987019142127, -0.011248210000823022, -0.5292308831635902, 1.9658983137125665, -1.6564175470346993, 0.5997042652925455, 0.3884053283723698, 0.9108736597492276, 2.0886184783648933, 0.3458648549374735, -1.5764527260785122, -1.6200104383110556, -0.6440104071943888, -0.47735116956689577, 0.015269907805966246, 0.6494341543106551, 0.047796062416089, -1.5106746379351126, 0.6357103849773172, 0.9373360766841223, 0.06178878353176169, 0.6529679086154799, 1.3605714903290171, 0.391537554110335, -0.3860974014614505, 1.1322731151849683, 1.1656944505369935, -0.30210251858816684, -0.564989428945951, -0.31388899102598955, 0.9739824091958967, 0.6438753488557601, -0.30970407694920477, -0.5678001676670309, 0.18314123502039453, 0.5407650005154883, 0.5700371385142012, -0.30828683103004306, 1.1639127421004258, 0.1395701460945526, 1.203738179968304, -1.4916111082931154, -0.43626987405757295, 0.17669913116223565, -0.8007040431691989, 0.5255402730386088, 1.6455557782748154, 0.8955558297516747, 0.16493733120125162, -0.5958739624053755, -0.6182992243257311, -1.3883176361741623, 0.3537798745011771, -0.5960470481698271, -1.4904504420676072, 0.8027015221066071, -1.1519862435134065, 0.14645351726353317, 2.2379960305082287, 0.8218530565448399, 1.4379156053954845, 0.5617903980962838, 0.3773718091141812, -1.685980055983562, 1.001510105471823, 0.9079142551880052, -1.4352123398246286, -0.19217970855177444, 2.000569357246832, 0.5660528352405897, -1.0486331980299621, -0.14688430360966062, -2.5369102431521036, -0.03769138258752432, -0.15998102843146783, -0.653176483876173, -0.1388612877312301, 0.265717574145675, -1.0707562427543351, 0.9949064912077022, 0.41170951692936464, -0.06465152584649692, -0.5702923868264961, 2.78135142281774, -0.21516187873486892, -1.0187645547139268, 0.6218438874469219, -0.9685654477261417, -2.002917202728024, 1.3294135568096397, 0.9168552592626303, -0.7456594935822463, -0.9352217012065916, -1.7435303956300514, 0.8688940456787911, 1.4873600965037241, 0.14097350811317186, 0.6815458106407345, 1.6491205386131433, -1.4217884218124102, 1.006042291803432, -0.9363900288712943, 0.3573628939185281, 1.7049975232989476, -1.0629050090498966, 0.9324475717133867, -1.1101478574323551, -0.5245645547293104, -0.5742228039946019, -0.6555861958592287, 0.5407290817373781, -1.1028202394456064, -0.995438131643143, -0.6749703833101083, -1.341727187854198, -1.684241592725115, -0.6655553058900453, -0.32423334026484185, 0.034467843655275075, 2.31433428171849, 0.04793726636934433, 1.729709626129629, -0.49759529412547693, -0.5336621320279641, -0.9212249087039001, 0.4689607052675922, 1.1057574797605754, 1.5641898484377152, 0.3786235749702807, -0.10155219829093498, -3.3854207903681006, -1.2335011196949812, -0.25361562904709556, 0.6864294278390484, 0.9211086801004926, -1.4975611545479128, -0.3845765980951739, -1.537195409697672, 2.6986184870448375, -0.32103911021870457, -0.7251965772783956, 0.25331010737635695, -0.11014123741940657, 1.420644378560037, 0.24101872261819524, -0.03932364239268024, -0.5239689099484174, 0.645603622624388, -1.965995366337817, 2.514151129693074, 1.462323555819678, 1.823993345338868, -0.2541437476572842, -1.1346289884170961, 1.082680598944245, -1.2292183035274484, 0.8199615146996405, 1.2522921855531282, 1.594841845291984, 0.5127856317428903, 0.5003583148369337, 1.512124869249513, -0.2515630839986148, -1.767425110525496, 1.7005009327623228, -1.2866161747910876, 1.0933385138014948, -0.9163182514030599, -0.04688396879198591, 0.6821980243221573, -0.026910710993480302, -0.9831797476820195, 1.4355066519399517, 0.5155516114954903, 0.10667559808969655, -0.8411664410905924, -0.6278900405824083, 0.9125171075866673, -0.8451148885707622, -0.32179952943705015, 0.507114162170305, -0.4140591980402332, 2.8097493958794377, -1.7679942979065253, -0.5721039734132318, 1.2931484182656696, 0.04966121209156876, 0.744975955791401, 1.380765752411507, -0.09913258611707818, -0.0173910455224437, -0.26210793327733833, 0.7025012802388676, -0.2676980290426366, 1.183745688959957, -0.30081252750805065, 1.1302899155582529, 0.12616991501464422, 0.21576623617202045, -0.9834346650223821, -1.5661059886221966, -0.9159722122701872, -0.687738881103709, -0.8783393694861409, 0.13142141503454097, -0.999799513032423, 1.3017091155615572, 0.6249833259209676, -0.11978667318288742, -1.6292311640901365, -0.359777909757133, 2.3849881417929364, 0.2869900502241777, 1.4796244451981895, 0.3914927718849549, -0.4644079714633704, 0.3138550256411204, -0.7294720829936936, 0.8778292432518824, 0.5100299867180582, -1.6033996341909769, -1.7556474223254064, 0.03476573785462707, -1.0991837072808495, 0.011168969514864416, -0.4445738202776282, 0.2907260945091732, 0.4872393039860094, -0.3999412403791589, -0.24153190514226466, -0.03454279934533933, 2.3387097581289864, 2.075086188575638, 1.0692478258041267, -0.10894477056580423, 1.1242745292790137, -0.4601582054378134, 1.6186449179644091, 0.7256829513800732, -0.5726792763042593, -0.6897959173545347, -0.8915173630909315, 0.052102575888706135, 0.8983249264779419, 1.8745707941752674, 1.3181889173409727, 1.440041086665314, -0.9040115627597497, -0.24271191297650538, -1.4712139923821044, -0.188582347835469, 2.2455499854305674, -0.027270927885148847, -0.5409236894820948, -0.6674933900866732, 0.8511558607048925, 0.14571416315337882, 2.013803554569388, 0.04973900682950704, -0.7688088824404016, 0.3531143006912937, -1.1769891835036244, -1.3906873361924112, -0.07177601401075523, 0.1824648075063022, 0.27392022757742834, 0.8725228683546128, 0.15035304916552594, -0.02325706102937277, 0.45553076574080875, 0.5446700487025833, -0.3543470358396605, 0.5348897116400864, 1.5393243665122833, -1.9016119937946827, -0.3854211013457926, 2.2712556167825833, 1.1000678754984792, 1.119750150706362, -1.1086229210663883, -1.0303125780913684, -1.194505748085431, 0.5781763787372068, 2.033983409227629, 0.9240638059741844, 0.6706776468459335, -0.4309098280905014, 0.6901031428836937, -0.49657062746572056, -0.457718738543111, -1.0534920225402116, -0.4053582624783491, -1.0167215860610666, 0.47534836918890244, -0.6663822959386884, -0.7177213695661315, 1.271285485598453, 0.48593490484037066, -1.9985096442165906, -0.5077446771627225, 1.4099807306276197, 0.2795705513404788, -1.4313353597504725, -0.9058541687188303, -1.4584834204602142, 1.1100254931934577, 2.249049708674928, 0.5037119981188342, -1.6137311090608573, 0.9060583851389888, 0.1128316889983879, -0.17015422947524247, -0.21947735695051532, 0.0946504100863702, 0.5786329252824682, -1.6709282424947438, 0.09464889448752946, 1.3320816070232582, -0.05079402781996618, 1.5168528316094816, -1.5781274436796235, 0.8186581211689424, -0.8990328981079536, 2.412035583446264, 0.1797491084607588, 1.4869201405542094, -1.7993944607947898, -0.7858672165245022, -2.41450882006792, -1.7742384031721306, 2.047142100110566, -1.7271198532516694, -1.588954466305407, -0.28054700716837766, 2.0224975577390834, -0.024351233126666146, 0.3813789121963668, 0.25900820538864094, 0.9128957765228748, 0.9990911162766299, 0.9644330801966527, -2.538035929647335, -0.083059302323931, 1.7666135364556708, -0.3249410129095207, 0.7635748979440498, -0.3723501925035694, 0.25611603355229245, -0.8780863963656185, 0.2697952698665294, -0.35742706767721333, -0.9511095673927766, 0.9221578609584058, -0.24761031918152943, -0.9386176112744303, 0.12405570087841752, -1.0602265389454004, 1.208636245549967, 0.20989438774789743, -0.9848359599986255, -0.1932070364414215, -0.476997506039832, -1.0866062837947208, -0.4617022965593181, 0.2097049888137442, -0.030962241498154196, -1.111727732872041, 1.2147157514149813, 0.8184536786719924, 0.7454700882754394, 0.09039649093808752, -1.2631691177999207, -1.6279956498604802, -1.0383463804383446, 1.5498079586135867, 0.26951426373340404, 1.0167066414401487, -0.2576413445279091, -0.428374357280591, -1.1986379020259361, 1.3432376986638823, 0.06758946069492348, 0.16736885679162306, 0.6883769992093476, 1.2622863578400776, 1.4855465138941384, 0.4882826149276636, -0.7982460742927341, -0.6481341536707965, -1.1154650651894296, -0.55397937339361, 0.5230936692978522, -0.6477212205190713, 0.062267377361292085, 0.05911317653629764, 1.7479507540822536, -0.4192235749834473, 1.778771209541196, 0.5092834747224569, 1.151968104975515, 0.2316213043456976, 1.130087695738295, -0.32285567137279947, -0.06233264715569665, -0.07875802431664466, -1.2301065836667833, 0.8073132661552156, -0.8548891694286521, -0.22303999898989504, 0.03170306556802527, 0.8604327900444939, -0.3145791993203225, -0.4490406786280118, -0.8518450002820349, -0.9462929317553103, 0.4487814599676847, -1.2436874162412763, -0.10108163173099768, 0.54053015061433, -0.4406026515985268, -1.8560448909660365, 0.7022731277091714, -0.6963717158737831, -0.02564955317712126, 1.2800613155187552, -0.5660473051656085, -0.6618876233914646, 1.039268991333114, -0.18813550792452832, -0.533548730487009, -0.3743059432370249, 0.46341058481170555, -2.2143145239329125, 1.3476399821813818, -1.5907884815512454, 0.07994542396402331, 0.18019787588974318, 1.2758744383616445, -0.46786904729443485, 0.44351040858845253, 1.0480151279623207, -2.9552589067361974, -1.2106924781266166, -0.6080717798042827, -1.8380728196099152, 0.044235387919476996, 1.3083721583007688, -0.6214963483338817, 0.3502291743746289, 0.31927807082647575, 0.7924801991544612, 0.30192629239781565, 0.61234977011572, -2.365474283049725, 1.2807632519428562, -0.291214859972226, -1.4306455973918741, 0.9587272066324547, 0.1727647537928504, -0.05523629784918908, 0.37589273040557347, -0.845168942600053, 0.8345857934597704, 2.738887847324301, -0.7990396775118304, 0.35970814651863536, -0.38478782632429254, 0.3095560222054899, -0.33257091663189753, -0.06577167654313272, -1.4778163886771867, 0.530131075227013, -1.2672743066630034, 0.7991868892184326, 0.6763966447623296, -0.5141442921541565, -0.4829933112361459, -2.029406754280368, -0.12326422509780444, -0.08094519454532406, -1.5065701066101056, -0.5015131696616073, -0.41613080366165217, 1.0251910861265698, -1.6532317304070423, 0.568606586388852, 0.9461894062217283, -0.8193041738694347, 0.8115428984660485, -0.2559147570035117, -2.043684182544566, 0.4743153089828473, -0.23934574106135556, -1.1006891892802664, 0.2663169754583225, -0.32170344543012575, -1.6134649923054227, -2.1348708206822815, 0.40208231499261626, -0.44007797361201717, -1.0017005315819423, 0.8103024991730742, -0.7603566600432798, -1.3330016712641513, 1.0185874478262988, -0.4669284681600266, -0.7501103827075406, -1.9715997483497372, -1.0051580170416237, -0.24109227830511334, 1.0858083188913266, 0.27290606153594904, 0.44121970643068037, 0.44777029230666376, -0.8232646995033963, 0.9248948912058231, -1.9570003325432428, -0.8536427447386438, -0.02204989790487881, 0.8742105896899022, -0.24522161151307237, 0.21780913365379917, 0.8258348812356614, 0.3398385894578365, -0.9973386445559941, 0.7413741753324739, 0.5907200148566127, 1.4710422315919613, -0.39285817317953814, -0.44108380528104557, 0.020622914013210404, -0.5400085784854332, -0.7151238544748074, 0.6966349480473714, 0.7162181523626757, -0.01938470219879502, -1.2855046316897558, 0.32992889521706636, 1.3689747845992273, 0.9278501566320544, -0.45398903152916587, -0.49464870866846805, -1.3227057620207068, -2.1333580404633197, 0.05656481643202774, 0.2890843565029356, 0.9083999923633277, 0.1364371327139184, 1.0070652372873365, 0.4318012550568024, -0.1526743569665275, 1.0681289941530416, 0.3741856969969001, -0.3134784118174564, 1.2997646904950169, -0.3330436362315921, -0.22318061147738777, 0.7334108158795545, 0.19394613279297912, -0.11167427894923697, -1.9700431559178366, -1.4973627033203174, 0.8133139223522857, 0.7628401921085938, -0.23501802310697337, -1.2031808362288876, 1.1590228466375987, -0.06772798232812642, -0.08889441251509021, 0.7676910308610769, -0.41672407543522566, 0.32636909572484774, -1.243473179142381, -0.29790989441945864, 0.8925011036173087, 0.9251596575610579, -0.7395715089493227, 0.021233423318929953, 0.10384511957369977, -0.03497993348725333, -0.4359511673213006, 1.6229621862678845, -0.4706211783634847, 1.040522158214663, 0.4030463917525518, 1.0050437928739213, 0.615139174507343, 1.689400561357603, 1.7187655376737114, -1.4680377298053746, 1.052913194556844, 1.3262987149938295, 1.2205351723867495, -0.22862700326843197, 0.23695935337040308, -1.4428218365545022, 1.0927623600461345, -0.7473587305241655, -0.20346419090299442, -0.8581616907245354, -0.678326120884985, 1.1956815002819092, -0.27648321165898676, -0.0890794685436881, -2.053774976036317, -0.7294190976920055, -0.41612464818581624, -0.8028798607089611, -0.5545511347615437, 1.2643895961354896, 0.6136319519550816, -0.7501900776903898, -0.8539272041997746, -0.8800249481233363, 0.33428836670694323, 1.3928485821407028, 0.9921826855834963, 0.27923130559474846, -1.9006411528476168, -1.6752692531708133, 1.0652283136865677, 0.9740897940078862, -0.7139076737476459, 0.6642816581570236, 0.6808678711661657, -0.7065087414580424, -0.7195350720571345, 0.7161929042889641, -0.18462051847190586, -1.0945820626815757, 0.840133901049857, -0.484850191801133, -1.261776209814344, -0.42648869178497556, -0.2517668138376384, 0.7883975806075405, 0.7593336513851804, -1.000371114218278, 0.7254141017485374, 0.4058918980000507, 1.2277193331229213, 0.4784472510793952, 0.3723782752389136, -0.3791093927016261, 0.6404789030869273, -1.0923801282460786, 0.7679633003940655, -0.1497820726712073, -0.12380391056390554, 1.0024649372311565, 0.37159794466840773, -0.13447033587402438, 1.401144761159961, 0.08914179551330063, 0.1730452340220499, 0.01547084228613301, -0.5662425166021228, -0.48550487124843705, -0.17332805102530388, 0.9037698019550273, 0.2027258124473254, 0.5045907090641992, 0.72575831107409, -1.7767879433245923, 2.1349467216749916, -1.2952163200962168, 0.9753329895136559, -1.269630319005062, 1.3615040086112047, 0.9140315622559803, -0.03584530331147152, -0.5781127240279454, 1.241401387477026, -0.9314703361757481, -1.8314269970099988, 1.1462140500398859, 0.7669156464273037, -0.10661033849733076, 0.3865926664453478, 0.47623320147942677, 0.7145110003020245, 0.9723015059224468, 0.5075228648399311, 1.1026016604188256, -1.316038695725824, -0.6944621267177089, 0.10930207622647897, 0.03800531628785441, 1.9178375772796834, 0.2919274566916911, 1.3666427044379623, 1.8741805181777935, 0.5787220364383576, -0.04063463728721132, -2.030915021377018, 1.241232655478122, 1.6144818662034992, -0.3259906007768486, 0.6706334366909029, 1.2605685803000917, 0.39469514882550594, 0.11270766129075714, 0.5311978444153683, 0.13607665477289216, -2.0617471841733064, 1.286928657442384, -0.6659531231653086, 0.9718933720827598, 0.014481310600588795, 0.8710336541149715, -1.1093342343761767, 0.6445558024113244, 0.5468155408453387, -0.09756373470890611, -2.0324947911887254, -0.0968069051624039, -0.21484132556173127, 0.14712184810034212, -0.7820763174811285, 0.08180670826887589, -0.4788261937146483, 0.22815003651102503, -1.6049656810900934, 1.5935817652526412, 0.03309709824681222, -0.25114202157703797, 0.11202487665791287, 0.3861298509725211, 0.5222586039173898, 0.001448985951407824, 0.17360572192275386, 1.2640654249352317, -1.3471453342585273, -0.747131083336377, -1.0530077235057405, -0.1292260192090414, -0.2915750786558554, 1.2470704787128353, 0.8326956886442702, -0.07527212067753501, 0.8577113626920014, 0.8593279607385602, 1.6473472368180846, -1.5825370629854432, -1.7366729994468386, 0.6434710506671166, 0.13099443459753118, -1.0958761015463458, -0.08144647982510901, -0.5286326783964475, -1.8454540847420609, 1.466186861684458, 2.376060855411581, -0.4629370504722098, 1.079149731842824, -1.292587908203772, -1.4533340021247474, 0.7100516354150989, 0.43541633888582676, 0.07011808796130879, 0.3011725778060104, -0.06934922436057821, -2.2026507184798167, -0.35913564292502287, -2.3114789233079605, 0.11012095215692748, -0.026197251264377396, 0.06230749758264849, -0.523546214607716, -0.025831326569130127, 1.016949866196347, -0.6054731489510525, 0.29304769701950506, -1.2815569248892291, 1.8302280100376727, -0.06326033812778738, 2.0902668434939233, -0.3237274287157394, -0.47791394600174697, -0.4782085301163245, -0.6961111615836922, 1.3762348981135637, -0.619291243977868, 1.115161296012162, 0.16343423759147085, 1.0205524397812649, -0.4931063937313019, 0.7242744211739295, -1.986511568891589, 0.29111281399377975, -0.5352447013317213, -0.18580443230560656, -1.0913053427645012, 0.37239853273456586, 1.0769060901501595, 0.36443156556319906, 0.8780427719382524, -0.02453298824649211, -0.19523658828758766, -0.6972485191817804, -1.0030391758725508, -0.05142706095642019, -0.4403116247451662, -0.3805637595219524, -0.48752358918148747, -0.2577152091181055, 1.127676827808492, 1.3063923793200067, -2.1005375272090547, -0.8080368152106501, 0.42877553870726204, 1.229916429143129, -1.5038128202668217, 1.2758827203145044, -0.2681730257096876, -0.03966058059150911, 0.6793521847187608, -0.37710733254955536, 0.37355119976943313, 0.18928766459760454, 0.40767222881492565, 0.9216839224762832, 1.005559100246221, 0.5949228246104261, -0.5012014169503207, -1.281279571227391, -0.8176131544926392, 0.8244404174788688, 0.32862114979616486, 0.48560706004412246, -1.2615435273149467, -0.036222665694833366, 0.3872349241151004, -0.03316893843656378, 2.358648121450509, 0.7669587124913054, -1.1143695301407726, -0.3529324361826723, 0.6836109099388129, 1.2820869167472482, -0.582961552833753, 0.6658368197778262, -0.6260196921176532, -0.26779166689616474, 0.990125023779195, -1.5439052763760983, 1.4555780727995264, 0.33990022107879164, 0.44199386219098324, 0.9670382841662559, -0.4787481018721826, -0.24013307019393457, -1.3774449586235147, -0.7013554360192407, 0.40050241352557653, -0.23235224043997388, 0.7939284415812249, 0.8586283196136045, -1.146033036305083, 2.237118589628563, 0.2685063787054474, 1.2210271613754842, 0.7477937125188363, 0.3593432970417965, -0.03368197516481641, 0.5658284765765762, 0.26796120865590667, -1.553432921001717, 0.4521911671659747, 0.7494685325643908, -0.8406757852879909, -1.5605449159610174, 0.4607221146407505, 0.8384654418389003, -0.7048596759311285, -0.08398359834676809, 1.6771053294517213, 1.251217349165359, 1.1634507930867277, -0.48204108565194803, 0.7972626028776714, 0.1975951013407111, 0.7883947659756368, 0.535638894483501, -1.5342135615182855, 0.33829326072023774, 0.16894216580984123, -0.7937021278681532, -0.3533823514619475, 0.10151689542333141, 0.5947508594907025, 0.25064898188726165, 1.113867421641052, 0.4991919860044686, 0.9122059506406364, -0.3545524512439147, 1.065834916362699, 1.6046833941577414, -0.7362341431109961, 0.6895248484238409, 0.6116354702340345, -0.7481612302416446, 0.47775916460373696, -0.6541672425173441, 1.046918284210579, 0.7743685039335083, -0.032926532866684545, -2.759484711471035, -1.2715112351061173, 0.6007825135004307, -1.1077452455758872, 1.3875712565508436, -0.09181018803728591, -0.6186158635045067, -0.28522746203531135, 1.1619798363524447, -0.5074568467267948, 0.8036210693481777, -0.25165815405901, -0.2578648896175028, -1.438499279941401, -0.2913599175384296, 0.060817005671869, 1.3769956235748897, -0.1312486042425554, 0.4899056907268137, -0.3059039738544831, -0.605078723293003, -1.1038333306043606, -0.06193184256208062, -1.620890180396884, -0.25370060381137594, -0.568648351769695, 0.7170197114691567, 0.8021922497135143, 1.3359333343085824, -0.0860373744240186, 0.49858306912142586, 1.9159478128766971, -1.2709701274005367, -0.7260348342485287, -1.5595719483286337, 0.19567339529599082, 2.502553337980865, -2.2273518618442942, -1.3511922531355556, 0.347470301389285, -0.6143714898676501, 2.156052655459132, 0.5603468508055681, -1.6756688941854172, 1.1547934836217266, -0.5224455286283206, -1.9738333987602381, 1.5735252123066032, -1.0932606257825253, 1.2575007195823833, 0.5584843162303977, -0.08172164629305961, -0.3295044306680116, 0.25105738841459374, 0.05190099858705358, -0.9158532967266093, -1.805367044143394, -0.33455430813147463, 0.671327740893251, 0.32442605975097627, -1.9647477091816883, 1.5688426888257971, -0.15500231994008007, -0.272337393119179, 0.2713384650160146, 1.9300831696099845, 0.7112277866664484, -0.5661195283742967, -1.1368280777736803, 2.8287276923827376, 0.783876922763463, 0.268672582334275, 0.58598120728741, 0.41519476978092973, 1.413250223694653, 0.8707371040816789, 0.8478115454608791, 0.8416002410926312, -0.430514414309718, 0.6131170525973991, 0.9621160145825438, -0.20923743513372248, 0.8537460744702893, 0.9070947969591916, -1.2656141721391219, -0.4422765054649847, -0.8708076263967441, 0.042703946194250185, 0.469567433802472, 0.8899886598497615, -0.16242671064467082, 0.913094965863483, -0.33400685698561733, -1.3111079866795796, -0.5579561110726409, 0.6875756133561444, -0.2897534890361183, 2.015405972143198, -0.006942892687281079, -0.5153579783546884, 1.0331659657928982, -0.29088328191210466, 0.27645843724852065, -0.20005581897384875, 0.6431241634710569, -0.22645008723080012, 1.4565763079440635, 0.025392740666993173, -0.851102707914758, -0.15789577025249585, -0.7356281724486858, 0.2949719569018239, 0.04210357285318301, -0.2094825565727871, -0.03625574204715304, 1.8914412365531792, -1.1260012813242357, -0.21746222075724314, 0.18849867476288598, -0.9627814955561452, 1.1608356608084467, 1.8173103219847084, 0.483312501373453, 1.0013551018545517, 0.3264649418681868, 0.08449739772559432, 0.183965340122034, -0.5328236927237516, 0.3915043622604645, 0.49658242338867686, -0.16825185373832544, -0.2852908961424231, 0.6659652941572518, -0.41981427400405175, -0.7078164795912555, 1.0272959642286625, -0.85349264258082, -1.589065837288137, -1.2065105471474433, -0.8705950701212755, -0.9163122031999404, 1.701057051831151, 0.14421766293914695, 0.7453434772950237, -0.4939720841952424, 1.6138494846308569, 0.42932970425854544, 0.09032070041741252, 0.8957684625888735, 0.4712644251334752, -0.6190258766984522, 0.501638732151209, 2.3876551984882664, -1.4990081577290066, -1.357753531175594, -0.07129244464843751, -0.4462467636204637, -1.7421183153939177, -0.5656257479197417, 0.9061708473471233, 0.7142242041366987, -0.03307625526600524, -0.23762770057350127, 1.3928545699093653, -1.1404025633971036, -1.1145087880487703, 1.3994484971332548, -2.1125282159486947, 1.343724319272574, 0.5516219601435616, 0.8206106402328254, -0.19054784340157346, -0.05997798388283872, 1.0379977026320497, -0.7191237773774072, -1.5672922214153042, -1.0031821587229117, -0.2573925724554862, -3.1330944648612755, 0.17967371130263157, 1.8724752856515314, 2.180291776910062, -1.0529138612298263, 0.9390641203420305, 0.6570555746846487, 0.274439541762871, 0.5825727418818644, -2.149206102298741, -0.7383121709498279, -0.42243878330800577, -0.4153473503930798, -0.5165464705678887, 0.42445917641785963, 0.1750748714354799, 1.2282981139150595, -1.3412004572118048, -0.29789339102549484, 1.0827858532811008, -0.32604259850829664, 1.6761248565521067, 0.4813066539109912, -0.17771929484324653, 0.4655032069369809, 1.554826694947068, 2.5858738685560927, 1.6866532438568036, 0.1272878235214108, -0.5391779990224952, -0.709398895369875, 2.2123209889076025, 0.7736478701541167, 0.0816410684735492, -0.7651031650572263, -0.15937695950923278, -0.737772731505638, 0.6397914615908531, -0.2522049574733123, 0.6045748457570436, 0.4802672766630533, 1.5264727978866885, -0.7575411336154265, -0.4630711135015008, 0.301671385217551, -0.31527519636421564, -1.2646685797596082, 1.335944391543036, 0.6095823214858691, -0.174406029257218, 0.8522028257707622, -0.19832660188497242, -0.1470585591469562, -1.2000038660195083, 0.7446409485819391, 1.010706343057684, 0.020146130187663362, -0.7353203025031437, -2.0361736316152284, 0.7592945710515505, -1.430167208482014, -0.13094456853597064, -2.183753936668168, -0.02294332578377914, -1.1171912979298422, 1.4939098927455259, 0.6061364216260997, -2.155044437468747, 0.7751403387262858, -0.8003211101873121, 0.20963626678304065, 0.703099083938772, -0.3405672455466593, -0.5200978975474682, -0.45702258044052935, -0.8103352302220768, 2.9952827317118347, 0.4466261824006516, -0.07199197438760671, -1.196460728194086, 1.0215699055819742, -0.11597822248137206, -0.1143978420960033, 0.04182272509719269, 0.9737005459119855, 1.452004696972332, 0.16609742163570415, -0.20191212078980253, 0.3520594834349998, -0.2762236852751559, 0.9008242594784046, -0.8685525121430594, -0.9731694488289697, 2.365447884942671, -1.412846294547311, 1.0719012568083404, -0.25439454651222654, -0.34428985878375884, 1.358522503354922, -0.5933427785361537]}],\n",
       "                        {\"template\": {\"data\": {\"bar\": [{\"error_x\": {\"color\": \"#2a3f5f\"}, \"error_y\": {\"color\": \"#2a3f5f\"}, \"marker\": {\"line\": {\"color\": \"#E5ECF6\", \"width\": 0.5}}, \"type\": \"bar\"}], \"barpolar\": [{\"marker\": {\"line\": {\"color\": \"#E5ECF6\", \"width\": 0.5}}, \"type\": \"barpolar\"}], \"carpet\": [{\"aaxis\": {\"endlinecolor\": \"#2a3f5f\", \"gridcolor\": \"white\", \"linecolor\": \"white\", \"minorgridcolor\": \"white\", \"startlinecolor\": \"#2a3f5f\"}, \"baxis\": {\"endlinecolor\": \"#2a3f5f\", \"gridcolor\": \"white\", \"linecolor\": \"white\", \"minorgridcolor\": \"white\", \"startlinecolor\": \"#2a3f5f\"}, \"type\": \"carpet\"}], \"choropleth\": [{\"colorbar\": {\"outlinewidth\": 0, \"ticks\": \"\"}, \"type\": \"choropleth\"}], \"contour\": [{\"colorbar\": {\"outlinewidth\": 0, \"ticks\": \"\"}, \"colorscale\": [[0.0, \"#0d0887\"], [0.1111111111111111, \"#46039f\"], [0.2222222222222222, \"#7201a8\"], [0.3333333333333333, \"#9c179e\"], [0.4444444444444444, \"#bd3786\"], [0.5555555555555556, \"#d8576b\"], [0.6666666666666666, \"#ed7953\"], [0.7777777777777778, \"#fb9f3a\"], [0.8888888888888888, \"#fdca26\"], [1.0, \"#f0f921\"]], \"type\": \"contour\"}], \"contourcarpet\": [{\"colorbar\": {\"outlinewidth\": 0, \"ticks\": \"\"}, \"type\": \"contourcarpet\"}], \"heatmap\": [{\"colorbar\": {\"outlinewidth\": 0, \"ticks\": \"\"}, \"colorscale\": [[0.0, \"#0d0887\"], [0.1111111111111111, \"#46039f\"], [0.2222222222222222, \"#7201a8\"], [0.3333333333333333, \"#9c179e\"], [0.4444444444444444, \"#bd3786\"], [0.5555555555555556, \"#d8576b\"], [0.6666666666666666, \"#ed7953\"], [0.7777777777777778, \"#fb9f3a\"], [0.8888888888888888, \"#fdca26\"], [1.0, \"#f0f921\"]], \"type\": \"heatmap\"}], \"heatmapgl\": [{\"colorbar\": {\"outlinewidth\": 0, \"ticks\": \"\"}, \"colorscale\": [[0.0, \"#0d0887\"], [0.1111111111111111, \"#46039f\"], [0.2222222222222222, \"#7201a8\"], [0.3333333333333333, \"#9c179e\"], [0.4444444444444444, \"#bd3786\"], [0.5555555555555556, \"#d8576b\"], [0.6666666666666666, \"#ed7953\"], [0.7777777777777778, \"#fb9f3a\"], [0.8888888888888888, \"#fdca26\"], [1.0, \"#f0f921\"]], \"type\": \"heatmapgl\"}], \"histogram\": [{\"marker\": {\"colorbar\": {\"outlinewidth\": 0, \"ticks\": \"\"}}, \"type\": \"histogram\"}], \"histogram2d\": [{\"colorbar\": {\"outlinewidth\": 0, \"ticks\": \"\"}, \"colorscale\": [[0.0, \"#0d0887\"], [0.1111111111111111, \"#46039f\"], [0.2222222222222222, \"#7201a8\"], [0.3333333333333333, \"#9c179e\"], [0.4444444444444444, \"#bd3786\"], [0.5555555555555556, \"#d8576b\"], [0.6666666666666666, \"#ed7953\"], [0.7777777777777778, \"#fb9f3a\"], [0.8888888888888888, \"#fdca26\"], [1.0, \"#f0f921\"]], \"type\": \"histogram2d\"}], \"histogram2dcontour\": [{\"colorbar\": {\"outlinewidth\": 0, \"ticks\": \"\"}, \"colorscale\": [[0.0, \"#0d0887\"], [0.1111111111111111, \"#46039f\"], [0.2222222222222222, \"#7201a8\"], [0.3333333333333333, \"#9c179e\"], [0.4444444444444444, \"#bd3786\"], [0.5555555555555556, \"#d8576b\"], [0.6666666666666666, \"#ed7953\"], [0.7777777777777778, \"#fb9f3a\"], [0.8888888888888888, \"#fdca26\"], [1.0, \"#f0f921\"]], \"type\": \"histogram2dcontour\"}], \"mesh3d\": [{\"colorbar\": {\"outlinewidth\": 0, \"ticks\": \"\"}, \"type\": \"mesh3d\"}], \"parcoords\": [{\"line\": {\"colorbar\": {\"outlinewidth\": 0, \"ticks\": \"\"}}, \"type\": \"parcoords\"}], \"pie\": [{\"automargin\": true, \"type\": \"pie\"}], \"scatter\": [{\"marker\": {\"colorbar\": {\"outlinewidth\": 0, \"ticks\": \"\"}}, \"type\": \"scatter\"}], \"scatter3d\": [{\"line\": {\"colorbar\": {\"outlinewidth\": 0, \"ticks\": \"\"}}, \"marker\": {\"colorbar\": {\"outlinewidth\": 0, \"ticks\": \"\"}}, \"type\": \"scatter3d\"}], \"scattercarpet\": [{\"marker\": {\"colorbar\": {\"outlinewidth\": 0, \"ticks\": \"\"}}, \"type\": \"scattercarpet\"}], \"scattergeo\": [{\"marker\": {\"colorbar\": {\"outlinewidth\": 0, \"ticks\": \"\"}}, \"type\": \"scattergeo\"}], \"scattergl\": [{\"marker\": {\"colorbar\": {\"outlinewidth\": 0, \"ticks\": \"\"}}, \"type\": \"scattergl\"}], \"scattermapbox\": [{\"marker\": {\"colorbar\": {\"outlinewidth\": 0, \"ticks\": \"\"}}, \"type\": \"scattermapbox\"}], \"scatterpolar\": [{\"marker\": {\"colorbar\": {\"outlinewidth\": 0, \"ticks\": \"\"}}, \"type\": \"scatterpolar\"}], \"scatterpolargl\": [{\"marker\": {\"colorbar\": {\"outlinewidth\": 0, \"ticks\": \"\"}}, \"type\": \"scatterpolargl\"}], \"scatterternary\": [{\"marker\": {\"colorbar\": {\"outlinewidth\": 0, \"ticks\": \"\"}}, \"type\": \"scatterternary\"}], \"surface\": [{\"colorbar\": {\"outlinewidth\": 0, \"ticks\": \"\"}, \"colorscale\": [[0.0, \"#0d0887\"], [0.1111111111111111, \"#46039f\"], [0.2222222222222222, \"#7201a8\"], [0.3333333333333333, \"#9c179e\"], [0.4444444444444444, \"#bd3786\"], [0.5555555555555556, \"#d8576b\"], [0.6666666666666666, \"#ed7953\"], [0.7777777777777778, \"#fb9f3a\"], [0.8888888888888888, \"#fdca26\"], [1.0, \"#f0f921\"]], \"type\": \"surface\"}], \"table\": [{\"cells\": {\"fill\": {\"color\": \"#EBF0F8\"}, \"line\": {\"color\": \"white\"}}, \"header\": {\"fill\": {\"color\": \"#C8D4E3\"}, \"line\": {\"color\": \"white\"}}, \"type\": \"table\"}]}, \"layout\": {\"annotationdefaults\": {\"arrowcolor\": \"#2a3f5f\", \"arrowhead\": 0, \"arrowwidth\": 1}, \"coloraxis\": {\"colorbar\": {\"outlinewidth\": 0, \"ticks\": \"\"}}, \"colorscale\": {\"diverging\": [[0, \"#8e0152\"], [0.1, \"#c51b7d\"], [0.2, \"#de77ae\"], [0.3, \"#f1b6da\"], [0.4, \"#fde0ef\"], [0.5, \"#f7f7f7\"], [0.6, \"#e6f5d0\"], [0.7, \"#b8e186\"], [0.8, \"#7fbc41\"], [0.9, \"#4d9221\"], [1, \"#276419\"]], \"sequential\": [[0.0, \"#0d0887\"], [0.1111111111111111, \"#46039f\"], [0.2222222222222222, \"#7201a8\"], [0.3333333333333333, \"#9c179e\"], [0.4444444444444444, \"#bd3786\"], [0.5555555555555556, \"#d8576b\"], [0.6666666666666666, \"#ed7953\"], [0.7777777777777778, \"#fb9f3a\"], [0.8888888888888888, \"#fdca26\"], [1.0, \"#f0f921\"]], \"sequentialminus\": [[0.0, \"#0d0887\"], [0.1111111111111111, \"#46039f\"], [0.2222222222222222, \"#7201a8\"], [0.3333333333333333, \"#9c179e\"], [0.4444444444444444, \"#bd3786\"], [0.5555555555555556, \"#d8576b\"], [0.6666666666666666, \"#ed7953\"], [0.7777777777777778, \"#fb9f3a\"], [0.8888888888888888, \"#fdca26\"], [1.0, \"#f0f921\"]]}, \"colorway\": [\"#636efa\", \"#EF553B\", \"#00cc96\", \"#ab63fa\", \"#FFA15A\", \"#19d3f3\", \"#FF6692\", \"#B6E880\", \"#FF97FF\", \"#FECB52\"], \"font\": {\"color\": \"#2a3f5f\"}, \"geo\": {\"bgcolor\": \"white\", \"lakecolor\": \"white\", \"landcolor\": \"#E5ECF6\", \"showlakes\": true, \"showland\": true, \"subunitcolor\": \"white\"}, \"hoverlabel\": {\"align\": \"left\"}, \"hovermode\": \"closest\", \"mapbox\": {\"style\": \"light\"}, \"paper_bgcolor\": \"white\", \"plot_bgcolor\": \"#E5ECF6\", \"polar\": {\"angularaxis\": {\"gridcolor\": \"white\", \"linecolor\": \"white\", \"ticks\": \"\"}, \"bgcolor\": \"#E5ECF6\", \"radialaxis\": {\"gridcolor\": \"white\", \"linecolor\": \"white\", \"ticks\": \"\"}}, \"scene\": {\"xaxis\": {\"backgroundcolor\": \"#E5ECF6\", \"gridcolor\": \"white\", \"gridwidth\": 2, \"linecolor\": \"white\", \"showbackground\": true, \"ticks\": \"\", \"zerolinecolor\": \"white\"}, \"yaxis\": {\"backgroundcolor\": \"#E5ECF6\", \"gridcolor\": \"white\", \"gridwidth\": 2, \"linecolor\": \"white\", \"showbackground\": true, \"ticks\": \"\", \"zerolinecolor\": \"white\"}, \"zaxis\": {\"backgroundcolor\": \"#E5ECF6\", \"gridcolor\": \"white\", \"gridwidth\": 2, \"linecolor\": \"white\", \"showbackground\": true, \"ticks\": \"\", \"zerolinecolor\": \"white\"}}, \"shapedefaults\": {\"line\": {\"color\": \"#2a3f5f\"}}, \"ternary\": {\"aaxis\": {\"gridcolor\": \"white\", \"linecolor\": \"white\", \"ticks\": \"\"}, \"baxis\": {\"gridcolor\": \"white\", \"linecolor\": \"white\", \"ticks\": \"\"}, \"bgcolor\": \"#E5ECF6\", \"caxis\": {\"gridcolor\": \"white\", \"linecolor\": \"white\", \"ticks\": \"\"}}, \"title\": {\"x\": 0.05}, \"xaxis\": {\"automargin\": true, \"gridcolor\": \"white\", \"linecolor\": \"white\", \"ticks\": \"\", \"title\": {\"standoff\": 15}, \"zerolinecolor\": \"white\", \"zerolinewidth\": 2}, \"yaxis\": {\"automargin\": true, \"gridcolor\": \"white\", \"linecolor\": \"white\", \"ticks\": \"\", \"title\": {\"standoff\": 15}, \"zerolinecolor\": \"white\", \"zerolinewidth\": 2}}}},\n",
       "                        {\"responsive\": true}\n",
       "                    ).then(function(){\n",
       "                            \n",
       "var gd = document.getElementById('ebc89057-63f1-4488-9d72-81a86694d112');\n",
       "var x = new MutationObserver(function (mutations, observer) {{\n",
       "        var display = window.getComputedStyle(gd).display;\n",
       "        if (!display || display === 'none') {{\n",
       "            console.log([gd, 'removed!']);\n",
       "            Plotly.purge(gd);\n",
       "            observer.disconnect();\n",
       "        }}\n",
       "}});\n",
       "\n",
       "// Listen for the removal of the full notebook cells\n",
       "var notebookContainer = gd.closest('#notebook-container');\n",
       "if (notebookContainer) {{\n",
       "    x.observe(notebookContainer, {childList: true});\n",
       "}}\n",
       "\n",
       "// Listen for the clearing of the current output cell\n",
       "var outputEl = gd.closest('.output');\n",
       "if (outputEl) {{\n",
       "    x.observe(outputEl, {childList: true});\n",
       "}}\n",
       "\n",
       "                        })\n",
       "                };\n",
       "                });\n",
       "            </script>\n",
       "        </div>"
      ]
     },
     "metadata": {},
     "output_type": "display_data"
    }
   ],
   "source": [
    "import plotly.graph_objs as go\n",
    "import numpy as np\n",
    "\n",
    "x = np.random.randn(2000)\n",
    "y = np.random.randn(2000)\n",
    "iplot([go.Histogram2dContour(x=x, y=y, contours=dict(coloring='heatmap')),\n",
    "       go.Scatter(x=x, y=y, mode='markers', marker=dict(color='white', size=3, opacity=0.3))], show_link=False)"
   ]
  },
  {
   "cell_type": "markdown",
   "metadata": {},
   "source": [
    "# <center>Episode 2</center>"
   ]
  },
  {
   "cell_type": "code",
   "execution_count": 7,
   "metadata": {},
   "outputs": [
    {
     "ename": "ImportError",
     "evalue": "\nThe plotly.plotly module is deprecated,\nplease install the chart-studio package and use the\nchart_studio.plotly module instead. \n",
     "output_type": "error",
     "traceback": [
      "\u001b[0;31m---------------------------------------------------------------------------\u001b[0m",
      "\u001b[0;31mImportError\u001b[0m                               Traceback (most recent call last)",
      "\u001b[0;32m<ipython-input-7-6f5e30c9940a>\u001b[0m in \u001b[0;36m<module>\u001b[0;34m\u001b[0m\n\u001b[0;32m----> 1\u001b[0;31m \u001b[0;32mimport\u001b[0m \u001b[0mplotly\u001b[0m\u001b[0;34m.\u001b[0m\u001b[0mplotly\u001b[0m \u001b[0;32mas\u001b[0m \u001b[0mpy\u001b[0m\u001b[0;34m\u001b[0m\u001b[0;34m\u001b[0m\u001b[0m\n\u001b[0m\u001b[1;32m      2\u001b[0m \u001b[0;32mimport\u001b[0m \u001b[0mplotly\u001b[0m\u001b[0;34m.\u001b[0m\u001b[0mgraph_objs\u001b[0m \u001b[0;32mas\u001b[0m \u001b[0mgo\u001b[0m\u001b[0;34m\u001b[0m\u001b[0;34m\u001b[0m\u001b[0m\n\u001b[1;32m      3\u001b[0m \u001b[0;32mimport\u001b[0m \u001b[0mnumpy\u001b[0m \u001b[0;32mas\u001b[0m \u001b[0mnp\u001b[0m\u001b[0;34m\u001b[0m\u001b[0;34m\u001b[0m\u001b[0m\n",
      "\u001b[0;32m~/opt/anaconda3/envs/plotly/lib/python3.7/site-packages/plotly/plotly/__init__.py\u001b[0m in \u001b[0;36m<module>\u001b[0;34m\u001b[0m\n\u001b[1;32m      2\u001b[0m \u001b[0;32mfrom\u001b[0m \u001b[0m_plotly_future_\u001b[0m \u001b[0;32mimport\u001b[0m \u001b[0m_chart_studio_error\u001b[0m\u001b[0;34m\u001b[0m\u001b[0;34m\u001b[0m\u001b[0m\n\u001b[1;32m      3\u001b[0m \u001b[0;34m\u001b[0m\u001b[0m\n\u001b[0;32m----> 4\u001b[0;31m \u001b[0m_chart_studio_error\u001b[0m\u001b[0;34m(\u001b[0m\u001b[0;34m\"plotly\"\u001b[0m\u001b[0;34m)\u001b[0m\u001b[0;34m\u001b[0m\u001b[0;34m\u001b[0m\u001b[0m\n\u001b[0m",
      "\u001b[0;32m~/opt/anaconda3/envs/plotly/lib/python3.7/site-packages/_plotly_future_/__init__.py\u001b[0m in \u001b[0;36m_chart_studio_error\u001b[0;34m(submodule)\u001b[0m\n\u001b[1;32m     47\u001b[0m \u001b[0mchart_studio\u001b[0m\u001b[0;34m.\u001b[0m\u001b[0;34m{\u001b[0m\u001b[0msubmodule\u001b[0m\u001b[0;34m}\u001b[0m \u001b[0mmodule\u001b[0m \u001b[0minstead\u001b[0m\u001b[0;34m.\u001b[0m\u001b[0;34m\u001b[0m\u001b[0;34m\u001b[0m\u001b[0m\n\u001b[1;32m     48\u001b[0m \"\"\".format(\n\u001b[0;32m---> 49\u001b[0;31m             \u001b[0msubmodule\u001b[0m\u001b[0;34m=\u001b[0m\u001b[0msubmodule\u001b[0m\u001b[0;34m\u001b[0m\u001b[0;34m\u001b[0m\u001b[0m\n\u001b[0m\u001b[1;32m     50\u001b[0m         )\n\u001b[1;32m     51\u001b[0m     )\n",
      "\u001b[0;31mImportError\u001b[0m: \nThe plotly.plotly module is deprecated,\nplease install the chart-studio package and use the\nchart_studio.plotly module instead. \n"
     ]
    }
   ],
   "source": [
    "import plotly.plotly as py\n",
    "import plotly.graph_objs as go\n",
    "import numpy as np"
   ]
  },
  {
   "cell_type": "code",
   "execution_count": null,
   "metadata": {},
   "outputs": [],
   "source": [
    "N = 100\n",
    "example_x = np.random.rand(N)\n",
    "example_y = np.random.rand(N)\n",
    "\n",
    "\n"
   ]
  },
  {
   "cell_type": "code",
   "execution_count": null,
   "metadata": {},
   "outputs": [],
   "source": [
    "trace = go.Scatter(\n",
    "    x = example_x,\n",
    "    y = example_y,\n",
    "    mode = 'markers')"
   ]
  },
  {
   "cell_type": "code",
   "execution_count": null,
   "metadata": {},
   "outputs": [],
   "source": [
    "data = [trace]\n",
    "iplot(data)"
   ]
  },
  {
   "cell_type": "code",
   "execution_count": null,
   "metadata": {},
   "outputs": [],
   "source": []
  },
  {
   "cell_type": "code",
   "execution_count": null,
   "metadata": {},
   "outputs": [],
   "source": []
  },
  {
   "cell_type": "code",
   "execution_count": null,
   "metadata": {},
   "outputs": [],
   "source": []
  },
  {
   "cell_type": "code",
   "execution_count": null,
   "metadata": {},
   "outputs": [],
   "source": []
  },
  {
   "cell_type": "code",
   "execution_count": null,
   "metadata": {},
   "outputs": [],
   "source": []
  },
  {
   "cell_type": "code",
   "execution_count": null,
   "metadata": {},
   "outputs": [],
   "source": []
  },
  {
   "cell_type": "code",
   "execution_count": null,
   "metadata": {},
   "outputs": [],
   "source": []
  },
  {
   "cell_type": "code",
   "execution_count": null,
   "metadata": {},
   "outputs": [],
   "source": []
  },
  {
   "cell_type": "code",
   "execution_count": null,
   "metadata": {},
   "outputs": [],
   "source": [
    "#PIE CHART CREATION"
   ]
  },
  {
   "cell_type": "code",
   "execution_count": null,
   "metadata": {},
   "outputs": [],
   "source": [
    "#Expenses\n",
    "\n",
    "#breakdown each category \n",
    "groups = ['Rent','Food','Bills','Miscellaneous']\n",
    "#create amount\n",
    "amount = [1000,518,331,277]\n",
    "#style\n",
    "colors = ['#d32c58', '#f9b1ee', '#b7f9b1', '#b1f5f9']\n",
    "\n",
    "trace = go.Pie(labels=groups, values=amount,\n",
    "               hoverinfo='label+percent', textinfo='value', \n",
    "               textfont=dict(size=25),\n",
    "               marker=dict(colors=colors, \n",
    "                           line=dict(color='#000000', width=3)))\n",
    "\n",
    "#plot - \n",
    "iplot([trace])"
   ]
  },
  {
   "cell_type": "code",
   "execution_count": null,
   "metadata": {},
   "outputs": [],
   "source": []
  },
  {
   "cell_type": "code",
   "execution_count": null,
   "metadata": {},
   "outputs": [],
   "source": []
  },
  {
   "cell_type": "markdown",
   "metadata": {},
   "source": [
    "## <center> Episode 3 </center>"
   ]
  },
  {
   "cell_type": "code",
   "execution_count": null,
   "metadata": {},
   "outputs": [],
   "source": [
    "import pandas as pd"
   ]
  },
  {
   "cell_type": "code",
   "execution_count": null,
   "metadata": {},
   "outputs": [],
   "source": [
    "pubg = pd.read_csv('PUBG.csv')\n",
    "#pubg.head(10)\n",
    "df_pubg = pubg.apply(pd.to_numeric, errors='ignore')\n",
    "df_new_pubg = df_pubg.head(10)"
   ]
  },
  {
   "cell_type": "code",
   "execution_count": null,
   "metadata": {},
   "outputs": [],
   "source": [
    "#df_new_pubg.head(10)"
   ]
  },
  {
   "cell_type": "code",
   "execution_count": null,
   "metadata": {},
   "outputs": [],
   "source": [
    "\n",
    "trace = go.Scatter(x = df_new_pubg['solo_RoundsPlayed'], y= df_new_pubg['solo_Wins'],\n",
    "                  name ='Rounds Won')\n",
    "layout = go.Layout(title='PUBG Wins vs Rounds Played',\n",
    "                   plot_bgcolor='rgb(230, 230,230)', \n",
    "                   showlegend=True)\n",
    "fig = go.Figure(data=[trace], layout=layout)\n",
    "\n",
    "iplot(fig, filename='test')"
   ]
  },
  {
   "cell_type": "code",
   "execution_count": null,
   "metadata": {},
   "outputs": [],
   "source": [
    "df_bar_pubg = df_pubg.head(30)"
   ]
  },
  {
   "cell_type": "code",
   "execution_count": null,
   "metadata": {},
   "outputs": [],
   "source": [
    "trace1 = go.Bar( \n",
    "        x = df_bar_pubg['player_name'],\n",
    "        y = df_bar_pubg['solo_RoundsPlayed'],\n",
    "        name= 'Rounds Played')\n",
    "\n",
    "trace2 = go.Bar( \n",
    "        x = df_bar_pubg['player_name'],\n",
    "        y = df_bar_pubg['solo_Wins'],\n",
    "        name= 'Wins')\n",
    "\n"
   ]
  },
  {
   "cell_type": "code",
   "execution_count": null,
   "metadata": {},
   "outputs": [],
   "source": [
    "data = [trace1, trace2]\n",
    "layout = go.Layout(barmode='group')\n",
    "\n",
    "fig = go.Figure(data=data, layout=layout)\n",
    "iplot(fig, filename='grouped-bar')"
   ]
  },
  {
   "cell_type": "code",
   "execution_count": null,
   "metadata": {},
   "outputs": [],
   "source": []
  },
  {
   "cell_type": "code",
   "execution_count": null,
   "metadata": {},
   "outputs": [],
   "source": []
  },
  {
   "cell_type": "markdown",
   "metadata": {},
   "source": [
    "## <center> Episode 4 </center>"
   ]
  },
  {
   "cell_type": "code",
   "execution_count": null,
   "metadata": {
    "scrolled": true
   },
   "outputs": [],
   "source": [
    "df_bar_pubg.head(10)"
   ]
  },
  {
   "cell_type": "code",
   "execution_count": null,
   "metadata": {},
   "outputs": [],
   "source": [
    "import plotly.figure_factory as ff\n",
    "\n",
    "x = df_bar_pubg['solo_Wins']\n",
    "y = df_bar_pubg['solo_TimeSurvived']\n",
    "#z = df_bar_pubg['squad_Heals']\n",
    "\n",
    "colorscale = ['#7A4579', '#D56073', 'rgb(236,158,105)', (1, 1, 0.2), (0.98,0.98,0.98)]\n",
    "\n",
    "fig = ff.create_2d_density(\n",
    "    x, y, colorscale=colorscale,\n",
    "    hist_color='rgb(255, 237, 222)', point_size=3\n",
    ")\n",
    "\n",
    "\n",
    "iplot(fig, filename='histogram_subplots')"
   ]
  },
  {
   "cell_type": "code",
   "execution_count": null,
   "metadata": {},
   "outputs": [],
   "source": [
    "df_bar_pubg.head(1)"
   ]
  },
  {
   "cell_type": "code",
   "execution_count": null,
   "metadata": {},
   "outputs": [],
   "source": [
    "#3D Plotly visualization"
   ]
  },
  {
   "cell_type": "code",
   "execution_count": 8,
   "metadata": {},
   "outputs": [
    {
     "ename": "AttributeError",
     "evalue": "module 'plotly.tools' has no attribute 'set_credentials_file'",
     "output_type": "error",
     "traceback": [
      "\u001b[0;31m---------------------------------------------------------------------------\u001b[0m",
      "\u001b[0;31mAttributeError\u001b[0m                            Traceback (most recent call last)",
      "\u001b[0;32m<ipython-input-8-5be7777c223f>\u001b[0m in \u001b[0;36m<module>\u001b[0;34m\u001b[0m\n\u001b[0;32m----> 1\u001b[0;31m \u001b[0mplotly\u001b[0m\u001b[0;34m.\u001b[0m\u001b[0mtools\u001b[0m\u001b[0;34m.\u001b[0m\u001b[0mset_credentials_file\u001b[0m\u001b[0;34m(\u001b[0m\u001b[0musername\u001b[0m\u001b[0;34m=\u001b[0m\u001b[0;34m'DemoAccount'\u001b[0m\u001b[0;34m,\u001b[0m \u001b[0mapi_key\u001b[0m\u001b[0;34m=\u001b[0m\u001b[0;34m'lr1c37zw81'\u001b[0m\u001b[0;34m)\u001b[0m\u001b[0;34m\u001b[0m\u001b[0;34m\u001b[0m\u001b[0m\n\u001b[0m\u001b[1;32m      2\u001b[0m \u001b[0;34m\u001b[0m\u001b[0m\n\u001b[1;32m      3\u001b[0m \u001b[0mx\u001b[0m \u001b[0;34m=\u001b[0m \u001b[0mdf_bar_pubg\u001b[0m\u001b[0;34m[\u001b[0m\u001b[0;34m'solo_Wins'\u001b[0m\u001b[0;34m]\u001b[0m\u001b[0;34m\u001b[0m\u001b[0;34m\u001b[0m\u001b[0m\n\u001b[1;32m      4\u001b[0m \u001b[0my\u001b[0m \u001b[0;34m=\u001b[0m \u001b[0mdf_bar_pubg\u001b[0m\u001b[0;34m[\u001b[0m\u001b[0;34m'solo_TimeSurvived'\u001b[0m\u001b[0;34m]\u001b[0m\u001b[0;34m\u001b[0m\u001b[0;34m\u001b[0m\u001b[0m\n\u001b[1;32m      5\u001b[0m \u001b[0mz\u001b[0m \u001b[0;34m=\u001b[0m \u001b[0mdf_bar_pubg\u001b[0m\u001b[0;34m[\u001b[0m\u001b[0;34m'solo_RoundsPlayed'\u001b[0m\u001b[0;34m]\u001b[0m\u001b[0;34m\u001b[0m\u001b[0;34m\u001b[0m\u001b[0m\n",
      "\u001b[0;31mAttributeError\u001b[0m: module 'plotly.tools' has no attribute 'set_credentials_file'"
     ]
    }
   ],
   "source": [
    "plotly.tools.set_credentials_file(username='DemoAccount', api_key='lr1c37zw81')\n",
    "\n",
    "x = df_bar_pubg['solo_Wins']\n",
    "y = df_bar_pubg['solo_TimeSurvived']\n",
    "z = df_bar_pubg['solo_RoundsPlayed']\n",
    "\n",
    "trace1 = go.Scatter3d(\n",
    "    x=x,\n",
    "    y=y,\n",
    "    z=z,\n",
    "    mode='markers',\n",
    "    marker=dict(\n",
    "    size=12,\n",
    "    color=z,\n",
    "    colorscale='Viridis',\n",
    "    opacity=0.8))\n",
    "\n",
    "data = [trace1]\n",
    "layout = go.Layout(\n",
    "    margin=dict(\n",
    "    l=0,\n",
    "    r=0,\n",
    "    b=0,\n",
    "    t=0)\n",
    ")\n",
    "\n",
    "fig = go.Figure(data=data, layout=layout)\n",
    "iplot(fig, filename='3d-pubg-plot')"
   ]
  },
  {
   "cell_type": "markdown",
   "metadata": {},
   "source": [
    "From https://plotly.com/python/3d-scatter-plots/"
   ]
  },
  {
   "cell_type": "code",
   "execution_count": 9,
   "metadata": {},
   "outputs": [
    {
     "data": {
      "application/vnd.plotly.v1+json": {
       "config": {
        "plotlyServerURL": "https://plot.ly"
       },
       "data": [
        {
         "hovertemplate": "species=setosa<br>sepal_length=%{x}<br>sepal_width=%{y}<br>petal_width=%{z}<extra></extra>",
         "legendgroup": "setosa",
         "marker": {
          "color": "#636efa",
          "symbol": "circle"
         },
         "mode": "markers",
         "name": "setosa",
         "scene": "scene",
         "showlegend": true,
         "type": "scatter3d",
         "x": [
          5.1,
          4.9,
          4.7,
          4.6,
          5,
          5.4,
          4.6,
          5,
          4.4,
          4.9,
          5.4,
          4.8,
          4.8,
          4.3,
          5.8,
          5.7,
          5.4,
          5.1,
          5.7,
          5.1,
          5.4,
          5.1,
          4.6,
          5.1,
          4.8,
          5,
          5,
          5.2,
          5.2,
          4.7,
          4.8,
          5.4,
          5.2,
          5.5,
          4.9,
          5,
          5.5,
          4.9,
          4.4,
          5.1,
          5,
          4.5,
          4.4,
          5,
          5.1,
          4.8,
          5.1,
          4.6,
          5.3,
          5
         ],
         "y": [
          3.5,
          3,
          3.2,
          3.1,
          3.6,
          3.9,
          3.4,
          3.4,
          2.9,
          3.1,
          3.7,
          3.4,
          3,
          3,
          4,
          4.4,
          3.9,
          3.5,
          3.8,
          3.8,
          3.4,
          3.7,
          3.6,
          3.3,
          3.4,
          3,
          3.4,
          3.5,
          3.4,
          3.2,
          3.1,
          3.4,
          4.1,
          4.2,
          3.1,
          3.2,
          3.5,
          3.1,
          3,
          3.4,
          3.5,
          2.3,
          3.2,
          3.5,
          3.8,
          3,
          3.8,
          3.2,
          3.7,
          3.3
         ],
         "z": [
          0.2,
          0.2,
          0.2,
          0.2,
          0.2,
          0.4,
          0.3,
          0.2,
          0.2,
          0.1,
          0.2,
          0.2,
          0.1,
          0.1,
          0.2,
          0.4,
          0.4,
          0.3,
          0.3,
          0.3,
          0.2,
          0.4,
          0.2,
          0.5,
          0.2,
          0.2,
          0.4,
          0.2,
          0.2,
          0.2,
          0.2,
          0.4,
          0.1,
          0.2,
          0.1,
          0.2,
          0.2,
          0.1,
          0.2,
          0.2,
          0.3,
          0.3,
          0.2,
          0.6,
          0.4,
          0.3,
          0.2,
          0.2,
          0.2,
          0.2
         ]
        },
        {
         "hovertemplate": "species=versicolor<br>sepal_length=%{x}<br>sepal_width=%{y}<br>petal_width=%{z}<extra></extra>",
         "legendgroup": "versicolor",
         "marker": {
          "color": "#EF553B",
          "symbol": "circle"
         },
         "mode": "markers",
         "name": "versicolor",
         "scene": "scene",
         "showlegend": true,
         "type": "scatter3d",
         "x": [
          7,
          6.4,
          6.9,
          5.5,
          6.5,
          5.7,
          6.3,
          4.9,
          6.6,
          5.2,
          5,
          5.9,
          6,
          6.1,
          5.6,
          6.7,
          5.6,
          5.8,
          6.2,
          5.6,
          5.9,
          6.1,
          6.3,
          6.1,
          6.4,
          6.6,
          6.8,
          6.7,
          6,
          5.7,
          5.5,
          5.5,
          5.8,
          6,
          5.4,
          6,
          6.7,
          6.3,
          5.6,
          5.5,
          5.5,
          6.1,
          5.8,
          5,
          5.6,
          5.7,
          5.7,
          6.2,
          5.1,
          5.7
         ],
         "y": [
          3.2,
          3.2,
          3.1,
          2.3,
          2.8,
          2.8,
          3.3,
          2.4,
          2.9,
          2.7,
          2,
          3,
          2.2,
          2.9,
          2.9,
          3.1,
          3,
          2.7,
          2.2,
          2.5,
          3.2,
          2.8,
          2.5,
          2.8,
          2.9,
          3,
          2.8,
          3,
          2.9,
          2.6,
          2.4,
          2.4,
          2.7,
          2.7,
          3,
          3.4,
          3.1,
          2.3,
          3,
          2.5,
          2.6,
          3,
          2.6,
          2.3,
          2.7,
          3,
          2.9,
          2.9,
          2.5,
          2.8
         ],
         "z": [
          1.4,
          1.5,
          1.5,
          1.3,
          1.5,
          1.3,
          1.6,
          1,
          1.3,
          1.4,
          1,
          1.5,
          1,
          1.4,
          1.3,
          1.4,
          1.5,
          1,
          1.5,
          1.1,
          1.8,
          1.3,
          1.5,
          1.2,
          1.3,
          1.4,
          1.4,
          1.7,
          1.5,
          1,
          1.1,
          1,
          1.2,
          1.6,
          1.5,
          1.6,
          1.5,
          1.3,
          1.3,
          1.3,
          1.2,
          1.4,
          1.2,
          1,
          1.3,
          1.2,
          1.3,
          1.3,
          1.1,
          1.3
         ]
        },
        {
         "hovertemplate": "species=virginica<br>sepal_length=%{x}<br>sepal_width=%{y}<br>petal_width=%{z}<extra></extra>",
         "legendgroup": "virginica",
         "marker": {
          "color": "#00cc96",
          "symbol": "circle"
         },
         "mode": "markers",
         "name": "virginica",
         "scene": "scene",
         "showlegend": true,
         "type": "scatter3d",
         "x": [
          6.3,
          5.8,
          7.1,
          6.3,
          6.5,
          7.6,
          4.9,
          7.3,
          6.7,
          7.2,
          6.5,
          6.4,
          6.8,
          5.7,
          5.8,
          6.4,
          6.5,
          7.7,
          7.7,
          6,
          6.9,
          5.6,
          7.7,
          6.3,
          6.7,
          7.2,
          6.2,
          6.1,
          6.4,
          7.2,
          7.4,
          7.9,
          6.4,
          6.3,
          6.1,
          7.7,
          6.3,
          6.4,
          6,
          6.9,
          6.7,
          6.9,
          5.8,
          6.8,
          6.7,
          6.7,
          6.3,
          6.5,
          6.2,
          5.9
         ],
         "y": [
          3.3,
          2.7,
          3,
          2.9,
          3,
          3,
          2.5,
          2.9,
          2.5,
          3.6,
          3.2,
          2.7,
          3,
          2.5,
          2.8,
          3.2,
          3,
          3.8,
          2.6,
          2.2,
          3.2,
          2.8,
          2.8,
          2.7,
          3.3,
          3.2,
          2.8,
          3,
          2.8,
          3,
          2.8,
          3.8,
          2.8,
          2.8,
          2.6,
          3,
          3.4,
          3.1,
          3,
          3.1,
          3.1,
          3.1,
          2.7,
          3.2,
          3.3,
          3,
          2.5,
          3,
          3.4,
          3
         ],
         "z": [
          2.5,
          1.9,
          2.1,
          1.8,
          2.2,
          2.1,
          1.7,
          1.8,
          1.8,
          2.5,
          2,
          1.9,
          2.1,
          2,
          2.4,
          2.3,
          1.8,
          2.2,
          2.3,
          1.5,
          2.3,
          2,
          2,
          1.8,
          2.1,
          1.8,
          1.8,
          1.8,
          2.1,
          1.6,
          1.9,
          2,
          2.2,
          1.5,
          1.4,
          2.3,
          2.4,
          1.8,
          1.8,
          2.1,
          2.4,
          2.3,
          1.9,
          2.3,
          2.5,
          2.3,
          1.9,
          2,
          2.3,
          1.8
         ]
        }
       ],
       "layout": {
        "legend": {
         "title": {
          "text": "species"
         },
         "tracegroupgap": 0
        },
        "margin": {
         "t": 60
        },
        "scene": {
         "domain": {
          "x": [
           0,
           1
          ],
          "y": [
           0,
           1
          ]
         },
         "xaxis": {
          "title": {
           "text": "sepal_length"
          }
         },
         "yaxis": {
          "title": {
           "text": "sepal_width"
          }
         },
         "zaxis": {
          "title": {
           "text": "petal_width"
          }
         }
        },
        "template": {
         "data": {
          "bar": [
           {
            "error_x": {
             "color": "#2a3f5f"
            },
            "error_y": {
             "color": "#2a3f5f"
            },
            "marker": {
             "line": {
              "color": "#E5ECF6",
              "width": 0.5
             }
            },
            "type": "bar"
           }
          ],
          "barpolar": [
           {
            "marker": {
             "line": {
              "color": "#E5ECF6",
              "width": 0.5
             }
            },
            "type": "barpolar"
           }
          ],
          "carpet": [
           {
            "aaxis": {
             "endlinecolor": "#2a3f5f",
             "gridcolor": "white",
             "linecolor": "white",
             "minorgridcolor": "white",
             "startlinecolor": "#2a3f5f"
            },
            "baxis": {
             "endlinecolor": "#2a3f5f",
             "gridcolor": "white",
             "linecolor": "white",
             "minorgridcolor": "white",
             "startlinecolor": "#2a3f5f"
            },
            "type": "carpet"
           }
          ],
          "choropleth": [
           {
            "colorbar": {
             "outlinewidth": 0,
             "ticks": ""
            },
            "type": "choropleth"
           }
          ],
          "contour": [
           {
            "colorbar": {
             "outlinewidth": 0,
             "ticks": ""
            },
            "colorscale": [
             [
              0,
              "#0d0887"
             ],
             [
              0.1111111111111111,
              "#46039f"
             ],
             [
              0.2222222222222222,
              "#7201a8"
             ],
             [
              0.3333333333333333,
              "#9c179e"
             ],
             [
              0.4444444444444444,
              "#bd3786"
             ],
             [
              0.5555555555555556,
              "#d8576b"
             ],
             [
              0.6666666666666666,
              "#ed7953"
             ],
             [
              0.7777777777777778,
              "#fb9f3a"
             ],
             [
              0.8888888888888888,
              "#fdca26"
             ],
             [
              1,
              "#f0f921"
             ]
            ],
            "type": "contour"
           }
          ],
          "contourcarpet": [
           {
            "colorbar": {
             "outlinewidth": 0,
             "ticks": ""
            },
            "type": "contourcarpet"
           }
          ],
          "heatmap": [
           {
            "colorbar": {
             "outlinewidth": 0,
             "ticks": ""
            },
            "colorscale": [
             [
              0,
              "#0d0887"
             ],
             [
              0.1111111111111111,
              "#46039f"
             ],
             [
              0.2222222222222222,
              "#7201a8"
             ],
             [
              0.3333333333333333,
              "#9c179e"
             ],
             [
              0.4444444444444444,
              "#bd3786"
             ],
             [
              0.5555555555555556,
              "#d8576b"
             ],
             [
              0.6666666666666666,
              "#ed7953"
             ],
             [
              0.7777777777777778,
              "#fb9f3a"
             ],
             [
              0.8888888888888888,
              "#fdca26"
             ],
             [
              1,
              "#f0f921"
             ]
            ],
            "type": "heatmap"
           }
          ],
          "heatmapgl": [
           {
            "colorbar": {
             "outlinewidth": 0,
             "ticks": ""
            },
            "colorscale": [
             [
              0,
              "#0d0887"
             ],
             [
              0.1111111111111111,
              "#46039f"
             ],
             [
              0.2222222222222222,
              "#7201a8"
             ],
             [
              0.3333333333333333,
              "#9c179e"
             ],
             [
              0.4444444444444444,
              "#bd3786"
             ],
             [
              0.5555555555555556,
              "#d8576b"
             ],
             [
              0.6666666666666666,
              "#ed7953"
             ],
             [
              0.7777777777777778,
              "#fb9f3a"
             ],
             [
              0.8888888888888888,
              "#fdca26"
             ],
             [
              1,
              "#f0f921"
             ]
            ],
            "type": "heatmapgl"
           }
          ],
          "histogram": [
           {
            "marker": {
             "colorbar": {
              "outlinewidth": 0,
              "ticks": ""
             }
            },
            "type": "histogram"
           }
          ],
          "histogram2d": [
           {
            "colorbar": {
             "outlinewidth": 0,
             "ticks": ""
            },
            "colorscale": [
             [
              0,
              "#0d0887"
             ],
             [
              0.1111111111111111,
              "#46039f"
             ],
             [
              0.2222222222222222,
              "#7201a8"
             ],
             [
              0.3333333333333333,
              "#9c179e"
             ],
             [
              0.4444444444444444,
              "#bd3786"
             ],
             [
              0.5555555555555556,
              "#d8576b"
             ],
             [
              0.6666666666666666,
              "#ed7953"
             ],
             [
              0.7777777777777778,
              "#fb9f3a"
             ],
             [
              0.8888888888888888,
              "#fdca26"
             ],
             [
              1,
              "#f0f921"
             ]
            ],
            "type": "histogram2d"
           }
          ],
          "histogram2dcontour": [
           {
            "colorbar": {
             "outlinewidth": 0,
             "ticks": ""
            },
            "colorscale": [
             [
              0,
              "#0d0887"
             ],
             [
              0.1111111111111111,
              "#46039f"
             ],
             [
              0.2222222222222222,
              "#7201a8"
             ],
             [
              0.3333333333333333,
              "#9c179e"
             ],
             [
              0.4444444444444444,
              "#bd3786"
             ],
             [
              0.5555555555555556,
              "#d8576b"
             ],
             [
              0.6666666666666666,
              "#ed7953"
             ],
             [
              0.7777777777777778,
              "#fb9f3a"
             ],
             [
              0.8888888888888888,
              "#fdca26"
             ],
             [
              1,
              "#f0f921"
             ]
            ],
            "type": "histogram2dcontour"
           }
          ],
          "mesh3d": [
           {
            "colorbar": {
             "outlinewidth": 0,
             "ticks": ""
            },
            "type": "mesh3d"
           }
          ],
          "parcoords": [
           {
            "line": {
             "colorbar": {
              "outlinewidth": 0,
              "ticks": ""
             }
            },
            "type": "parcoords"
           }
          ],
          "pie": [
           {
            "automargin": true,
            "type": "pie"
           }
          ],
          "scatter": [
           {
            "marker": {
             "colorbar": {
              "outlinewidth": 0,
              "ticks": ""
             }
            },
            "type": "scatter"
           }
          ],
          "scatter3d": [
           {
            "line": {
             "colorbar": {
              "outlinewidth": 0,
              "ticks": ""
             }
            },
            "marker": {
             "colorbar": {
              "outlinewidth": 0,
              "ticks": ""
             }
            },
            "type": "scatter3d"
           }
          ],
          "scattercarpet": [
           {
            "marker": {
             "colorbar": {
              "outlinewidth": 0,
              "ticks": ""
             }
            },
            "type": "scattercarpet"
           }
          ],
          "scattergeo": [
           {
            "marker": {
             "colorbar": {
              "outlinewidth": 0,
              "ticks": ""
             }
            },
            "type": "scattergeo"
           }
          ],
          "scattergl": [
           {
            "marker": {
             "colorbar": {
              "outlinewidth": 0,
              "ticks": ""
             }
            },
            "type": "scattergl"
           }
          ],
          "scattermapbox": [
           {
            "marker": {
             "colorbar": {
              "outlinewidth": 0,
              "ticks": ""
             }
            },
            "type": "scattermapbox"
           }
          ],
          "scatterpolar": [
           {
            "marker": {
             "colorbar": {
              "outlinewidth": 0,
              "ticks": ""
             }
            },
            "type": "scatterpolar"
           }
          ],
          "scatterpolargl": [
           {
            "marker": {
             "colorbar": {
              "outlinewidth": 0,
              "ticks": ""
             }
            },
            "type": "scatterpolargl"
           }
          ],
          "scatterternary": [
           {
            "marker": {
             "colorbar": {
              "outlinewidth": 0,
              "ticks": ""
             }
            },
            "type": "scatterternary"
           }
          ],
          "surface": [
           {
            "colorbar": {
             "outlinewidth": 0,
             "ticks": ""
            },
            "colorscale": [
             [
              0,
              "#0d0887"
             ],
             [
              0.1111111111111111,
              "#46039f"
             ],
             [
              0.2222222222222222,
              "#7201a8"
             ],
             [
              0.3333333333333333,
              "#9c179e"
             ],
             [
              0.4444444444444444,
              "#bd3786"
             ],
             [
              0.5555555555555556,
              "#d8576b"
             ],
             [
              0.6666666666666666,
              "#ed7953"
             ],
             [
              0.7777777777777778,
              "#fb9f3a"
             ],
             [
              0.8888888888888888,
              "#fdca26"
             ],
             [
              1,
              "#f0f921"
             ]
            ],
            "type": "surface"
           }
          ],
          "table": [
           {
            "cells": {
             "fill": {
              "color": "#EBF0F8"
             },
             "line": {
              "color": "white"
             }
            },
            "header": {
             "fill": {
              "color": "#C8D4E3"
             },
             "line": {
              "color": "white"
             }
            },
            "type": "table"
           }
          ]
         },
         "layout": {
          "annotationdefaults": {
           "arrowcolor": "#2a3f5f",
           "arrowhead": 0,
           "arrowwidth": 1
          },
          "coloraxis": {
           "colorbar": {
            "outlinewidth": 0,
            "ticks": ""
           }
          },
          "colorscale": {
           "diverging": [
            [
             0,
             "#8e0152"
            ],
            [
             0.1,
             "#c51b7d"
            ],
            [
             0.2,
             "#de77ae"
            ],
            [
             0.3,
             "#f1b6da"
            ],
            [
             0.4,
             "#fde0ef"
            ],
            [
             0.5,
             "#f7f7f7"
            ],
            [
             0.6,
             "#e6f5d0"
            ],
            [
             0.7,
             "#b8e186"
            ],
            [
             0.8,
             "#7fbc41"
            ],
            [
             0.9,
             "#4d9221"
            ],
            [
             1,
             "#276419"
            ]
           ],
           "sequential": [
            [
             0,
             "#0d0887"
            ],
            [
             0.1111111111111111,
             "#46039f"
            ],
            [
             0.2222222222222222,
             "#7201a8"
            ],
            [
             0.3333333333333333,
             "#9c179e"
            ],
            [
             0.4444444444444444,
             "#bd3786"
            ],
            [
             0.5555555555555556,
             "#d8576b"
            ],
            [
             0.6666666666666666,
             "#ed7953"
            ],
            [
             0.7777777777777778,
             "#fb9f3a"
            ],
            [
             0.8888888888888888,
             "#fdca26"
            ],
            [
             1,
             "#f0f921"
            ]
           ],
           "sequentialminus": [
            [
             0,
             "#0d0887"
            ],
            [
             0.1111111111111111,
             "#46039f"
            ],
            [
             0.2222222222222222,
             "#7201a8"
            ],
            [
             0.3333333333333333,
             "#9c179e"
            ],
            [
             0.4444444444444444,
             "#bd3786"
            ],
            [
             0.5555555555555556,
             "#d8576b"
            ],
            [
             0.6666666666666666,
             "#ed7953"
            ],
            [
             0.7777777777777778,
             "#fb9f3a"
            ],
            [
             0.8888888888888888,
             "#fdca26"
            ],
            [
             1,
             "#f0f921"
            ]
           ]
          },
          "colorway": [
           "#636efa",
           "#EF553B",
           "#00cc96",
           "#ab63fa",
           "#FFA15A",
           "#19d3f3",
           "#FF6692",
           "#B6E880",
           "#FF97FF",
           "#FECB52"
          ],
          "font": {
           "color": "#2a3f5f"
          },
          "geo": {
           "bgcolor": "white",
           "lakecolor": "white",
           "landcolor": "#E5ECF6",
           "showlakes": true,
           "showland": true,
           "subunitcolor": "white"
          },
          "hoverlabel": {
           "align": "left"
          },
          "hovermode": "closest",
          "mapbox": {
           "style": "light"
          },
          "paper_bgcolor": "white",
          "plot_bgcolor": "#E5ECF6",
          "polar": {
           "angularaxis": {
            "gridcolor": "white",
            "linecolor": "white",
            "ticks": ""
           },
           "bgcolor": "#E5ECF6",
           "radialaxis": {
            "gridcolor": "white",
            "linecolor": "white",
            "ticks": ""
           }
          },
          "scene": {
           "xaxis": {
            "backgroundcolor": "#E5ECF6",
            "gridcolor": "white",
            "gridwidth": 2,
            "linecolor": "white",
            "showbackground": true,
            "ticks": "",
            "zerolinecolor": "white"
           },
           "yaxis": {
            "backgroundcolor": "#E5ECF6",
            "gridcolor": "white",
            "gridwidth": 2,
            "linecolor": "white",
            "showbackground": true,
            "ticks": "",
            "zerolinecolor": "white"
           },
           "zaxis": {
            "backgroundcolor": "#E5ECF6",
            "gridcolor": "white",
            "gridwidth": 2,
            "linecolor": "white",
            "showbackground": true,
            "ticks": "",
            "zerolinecolor": "white"
           }
          },
          "shapedefaults": {
           "line": {
            "color": "#2a3f5f"
           }
          },
          "ternary": {
           "aaxis": {
            "gridcolor": "white",
            "linecolor": "white",
            "ticks": ""
           },
           "baxis": {
            "gridcolor": "white",
            "linecolor": "white",
            "ticks": ""
           },
           "bgcolor": "#E5ECF6",
           "caxis": {
            "gridcolor": "white",
            "linecolor": "white",
            "ticks": ""
           }
          },
          "title": {
           "x": 0.05
          },
          "xaxis": {
           "automargin": true,
           "gridcolor": "white",
           "linecolor": "white",
           "ticks": "",
           "title": {
            "standoff": 15
           },
           "zerolinecolor": "white",
           "zerolinewidth": 2
          },
          "yaxis": {
           "automargin": true,
           "gridcolor": "white",
           "linecolor": "white",
           "ticks": "",
           "title": {
            "standoff": 15
           },
           "zerolinecolor": "white",
           "zerolinewidth": 2
          }
         }
        }
       }
      },
      "text/html": [
       "<div>\n",
       "        \n",
       "        \n",
       "            <div id=\"d4844d2a-bffa-4d0a-8225-afeb264d08e4\" class=\"plotly-graph-div\" style=\"height:525px; width:100%;\"></div>\n",
       "            <script type=\"text/javascript\">\n",
       "                require([\"plotly\"], function(Plotly) {\n",
       "                    window.PLOTLYENV=window.PLOTLYENV || {};\n",
       "                    \n",
       "                if (document.getElementById(\"d4844d2a-bffa-4d0a-8225-afeb264d08e4\")) {\n",
       "                    Plotly.newPlot(\n",
       "                        'd4844d2a-bffa-4d0a-8225-afeb264d08e4',\n",
       "                        [{\"hovertemplate\": \"species=setosa<br>sepal_length=%{x}<br>sepal_width=%{y}<br>petal_width=%{z}<extra></extra>\", \"legendgroup\": \"setosa\", \"marker\": {\"color\": \"#636efa\", \"symbol\": \"circle\"}, \"mode\": \"markers\", \"name\": \"setosa\", \"scene\": \"scene\", \"showlegend\": true, \"type\": \"scatter3d\", \"x\": [5.1, 4.9, 4.7, 4.6, 5.0, 5.4, 4.6, 5.0, 4.4, 4.9, 5.4, 4.8, 4.8, 4.3, 5.8, 5.7, 5.4, 5.1, 5.7, 5.1, 5.4, 5.1, 4.6, 5.1, 4.8, 5.0, 5.0, 5.2, 5.2, 4.7, 4.8, 5.4, 5.2, 5.5, 4.9, 5.0, 5.5, 4.9, 4.4, 5.1, 5.0, 4.5, 4.4, 5.0, 5.1, 4.8, 5.1, 4.6, 5.3, 5.0], \"y\": [3.5, 3.0, 3.2, 3.1, 3.6, 3.9, 3.4, 3.4, 2.9, 3.1, 3.7, 3.4, 3.0, 3.0, 4.0, 4.4, 3.9, 3.5, 3.8, 3.8, 3.4, 3.7, 3.6, 3.3, 3.4, 3.0, 3.4, 3.5, 3.4, 3.2, 3.1, 3.4, 4.1, 4.2, 3.1, 3.2, 3.5, 3.1, 3.0, 3.4, 3.5, 2.3, 3.2, 3.5, 3.8, 3.0, 3.8, 3.2, 3.7, 3.3], \"z\": [0.2, 0.2, 0.2, 0.2, 0.2, 0.4, 0.3, 0.2, 0.2, 0.1, 0.2, 0.2, 0.1, 0.1, 0.2, 0.4, 0.4, 0.3, 0.3, 0.3, 0.2, 0.4, 0.2, 0.5, 0.2, 0.2, 0.4, 0.2, 0.2, 0.2, 0.2, 0.4, 0.1, 0.2, 0.1, 0.2, 0.2, 0.1, 0.2, 0.2, 0.3, 0.3, 0.2, 0.6, 0.4, 0.3, 0.2, 0.2, 0.2, 0.2]}, {\"hovertemplate\": \"species=versicolor<br>sepal_length=%{x}<br>sepal_width=%{y}<br>petal_width=%{z}<extra></extra>\", \"legendgroup\": \"versicolor\", \"marker\": {\"color\": \"#EF553B\", \"symbol\": \"circle\"}, \"mode\": \"markers\", \"name\": \"versicolor\", \"scene\": \"scene\", \"showlegend\": true, \"type\": \"scatter3d\", \"x\": [7.0, 6.4, 6.9, 5.5, 6.5, 5.7, 6.3, 4.9, 6.6, 5.2, 5.0, 5.9, 6.0, 6.1, 5.6, 6.7, 5.6, 5.8, 6.2, 5.6, 5.9, 6.1, 6.3, 6.1, 6.4, 6.6, 6.8, 6.7, 6.0, 5.7, 5.5, 5.5, 5.8, 6.0, 5.4, 6.0, 6.7, 6.3, 5.6, 5.5, 5.5, 6.1, 5.8, 5.0, 5.6, 5.7, 5.7, 6.2, 5.1, 5.7], \"y\": [3.2, 3.2, 3.1, 2.3, 2.8, 2.8, 3.3, 2.4, 2.9, 2.7, 2.0, 3.0, 2.2, 2.9, 2.9, 3.1, 3.0, 2.7, 2.2, 2.5, 3.2, 2.8, 2.5, 2.8, 2.9, 3.0, 2.8, 3.0, 2.9, 2.6, 2.4, 2.4, 2.7, 2.7, 3.0, 3.4, 3.1, 2.3, 3.0, 2.5, 2.6, 3.0, 2.6, 2.3, 2.7, 3.0, 2.9, 2.9, 2.5, 2.8], \"z\": [1.4, 1.5, 1.5, 1.3, 1.5, 1.3, 1.6, 1.0, 1.3, 1.4, 1.0, 1.5, 1.0, 1.4, 1.3, 1.4, 1.5, 1.0, 1.5, 1.1, 1.8, 1.3, 1.5, 1.2, 1.3, 1.4, 1.4, 1.7, 1.5, 1.0, 1.1, 1.0, 1.2, 1.6, 1.5, 1.6, 1.5, 1.3, 1.3, 1.3, 1.2, 1.4, 1.2, 1.0, 1.3, 1.2, 1.3, 1.3, 1.1, 1.3]}, {\"hovertemplate\": \"species=virginica<br>sepal_length=%{x}<br>sepal_width=%{y}<br>petal_width=%{z}<extra></extra>\", \"legendgroup\": \"virginica\", \"marker\": {\"color\": \"#00cc96\", \"symbol\": \"circle\"}, \"mode\": \"markers\", \"name\": \"virginica\", \"scene\": \"scene\", \"showlegend\": true, \"type\": \"scatter3d\", \"x\": [6.3, 5.8, 7.1, 6.3, 6.5, 7.6, 4.9, 7.3, 6.7, 7.2, 6.5, 6.4, 6.8, 5.7, 5.8, 6.4, 6.5, 7.7, 7.7, 6.0, 6.9, 5.6, 7.7, 6.3, 6.7, 7.2, 6.2, 6.1, 6.4, 7.2, 7.4, 7.9, 6.4, 6.3, 6.1, 7.7, 6.3, 6.4, 6.0, 6.9, 6.7, 6.9, 5.8, 6.8, 6.7, 6.7, 6.3, 6.5, 6.2, 5.9], \"y\": [3.3, 2.7, 3.0, 2.9, 3.0, 3.0, 2.5, 2.9, 2.5, 3.6, 3.2, 2.7, 3.0, 2.5, 2.8, 3.2, 3.0, 3.8, 2.6, 2.2, 3.2, 2.8, 2.8, 2.7, 3.3, 3.2, 2.8, 3.0, 2.8, 3.0, 2.8, 3.8, 2.8, 2.8, 2.6, 3.0, 3.4, 3.1, 3.0, 3.1, 3.1, 3.1, 2.7, 3.2, 3.3, 3.0, 2.5, 3.0, 3.4, 3.0], \"z\": [2.5, 1.9, 2.1, 1.8, 2.2, 2.1, 1.7, 1.8, 1.8, 2.5, 2.0, 1.9, 2.1, 2.0, 2.4, 2.3, 1.8, 2.2, 2.3, 1.5, 2.3, 2.0, 2.0, 1.8, 2.1, 1.8, 1.8, 1.8, 2.1, 1.6, 1.9, 2.0, 2.2, 1.5, 1.4, 2.3, 2.4, 1.8, 1.8, 2.1, 2.4, 2.3, 1.9, 2.3, 2.5, 2.3, 1.9, 2.0, 2.3, 1.8]}],\n",
       "                        {\"legend\": {\"title\": {\"text\": \"species\"}, \"tracegroupgap\": 0}, \"margin\": {\"t\": 60}, \"scene\": {\"domain\": {\"x\": [0.0, 1.0], \"y\": [0.0, 1.0]}, \"xaxis\": {\"title\": {\"text\": \"sepal_length\"}}, \"yaxis\": {\"title\": {\"text\": \"sepal_width\"}}, \"zaxis\": {\"title\": {\"text\": \"petal_width\"}}}, \"template\": {\"data\": {\"bar\": [{\"error_x\": {\"color\": \"#2a3f5f\"}, \"error_y\": {\"color\": \"#2a3f5f\"}, \"marker\": {\"line\": {\"color\": \"#E5ECF6\", \"width\": 0.5}}, \"type\": \"bar\"}], \"barpolar\": [{\"marker\": {\"line\": {\"color\": \"#E5ECF6\", \"width\": 0.5}}, \"type\": \"barpolar\"}], \"carpet\": [{\"aaxis\": {\"endlinecolor\": \"#2a3f5f\", \"gridcolor\": \"white\", \"linecolor\": \"white\", \"minorgridcolor\": \"white\", \"startlinecolor\": \"#2a3f5f\"}, \"baxis\": {\"endlinecolor\": \"#2a3f5f\", \"gridcolor\": \"white\", \"linecolor\": \"white\", \"minorgridcolor\": \"white\", \"startlinecolor\": \"#2a3f5f\"}, \"type\": \"carpet\"}], \"choropleth\": [{\"colorbar\": {\"outlinewidth\": 0, \"ticks\": \"\"}, \"type\": \"choropleth\"}], \"contour\": [{\"colorbar\": {\"outlinewidth\": 0, \"ticks\": \"\"}, \"colorscale\": [[0.0, \"#0d0887\"], [0.1111111111111111, \"#46039f\"], [0.2222222222222222, \"#7201a8\"], [0.3333333333333333, \"#9c179e\"], [0.4444444444444444, \"#bd3786\"], [0.5555555555555556, \"#d8576b\"], [0.6666666666666666, \"#ed7953\"], [0.7777777777777778, \"#fb9f3a\"], [0.8888888888888888, \"#fdca26\"], [1.0, \"#f0f921\"]], \"type\": \"contour\"}], \"contourcarpet\": [{\"colorbar\": {\"outlinewidth\": 0, \"ticks\": \"\"}, \"type\": \"contourcarpet\"}], \"heatmap\": [{\"colorbar\": {\"outlinewidth\": 0, \"ticks\": \"\"}, \"colorscale\": [[0.0, \"#0d0887\"], [0.1111111111111111, \"#46039f\"], [0.2222222222222222, \"#7201a8\"], [0.3333333333333333, \"#9c179e\"], [0.4444444444444444, \"#bd3786\"], [0.5555555555555556, \"#d8576b\"], [0.6666666666666666, \"#ed7953\"], [0.7777777777777778, \"#fb9f3a\"], [0.8888888888888888, \"#fdca26\"], [1.0, \"#f0f921\"]], \"type\": \"heatmap\"}], \"heatmapgl\": [{\"colorbar\": {\"outlinewidth\": 0, \"ticks\": \"\"}, \"colorscale\": [[0.0, \"#0d0887\"], [0.1111111111111111, \"#46039f\"], [0.2222222222222222, \"#7201a8\"], [0.3333333333333333, \"#9c179e\"], [0.4444444444444444, \"#bd3786\"], [0.5555555555555556, \"#d8576b\"], [0.6666666666666666, \"#ed7953\"], [0.7777777777777778, \"#fb9f3a\"], [0.8888888888888888, \"#fdca26\"], [1.0, \"#f0f921\"]], \"type\": \"heatmapgl\"}], \"histogram\": [{\"marker\": {\"colorbar\": {\"outlinewidth\": 0, \"ticks\": \"\"}}, \"type\": \"histogram\"}], \"histogram2d\": [{\"colorbar\": {\"outlinewidth\": 0, \"ticks\": \"\"}, \"colorscale\": [[0.0, \"#0d0887\"], [0.1111111111111111, \"#46039f\"], [0.2222222222222222, \"#7201a8\"], [0.3333333333333333, \"#9c179e\"], [0.4444444444444444, \"#bd3786\"], [0.5555555555555556, \"#d8576b\"], [0.6666666666666666, \"#ed7953\"], [0.7777777777777778, \"#fb9f3a\"], [0.8888888888888888, \"#fdca26\"], [1.0, \"#f0f921\"]], \"type\": \"histogram2d\"}], \"histogram2dcontour\": [{\"colorbar\": {\"outlinewidth\": 0, \"ticks\": \"\"}, \"colorscale\": [[0.0, \"#0d0887\"], [0.1111111111111111, \"#46039f\"], [0.2222222222222222, \"#7201a8\"], [0.3333333333333333, \"#9c179e\"], [0.4444444444444444, \"#bd3786\"], [0.5555555555555556, \"#d8576b\"], [0.6666666666666666, \"#ed7953\"], [0.7777777777777778, \"#fb9f3a\"], [0.8888888888888888, \"#fdca26\"], [1.0, \"#f0f921\"]], \"type\": \"histogram2dcontour\"}], \"mesh3d\": [{\"colorbar\": {\"outlinewidth\": 0, \"ticks\": \"\"}, \"type\": \"mesh3d\"}], \"parcoords\": [{\"line\": {\"colorbar\": {\"outlinewidth\": 0, \"ticks\": \"\"}}, \"type\": \"parcoords\"}], \"pie\": [{\"automargin\": true, \"type\": \"pie\"}], \"scatter\": [{\"marker\": {\"colorbar\": {\"outlinewidth\": 0, \"ticks\": \"\"}}, \"type\": \"scatter\"}], \"scatter3d\": [{\"line\": {\"colorbar\": {\"outlinewidth\": 0, \"ticks\": \"\"}}, \"marker\": {\"colorbar\": {\"outlinewidth\": 0, \"ticks\": \"\"}}, \"type\": \"scatter3d\"}], \"scattercarpet\": [{\"marker\": {\"colorbar\": {\"outlinewidth\": 0, \"ticks\": \"\"}}, \"type\": \"scattercarpet\"}], \"scattergeo\": [{\"marker\": {\"colorbar\": {\"outlinewidth\": 0, \"ticks\": \"\"}}, \"type\": \"scattergeo\"}], \"scattergl\": [{\"marker\": {\"colorbar\": {\"outlinewidth\": 0, \"ticks\": \"\"}}, \"type\": \"scattergl\"}], \"scattermapbox\": [{\"marker\": {\"colorbar\": {\"outlinewidth\": 0, \"ticks\": \"\"}}, \"type\": \"scattermapbox\"}], \"scatterpolar\": [{\"marker\": {\"colorbar\": {\"outlinewidth\": 0, \"ticks\": \"\"}}, \"type\": \"scatterpolar\"}], \"scatterpolargl\": [{\"marker\": {\"colorbar\": {\"outlinewidth\": 0, \"ticks\": \"\"}}, \"type\": \"scatterpolargl\"}], \"scatterternary\": [{\"marker\": {\"colorbar\": {\"outlinewidth\": 0, \"ticks\": \"\"}}, \"type\": \"scatterternary\"}], \"surface\": [{\"colorbar\": {\"outlinewidth\": 0, \"ticks\": \"\"}, \"colorscale\": [[0.0, \"#0d0887\"], [0.1111111111111111, \"#46039f\"], [0.2222222222222222, \"#7201a8\"], [0.3333333333333333, \"#9c179e\"], [0.4444444444444444, \"#bd3786\"], [0.5555555555555556, \"#d8576b\"], [0.6666666666666666, \"#ed7953\"], [0.7777777777777778, \"#fb9f3a\"], [0.8888888888888888, \"#fdca26\"], [1.0, \"#f0f921\"]], \"type\": \"surface\"}], \"table\": [{\"cells\": {\"fill\": {\"color\": \"#EBF0F8\"}, \"line\": {\"color\": \"white\"}}, \"header\": {\"fill\": {\"color\": \"#C8D4E3\"}, \"line\": {\"color\": \"white\"}}, \"type\": \"table\"}]}, \"layout\": {\"annotationdefaults\": {\"arrowcolor\": \"#2a3f5f\", \"arrowhead\": 0, \"arrowwidth\": 1}, \"coloraxis\": {\"colorbar\": {\"outlinewidth\": 0, \"ticks\": \"\"}}, \"colorscale\": {\"diverging\": [[0, \"#8e0152\"], [0.1, \"#c51b7d\"], [0.2, \"#de77ae\"], [0.3, \"#f1b6da\"], [0.4, \"#fde0ef\"], [0.5, \"#f7f7f7\"], [0.6, \"#e6f5d0\"], [0.7, \"#b8e186\"], [0.8, \"#7fbc41\"], [0.9, \"#4d9221\"], [1, \"#276419\"]], \"sequential\": [[0.0, \"#0d0887\"], [0.1111111111111111, \"#46039f\"], [0.2222222222222222, \"#7201a8\"], [0.3333333333333333, \"#9c179e\"], [0.4444444444444444, \"#bd3786\"], [0.5555555555555556, \"#d8576b\"], [0.6666666666666666, \"#ed7953\"], [0.7777777777777778, \"#fb9f3a\"], [0.8888888888888888, \"#fdca26\"], [1.0, \"#f0f921\"]], \"sequentialminus\": [[0.0, \"#0d0887\"], [0.1111111111111111, \"#46039f\"], [0.2222222222222222, \"#7201a8\"], [0.3333333333333333, \"#9c179e\"], [0.4444444444444444, \"#bd3786\"], [0.5555555555555556, \"#d8576b\"], [0.6666666666666666, \"#ed7953\"], [0.7777777777777778, \"#fb9f3a\"], [0.8888888888888888, \"#fdca26\"], [1.0, \"#f0f921\"]]}, \"colorway\": [\"#636efa\", \"#EF553B\", \"#00cc96\", \"#ab63fa\", \"#FFA15A\", \"#19d3f3\", \"#FF6692\", \"#B6E880\", \"#FF97FF\", \"#FECB52\"], \"font\": {\"color\": \"#2a3f5f\"}, \"geo\": {\"bgcolor\": \"white\", \"lakecolor\": \"white\", \"landcolor\": \"#E5ECF6\", \"showlakes\": true, \"showland\": true, \"subunitcolor\": \"white\"}, \"hoverlabel\": {\"align\": \"left\"}, \"hovermode\": \"closest\", \"mapbox\": {\"style\": \"light\"}, \"paper_bgcolor\": \"white\", \"plot_bgcolor\": \"#E5ECF6\", \"polar\": {\"angularaxis\": {\"gridcolor\": \"white\", \"linecolor\": \"white\", \"ticks\": \"\"}, \"bgcolor\": \"#E5ECF6\", \"radialaxis\": {\"gridcolor\": \"white\", \"linecolor\": \"white\", \"ticks\": \"\"}}, \"scene\": {\"xaxis\": {\"backgroundcolor\": \"#E5ECF6\", \"gridcolor\": \"white\", \"gridwidth\": 2, \"linecolor\": \"white\", \"showbackground\": true, \"ticks\": \"\", \"zerolinecolor\": \"white\"}, \"yaxis\": {\"backgroundcolor\": \"#E5ECF6\", \"gridcolor\": \"white\", \"gridwidth\": 2, \"linecolor\": \"white\", \"showbackground\": true, \"ticks\": \"\", \"zerolinecolor\": \"white\"}, \"zaxis\": {\"backgroundcolor\": \"#E5ECF6\", \"gridcolor\": \"white\", \"gridwidth\": 2, \"linecolor\": \"white\", \"showbackground\": true, \"ticks\": \"\", \"zerolinecolor\": \"white\"}}, \"shapedefaults\": {\"line\": {\"color\": \"#2a3f5f\"}}, \"ternary\": {\"aaxis\": {\"gridcolor\": \"white\", \"linecolor\": \"white\", \"ticks\": \"\"}, \"baxis\": {\"gridcolor\": \"white\", \"linecolor\": \"white\", \"ticks\": \"\"}, \"bgcolor\": \"#E5ECF6\", \"caxis\": {\"gridcolor\": \"white\", \"linecolor\": \"white\", \"ticks\": \"\"}}, \"title\": {\"x\": 0.05}, \"xaxis\": {\"automargin\": true, \"gridcolor\": \"white\", \"linecolor\": \"white\", \"ticks\": \"\", \"title\": {\"standoff\": 15}, \"zerolinecolor\": \"white\", \"zerolinewidth\": 2}, \"yaxis\": {\"automargin\": true, \"gridcolor\": \"white\", \"linecolor\": \"white\", \"ticks\": \"\", \"title\": {\"standoff\": 15}, \"zerolinecolor\": \"white\", \"zerolinewidth\": 2}}}},\n",
       "                        {\"responsive\": true}\n",
       "                    ).then(function(){\n",
       "                            \n",
       "var gd = document.getElementById('d4844d2a-bffa-4d0a-8225-afeb264d08e4');\n",
       "var x = new MutationObserver(function (mutations, observer) {{\n",
       "        var display = window.getComputedStyle(gd).display;\n",
       "        if (!display || display === 'none') {{\n",
       "            console.log([gd, 'removed!']);\n",
       "            Plotly.purge(gd);\n",
       "            observer.disconnect();\n",
       "        }}\n",
       "}});\n",
       "\n",
       "// Listen for the removal of the full notebook cells\n",
       "var notebookContainer = gd.closest('#notebook-container');\n",
       "if (notebookContainer) {{\n",
       "    x.observe(notebookContainer, {childList: true});\n",
       "}}\n",
       "\n",
       "// Listen for the clearing of the current output cell\n",
       "var outputEl = gd.closest('.output');\n",
       "if (outputEl) {{\n",
       "    x.observe(outputEl, {childList: true});\n",
       "}}\n",
       "\n",
       "                        })\n",
       "                };\n",
       "                });\n",
       "            </script>\n",
       "        </div>"
      ]
     },
     "metadata": {},
     "output_type": "display_data"
    }
   ],
   "source": [
    "import plotly.express as px\n",
    "df = px.data.iris()\n",
    "fig = px.scatter_3d(df, x='sepal_length', y='sepal_width', z='petal_width',\n",
    "              color='species')\n",
    "fig.show()"
   ]
  },
  {
   "cell_type": "code",
   "execution_count": 12,
   "metadata": {},
   "outputs": [
    {
     "data": {
      "application/vnd.plotly.v1+json": {
       "config": {
        "plotlyServerURL": "https://plot.ly"
       },
       "data": [
        {
         "hovertemplate": "species=setosa<br>sepal_length=%{x}<br>sepal_width=%{y}<br>petal_width=%{z}<br>petal_length=%{marker.color}<extra></extra>",
         "legendgroup": "setosa",
         "marker": {
          "color": [
           1.4,
           1.4,
           1.3,
           1.5,
           1.4,
           1.7,
           1.4,
           1.5,
           1.4,
           1.5,
           1.5,
           1.6,
           1.4,
           1.1,
           1.2,
           1.5,
           1.3,
           1.4,
           1.7,
           1.5,
           1.7,
           1.5,
           1,
           1.7,
           1.9,
           1.6,
           1.6,
           1.5,
           1.4,
           1.6,
           1.6,
           1.5,
           1.5,
           1.4,
           1.5,
           1.2,
           1.3,
           1.5,
           1.3,
           1.5,
           1.3,
           1.3,
           1.3,
           1.6,
           1.9,
           1.4,
           1.6,
           1.4,
           1.5,
           1.4
          ],
          "coloraxis": "coloraxis",
          "opacity": 0.7,
          "size": [
           1.4,
           1.4,
           1.3,
           1.5,
           1.4,
           1.7,
           1.4,
           1.5,
           1.4,
           1.5,
           1.5,
           1.6,
           1.4,
           1.1,
           1.2,
           1.5,
           1.3,
           1.4,
           1.7,
           1.5,
           1.7,
           1.5,
           1,
           1.7,
           1.9,
           1.6,
           1.6,
           1.5,
           1.4,
           1.6,
           1.6,
           1.5,
           1.5,
           1.4,
           1.5,
           1.2,
           1.3,
           1.5,
           1.3,
           1.5,
           1.3,
           1.3,
           1.3,
           1.6,
           1.9,
           1.4,
           1.6,
           1.4,
           1.5,
           1.4
          ],
          "sizemode": "area",
          "sizeref": 0.021296296296296296,
          "symbol": "circle"
         },
         "mode": "markers",
         "name": "setosa",
         "scene": "scene",
         "showlegend": true,
         "type": "scatter3d",
         "x": [
          5.1,
          4.9,
          4.7,
          4.6,
          5,
          5.4,
          4.6,
          5,
          4.4,
          4.9,
          5.4,
          4.8,
          4.8,
          4.3,
          5.8,
          5.7,
          5.4,
          5.1,
          5.7,
          5.1,
          5.4,
          5.1,
          4.6,
          5.1,
          4.8,
          5,
          5,
          5.2,
          5.2,
          4.7,
          4.8,
          5.4,
          5.2,
          5.5,
          4.9,
          5,
          5.5,
          4.9,
          4.4,
          5.1,
          5,
          4.5,
          4.4,
          5,
          5.1,
          4.8,
          5.1,
          4.6,
          5.3,
          5
         ],
         "y": [
          3.5,
          3,
          3.2,
          3.1,
          3.6,
          3.9,
          3.4,
          3.4,
          2.9,
          3.1,
          3.7,
          3.4,
          3,
          3,
          4,
          4.4,
          3.9,
          3.5,
          3.8,
          3.8,
          3.4,
          3.7,
          3.6,
          3.3,
          3.4,
          3,
          3.4,
          3.5,
          3.4,
          3.2,
          3.1,
          3.4,
          4.1,
          4.2,
          3.1,
          3.2,
          3.5,
          3.1,
          3,
          3.4,
          3.5,
          2.3,
          3.2,
          3.5,
          3.8,
          3,
          3.8,
          3.2,
          3.7,
          3.3
         ],
         "z": [
          0.2,
          0.2,
          0.2,
          0.2,
          0.2,
          0.4,
          0.3,
          0.2,
          0.2,
          0.1,
          0.2,
          0.2,
          0.1,
          0.1,
          0.2,
          0.4,
          0.4,
          0.3,
          0.3,
          0.3,
          0.2,
          0.4,
          0.2,
          0.5,
          0.2,
          0.2,
          0.4,
          0.2,
          0.2,
          0.2,
          0.2,
          0.4,
          0.1,
          0.2,
          0.1,
          0.2,
          0.2,
          0.1,
          0.2,
          0.2,
          0.3,
          0.3,
          0.2,
          0.6,
          0.4,
          0.3,
          0.2,
          0.2,
          0.2,
          0.2
         ]
        },
        {
         "hovertemplate": "species=versicolor<br>sepal_length=%{x}<br>sepal_width=%{y}<br>petal_width=%{z}<br>petal_length=%{marker.color}<extra></extra>",
         "legendgroup": "versicolor",
         "marker": {
          "color": [
           4.7,
           4.5,
           4.9,
           4,
           4.6,
           4.5,
           4.7,
           3.3,
           4.6,
           3.9,
           3.5,
           4.2,
           4,
           4.7,
           3.6,
           4.4,
           4.5,
           4.1,
           4.5,
           3.9,
           4.8,
           4,
           4.9,
           4.7,
           4.3,
           4.4,
           4.8,
           5,
           4.5,
           3.5,
           3.8,
           3.7,
           3.9,
           5.1,
           4.5,
           4.5,
           4.7,
           4.4,
           4.1,
           4,
           4.4,
           4.6,
           4,
           3.3,
           4.2,
           4.2,
           4.2,
           4.3,
           3,
           4.1
          ],
          "coloraxis": "coloraxis",
          "opacity": 0.7,
          "size": [
           4.7,
           4.5,
           4.9,
           4,
           4.6,
           4.5,
           4.7,
           3.3,
           4.6,
           3.9,
           3.5,
           4.2,
           4,
           4.7,
           3.6,
           4.4,
           4.5,
           4.1,
           4.5,
           3.9,
           4.8,
           4,
           4.9,
           4.7,
           4.3,
           4.4,
           4.8,
           5,
           4.5,
           3.5,
           3.8,
           3.7,
           3.9,
           5.1,
           4.5,
           4.5,
           4.7,
           4.4,
           4.1,
           4,
           4.4,
           4.6,
           4,
           3.3,
           4.2,
           4.2,
           4.2,
           4.3,
           3,
           4.1
          ],
          "sizemode": "area",
          "sizeref": 0.021296296296296296,
          "symbol": "diamond"
         },
         "mode": "markers",
         "name": "versicolor",
         "scene": "scene",
         "showlegend": true,
         "type": "scatter3d",
         "x": [
          7,
          6.4,
          6.9,
          5.5,
          6.5,
          5.7,
          6.3,
          4.9,
          6.6,
          5.2,
          5,
          5.9,
          6,
          6.1,
          5.6,
          6.7,
          5.6,
          5.8,
          6.2,
          5.6,
          5.9,
          6.1,
          6.3,
          6.1,
          6.4,
          6.6,
          6.8,
          6.7,
          6,
          5.7,
          5.5,
          5.5,
          5.8,
          6,
          5.4,
          6,
          6.7,
          6.3,
          5.6,
          5.5,
          5.5,
          6.1,
          5.8,
          5,
          5.6,
          5.7,
          5.7,
          6.2,
          5.1,
          5.7
         ],
         "y": [
          3.2,
          3.2,
          3.1,
          2.3,
          2.8,
          2.8,
          3.3,
          2.4,
          2.9,
          2.7,
          2,
          3,
          2.2,
          2.9,
          2.9,
          3.1,
          3,
          2.7,
          2.2,
          2.5,
          3.2,
          2.8,
          2.5,
          2.8,
          2.9,
          3,
          2.8,
          3,
          2.9,
          2.6,
          2.4,
          2.4,
          2.7,
          2.7,
          3,
          3.4,
          3.1,
          2.3,
          3,
          2.5,
          2.6,
          3,
          2.6,
          2.3,
          2.7,
          3,
          2.9,
          2.9,
          2.5,
          2.8
         ],
         "z": [
          1.4,
          1.5,
          1.5,
          1.3,
          1.5,
          1.3,
          1.6,
          1,
          1.3,
          1.4,
          1,
          1.5,
          1,
          1.4,
          1.3,
          1.4,
          1.5,
          1,
          1.5,
          1.1,
          1.8,
          1.3,
          1.5,
          1.2,
          1.3,
          1.4,
          1.4,
          1.7,
          1.5,
          1,
          1.1,
          1,
          1.2,
          1.6,
          1.5,
          1.6,
          1.5,
          1.3,
          1.3,
          1.3,
          1.2,
          1.4,
          1.2,
          1,
          1.3,
          1.2,
          1.3,
          1.3,
          1.1,
          1.3
         ]
        },
        {
         "hovertemplate": "species=virginica<br>sepal_length=%{x}<br>sepal_width=%{y}<br>petal_width=%{z}<br>petal_length=%{marker.color}<extra></extra>",
         "legendgroup": "virginica",
         "marker": {
          "color": [
           6,
           5.1,
           5.9,
           5.6,
           5.8,
           6.6,
           4.5,
           6.3,
           5.8,
           6.1,
           5.1,
           5.3,
           5.5,
           5,
           5.1,
           5.3,
           5.5,
           6.7,
           6.9,
           5,
           5.7,
           4.9,
           6.7,
           4.9,
           5.7,
           6,
           4.8,
           4.9,
           5.6,
           5.8,
           6.1,
           6.4,
           5.6,
           5.1,
           5.6,
           6.1,
           5.6,
           5.5,
           4.8,
           5.4,
           5.6,
           5.1,
           5.1,
           5.9,
           5.7,
           5.2,
           5,
           5.2,
           5.4,
           5.1
          ],
          "coloraxis": "coloraxis",
          "opacity": 0.7,
          "size": [
           6,
           5.1,
           5.9,
           5.6,
           5.8,
           6.6,
           4.5,
           6.3,
           5.8,
           6.1,
           5.1,
           5.3,
           5.5,
           5,
           5.1,
           5.3,
           5.5,
           6.7,
           6.9,
           5,
           5.7,
           4.9,
           6.7,
           4.9,
           5.7,
           6,
           4.8,
           4.9,
           5.6,
           5.8,
           6.1,
           6.4,
           5.6,
           5.1,
           5.6,
           6.1,
           5.6,
           5.5,
           4.8,
           5.4,
           5.6,
           5.1,
           5.1,
           5.9,
           5.7,
           5.2,
           5,
           5.2,
           5.4,
           5.1
          ],
          "sizemode": "area",
          "sizeref": 0.021296296296296296,
          "symbol": "square"
         },
         "mode": "markers",
         "name": "virginica",
         "scene": "scene",
         "showlegend": true,
         "type": "scatter3d",
         "x": [
          6.3,
          5.8,
          7.1,
          6.3,
          6.5,
          7.6,
          4.9,
          7.3,
          6.7,
          7.2,
          6.5,
          6.4,
          6.8,
          5.7,
          5.8,
          6.4,
          6.5,
          7.7,
          7.7,
          6,
          6.9,
          5.6,
          7.7,
          6.3,
          6.7,
          7.2,
          6.2,
          6.1,
          6.4,
          7.2,
          7.4,
          7.9,
          6.4,
          6.3,
          6.1,
          7.7,
          6.3,
          6.4,
          6,
          6.9,
          6.7,
          6.9,
          5.8,
          6.8,
          6.7,
          6.7,
          6.3,
          6.5,
          6.2,
          5.9
         ],
         "y": [
          3.3,
          2.7,
          3,
          2.9,
          3,
          3,
          2.5,
          2.9,
          2.5,
          3.6,
          3.2,
          2.7,
          3,
          2.5,
          2.8,
          3.2,
          3,
          3.8,
          2.6,
          2.2,
          3.2,
          2.8,
          2.8,
          2.7,
          3.3,
          3.2,
          2.8,
          3,
          2.8,
          3,
          2.8,
          3.8,
          2.8,
          2.8,
          2.6,
          3,
          3.4,
          3.1,
          3,
          3.1,
          3.1,
          3.1,
          2.7,
          3.2,
          3.3,
          3,
          2.5,
          3,
          3.4,
          3
         ],
         "z": [
          2.5,
          1.9,
          2.1,
          1.8,
          2.2,
          2.1,
          1.7,
          1.8,
          1.8,
          2.5,
          2,
          1.9,
          2.1,
          2,
          2.4,
          2.3,
          1.8,
          2.2,
          2.3,
          1.5,
          2.3,
          2,
          2,
          1.8,
          2.1,
          1.8,
          1.8,
          1.8,
          2.1,
          1.6,
          1.9,
          2,
          2.2,
          1.5,
          1.4,
          2.3,
          2.4,
          1.8,
          1.8,
          2.1,
          2.4,
          2.3,
          1.9,
          2.3,
          2.5,
          2.3,
          1.9,
          2,
          2.3,
          1.8
         ]
        }
       ],
       "layout": {
        "coloraxis": {
         "colorbar": {
          "title": {
           "text": "petal_length"
          }
         },
         "colorscale": [
          [
           0,
           "#0d0887"
          ],
          [
           0.1111111111111111,
           "#46039f"
          ],
          [
           0.2222222222222222,
           "#7201a8"
          ],
          [
           0.3333333333333333,
           "#9c179e"
          ],
          [
           0.4444444444444444,
           "#bd3786"
          ],
          [
           0.5555555555555556,
           "#d8576b"
          ],
          [
           0.6666666666666666,
           "#ed7953"
          ],
          [
           0.7777777777777778,
           "#fb9f3a"
          ],
          [
           0.8888888888888888,
           "#fdca26"
          ],
          [
           1,
           "#f0f921"
          ]
         ]
        },
        "legend": {
         "itemsizing": "constant",
         "title": {
          "text": "species"
         },
         "tracegroupgap": 0
        },
        "margin": {
         "b": 0,
         "l": 0,
         "r": 0,
         "t": 0
        },
        "scene": {
         "domain": {
          "x": [
           0,
           1
          ],
          "y": [
           0,
           1
          ]
         },
         "xaxis": {
          "title": {
           "text": "sepal_length"
          }
         },
         "yaxis": {
          "title": {
           "text": "sepal_width"
          }
         },
         "zaxis": {
          "title": {
           "text": "petal_width"
          }
         }
        },
        "template": {
         "data": {
          "bar": [
           {
            "error_x": {
             "color": "#2a3f5f"
            },
            "error_y": {
             "color": "#2a3f5f"
            },
            "marker": {
             "line": {
              "color": "#E5ECF6",
              "width": 0.5
             }
            },
            "type": "bar"
           }
          ],
          "barpolar": [
           {
            "marker": {
             "line": {
              "color": "#E5ECF6",
              "width": 0.5
             }
            },
            "type": "barpolar"
           }
          ],
          "carpet": [
           {
            "aaxis": {
             "endlinecolor": "#2a3f5f",
             "gridcolor": "white",
             "linecolor": "white",
             "minorgridcolor": "white",
             "startlinecolor": "#2a3f5f"
            },
            "baxis": {
             "endlinecolor": "#2a3f5f",
             "gridcolor": "white",
             "linecolor": "white",
             "minorgridcolor": "white",
             "startlinecolor": "#2a3f5f"
            },
            "type": "carpet"
           }
          ],
          "choropleth": [
           {
            "colorbar": {
             "outlinewidth": 0,
             "ticks": ""
            },
            "type": "choropleth"
           }
          ],
          "contour": [
           {
            "colorbar": {
             "outlinewidth": 0,
             "ticks": ""
            },
            "colorscale": [
             [
              0,
              "#0d0887"
             ],
             [
              0.1111111111111111,
              "#46039f"
             ],
             [
              0.2222222222222222,
              "#7201a8"
             ],
             [
              0.3333333333333333,
              "#9c179e"
             ],
             [
              0.4444444444444444,
              "#bd3786"
             ],
             [
              0.5555555555555556,
              "#d8576b"
             ],
             [
              0.6666666666666666,
              "#ed7953"
             ],
             [
              0.7777777777777778,
              "#fb9f3a"
             ],
             [
              0.8888888888888888,
              "#fdca26"
             ],
             [
              1,
              "#f0f921"
             ]
            ],
            "type": "contour"
           }
          ],
          "contourcarpet": [
           {
            "colorbar": {
             "outlinewidth": 0,
             "ticks": ""
            },
            "type": "contourcarpet"
           }
          ],
          "heatmap": [
           {
            "colorbar": {
             "outlinewidth": 0,
             "ticks": ""
            },
            "colorscale": [
             [
              0,
              "#0d0887"
             ],
             [
              0.1111111111111111,
              "#46039f"
             ],
             [
              0.2222222222222222,
              "#7201a8"
             ],
             [
              0.3333333333333333,
              "#9c179e"
             ],
             [
              0.4444444444444444,
              "#bd3786"
             ],
             [
              0.5555555555555556,
              "#d8576b"
             ],
             [
              0.6666666666666666,
              "#ed7953"
             ],
             [
              0.7777777777777778,
              "#fb9f3a"
             ],
             [
              0.8888888888888888,
              "#fdca26"
             ],
             [
              1,
              "#f0f921"
             ]
            ],
            "type": "heatmap"
           }
          ],
          "heatmapgl": [
           {
            "colorbar": {
             "outlinewidth": 0,
             "ticks": ""
            },
            "colorscale": [
             [
              0,
              "#0d0887"
             ],
             [
              0.1111111111111111,
              "#46039f"
             ],
             [
              0.2222222222222222,
              "#7201a8"
             ],
             [
              0.3333333333333333,
              "#9c179e"
             ],
             [
              0.4444444444444444,
              "#bd3786"
             ],
             [
              0.5555555555555556,
              "#d8576b"
             ],
             [
              0.6666666666666666,
              "#ed7953"
             ],
             [
              0.7777777777777778,
              "#fb9f3a"
             ],
             [
              0.8888888888888888,
              "#fdca26"
             ],
             [
              1,
              "#f0f921"
             ]
            ],
            "type": "heatmapgl"
           }
          ],
          "histogram": [
           {
            "marker": {
             "colorbar": {
              "outlinewidth": 0,
              "ticks": ""
             }
            },
            "type": "histogram"
           }
          ],
          "histogram2d": [
           {
            "colorbar": {
             "outlinewidth": 0,
             "ticks": ""
            },
            "colorscale": [
             [
              0,
              "#0d0887"
             ],
             [
              0.1111111111111111,
              "#46039f"
             ],
             [
              0.2222222222222222,
              "#7201a8"
             ],
             [
              0.3333333333333333,
              "#9c179e"
             ],
             [
              0.4444444444444444,
              "#bd3786"
             ],
             [
              0.5555555555555556,
              "#d8576b"
             ],
             [
              0.6666666666666666,
              "#ed7953"
             ],
             [
              0.7777777777777778,
              "#fb9f3a"
             ],
             [
              0.8888888888888888,
              "#fdca26"
             ],
             [
              1,
              "#f0f921"
             ]
            ],
            "type": "histogram2d"
           }
          ],
          "histogram2dcontour": [
           {
            "colorbar": {
             "outlinewidth": 0,
             "ticks": ""
            },
            "colorscale": [
             [
              0,
              "#0d0887"
             ],
             [
              0.1111111111111111,
              "#46039f"
             ],
             [
              0.2222222222222222,
              "#7201a8"
             ],
             [
              0.3333333333333333,
              "#9c179e"
             ],
             [
              0.4444444444444444,
              "#bd3786"
             ],
             [
              0.5555555555555556,
              "#d8576b"
             ],
             [
              0.6666666666666666,
              "#ed7953"
             ],
             [
              0.7777777777777778,
              "#fb9f3a"
             ],
             [
              0.8888888888888888,
              "#fdca26"
             ],
             [
              1,
              "#f0f921"
             ]
            ],
            "type": "histogram2dcontour"
           }
          ],
          "mesh3d": [
           {
            "colorbar": {
             "outlinewidth": 0,
             "ticks": ""
            },
            "type": "mesh3d"
           }
          ],
          "parcoords": [
           {
            "line": {
             "colorbar": {
              "outlinewidth": 0,
              "ticks": ""
             }
            },
            "type": "parcoords"
           }
          ],
          "pie": [
           {
            "automargin": true,
            "type": "pie"
           }
          ],
          "scatter": [
           {
            "marker": {
             "colorbar": {
              "outlinewidth": 0,
              "ticks": ""
             }
            },
            "type": "scatter"
           }
          ],
          "scatter3d": [
           {
            "line": {
             "colorbar": {
              "outlinewidth": 0,
              "ticks": ""
             }
            },
            "marker": {
             "colorbar": {
              "outlinewidth": 0,
              "ticks": ""
             }
            },
            "type": "scatter3d"
           }
          ],
          "scattercarpet": [
           {
            "marker": {
             "colorbar": {
              "outlinewidth": 0,
              "ticks": ""
             }
            },
            "type": "scattercarpet"
           }
          ],
          "scattergeo": [
           {
            "marker": {
             "colorbar": {
              "outlinewidth": 0,
              "ticks": ""
             }
            },
            "type": "scattergeo"
           }
          ],
          "scattergl": [
           {
            "marker": {
             "colorbar": {
              "outlinewidth": 0,
              "ticks": ""
             }
            },
            "type": "scattergl"
           }
          ],
          "scattermapbox": [
           {
            "marker": {
             "colorbar": {
              "outlinewidth": 0,
              "ticks": ""
             }
            },
            "type": "scattermapbox"
           }
          ],
          "scatterpolar": [
           {
            "marker": {
             "colorbar": {
              "outlinewidth": 0,
              "ticks": ""
             }
            },
            "type": "scatterpolar"
           }
          ],
          "scatterpolargl": [
           {
            "marker": {
             "colorbar": {
              "outlinewidth": 0,
              "ticks": ""
             }
            },
            "type": "scatterpolargl"
           }
          ],
          "scatterternary": [
           {
            "marker": {
             "colorbar": {
              "outlinewidth": 0,
              "ticks": ""
             }
            },
            "type": "scatterternary"
           }
          ],
          "surface": [
           {
            "colorbar": {
             "outlinewidth": 0,
             "ticks": ""
            },
            "colorscale": [
             [
              0,
              "#0d0887"
             ],
             [
              0.1111111111111111,
              "#46039f"
             ],
             [
              0.2222222222222222,
              "#7201a8"
             ],
             [
              0.3333333333333333,
              "#9c179e"
             ],
             [
              0.4444444444444444,
              "#bd3786"
             ],
             [
              0.5555555555555556,
              "#d8576b"
             ],
             [
              0.6666666666666666,
              "#ed7953"
             ],
             [
              0.7777777777777778,
              "#fb9f3a"
             ],
             [
              0.8888888888888888,
              "#fdca26"
             ],
             [
              1,
              "#f0f921"
             ]
            ],
            "type": "surface"
           }
          ],
          "table": [
           {
            "cells": {
             "fill": {
              "color": "#EBF0F8"
             },
             "line": {
              "color": "white"
             }
            },
            "header": {
             "fill": {
              "color": "#C8D4E3"
             },
             "line": {
              "color": "white"
             }
            },
            "type": "table"
           }
          ]
         },
         "layout": {
          "annotationdefaults": {
           "arrowcolor": "#2a3f5f",
           "arrowhead": 0,
           "arrowwidth": 1
          },
          "coloraxis": {
           "colorbar": {
            "outlinewidth": 0,
            "ticks": ""
           }
          },
          "colorscale": {
           "diverging": [
            [
             0,
             "#8e0152"
            ],
            [
             0.1,
             "#c51b7d"
            ],
            [
             0.2,
             "#de77ae"
            ],
            [
             0.3,
             "#f1b6da"
            ],
            [
             0.4,
             "#fde0ef"
            ],
            [
             0.5,
             "#f7f7f7"
            ],
            [
             0.6,
             "#e6f5d0"
            ],
            [
             0.7,
             "#b8e186"
            ],
            [
             0.8,
             "#7fbc41"
            ],
            [
             0.9,
             "#4d9221"
            ],
            [
             1,
             "#276419"
            ]
           ],
           "sequential": [
            [
             0,
             "#0d0887"
            ],
            [
             0.1111111111111111,
             "#46039f"
            ],
            [
             0.2222222222222222,
             "#7201a8"
            ],
            [
             0.3333333333333333,
             "#9c179e"
            ],
            [
             0.4444444444444444,
             "#bd3786"
            ],
            [
             0.5555555555555556,
             "#d8576b"
            ],
            [
             0.6666666666666666,
             "#ed7953"
            ],
            [
             0.7777777777777778,
             "#fb9f3a"
            ],
            [
             0.8888888888888888,
             "#fdca26"
            ],
            [
             1,
             "#f0f921"
            ]
           ],
           "sequentialminus": [
            [
             0,
             "#0d0887"
            ],
            [
             0.1111111111111111,
             "#46039f"
            ],
            [
             0.2222222222222222,
             "#7201a8"
            ],
            [
             0.3333333333333333,
             "#9c179e"
            ],
            [
             0.4444444444444444,
             "#bd3786"
            ],
            [
             0.5555555555555556,
             "#d8576b"
            ],
            [
             0.6666666666666666,
             "#ed7953"
            ],
            [
             0.7777777777777778,
             "#fb9f3a"
            ],
            [
             0.8888888888888888,
             "#fdca26"
            ],
            [
             1,
             "#f0f921"
            ]
           ]
          },
          "colorway": [
           "#636efa",
           "#EF553B",
           "#00cc96",
           "#ab63fa",
           "#FFA15A",
           "#19d3f3",
           "#FF6692",
           "#B6E880",
           "#FF97FF",
           "#FECB52"
          ],
          "font": {
           "color": "#2a3f5f"
          },
          "geo": {
           "bgcolor": "white",
           "lakecolor": "white",
           "landcolor": "#E5ECF6",
           "showlakes": true,
           "showland": true,
           "subunitcolor": "white"
          },
          "hoverlabel": {
           "align": "left"
          },
          "hovermode": "closest",
          "mapbox": {
           "style": "light"
          },
          "paper_bgcolor": "white",
          "plot_bgcolor": "#E5ECF6",
          "polar": {
           "angularaxis": {
            "gridcolor": "white",
            "linecolor": "white",
            "ticks": ""
           },
           "bgcolor": "#E5ECF6",
           "radialaxis": {
            "gridcolor": "white",
            "linecolor": "white",
            "ticks": ""
           }
          },
          "scene": {
           "xaxis": {
            "backgroundcolor": "#E5ECF6",
            "gridcolor": "white",
            "gridwidth": 2,
            "linecolor": "white",
            "showbackground": true,
            "ticks": "",
            "zerolinecolor": "white"
           },
           "yaxis": {
            "backgroundcolor": "#E5ECF6",
            "gridcolor": "white",
            "gridwidth": 2,
            "linecolor": "white",
            "showbackground": true,
            "ticks": "",
            "zerolinecolor": "white"
           },
           "zaxis": {
            "backgroundcolor": "#E5ECF6",
            "gridcolor": "white",
            "gridwidth": 2,
            "linecolor": "white",
            "showbackground": true,
            "ticks": "",
            "zerolinecolor": "white"
           }
          },
          "shapedefaults": {
           "line": {
            "color": "#2a3f5f"
           }
          },
          "ternary": {
           "aaxis": {
            "gridcolor": "white",
            "linecolor": "white",
            "ticks": ""
           },
           "baxis": {
            "gridcolor": "white",
            "linecolor": "white",
            "ticks": ""
           },
           "bgcolor": "#E5ECF6",
           "caxis": {
            "gridcolor": "white",
            "linecolor": "white",
            "ticks": ""
           }
          },
          "title": {
           "x": 0.05
          },
          "xaxis": {
           "automargin": true,
           "gridcolor": "white",
           "linecolor": "white",
           "ticks": "",
           "title": {
            "standoff": 15
           },
           "zerolinecolor": "white",
           "zerolinewidth": 2
          },
          "yaxis": {
           "automargin": true,
           "gridcolor": "white",
           "linecolor": "white",
           "ticks": "",
           "title": {
            "standoff": 15
           },
           "zerolinecolor": "white",
           "zerolinewidth": 2
          }
         }
        }
       }
      },
      "text/html": [
       "<div>\n",
       "        \n",
       "        \n",
       "            <div id=\"edf4ae29-f819-4636-948b-fa84b028c3e2\" class=\"plotly-graph-div\" style=\"height:525px; width:100%;\"></div>\n",
       "            <script type=\"text/javascript\">\n",
       "                require([\"plotly\"], function(Plotly) {\n",
       "                    window.PLOTLYENV=window.PLOTLYENV || {};\n",
       "                    \n",
       "                if (document.getElementById(\"edf4ae29-f819-4636-948b-fa84b028c3e2\")) {\n",
       "                    Plotly.newPlot(\n",
       "                        'edf4ae29-f819-4636-948b-fa84b028c3e2',\n",
       "                        [{\"hovertemplate\": \"species=setosa<br>sepal_length=%{x}<br>sepal_width=%{y}<br>petal_width=%{z}<br>petal_length=%{marker.color}<extra></extra>\", \"legendgroup\": \"setosa\", \"marker\": {\"color\": [1.4, 1.4, 1.3, 1.5, 1.4, 1.7, 1.4, 1.5, 1.4, 1.5, 1.5, 1.6, 1.4, 1.1, 1.2, 1.5, 1.3, 1.4, 1.7, 1.5, 1.7, 1.5, 1.0, 1.7, 1.9, 1.6, 1.6, 1.5, 1.4, 1.6, 1.6, 1.5, 1.5, 1.4, 1.5, 1.2, 1.3, 1.5, 1.3, 1.5, 1.3, 1.3, 1.3, 1.6, 1.9, 1.4, 1.6, 1.4, 1.5, 1.4], \"coloraxis\": \"coloraxis\", \"opacity\": 0.7, \"size\": [1.4, 1.4, 1.3, 1.5, 1.4, 1.7, 1.4, 1.5, 1.4, 1.5, 1.5, 1.6, 1.4, 1.1, 1.2, 1.5, 1.3, 1.4, 1.7, 1.5, 1.7, 1.5, 1.0, 1.7, 1.9, 1.6, 1.6, 1.5, 1.4, 1.6, 1.6, 1.5, 1.5, 1.4, 1.5, 1.2, 1.3, 1.5, 1.3, 1.5, 1.3, 1.3, 1.3, 1.6, 1.9, 1.4, 1.6, 1.4, 1.5, 1.4], \"sizemode\": \"area\", \"sizeref\": 0.021296296296296296, \"symbol\": \"circle\"}, \"mode\": \"markers\", \"name\": \"setosa\", \"scene\": \"scene\", \"showlegend\": true, \"type\": \"scatter3d\", \"x\": [5.1, 4.9, 4.7, 4.6, 5.0, 5.4, 4.6, 5.0, 4.4, 4.9, 5.4, 4.8, 4.8, 4.3, 5.8, 5.7, 5.4, 5.1, 5.7, 5.1, 5.4, 5.1, 4.6, 5.1, 4.8, 5.0, 5.0, 5.2, 5.2, 4.7, 4.8, 5.4, 5.2, 5.5, 4.9, 5.0, 5.5, 4.9, 4.4, 5.1, 5.0, 4.5, 4.4, 5.0, 5.1, 4.8, 5.1, 4.6, 5.3, 5.0], \"y\": [3.5, 3.0, 3.2, 3.1, 3.6, 3.9, 3.4, 3.4, 2.9, 3.1, 3.7, 3.4, 3.0, 3.0, 4.0, 4.4, 3.9, 3.5, 3.8, 3.8, 3.4, 3.7, 3.6, 3.3, 3.4, 3.0, 3.4, 3.5, 3.4, 3.2, 3.1, 3.4, 4.1, 4.2, 3.1, 3.2, 3.5, 3.1, 3.0, 3.4, 3.5, 2.3, 3.2, 3.5, 3.8, 3.0, 3.8, 3.2, 3.7, 3.3], \"z\": [0.2, 0.2, 0.2, 0.2, 0.2, 0.4, 0.3, 0.2, 0.2, 0.1, 0.2, 0.2, 0.1, 0.1, 0.2, 0.4, 0.4, 0.3, 0.3, 0.3, 0.2, 0.4, 0.2, 0.5, 0.2, 0.2, 0.4, 0.2, 0.2, 0.2, 0.2, 0.4, 0.1, 0.2, 0.1, 0.2, 0.2, 0.1, 0.2, 0.2, 0.3, 0.3, 0.2, 0.6, 0.4, 0.3, 0.2, 0.2, 0.2, 0.2]}, {\"hovertemplate\": \"species=versicolor<br>sepal_length=%{x}<br>sepal_width=%{y}<br>petal_width=%{z}<br>petal_length=%{marker.color}<extra></extra>\", \"legendgroup\": \"versicolor\", \"marker\": {\"color\": [4.7, 4.5, 4.9, 4.0, 4.6, 4.5, 4.7, 3.3, 4.6, 3.9, 3.5, 4.2, 4.0, 4.7, 3.6, 4.4, 4.5, 4.1, 4.5, 3.9, 4.8, 4.0, 4.9, 4.7, 4.3, 4.4, 4.8, 5.0, 4.5, 3.5, 3.8, 3.7, 3.9, 5.1, 4.5, 4.5, 4.7, 4.4, 4.1, 4.0, 4.4, 4.6, 4.0, 3.3, 4.2, 4.2, 4.2, 4.3, 3.0, 4.1], \"coloraxis\": \"coloraxis\", \"opacity\": 0.7, \"size\": [4.7, 4.5, 4.9, 4.0, 4.6, 4.5, 4.7, 3.3, 4.6, 3.9, 3.5, 4.2, 4.0, 4.7, 3.6, 4.4, 4.5, 4.1, 4.5, 3.9, 4.8, 4.0, 4.9, 4.7, 4.3, 4.4, 4.8, 5.0, 4.5, 3.5, 3.8, 3.7, 3.9, 5.1, 4.5, 4.5, 4.7, 4.4, 4.1, 4.0, 4.4, 4.6, 4.0, 3.3, 4.2, 4.2, 4.2, 4.3, 3.0, 4.1], \"sizemode\": \"area\", \"sizeref\": 0.021296296296296296, \"symbol\": \"diamond\"}, \"mode\": \"markers\", \"name\": \"versicolor\", \"scene\": \"scene\", \"showlegend\": true, \"type\": \"scatter3d\", \"x\": [7.0, 6.4, 6.9, 5.5, 6.5, 5.7, 6.3, 4.9, 6.6, 5.2, 5.0, 5.9, 6.0, 6.1, 5.6, 6.7, 5.6, 5.8, 6.2, 5.6, 5.9, 6.1, 6.3, 6.1, 6.4, 6.6, 6.8, 6.7, 6.0, 5.7, 5.5, 5.5, 5.8, 6.0, 5.4, 6.0, 6.7, 6.3, 5.6, 5.5, 5.5, 6.1, 5.8, 5.0, 5.6, 5.7, 5.7, 6.2, 5.1, 5.7], \"y\": [3.2, 3.2, 3.1, 2.3, 2.8, 2.8, 3.3, 2.4, 2.9, 2.7, 2.0, 3.0, 2.2, 2.9, 2.9, 3.1, 3.0, 2.7, 2.2, 2.5, 3.2, 2.8, 2.5, 2.8, 2.9, 3.0, 2.8, 3.0, 2.9, 2.6, 2.4, 2.4, 2.7, 2.7, 3.0, 3.4, 3.1, 2.3, 3.0, 2.5, 2.6, 3.0, 2.6, 2.3, 2.7, 3.0, 2.9, 2.9, 2.5, 2.8], \"z\": [1.4, 1.5, 1.5, 1.3, 1.5, 1.3, 1.6, 1.0, 1.3, 1.4, 1.0, 1.5, 1.0, 1.4, 1.3, 1.4, 1.5, 1.0, 1.5, 1.1, 1.8, 1.3, 1.5, 1.2, 1.3, 1.4, 1.4, 1.7, 1.5, 1.0, 1.1, 1.0, 1.2, 1.6, 1.5, 1.6, 1.5, 1.3, 1.3, 1.3, 1.2, 1.4, 1.2, 1.0, 1.3, 1.2, 1.3, 1.3, 1.1, 1.3]}, {\"hovertemplate\": \"species=virginica<br>sepal_length=%{x}<br>sepal_width=%{y}<br>petal_width=%{z}<br>petal_length=%{marker.color}<extra></extra>\", \"legendgroup\": \"virginica\", \"marker\": {\"color\": [6.0, 5.1, 5.9, 5.6, 5.8, 6.6, 4.5, 6.3, 5.8, 6.1, 5.1, 5.3, 5.5, 5.0, 5.1, 5.3, 5.5, 6.7, 6.9, 5.0, 5.7, 4.9, 6.7, 4.9, 5.7, 6.0, 4.8, 4.9, 5.6, 5.8, 6.1, 6.4, 5.6, 5.1, 5.6, 6.1, 5.6, 5.5, 4.8, 5.4, 5.6, 5.1, 5.1, 5.9, 5.7, 5.2, 5.0, 5.2, 5.4, 5.1], \"coloraxis\": \"coloraxis\", \"opacity\": 0.7, \"size\": [6.0, 5.1, 5.9, 5.6, 5.8, 6.6, 4.5, 6.3, 5.8, 6.1, 5.1, 5.3, 5.5, 5.0, 5.1, 5.3, 5.5, 6.7, 6.9, 5.0, 5.7, 4.9, 6.7, 4.9, 5.7, 6.0, 4.8, 4.9, 5.6, 5.8, 6.1, 6.4, 5.6, 5.1, 5.6, 6.1, 5.6, 5.5, 4.8, 5.4, 5.6, 5.1, 5.1, 5.9, 5.7, 5.2, 5.0, 5.2, 5.4, 5.1], \"sizemode\": \"area\", \"sizeref\": 0.021296296296296296, \"symbol\": \"square\"}, \"mode\": \"markers\", \"name\": \"virginica\", \"scene\": \"scene\", \"showlegend\": true, \"type\": \"scatter3d\", \"x\": [6.3, 5.8, 7.1, 6.3, 6.5, 7.6, 4.9, 7.3, 6.7, 7.2, 6.5, 6.4, 6.8, 5.7, 5.8, 6.4, 6.5, 7.7, 7.7, 6.0, 6.9, 5.6, 7.7, 6.3, 6.7, 7.2, 6.2, 6.1, 6.4, 7.2, 7.4, 7.9, 6.4, 6.3, 6.1, 7.7, 6.3, 6.4, 6.0, 6.9, 6.7, 6.9, 5.8, 6.8, 6.7, 6.7, 6.3, 6.5, 6.2, 5.9], \"y\": [3.3, 2.7, 3.0, 2.9, 3.0, 3.0, 2.5, 2.9, 2.5, 3.6, 3.2, 2.7, 3.0, 2.5, 2.8, 3.2, 3.0, 3.8, 2.6, 2.2, 3.2, 2.8, 2.8, 2.7, 3.3, 3.2, 2.8, 3.0, 2.8, 3.0, 2.8, 3.8, 2.8, 2.8, 2.6, 3.0, 3.4, 3.1, 3.0, 3.1, 3.1, 3.1, 2.7, 3.2, 3.3, 3.0, 2.5, 3.0, 3.4, 3.0], \"z\": [2.5, 1.9, 2.1, 1.8, 2.2, 2.1, 1.7, 1.8, 1.8, 2.5, 2.0, 1.9, 2.1, 2.0, 2.4, 2.3, 1.8, 2.2, 2.3, 1.5, 2.3, 2.0, 2.0, 1.8, 2.1, 1.8, 1.8, 1.8, 2.1, 1.6, 1.9, 2.0, 2.2, 1.5, 1.4, 2.3, 2.4, 1.8, 1.8, 2.1, 2.4, 2.3, 1.9, 2.3, 2.5, 2.3, 1.9, 2.0, 2.3, 1.8]}],\n",
       "                        {\"coloraxis\": {\"colorbar\": {\"title\": {\"text\": \"petal_length\"}}, \"colorscale\": [[0.0, \"#0d0887\"], [0.1111111111111111, \"#46039f\"], [0.2222222222222222, \"#7201a8\"], [0.3333333333333333, \"#9c179e\"], [0.4444444444444444, \"#bd3786\"], [0.5555555555555556, \"#d8576b\"], [0.6666666666666666, \"#ed7953\"], [0.7777777777777778, \"#fb9f3a\"], [0.8888888888888888, \"#fdca26\"], [1.0, \"#f0f921\"]]}, \"legend\": {\"itemsizing\": \"constant\", \"title\": {\"text\": \"species\"}, \"tracegroupgap\": 0}, \"margin\": {\"b\": 0, \"l\": 0, \"r\": 0, \"t\": 0}, \"scene\": {\"domain\": {\"x\": [0.0, 1.0], \"y\": [0.0, 1.0]}, \"xaxis\": {\"title\": {\"text\": \"sepal_length\"}}, \"yaxis\": {\"title\": {\"text\": \"sepal_width\"}}, \"zaxis\": {\"title\": {\"text\": \"petal_width\"}}}, \"template\": {\"data\": {\"bar\": [{\"error_x\": {\"color\": \"#2a3f5f\"}, \"error_y\": {\"color\": \"#2a3f5f\"}, \"marker\": {\"line\": {\"color\": \"#E5ECF6\", \"width\": 0.5}}, \"type\": \"bar\"}], \"barpolar\": [{\"marker\": {\"line\": {\"color\": \"#E5ECF6\", \"width\": 0.5}}, \"type\": \"barpolar\"}], \"carpet\": [{\"aaxis\": {\"endlinecolor\": \"#2a3f5f\", \"gridcolor\": \"white\", \"linecolor\": \"white\", \"minorgridcolor\": \"white\", \"startlinecolor\": \"#2a3f5f\"}, \"baxis\": {\"endlinecolor\": \"#2a3f5f\", \"gridcolor\": \"white\", \"linecolor\": \"white\", \"minorgridcolor\": \"white\", \"startlinecolor\": \"#2a3f5f\"}, \"type\": \"carpet\"}], \"choropleth\": [{\"colorbar\": {\"outlinewidth\": 0, \"ticks\": \"\"}, \"type\": \"choropleth\"}], \"contour\": [{\"colorbar\": {\"outlinewidth\": 0, \"ticks\": \"\"}, \"colorscale\": [[0.0, \"#0d0887\"], [0.1111111111111111, \"#46039f\"], [0.2222222222222222, \"#7201a8\"], [0.3333333333333333, \"#9c179e\"], [0.4444444444444444, \"#bd3786\"], [0.5555555555555556, \"#d8576b\"], [0.6666666666666666, \"#ed7953\"], [0.7777777777777778, \"#fb9f3a\"], [0.8888888888888888, \"#fdca26\"], [1.0, \"#f0f921\"]], \"type\": \"contour\"}], \"contourcarpet\": [{\"colorbar\": {\"outlinewidth\": 0, \"ticks\": \"\"}, \"type\": \"contourcarpet\"}], \"heatmap\": [{\"colorbar\": {\"outlinewidth\": 0, \"ticks\": \"\"}, \"colorscale\": [[0.0, \"#0d0887\"], [0.1111111111111111, \"#46039f\"], [0.2222222222222222, \"#7201a8\"], [0.3333333333333333, \"#9c179e\"], [0.4444444444444444, \"#bd3786\"], [0.5555555555555556, \"#d8576b\"], [0.6666666666666666, \"#ed7953\"], [0.7777777777777778, \"#fb9f3a\"], [0.8888888888888888, \"#fdca26\"], [1.0, \"#f0f921\"]], \"type\": \"heatmap\"}], \"heatmapgl\": [{\"colorbar\": {\"outlinewidth\": 0, \"ticks\": \"\"}, \"colorscale\": [[0.0, \"#0d0887\"], [0.1111111111111111, \"#46039f\"], [0.2222222222222222, \"#7201a8\"], [0.3333333333333333, \"#9c179e\"], [0.4444444444444444, \"#bd3786\"], [0.5555555555555556, \"#d8576b\"], [0.6666666666666666, \"#ed7953\"], [0.7777777777777778, \"#fb9f3a\"], [0.8888888888888888, \"#fdca26\"], [1.0, \"#f0f921\"]], \"type\": \"heatmapgl\"}], \"histogram\": [{\"marker\": {\"colorbar\": {\"outlinewidth\": 0, \"ticks\": \"\"}}, \"type\": \"histogram\"}], \"histogram2d\": [{\"colorbar\": {\"outlinewidth\": 0, \"ticks\": \"\"}, \"colorscale\": [[0.0, \"#0d0887\"], [0.1111111111111111, \"#46039f\"], [0.2222222222222222, \"#7201a8\"], [0.3333333333333333, \"#9c179e\"], [0.4444444444444444, \"#bd3786\"], [0.5555555555555556, \"#d8576b\"], [0.6666666666666666, \"#ed7953\"], [0.7777777777777778, \"#fb9f3a\"], [0.8888888888888888, \"#fdca26\"], [1.0, \"#f0f921\"]], \"type\": \"histogram2d\"}], \"histogram2dcontour\": [{\"colorbar\": {\"outlinewidth\": 0, \"ticks\": \"\"}, \"colorscale\": [[0.0, \"#0d0887\"], [0.1111111111111111, \"#46039f\"], [0.2222222222222222, \"#7201a8\"], [0.3333333333333333, \"#9c179e\"], [0.4444444444444444, \"#bd3786\"], [0.5555555555555556, \"#d8576b\"], [0.6666666666666666, \"#ed7953\"], [0.7777777777777778, \"#fb9f3a\"], [0.8888888888888888, \"#fdca26\"], [1.0, \"#f0f921\"]], \"type\": \"histogram2dcontour\"}], \"mesh3d\": [{\"colorbar\": {\"outlinewidth\": 0, \"ticks\": \"\"}, \"type\": \"mesh3d\"}], \"parcoords\": [{\"line\": {\"colorbar\": {\"outlinewidth\": 0, \"ticks\": \"\"}}, \"type\": \"parcoords\"}], \"pie\": [{\"automargin\": true, \"type\": \"pie\"}], \"scatter\": [{\"marker\": {\"colorbar\": {\"outlinewidth\": 0, \"ticks\": \"\"}}, \"type\": \"scatter\"}], \"scatter3d\": [{\"line\": {\"colorbar\": {\"outlinewidth\": 0, \"ticks\": \"\"}}, \"marker\": {\"colorbar\": {\"outlinewidth\": 0, \"ticks\": \"\"}}, \"type\": \"scatter3d\"}], \"scattercarpet\": [{\"marker\": {\"colorbar\": {\"outlinewidth\": 0, \"ticks\": \"\"}}, \"type\": \"scattercarpet\"}], \"scattergeo\": [{\"marker\": {\"colorbar\": {\"outlinewidth\": 0, \"ticks\": \"\"}}, \"type\": \"scattergeo\"}], \"scattergl\": [{\"marker\": {\"colorbar\": {\"outlinewidth\": 0, \"ticks\": \"\"}}, \"type\": \"scattergl\"}], \"scattermapbox\": [{\"marker\": {\"colorbar\": {\"outlinewidth\": 0, \"ticks\": \"\"}}, \"type\": \"scattermapbox\"}], \"scatterpolar\": [{\"marker\": {\"colorbar\": {\"outlinewidth\": 0, \"ticks\": \"\"}}, \"type\": \"scatterpolar\"}], \"scatterpolargl\": [{\"marker\": {\"colorbar\": {\"outlinewidth\": 0, \"ticks\": \"\"}}, \"type\": \"scatterpolargl\"}], \"scatterternary\": [{\"marker\": {\"colorbar\": {\"outlinewidth\": 0, \"ticks\": \"\"}}, \"type\": \"scatterternary\"}], \"surface\": [{\"colorbar\": {\"outlinewidth\": 0, \"ticks\": \"\"}, \"colorscale\": [[0.0, \"#0d0887\"], [0.1111111111111111, \"#46039f\"], [0.2222222222222222, \"#7201a8\"], [0.3333333333333333, \"#9c179e\"], [0.4444444444444444, \"#bd3786\"], [0.5555555555555556, \"#d8576b\"], [0.6666666666666666, \"#ed7953\"], [0.7777777777777778, \"#fb9f3a\"], [0.8888888888888888, \"#fdca26\"], [1.0, \"#f0f921\"]], \"type\": \"surface\"}], \"table\": [{\"cells\": {\"fill\": {\"color\": \"#EBF0F8\"}, \"line\": {\"color\": \"white\"}}, \"header\": {\"fill\": {\"color\": \"#C8D4E3\"}, \"line\": {\"color\": \"white\"}}, \"type\": \"table\"}]}, \"layout\": {\"annotationdefaults\": {\"arrowcolor\": \"#2a3f5f\", \"arrowhead\": 0, \"arrowwidth\": 1}, \"coloraxis\": {\"colorbar\": {\"outlinewidth\": 0, \"ticks\": \"\"}}, \"colorscale\": {\"diverging\": [[0, \"#8e0152\"], [0.1, \"#c51b7d\"], [0.2, \"#de77ae\"], [0.3, \"#f1b6da\"], [0.4, \"#fde0ef\"], [0.5, \"#f7f7f7\"], [0.6, \"#e6f5d0\"], [0.7, \"#b8e186\"], [0.8, \"#7fbc41\"], [0.9, \"#4d9221\"], [1, \"#276419\"]], \"sequential\": [[0.0, \"#0d0887\"], [0.1111111111111111, \"#46039f\"], [0.2222222222222222, \"#7201a8\"], [0.3333333333333333, \"#9c179e\"], [0.4444444444444444, \"#bd3786\"], [0.5555555555555556, \"#d8576b\"], [0.6666666666666666, \"#ed7953\"], [0.7777777777777778, \"#fb9f3a\"], [0.8888888888888888, \"#fdca26\"], [1.0, \"#f0f921\"]], \"sequentialminus\": [[0.0, \"#0d0887\"], [0.1111111111111111, \"#46039f\"], [0.2222222222222222, \"#7201a8\"], [0.3333333333333333, \"#9c179e\"], [0.4444444444444444, \"#bd3786\"], [0.5555555555555556, \"#d8576b\"], [0.6666666666666666, \"#ed7953\"], [0.7777777777777778, \"#fb9f3a\"], [0.8888888888888888, \"#fdca26\"], [1.0, \"#f0f921\"]]}, \"colorway\": [\"#636efa\", \"#EF553B\", \"#00cc96\", \"#ab63fa\", \"#FFA15A\", \"#19d3f3\", \"#FF6692\", \"#B6E880\", \"#FF97FF\", \"#FECB52\"], \"font\": {\"color\": \"#2a3f5f\"}, \"geo\": {\"bgcolor\": \"white\", \"lakecolor\": \"white\", \"landcolor\": \"#E5ECF6\", \"showlakes\": true, \"showland\": true, \"subunitcolor\": \"white\"}, \"hoverlabel\": {\"align\": \"left\"}, \"hovermode\": \"closest\", \"mapbox\": {\"style\": \"light\"}, \"paper_bgcolor\": \"white\", \"plot_bgcolor\": \"#E5ECF6\", \"polar\": {\"angularaxis\": {\"gridcolor\": \"white\", \"linecolor\": \"white\", \"ticks\": \"\"}, \"bgcolor\": \"#E5ECF6\", \"radialaxis\": {\"gridcolor\": \"white\", \"linecolor\": \"white\", \"ticks\": \"\"}}, \"scene\": {\"xaxis\": {\"backgroundcolor\": \"#E5ECF6\", \"gridcolor\": \"white\", \"gridwidth\": 2, \"linecolor\": \"white\", \"showbackground\": true, \"ticks\": \"\", \"zerolinecolor\": \"white\"}, \"yaxis\": {\"backgroundcolor\": \"#E5ECF6\", \"gridcolor\": \"white\", \"gridwidth\": 2, \"linecolor\": \"white\", \"showbackground\": true, \"ticks\": \"\", \"zerolinecolor\": \"white\"}, \"zaxis\": {\"backgroundcolor\": \"#E5ECF6\", \"gridcolor\": \"white\", \"gridwidth\": 2, \"linecolor\": \"white\", \"showbackground\": true, \"ticks\": \"\", \"zerolinecolor\": \"white\"}}, \"shapedefaults\": {\"line\": {\"color\": \"#2a3f5f\"}}, \"ternary\": {\"aaxis\": {\"gridcolor\": \"white\", \"linecolor\": \"white\", \"ticks\": \"\"}, \"baxis\": {\"gridcolor\": \"white\", \"linecolor\": \"white\", \"ticks\": \"\"}, \"bgcolor\": \"#E5ECF6\", \"caxis\": {\"gridcolor\": \"white\", \"linecolor\": \"white\", \"ticks\": \"\"}}, \"title\": {\"x\": 0.05}, \"xaxis\": {\"automargin\": true, \"gridcolor\": \"white\", \"linecolor\": \"white\", \"ticks\": \"\", \"title\": {\"standoff\": 15}, \"zerolinecolor\": \"white\", \"zerolinewidth\": 2}, \"yaxis\": {\"automargin\": true, \"gridcolor\": \"white\", \"linecolor\": \"white\", \"ticks\": \"\", \"title\": {\"standoff\": 15}, \"zerolinecolor\": \"white\", \"zerolinewidth\": 2}}}},\n",
       "                        {\"responsive\": true}\n",
       "                    ).then(function(){\n",
       "                            \n",
       "var gd = document.getElementById('edf4ae29-f819-4636-948b-fa84b028c3e2');\n",
       "var x = new MutationObserver(function (mutations, observer) {{\n",
       "        var display = window.getComputedStyle(gd).display;\n",
       "        if (!display || display === 'none') {{\n",
       "            console.log([gd, 'removed!']);\n",
       "            Plotly.purge(gd);\n",
       "            observer.disconnect();\n",
       "        }}\n",
       "}});\n",
       "\n",
       "// Listen for the removal of the full notebook cells\n",
       "var notebookContainer = gd.closest('#notebook-container');\n",
       "if (notebookContainer) {{\n",
       "    x.observe(notebookContainer, {childList: true});\n",
       "}}\n",
       "\n",
       "// Listen for the clearing of the current output cell\n",
       "var outputEl = gd.closest('.output');\n",
       "if (outputEl) {{\n",
       "    x.observe(outputEl, {childList: true});\n",
       "}}\n",
       "\n",
       "                        })\n",
       "                };\n",
       "                });\n",
       "            </script>\n",
       "        </div>"
      ]
     },
     "metadata": {},
     "output_type": "display_data"
    }
   ],
   "source": [
    "import plotly.express as px\n",
    "df = px.data.iris()\n",
    "fig = px.scatter_3d(df, x='sepal_length', y='sepal_width', z='petal_width',\n",
    "              color='petal_length', size='petal_length', size_max=18,\n",
    "              symbol='species', opacity=0.7)\n",
    "\n",
    "# tight layout\n",
    "fig.update_layout(margin=dict(l=0, r=0, b=0, t=0))"
   ]
  },
  {
   "cell_type": "code",
   "execution_count": 13,
   "metadata": {},
   "outputs": [
    {
     "data": {
      "application/vnd.plotly.v1+json": {
       "config": {
        "plotlyServerURL": "https://plot.ly"
       },
       "data": [
        {
         "marker": {
          "color": [
           0,
           0.20202020202020202,
           0.40404040404040403,
           0.6060606060606061,
           0.8080808080808081,
           1.0101010101010102,
           1.2121212121212122,
           1.4141414141414141,
           1.6161616161616161,
           1.8181818181818181,
           2.0202020202020203,
           2.2222222222222223,
           2.4242424242424243,
           2.6262626262626263,
           2.8282828282828283,
           3.0303030303030303,
           3.2323232323232323,
           3.4343434343434343,
           3.6363636363636362,
           3.8383838383838382,
           4.040404040404041,
           4.242424242424242,
           4.444444444444445,
           4.646464646464646,
           4.848484848484849,
           5.05050505050505,
           5.252525252525253,
           5.454545454545454,
           5.656565656565657,
           5.858585858585858,
           6.0606060606060606,
           6.262626262626262,
           6.4646464646464645,
           6.666666666666667,
           6.8686868686868685,
           7.070707070707071,
           7.2727272727272725,
           7.474747474747475,
           7.6767676767676765,
           7.878787878787879,
           8.080808080808081,
           8.282828282828282,
           8.484848484848484,
           8.686868686868687,
           8.88888888888889,
           9.09090909090909,
           9.292929292929292,
           9.494949494949495,
           9.696969696969697,
           9.8989898989899,
           10.1010101010101,
           10.303030303030303,
           10.505050505050505,
           10.707070707070708,
           10.909090909090908,
           11.11111111111111,
           11.313131313131313,
           11.515151515151516,
           11.717171717171716,
           11.919191919191919,
           12.121212121212121,
           12.323232323232324,
           12.525252525252524,
           12.727272727272727,
           12.929292929292929,
           13.131313131313131,
           13.333333333333334,
           13.535353535353535,
           13.737373737373737,
           13.93939393939394,
           14.141414141414142,
           14.343434343434343,
           14.545454545454545,
           14.747474747474747,
           14.94949494949495,
           15.15151515151515,
           15.353535353535353,
           15.555555555555555,
           15.757575757575758,
           15.959595959595958,
           16.161616161616163,
           16.363636363636363,
           16.565656565656564,
           16.767676767676768,
           16.96969696969697,
           17.171717171717173,
           17.373737373737374,
           17.575757575757574,
           17.77777777777778,
           17.97979797979798,
           18.18181818181818,
           18.383838383838384,
           18.585858585858585,
           18.78787878787879,
           18.98989898989899,
           19.19191919191919,
           19.393939393939394,
           19.595959595959595,
           19.7979797979798,
           20
          ],
          "colorscale": [
           [
            0,
            "#440154"
           ],
           [
            0.1111111111111111,
            "#482878"
           ],
           [
            0.2222222222222222,
            "#3e4989"
           ],
           [
            0.3333333333333333,
            "#31688e"
           ],
           [
            0.4444444444444444,
            "#26828e"
           ],
           [
            0.5555555555555556,
            "#1f9e89"
           ],
           [
            0.6666666666666666,
            "#35b779"
           ],
           [
            0.7777777777777778,
            "#6ece58"
           ],
           [
            0.8888888888888888,
            "#b5de2b"
           ],
           [
            1,
            "#fde725"
           ]
          ],
          "opacity": 0.8,
          "size": 12
         },
         "mode": "markers",
         "type": "scatter3d",
         "x": [
          1,
          0.9796632259996998,
          0.9194800727522776,
          0.82189840263017,
          0.6908872083770674,
          0.5317751800910392,
          0.3510339684920502,
          0.15601495992575853,
          -0.04534973060188524,
          -0.24486988668507895,
          -0.43443031567828566,
          -0.6063209223738354,
          -0.7535503059294446,
          -0.8701301249459654,
          -0.9513186645587279,
          -0.993813698804694,
          -0.9958868038686729,
          -0.9574536592123347,
          -0.8800774771896732,
          -0.7669054216542901,
          -0.6225406016393301,
          -0.45285484658127084,
          -0.2647498781834829,
          -0.06587659290724678,
          0.13567612713271912,
          0.33171041770321597,
          0.5142528686769626,
          0.6758788309121295,
          0.810014403075603,
          0.9112038155344026,
          0.9753313358637337,
          0.9997886702873213,
          0.983581052239521,
          0.9273677030509753,
          0.8334350190781794,
          0.7056035758515253,
          0.5490727317130796,
          0.3702091514654803,
          0.17628785152548898,
          -0.02480370080544784,
          -0.22488639862108173,
          -0.4158221687077172,
          -0.5898449758557073,
          -0.7398766950653171,
          -0.859815004003662,
          -0.9447815861050266,
          -0.9913205490138658,
          -0.9975389879884077,
          -0.9631839770525324,
          -0.8896528563926016,
          -0.779936397574316,
          -0.638497158251875,
          -0.4710879741150293,
          -0.2845179706505102,
          -0.08637561184970587,
          0.11527994954575044,
          0.3122466663798508,
          0.4965132034409228,
          0.6605847868889071,
          0.7977880432989005,
          0.9025424294354707,
          0.9705872127458185,
          0.9991547704697801,
          0.9870831586770104,
          0.9348633726492066,
          0.8446193763599521,
          0.7200217133240836,
          0.5661382125698547,
          0.38922786205169047,
          0.19648623340319554,
          -0.004247187491081489,
          -0.20480786020107072,
          -0.3970382705782732,
          -0.5731197257990347,
          -0.7258903683424182,
          -0.8491364741458517,
          -0.9378451868090543,
          -0.9884084082494465,
          -0.9987695528527076,
          -0.9685071961064762,
          -0.8988522154304799,
          -0.7926377260247273,
          -0.6541838480224215,
          -0.48912199187635547,
          -0.30416580891556017,
          -0.10683812332569301,
          0.09483504780155239,
          0.29265094105990214,
          0.47856368221963436,
          0.645011540479259,
          0.7852244908862596,
          0.8934995752719529,
          0.9654328617943044,
          0.9980985684711091,
          0.9901680651138731,
          0.9419639134315667,
          0.8554467473014669,
          0.7341355268330447,
          0.5829644097750302,
          0.40808206181339196
         ],
         "y": [
          0,
          0.2006488565226854,
          0.3931366121483298,
          0.5696341069089657,
          0.7229625614794604,
          0.8468855636029834,
          0.9363627251042848,
          0.9877546923600838,
          0.9989711717233568,
          0.9695559491823237,
          0.9007054462029555,
          0.7952200570230491,
          0.6573902466827755,
          0.4928220425889235,
          0.30820901749007684,
          0.11106003812412972,
          -0.09060614703340773,
          -0.28858705872043244,
          -0.4748301108222395,
          -0.6417601376193878,
          -0.7825875026542022,
          -0.8915842573351402,
          -0.9643171169287783,
          -0.9978277779792126,
          -0.9907532430056771,
          -0.9433812584459996,
          -0.8576386109880517,
          -0.7370127583189134,
          -0.586409981847235,
          -0.4119558308308628,
          -0.22074597455506337,
          -0.020557596287260064,
          0.18046693235991093,
          0.37415123057121996,
          0.5526174707464059,
          0.7086067976992182,
          0.8357745720522589,
          0.9289484292312513,
          0.9843386578838236,
          0.9996923408861117,
          0.9743849894755358,
          0.9094459434244626,
          0.8075165041395626,
          0.6727425035622647,
          0.510605678474283,
          0.32770070881349983,
          0.13146698864295842,
          -0.07011396040064677,
          -0.268843125910384,
          -0.45663748763377376,
          -0.6258587825850161,
          -0.769624180301191,
          -0.8820862319774623,
          -0.9586707069567294,
          -0.9962626429198221,
          -0.9933330424549106,
          -0.9500010628071266,
          -0.8680291693306353,
          -0.7507514497694541,
          -0.6029380050795535,
          -0.43060093249866344,
          -0.2407497922206855,
          -0.04110650371268663,
          0.16020873214720877,
          0.3550077104499993,
          0.5353672656012185,
          0.6939515345770562,
          0.8243103325011825,
          0.9211415045489321,
          0.9805065833960652,
          0.9999909806585335,
          0.9788021967690197,
          0.9178020547461276,
          0.8194716467944692,
          0.6878104194817846,
          0.5281735020569959,
          0.3470538943436452,
          0.15181837339991294,
          -0.04959213944167377,
          -0.24898556401922536,
          -0.43825186230718777,
          -0.609692902437243,
          -0.7563355690343919,
          -0.8722153845598611,
          -0.9526191057745708,
          -0.9942764280642703,
          -0.9954930003312314,
          -0.9562193402649591,
          -0.8780528469633162,
          -0.7641728290436485,
          -0.6192111908811198,
          -0.4490640366237758,
          -0.2606518547174744,
          -0.06163803708687287,
          0.13988281820384094,
          0.33571414297388164,
          0.5178907824351968,
          0.6790029662980626,
          0.8124976904186563,
          0.9129452507276277
         ],
         "z": [
          0,
          0.20202020202020202,
          0.40404040404040403,
          0.6060606060606061,
          0.8080808080808081,
          1.0101010101010102,
          1.2121212121212122,
          1.4141414141414141,
          1.6161616161616161,
          1.8181818181818181,
          2.0202020202020203,
          2.2222222222222223,
          2.4242424242424243,
          2.6262626262626263,
          2.8282828282828283,
          3.0303030303030303,
          3.2323232323232323,
          3.4343434343434343,
          3.6363636363636362,
          3.8383838383838382,
          4.040404040404041,
          4.242424242424242,
          4.444444444444445,
          4.646464646464646,
          4.848484848484849,
          5.05050505050505,
          5.252525252525253,
          5.454545454545454,
          5.656565656565657,
          5.858585858585858,
          6.0606060606060606,
          6.262626262626262,
          6.4646464646464645,
          6.666666666666667,
          6.8686868686868685,
          7.070707070707071,
          7.2727272727272725,
          7.474747474747475,
          7.6767676767676765,
          7.878787878787879,
          8.080808080808081,
          8.282828282828282,
          8.484848484848484,
          8.686868686868687,
          8.88888888888889,
          9.09090909090909,
          9.292929292929292,
          9.494949494949495,
          9.696969696969697,
          9.8989898989899,
          10.1010101010101,
          10.303030303030303,
          10.505050505050505,
          10.707070707070708,
          10.909090909090908,
          11.11111111111111,
          11.313131313131313,
          11.515151515151516,
          11.717171717171716,
          11.919191919191919,
          12.121212121212121,
          12.323232323232324,
          12.525252525252524,
          12.727272727272727,
          12.929292929292929,
          13.131313131313131,
          13.333333333333334,
          13.535353535353535,
          13.737373737373737,
          13.93939393939394,
          14.141414141414142,
          14.343434343434343,
          14.545454545454545,
          14.747474747474747,
          14.94949494949495,
          15.15151515151515,
          15.353535353535353,
          15.555555555555555,
          15.757575757575758,
          15.959595959595958,
          16.161616161616163,
          16.363636363636363,
          16.565656565656564,
          16.767676767676768,
          16.96969696969697,
          17.171717171717173,
          17.373737373737374,
          17.575757575757574,
          17.77777777777778,
          17.97979797979798,
          18.18181818181818,
          18.383838383838384,
          18.585858585858585,
          18.78787878787879,
          18.98989898989899,
          19.19191919191919,
          19.393939393939394,
          19.595959595959595,
          19.7979797979798,
          20
         ]
        }
       ],
       "layout": {
        "margin": {
         "b": 0,
         "l": 0,
         "r": 0,
         "t": 0
        },
        "template": {
         "data": {
          "bar": [
           {
            "error_x": {
             "color": "#2a3f5f"
            },
            "error_y": {
             "color": "#2a3f5f"
            },
            "marker": {
             "line": {
              "color": "#E5ECF6",
              "width": 0.5
             }
            },
            "type": "bar"
           }
          ],
          "barpolar": [
           {
            "marker": {
             "line": {
              "color": "#E5ECF6",
              "width": 0.5
             }
            },
            "type": "barpolar"
           }
          ],
          "carpet": [
           {
            "aaxis": {
             "endlinecolor": "#2a3f5f",
             "gridcolor": "white",
             "linecolor": "white",
             "minorgridcolor": "white",
             "startlinecolor": "#2a3f5f"
            },
            "baxis": {
             "endlinecolor": "#2a3f5f",
             "gridcolor": "white",
             "linecolor": "white",
             "minorgridcolor": "white",
             "startlinecolor": "#2a3f5f"
            },
            "type": "carpet"
           }
          ],
          "choropleth": [
           {
            "colorbar": {
             "outlinewidth": 0,
             "ticks": ""
            },
            "type": "choropleth"
           }
          ],
          "contour": [
           {
            "colorbar": {
             "outlinewidth": 0,
             "ticks": ""
            },
            "colorscale": [
             [
              0,
              "#0d0887"
             ],
             [
              0.1111111111111111,
              "#46039f"
             ],
             [
              0.2222222222222222,
              "#7201a8"
             ],
             [
              0.3333333333333333,
              "#9c179e"
             ],
             [
              0.4444444444444444,
              "#bd3786"
             ],
             [
              0.5555555555555556,
              "#d8576b"
             ],
             [
              0.6666666666666666,
              "#ed7953"
             ],
             [
              0.7777777777777778,
              "#fb9f3a"
             ],
             [
              0.8888888888888888,
              "#fdca26"
             ],
             [
              1,
              "#f0f921"
             ]
            ],
            "type": "contour"
           }
          ],
          "contourcarpet": [
           {
            "colorbar": {
             "outlinewidth": 0,
             "ticks": ""
            },
            "type": "contourcarpet"
           }
          ],
          "heatmap": [
           {
            "colorbar": {
             "outlinewidth": 0,
             "ticks": ""
            },
            "colorscale": [
             [
              0,
              "#0d0887"
             ],
             [
              0.1111111111111111,
              "#46039f"
             ],
             [
              0.2222222222222222,
              "#7201a8"
             ],
             [
              0.3333333333333333,
              "#9c179e"
             ],
             [
              0.4444444444444444,
              "#bd3786"
             ],
             [
              0.5555555555555556,
              "#d8576b"
             ],
             [
              0.6666666666666666,
              "#ed7953"
             ],
             [
              0.7777777777777778,
              "#fb9f3a"
             ],
             [
              0.8888888888888888,
              "#fdca26"
             ],
             [
              1,
              "#f0f921"
             ]
            ],
            "type": "heatmap"
           }
          ],
          "heatmapgl": [
           {
            "colorbar": {
             "outlinewidth": 0,
             "ticks": ""
            },
            "colorscale": [
             [
              0,
              "#0d0887"
             ],
             [
              0.1111111111111111,
              "#46039f"
             ],
             [
              0.2222222222222222,
              "#7201a8"
             ],
             [
              0.3333333333333333,
              "#9c179e"
             ],
             [
              0.4444444444444444,
              "#bd3786"
             ],
             [
              0.5555555555555556,
              "#d8576b"
             ],
             [
              0.6666666666666666,
              "#ed7953"
             ],
             [
              0.7777777777777778,
              "#fb9f3a"
             ],
             [
              0.8888888888888888,
              "#fdca26"
             ],
             [
              1,
              "#f0f921"
             ]
            ],
            "type": "heatmapgl"
           }
          ],
          "histogram": [
           {
            "marker": {
             "colorbar": {
              "outlinewidth": 0,
              "ticks": ""
             }
            },
            "type": "histogram"
           }
          ],
          "histogram2d": [
           {
            "colorbar": {
             "outlinewidth": 0,
             "ticks": ""
            },
            "colorscale": [
             [
              0,
              "#0d0887"
             ],
             [
              0.1111111111111111,
              "#46039f"
             ],
             [
              0.2222222222222222,
              "#7201a8"
             ],
             [
              0.3333333333333333,
              "#9c179e"
             ],
             [
              0.4444444444444444,
              "#bd3786"
             ],
             [
              0.5555555555555556,
              "#d8576b"
             ],
             [
              0.6666666666666666,
              "#ed7953"
             ],
             [
              0.7777777777777778,
              "#fb9f3a"
             ],
             [
              0.8888888888888888,
              "#fdca26"
             ],
             [
              1,
              "#f0f921"
             ]
            ],
            "type": "histogram2d"
           }
          ],
          "histogram2dcontour": [
           {
            "colorbar": {
             "outlinewidth": 0,
             "ticks": ""
            },
            "colorscale": [
             [
              0,
              "#0d0887"
             ],
             [
              0.1111111111111111,
              "#46039f"
             ],
             [
              0.2222222222222222,
              "#7201a8"
             ],
             [
              0.3333333333333333,
              "#9c179e"
             ],
             [
              0.4444444444444444,
              "#bd3786"
             ],
             [
              0.5555555555555556,
              "#d8576b"
             ],
             [
              0.6666666666666666,
              "#ed7953"
             ],
             [
              0.7777777777777778,
              "#fb9f3a"
             ],
             [
              0.8888888888888888,
              "#fdca26"
             ],
             [
              1,
              "#f0f921"
             ]
            ],
            "type": "histogram2dcontour"
           }
          ],
          "mesh3d": [
           {
            "colorbar": {
             "outlinewidth": 0,
             "ticks": ""
            },
            "type": "mesh3d"
           }
          ],
          "parcoords": [
           {
            "line": {
             "colorbar": {
              "outlinewidth": 0,
              "ticks": ""
             }
            },
            "type": "parcoords"
           }
          ],
          "pie": [
           {
            "automargin": true,
            "type": "pie"
           }
          ],
          "scatter": [
           {
            "marker": {
             "colorbar": {
              "outlinewidth": 0,
              "ticks": ""
             }
            },
            "type": "scatter"
           }
          ],
          "scatter3d": [
           {
            "line": {
             "colorbar": {
              "outlinewidth": 0,
              "ticks": ""
             }
            },
            "marker": {
             "colorbar": {
              "outlinewidth": 0,
              "ticks": ""
             }
            },
            "type": "scatter3d"
           }
          ],
          "scattercarpet": [
           {
            "marker": {
             "colorbar": {
              "outlinewidth": 0,
              "ticks": ""
             }
            },
            "type": "scattercarpet"
           }
          ],
          "scattergeo": [
           {
            "marker": {
             "colorbar": {
              "outlinewidth": 0,
              "ticks": ""
             }
            },
            "type": "scattergeo"
           }
          ],
          "scattergl": [
           {
            "marker": {
             "colorbar": {
              "outlinewidth": 0,
              "ticks": ""
             }
            },
            "type": "scattergl"
           }
          ],
          "scattermapbox": [
           {
            "marker": {
             "colorbar": {
              "outlinewidth": 0,
              "ticks": ""
             }
            },
            "type": "scattermapbox"
           }
          ],
          "scatterpolar": [
           {
            "marker": {
             "colorbar": {
              "outlinewidth": 0,
              "ticks": ""
             }
            },
            "type": "scatterpolar"
           }
          ],
          "scatterpolargl": [
           {
            "marker": {
             "colorbar": {
              "outlinewidth": 0,
              "ticks": ""
             }
            },
            "type": "scatterpolargl"
           }
          ],
          "scatterternary": [
           {
            "marker": {
             "colorbar": {
              "outlinewidth": 0,
              "ticks": ""
             }
            },
            "type": "scatterternary"
           }
          ],
          "surface": [
           {
            "colorbar": {
             "outlinewidth": 0,
             "ticks": ""
            },
            "colorscale": [
             [
              0,
              "#0d0887"
             ],
             [
              0.1111111111111111,
              "#46039f"
             ],
             [
              0.2222222222222222,
              "#7201a8"
             ],
             [
              0.3333333333333333,
              "#9c179e"
             ],
             [
              0.4444444444444444,
              "#bd3786"
             ],
             [
              0.5555555555555556,
              "#d8576b"
             ],
             [
              0.6666666666666666,
              "#ed7953"
             ],
             [
              0.7777777777777778,
              "#fb9f3a"
             ],
             [
              0.8888888888888888,
              "#fdca26"
             ],
             [
              1,
              "#f0f921"
             ]
            ],
            "type": "surface"
           }
          ],
          "table": [
           {
            "cells": {
             "fill": {
              "color": "#EBF0F8"
             },
             "line": {
              "color": "white"
             }
            },
            "header": {
             "fill": {
              "color": "#C8D4E3"
             },
             "line": {
              "color": "white"
             }
            },
            "type": "table"
           }
          ]
         },
         "layout": {
          "annotationdefaults": {
           "arrowcolor": "#2a3f5f",
           "arrowhead": 0,
           "arrowwidth": 1
          },
          "coloraxis": {
           "colorbar": {
            "outlinewidth": 0,
            "ticks": ""
           }
          },
          "colorscale": {
           "diverging": [
            [
             0,
             "#8e0152"
            ],
            [
             0.1,
             "#c51b7d"
            ],
            [
             0.2,
             "#de77ae"
            ],
            [
             0.3,
             "#f1b6da"
            ],
            [
             0.4,
             "#fde0ef"
            ],
            [
             0.5,
             "#f7f7f7"
            ],
            [
             0.6,
             "#e6f5d0"
            ],
            [
             0.7,
             "#b8e186"
            ],
            [
             0.8,
             "#7fbc41"
            ],
            [
             0.9,
             "#4d9221"
            ],
            [
             1,
             "#276419"
            ]
           ],
           "sequential": [
            [
             0,
             "#0d0887"
            ],
            [
             0.1111111111111111,
             "#46039f"
            ],
            [
             0.2222222222222222,
             "#7201a8"
            ],
            [
             0.3333333333333333,
             "#9c179e"
            ],
            [
             0.4444444444444444,
             "#bd3786"
            ],
            [
             0.5555555555555556,
             "#d8576b"
            ],
            [
             0.6666666666666666,
             "#ed7953"
            ],
            [
             0.7777777777777778,
             "#fb9f3a"
            ],
            [
             0.8888888888888888,
             "#fdca26"
            ],
            [
             1,
             "#f0f921"
            ]
           ],
           "sequentialminus": [
            [
             0,
             "#0d0887"
            ],
            [
             0.1111111111111111,
             "#46039f"
            ],
            [
             0.2222222222222222,
             "#7201a8"
            ],
            [
             0.3333333333333333,
             "#9c179e"
            ],
            [
             0.4444444444444444,
             "#bd3786"
            ],
            [
             0.5555555555555556,
             "#d8576b"
            ],
            [
             0.6666666666666666,
             "#ed7953"
            ],
            [
             0.7777777777777778,
             "#fb9f3a"
            ],
            [
             0.8888888888888888,
             "#fdca26"
            ],
            [
             1,
             "#f0f921"
            ]
           ]
          },
          "colorway": [
           "#636efa",
           "#EF553B",
           "#00cc96",
           "#ab63fa",
           "#FFA15A",
           "#19d3f3",
           "#FF6692",
           "#B6E880",
           "#FF97FF",
           "#FECB52"
          ],
          "font": {
           "color": "#2a3f5f"
          },
          "geo": {
           "bgcolor": "white",
           "lakecolor": "white",
           "landcolor": "#E5ECF6",
           "showlakes": true,
           "showland": true,
           "subunitcolor": "white"
          },
          "hoverlabel": {
           "align": "left"
          },
          "hovermode": "closest",
          "mapbox": {
           "style": "light"
          },
          "paper_bgcolor": "white",
          "plot_bgcolor": "#E5ECF6",
          "polar": {
           "angularaxis": {
            "gridcolor": "white",
            "linecolor": "white",
            "ticks": ""
           },
           "bgcolor": "#E5ECF6",
           "radialaxis": {
            "gridcolor": "white",
            "linecolor": "white",
            "ticks": ""
           }
          },
          "scene": {
           "xaxis": {
            "backgroundcolor": "#E5ECF6",
            "gridcolor": "white",
            "gridwidth": 2,
            "linecolor": "white",
            "showbackground": true,
            "ticks": "",
            "zerolinecolor": "white"
           },
           "yaxis": {
            "backgroundcolor": "#E5ECF6",
            "gridcolor": "white",
            "gridwidth": 2,
            "linecolor": "white",
            "showbackground": true,
            "ticks": "",
            "zerolinecolor": "white"
           },
           "zaxis": {
            "backgroundcolor": "#E5ECF6",
            "gridcolor": "white",
            "gridwidth": 2,
            "linecolor": "white",
            "showbackground": true,
            "ticks": "",
            "zerolinecolor": "white"
           }
          },
          "shapedefaults": {
           "line": {
            "color": "#2a3f5f"
           }
          },
          "ternary": {
           "aaxis": {
            "gridcolor": "white",
            "linecolor": "white",
            "ticks": ""
           },
           "baxis": {
            "gridcolor": "white",
            "linecolor": "white",
            "ticks": ""
           },
           "bgcolor": "#E5ECF6",
           "caxis": {
            "gridcolor": "white",
            "linecolor": "white",
            "ticks": ""
           }
          },
          "title": {
           "x": 0.05
          },
          "xaxis": {
           "automargin": true,
           "gridcolor": "white",
           "linecolor": "white",
           "ticks": "",
           "title": {
            "standoff": 15
           },
           "zerolinecolor": "white",
           "zerolinewidth": 2
          },
          "yaxis": {
           "automargin": true,
           "gridcolor": "white",
           "linecolor": "white",
           "ticks": "",
           "title": {
            "standoff": 15
           },
           "zerolinecolor": "white",
           "zerolinewidth": 2
          }
         }
        }
       }
      },
      "text/html": [
       "<div>\n",
       "        \n",
       "        \n",
       "            <div id=\"15d66c13-ae36-4afc-9586-43d69303dad8\" class=\"plotly-graph-div\" style=\"height:525px; width:100%;\"></div>\n",
       "            <script type=\"text/javascript\">\n",
       "                require([\"plotly\"], function(Plotly) {\n",
       "                    window.PLOTLYENV=window.PLOTLYENV || {};\n",
       "                    \n",
       "                if (document.getElementById(\"15d66c13-ae36-4afc-9586-43d69303dad8\")) {\n",
       "                    Plotly.newPlot(\n",
       "                        '15d66c13-ae36-4afc-9586-43d69303dad8',\n",
       "                        [{\"marker\": {\"color\": [0.0, 0.20202020202020202, 0.40404040404040403, 0.6060606060606061, 0.8080808080808081, 1.0101010101010102, 1.2121212121212122, 1.4141414141414141, 1.6161616161616161, 1.8181818181818181, 2.0202020202020203, 2.2222222222222223, 2.4242424242424243, 2.6262626262626263, 2.8282828282828283, 3.0303030303030303, 3.2323232323232323, 3.4343434343434343, 3.6363636363636362, 3.8383838383838382, 4.040404040404041, 4.242424242424242, 4.444444444444445, 4.646464646464646, 4.848484848484849, 5.05050505050505, 5.252525252525253, 5.454545454545454, 5.656565656565657, 5.858585858585858, 6.0606060606060606, 6.262626262626262, 6.4646464646464645, 6.666666666666667, 6.8686868686868685, 7.070707070707071, 7.2727272727272725, 7.474747474747475, 7.6767676767676765, 7.878787878787879, 8.080808080808081, 8.282828282828282, 8.484848484848484, 8.686868686868687, 8.88888888888889, 9.09090909090909, 9.292929292929292, 9.494949494949495, 9.696969696969697, 9.8989898989899, 10.1010101010101, 10.303030303030303, 10.505050505050505, 10.707070707070708, 10.909090909090908, 11.11111111111111, 11.313131313131313, 11.515151515151516, 11.717171717171716, 11.919191919191919, 12.121212121212121, 12.323232323232324, 12.525252525252524, 12.727272727272727, 12.929292929292929, 13.131313131313131, 13.333333333333334, 13.535353535353535, 13.737373737373737, 13.93939393939394, 14.141414141414142, 14.343434343434343, 14.545454545454545, 14.747474747474747, 14.94949494949495, 15.15151515151515, 15.353535353535353, 15.555555555555555, 15.757575757575758, 15.959595959595958, 16.161616161616163, 16.363636363636363, 16.565656565656564, 16.767676767676768, 16.96969696969697, 17.171717171717173, 17.373737373737374, 17.575757575757574, 17.77777777777778, 17.97979797979798, 18.18181818181818, 18.383838383838384, 18.585858585858585, 18.78787878787879, 18.98989898989899, 19.19191919191919, 19.393939393939394, 19.595959595959595, 19.7979797979798, 20.0], \"colorscale\": [[0.0, \"#440154\"], [0.1111111111111111, \"#482878\"], [0.2222222222222222, \"#3e4989\"], [0.3333333333333333, \"#31688e\"], [0.4444444444444444, \"#26828e\"], [0.5555555555555556, \"#1f9e89\"], [0.6666666666666666, \"#35b779\"], [0.7777777777777778, \"#6ece58\"], [0.8888888888888888, \"#b5de2b\"], [1.0, \"#fde725\"]], \"opacity\": 0.8, \"size\": 12}, \"mode\": \"markers\", \"type\": \"scatter3d\", \"x\": [1.0, 0.9796632259996998, 0.9194800727522776, 0.82189840263017, 0.6908872083770674, 0.5317751800910392, 0.3510339684920502, 0.15601495992575853, -0.04534973060188524, -0.24486988668507895, -0.43443031567828566, -0.6063209223738354, -0.7535503059294446, -0.8701301249459654, -0.9513186645587279, -0.993813698804694, -0.9958868038686729, -0.9574536592123347, -0.8800774771896732, -0.7669054216542901, -0.6225406016393301, -0.45285484658127084, -0.2647498781834829, -0.06587659290724678, 0.13567612713271912, 0.33171041770321597, 0.5142528686769626, 0.6758788309121295, 0.810014403075603, 0.9112038155344026, 0.9753313358637337, 0.9997886702873213, 0.983581052239521, 0.9273677030509753, 0.8334350190781794, 0.7056035758515253, 0.5490727317130796, 0.3702091514654803, 0.17628785152548898, -0.02480370080544784, -0.22488639862108173, -0.4158221687077172, -0.5898449758557073, -0.7398766950653171, -0.859815004003662, -0.9447815861050266, -0.9913205490138658, -0.9975389879884077, -0.9631839770525324, -0.8896528563926016, -0.779936397574316, -0.638497158251875, -0.4710879741150293, -0.2845179706505102, -0.08637561184970587, 0.11527994954575044, 0.3122466663798508, 0.4965132034409228, 0.6605847868889071, 0.7977880432989005, 0.9025424294354707, 0.9705872127458185, 0.9991547704697801, 0.9870831586770104, 0.9348633726492066, 0.8446193763599521, 0.7200217133240836, 0.5661382125698547, 0.38922786205169047, 0.19648623340319554, -0.004247187491081489, -0.20480786020107072, -0.3970382705782732, -0.5731197257990347, -0.7258903683424182, -0.8491364741458517, -0.9378451868090543, -0.9884084082494465, -0.9987695528527076, -0.9685071961064762, -0.8988522154304799, -0.7926377260247273, -0.6541838480224215, -0.48912199187635547, -0.30416580891556017, -0.10683812332569301, 0.09483504780155239, 0.29265094105990214, 0.47856368221963436, 0.645011540479259, 0.7852244908862596, 0.8934995752719529, 0.9654328617943044, 0.9980985684711091, 0.9901680651138731, 0.9419639134315667, 0.8554467473014669, 0.7341355268330447, 0.5829644097750302, 0.40808206181339196], \"y\": [0.0, 0.2006488565226854, 0.3931366121483298, 0.5696341069089657, 0.7229625614794604, 0.8468855636029834, 0.9363627251042848, 0.9877546923600838, 0.9989711717233568, 0.9695559491823237, 0.9007054462029555, 0.7952200570230491, 0.6573902466827755, 0.4928220425889235, 0.30820901749007684, 0.11106003812412972, -0.09060614703340773, -0.28858705872043244, -0.4748301108222395, -0.6417601376193878, -0.7825875026542022, -0.8915842573351402, -0.9643171169287783, -0.9978277779792126, -0.9907532430056771, -0.9433812584459996, -0.8576386109880517, -0.7370127583189134, -0.586409981847235, -0.4119558308308628, -0.22074597455506337, -0.020557596287260064, 0.18046693235991093, 0.37415123057121996, 0.5526174707464059, 0.7086067976992182, 0.8357745720522589, 0.9289484292312513, 0.9843386578838236, 0.9996923408861117, 0.9743849894755358, 0.9094459434244626, 0.8075165041395626, 0.6727425035622647, 0.510605678474283, 0.32770070881349983, 0.13146698864295842, -0.07011396040064677, -0.268843125910384, -0.45663748763377376, -0.6258587825850161, -0.769624180301191, -0.8820862319774623, -0.9586707069567294, -0.9962626429198221, -0.9933330424549106, -0.9500010628071266, -0.8680291693306353, -0.7507514497694541, -0.6029380050795535, -0.43060093249866344, -0.2407497922206855, -0.04110650371268663, 0.16020873214720877, 0.3550077104499993, 0.5353672656012185, 0.6939515345770562, 0.8243103325011825, 0.9211415045489321, 0.9805065833960652, 0.9999909806585335, 0.9788021967690197, 0.9178020547461276, 0.8194716467944692, 0.6878104194817846, 0.5281735020569959, 0.3470538943436452, 0.15181837339991294, -0.04959213944167377, -0.24898556401922536, -0.43825186230718777, -0.609692902437243, -0.7563355690343919, -0.8722153845598611, -0.9526191057745708, -0.9942764280642703, -0.9954930003312314, -0.9562193402649591, -0.8780528469633162, -0.7641728290436485, -0.6192111908811198, -0.4490640366237758, -0.2606518547174744, -0.06163803708687287, 0.13988281820384094, 0.33571414297388164, 0.5178907824351968, 0.6790029662980626, 0.8124976904186563, 0.9129452507276277], \"z\": [0.0, 0.20202020202020202, 0.40404040404040403, 0.6060606060606061, 0.8080808080808081, 1.0101010101010102, 1.2121212121212122, 1.4141414141414141, 1.6161616161616161, 1.8181818181818181, 2.0202020202020203, 2.2222222222222223, 2.4242424242424243, 2.6262626262626263, 2.8282828282828283, 3.0303030303030303, 3.2323232323232323, 3.4343434343434343, 3.6363636363636362, 3.8383838383838382, 4.040404040404041, 4.242424242424242, 4.444444444444445, 4.646464646464646, 4.848484848484849, 5.05050505050505, 5.252525252525253, 5.454545454545454, 5.656565656565657, 5.858585858585858, 6.0606060606060606, 6.262626262626262, 6.4646464646464645, 6.666666666666667, 6.8686868686868685, 7.070707070707071, 7.2727272727272725, 7.474747474747475, 7.6767676767676765, 7.878787878787879, 8.080808080808081, 8.282828282828282, 8.484848484848484, 8.686868686868687, 8.88888888888889, 9.09090909090909, 9.292929292929292, 9.494949494949495, 9.696969696969697, 9.8989898989899, 10.1010101010101, 10.303030303030303, 10.505050505050505, 10.707070707070708, 10.909090909090908, 11.11111111111111, 11.313131313131313, 11.515151515151516, 11.717171717171716, 11.919191919191919, 12.121212121212121, 12.323232323232324, 12.525252525252524, 12.727272727272727, 12.929292929292929, 13.131313131313131, 13.333333333333334, 13.535353535353535, 13.737373737373737, 13.93939393939394, 14.141414141414142, 14.343434343434343, 14.545454545454545, 14.747474747474747, 14.94949494949495, 15.15151515151515, 15.353535353535353, 15.555555555555555, 15.757575757575758, 15.959595959595958, 16.161616161616163, 16.363636363636363, 16.565656565656564, 16.767676767676768, 16.96969696969697, 17.171717171717173, 17.373737373737374, 17.575757575757574, 17.77777777777778, 17.97979797979798, 18.18181818181818, 18.383838383838384, 18.585858585858585, 18.78787878787879, 18.98989898989899, 19.19191919191919, 19.393939393939394, 19.595959595959595, 19.7979797979798, 20.0]}],\n",
       "                        {\"margin\": {\"b\": 0, \"l\": 0, \"r\": 0, \"t\": 0}, \"template\": {\"data\": {\"bar\": [{\"error_x\": {\"color\": \"#2a3f5f\"}, \"error_y\": {\"color\": \"#2a3f5f\"}, \"marker\": {\"line\": {\"color\": \"#E5ECF6\", \"width\": 0.5}}, \"type\": \"bar\"}], \"barpolar\": [{\"marker\": {\"line\": {\"color\": \"#E5ECF6\", \"width\": 0.5}}, \"type\": \"barpolar\"}], \"carpet\": [{\"aaxis\": {\"endlinecolor\": \"#2a3f5f\", \"gridcolor\": \"white\", \"linecolor\": \"white\", \"minorgridcolor\": \"white\", \"startlinecolor\": \"#2a3f5f\"}, \"baxis\": {\"endlinecolor\": \"#2a3f5f\", \"gridcolor\": \"white\", \"linecolor\": \"white\", \"minorgridcolor\": \"white\", \"startlinecolor\": \"#2a3f5f\"}, \"type\": \"carpet\"}], \"choropleth\": [{\"colorbar\": {\"outlinewidth\": 0, \"ticks\": \"\"}, \"type\": \"choropleth\"}], \"contour\": [{\"colorbar\": {\"outlinewidth\": 0, \"ticks\": \"\"}, \"colorscale\": [[0.0, \"#0d0887\"], [0.1111111111111111, \"#46039f\"], [0.2222222222222222, \"#7201a8\"], [0.3333333333333333, \"#9c179e\"], [0.4444444444444444, \"#bd3786\"], [0.5555555555555556, \"#d8576b\"], [0.6666666666666666, \"#ed7953\"], [0.7777777777777778, \"#fb9f3a\"], [0.8888888888888888, \"#fdca26\"], [1.0, \"#f0f921\"]], \"type\": \"contour\"}], \"contourcarpet\": [{\"colorbar\": {\"outlinewidth\": 0, \"ticks\": \"\"}, \"type\": \"contourcarpet\"}], \"heatmap\": [{\"colorbar\": {\"outlinewidth\": 0, \"ticks\": \"\"}, \"colorscale\": [[0.0, \"#0d0887\"], [0.1111111111111111, \"#46039f\"], [0.2222222222222222, \"#7201a8\"], [0.3333333333333333, \"#9c179e\"], [0.4444444444444444, \"#bd3786\"], [0.5555555555555556, \"#d8576b\"], [0.6666666666666666, \"#ed7953\"], [0.7777777777777778, \"#fb9f3a\"], [0.8888888888888888, \"#fdca26\"], [1.0, \"#f0f921\"]], \"type\": \"heatmap\"}], \"heatmapgl\": [{\"colorbar\": {\"outlinewidth\": 0, \"ticks\": \"\"}, \"colorscale\": [[0.0, \"#0d0887\"], [0.1111111111111111, \"#46039f\"], [0.2222222222222222, \"#7201a8\"], [0.3333333333333333, \"#9c179e\"], [0.4444444444444444, \"#bd3786\"], [0.5555555555555556, \"#d8576b\"], [0.6666666666666666, \"#ed7953\"], [0.7777777777777778, \"#fb9f3a\"], [0.8888888888888888, \"#fdca26\"], [1.0, \"#f0f921\"]], \"type\": \"heatmapgl\"}], \"histogram\": [{\"marker\": {\"colorbar\": {\"outlinewidth\": 0, \"ticks\": \"\"}}, \"type\": \"histogram\"}], \"histogram2d\": [{\"colorbar\": {\"outlinewidth\": 0, \"ticks\": \"\"}, \"colorscale\": [[0.0, \"#0d0887\"], [0.1111111111111111, \"#46039f\"], [0.2222222222222222, \"#7201a8\"], [0.3333333333333333, \"#9c179e\"], [0.4444444444444444, \"#bd3786\"], [0.5555555555555556, \"#d8576b\"], [0.6666666666666666, \"#ed7953\"], [0.7777777777777778, \"#fb9f3a\"], [0.8888888888888888, \"#fdca26\"], [1.0, \"#f0f921\"]], \"type\": \"histogram2d\"}], \"histogram2dcontour\": [{\"colorbar\": {\"outlinewidth\": 0, \"ticks\": \"\"}, \"colorscale\": [[0.0, \"#0d0887\"], [0.1111111111111111, \"#46039f\"], [0.2222222222222222, \"#7201a8\"], [0.3333333333333333, \"#9c179e\"], [0.4444444444444444, \"#bd3786\"], [0.5555555555555556, \"#d8576b\"], [0.6666666666666666, \"#ed7953\"], [0.7777777777777778, \"#fb9f3a\"], [0.8888888888888888, \"#fdca26\"], [1.0, \"#f0f921\"]], \"type\": \"histogram2dcontour\"}], \"mesh3d\": [{\"colorbar\": {\"outlinewidth\": 0, \"ticks\": \"\"}, \"type\": \"mesh3d\"}], \"parcoords\": [{\"line\": {\"colorbar\": {\"outlinewidth\": 0, \"ticks\": \"\"}}, \"type\": \"parcoords\"}], \"pie\": [{\"automargin\": true, \"type\": \"pie\"}], \"scatter\": [{\"marker\": {\"colorbar\": {\"outlinewidth\": 0, \"ticks\": \"\"}}, \"type\": \"scatter\"}], \"scatter3d\": [{\"line\": {\"colorbar\": {\"outlinewidth\": 0, \"ticks\": \"\"}}, \"marker\": {\"colorbar\": {\"outlinewidth\": 0, \"ticks\": \"\"}}, \"type\": \"scatter3d\"}], \"scattercarpet\": [{\"marker\": {\"colorbar\": {\"outlinewidth\": 0, \"ticks\": \"\"}}, \"type\": \"scattercarpet\"}], \"scattergeo\": [{\"marker\": {\"colorbar\": {\"outlinewidth\": 0, \"ticks\": \"\"}}, \"type\": \"scattergeo\"}], \"scattergl\": [{\"marker\": {\"colorbar\": {\"outlinewidth\": 0, \"ticks\": \"\"}}, \"type\": \"scattergl\"}], \"scattermapbox\": [{\"marker\": {\"colorbar\": {\"outlinewidth\": 0, \"ticks\": \"\"}}, \"type\": \"scattermapbox\"}], \"scatterpolar\": [{\"marker\": {\"colorbar\": {\"outlinewidth\": 0, \"ticks\": \"\"}}, \"type\": \"scatterpolar\"}], \"scatterpolargl\": [{\"marker\": {\"colorbar\": {\"outlinewidth\": 0, \"ticks\": \"\"}}, \"type\": \"scatterpolargl\"}], \"scatterternary\": [{\"marker\": {\"colorbar\": {\"outlinewidth\": 0, \"ticks\": \"\"}}, \"type\": \"scatterternary\"}], \"surface\": [{\"colorbar\": {\"outlinewidth\": 0, \"ticks\": \"\"}, \"colorscale\": [[0.0, \"#0d0887\"], [0.1111111111111111, \"#46039f\"], [0.2222222222222222, \"#7201a8\"], [0.3333333333333333, \"#9c179e\"], [0.4444444444444444, \"#bd3786\"], [0.5555555555555556, \"#d8576b\"], [0.6666666666666666, \"#ed7953\"], [0.7777777777777778, \"#fb9f3a\"], [0.8888888888888888, \"#fdca26\"], [1.0, \"#f0f921\"]], \"type\": \"surface\"}], \"table\": [{\"cells\": {\"fill\": {\"color\": \"#EBF0F8\"}, \"line\": {\"color\": \"white\"}}, \"header\": {\"fill\": {\"color\": \"#C8D4E3\"}, \"line\": {\"color\": \"white\"}}, \"type\": \"table\"}]}, \"layout\": {\"annotationdefaults\": {\"arrowcolor\": \"#2a3f5f\", \"arrowhead\": 0, \"arrowwidth\": 1}, \"coloraxis\": {\"colorbar\": {\"outlinewidth\": 0, \"ticks\": \"\"}}, \"colorscale\": {\"diverging\": [[0, \"#8e0152\"], [0.1, \"#c51b7d\"], [0.2, \"#de77ae\"], [0.3, \"#f1b6da\"], [0.4, \"#fde0ef\"], [0.5, \"#f7f7f7\"], [0.6, \"#e6f5d0\"], [0.7, \"#b8e186\"], [0.8, \"#7fbc41\"], [0.9, \"#4d9221\"], [1, \"#276419\"]], \"sequential\": [[0.0, \"#0d0887\"], [0.1111111111111111, \"#46039f\"], [0.2222222222222222, \"#7201a8\"], [0.3333333333333333, \"#9c179e\"], [0.4444444444444444, \"#bd3786\"], [0.5555555555555556, \"#d8576b\"], [0.6666666666666666, \"#ed7953\"], [0.7777777777777778, \"#fb9f3a\"], [0.8888888888888888, \"#fdca26\"], [1.0, \"#f0f921\"]], \"sequentialminus\": [[0.0, \"#0d0887\"], [0.1111111111111111, \"#46039f\"], [0.2222222222222222, \"#7201a8\"], [0.3333333333333333, \"#9c179e\"], [0.4444444444444444, \"#bd3786\"], [0.5555555555555556, \"#d8576b\"], [0.6666666666666666, \"#ed7953\"], [0.7777777777777778, \"#fb9f3a\"], [0.8888888888888888, \"#fdca26\"], [1.0, \"#f0f921\"]]}, \"colorway\": [\"#636efa\", \"#EF553B\", \"#00cc96\", \"#ab63fa\", \"#FFA15A\", \"#19d3f3\", \"#FF6692\", \"#B6E880\", \"#FF97FF\", \"#FECB52\"], \"font\": {\"color\": \"#2a3f5f\"}, \"geo\": {\"bgcolor\": \"white\", \"lakecolor\": \"white\", \"landcolor\": \"#E5ECF6\", \"showlakes\": true, \"showland\": true, \"subunitcolor\": \"white\"}, \"hoverlabel\": {\"align\": \"left\"}, \"hovermode\": \"closest\", \"mapbox\": {\"style\": \"light\"}, \"paper_bgcolor\": \"white\", \"plot_bgcolor\": \"#E5ECF6\", \"polar\": {\"angularaxis\": {\"gridcolor\": \"white\", \"linecolor\": \"white\", \"ticks\": \"\"}, \"bgcolor\": \"#E5ECF6\", \"radialaxis\": {\"gridcolor\": \"white\", \"linecolor\": \"white\", \"ticks\": \"\"}}, \"scene\": {\"xaxis\": {\"backgroundcolor\": \"#E5ECF6\", \"gridcolor\": \"white\", \"gridwidth\": 2, \"linecolor\": \"white\", \"showbackground\": true, \"ticks\": \"\", \"zerolinecolor\": \"white\"}, \"yaxis\": {\"backgroundcolor\": \"#E5ECF6\", \"gridcolor\": \"white\", \"gridwidth\": 2, \"linecolor\": \"white\", \"showbackground\": true, \"ticks\": \"\", \"zerolinecolor\": \"white\"}, \"zaxis\": {\"backgroundcolor\": \"#E5ECF6\", \"gridcolor\": \"white\", \"gridwidth\": 2, \"linecolor\": \"white\", \"showbackground\": true, \"ticks\": \"\", \"zerolinecolor\": \"white\"}}, \"shapedefaults\": {\"line\": {\"color\": \"#2a3f5f\"}}, \"ternary\": {\"aaxis\": {\"gridcolor\": \"white\", \"linecolor\": \"white\", \"ticks\": \"\"}, \"baxis\": {\"gridcolor\": \"white\", \"linecolor\": \"white\", \"ticks\": \"\"}, \"bgcolor\": \"#E5ECF6\", \"caxis\": {\"gridcolor\": \"white\", \"linecolor\": \"white\", \"ticks\": \"\"}}, \"title\": {\"x\": 0.05}, \"xaxis\": {\"automargin\": true, \"gridcolor\": \"white\", \"linecolor\": \"white\", \"ticks\": \"\", \"title\": {\"standoff\": 15}, \"zerolinecolor\": \"white\", \"zerolinewidth\": 2}, \"yaxis\": {\"automargin\": true, \"gridcolor\": \"white\", \"linecolor\": \"white\", \"ticks\": \"\", \"title\": {\"standoff\": 15}, \"zerolinecolor\": \"white\", \"zerolinewidth\": 2}}}},\n",
       "                        {\"responsive\": true}\n",
       "                    ).then(function(){\n",
       "                            \n",
       "var gd = document.getElementById('15d66c13-ae36-4afc-9586-43d69303dad8');\n",
       "var x = new MutationObserver(function (mutations, observer) {{\n",
       "        var display = window.getComputedStyle(gd).display;\n",
       "        if (!display || display === 'none') {{\n",
       "            console.log([gd, 'removed!']);\n",
       "            Plotly.purge(gd);\n",
       "            observer.disconnect();\n",
       "        }}\n",
       "}});\n",
       "\n",
       "// Listen for the removal of the full notebook cells\n",
       "var notebookContainer = gd.closest('#notebook-container');\n",
       "if (notebookContainer) {{\n",
       "    x.observe(notebookContainer, {childList: true});\n",
       "}}\n",
       "\n",
       "// Listen for the clearing of the current output cell\n",
       "var outputEl = gd.closest('.output');\n",
       "if (outputEl) {{\n",
       "    x.observe(outputEl, {childList: true});\n",
       "}}\n",
       "\n",
       "                        })\n",
       "                };\n",
       "                });\n",
       "            </script>\n",
       "        </div>"
      ]
     },
     "metadata": {},
     "output_type": "display_data"
    }
   ],
   "source": [
    "import plotly.graph_objects as go\n",
    "import numpy as np\n",
    "\n",
    "# Helix equation\n",
    "t = np.linspace(0, 20, 100)\n",
    "x, y, z = np.cos(t), np.sin(t), t\n",
    "\n",
    "fig = go.Figure(data=[go.Scatter3d(\n",
    "    x=x,\n",
    "    y=y,\n",
    "    z=z,\n",
    "    mode='markers',\n",
    "    marker=dict(\n",
    "        size=12,\n",
    "        color=z,                # set color to an array/list of desired values\n",
    "        colorscale='Viridis',   # choose a colorscale\n",
    "        opacity=0.8\n",
    "    )\n",
    ")])\n",
    "\n",
    "# tight layout\n",
    "fig.update_layout(margin=dict(l=0, r=0, b=0, t=0))\n",
    "fig.show()"
   ]
  },
  {
   "cell_type": "code",
   "execution_count": 24,
   "metadata": {},
   "outputs": [
    {
     "data": {
      "application/vnd.plotly.v1+json": {
       "config": {
        "plotlyServerURL": "https://plot.ly"
       },
       "data": [
        {
         "marker": {
          "color": [
           1,
           2,
           3,
           4,
           5,
           6,
           7,
           8,
           9
          ],
          "colorscale": [
           [
            0,
            "#440154"
           ],
           [
            0.1111111111111111,
            "#482878"
           ],
           [
            0.2222222222222222,
            "#3e4989"
           ],
           [
            0.3333333333333333,
            "#31688e"
           ],
           [
            0.4444444444444444,
            "#26828e"
           ],
           [
            0.5555555555555556,
            "#1f9e89"
           ],
           [
            0.6666666666666666,
            "#35b779"
           ],
           [
            0.7777777777777778,
            "#6ece58"
           ],
           [
            0.8888888888888888,
            "#b5de2b"
           ],
           [
            1,
            "#fde725"
           ]
          ],
          "opacity": 0.8,
          "size": 12
         },
         "mode": "markers",
         "type": "scatter3d",
         "x": [
          0,
          1,
          2,
          3,
          4,
          5,
          6,
          7,
          8,
          9
         ],
         "y": [
          10,
          11,
          12,
          13,
          14,
          15,
          16,
          17,
          18,
          19
         ],
         "z": [
          1,
          2,
          3,
          4,
          5,
          6,
          7,
          8,
          9
         ]
        }
       ],
       "layout": {
        "margin": {
         "b": 0,
         "l": 0,
         "r": 0,
         "t": 0
        },
        "template": {
         "data": {
          "bar": [
           {
            "error_x": {
             "color": "#2a3f5f"
            },
            "error_y": {
             "color": "#2a3f5f"
            },
            "marker": {
             "line": {
              "color": "#E5ECF6",
              "width": 0.5
             }
            },
            "type": "bar"
           }
          ],
          "barpolar": [
           {
            "marker": {
             "line": {
              "color": "#E5ECF6",
              "width": 0.5
             }
            },
            "type": "barpolar"
           }
          ],
          "carpet": [
           {
            "aaxis": {
             "endlinecolor": "#2a3f5f",
             "gridcolor": "white",
             "linecolor": "white",
             "minorgridcolor": "white",
             "startlinecolor": "#2a3f5f"
            },
            "baxis": {
             "endlinecolor": "#2a3f5f",
             "gridcolor": "white",
             "linecolor": "white",
             "minorgridcolor": "white",
             "startlinecolor": "#2a3f5f"
            },
            "type": "carpet"
           }
          ],
          "choropleth": [
           {
            "colorbar": {
             "outlinewidth": 0,
             "ticks": ""
            },
            "type": "choropleth"
           }
          ],
          "contour": [
           {
            "colorbar": {
             "outlinewidth": 0,
             "ticks": ""
            },
            "colorscale": [
             [
              0,
              "#0d0887"
             ],
             [
              0.1111111111111111,
              "#46039f"
             ],
             [
              0.2222222222222222,
              "#7201a8"
             ],
             [
              0.3333333333333333,
              "#9c179e"
             ],
             [
              0.4444444444444444,
              "#bd3786"
             ],
             [
              0.5555555555555556,
              "#d8576b"
             ],
             [
              0.6666666666666666,
              "#ed7953"
             ],
             [
              0.7777777777777778,
              "#fb9f3a"
             ],
             [
              0.8888888888888888,
              "#fdca26"
             ],
             [
              1,
              "#f0f921"
             ]
            ],
            "type": "contour"
           }
          ],
          "contourcarpet": [
           {
            "colorbar": {
             "outlinewidth": 0,
             "ticks": ""
            },
            "type": "contourcarpet"
           }
          ],
          "heatmap": [
           {
            "colorbar": {
             "outlinewidth": 0,
             "ticks": ""
            },
            "colorscale": [
             [
              0,
              "#0d0887"
             ],
             [
              0.1111111111111111,
              "#46039f"
             ],
             [
              0.2222222222222222,
              "#7201a8"
             ],
             [
              0.3333333333333333,
              "#9c179e"
             ],
             [
              0.4444444444444444,
              "#bd3786"
             ],
             [
              0.5555555555555556,
              "#d8576b"
             ],
             [
              0.6666666666666666,
              "#ed7953"
             ],
             [
              0.7777777777777778,
              "#fb9f3a"
             ],
             [
              0.8888888888888888,
              "#fdca26"
             ],
             [
              1,
              "#f0f921"
             ]
            ],
            "type": "heatmap"
           }
          ],
          "heatmapgl": [
           {
            "colorbar": {
             "outlinewidth": 0,
             "ticks": ""
            },
            "colorscale": [
             [
              0,
              "#0d0887"
             ],
             [
              0.1111111111111111,
              "#46039f"
             ],
             [
              0.2222222222222222,
              "#7201a8"
             ],
             [
              0.3333333333333333,
              "#9c179e"
             ],
             [
              0.4444444444444444,
              "#bd3786"
             ],
             [
              0.5555555555555556,
              "#d8576b"
             ],
             [
              0.6666666666666666,
              "#ed7953"
             ],
             [
              0.7777777777777778,
              "#fb9f3a"
             ],
             [
              0.8888888888888888,
              "#fdca26"
             ],
             [
              1,
              "#f0f921"
             ]
            ],
            "type": "heatmapgl"
           }
          ],
          "histogram": [
           {
            "marker": {
             "colorbar": {
              "outlinewidth": 0,
              "ticks": ""
             }
            },
            "type": "histogram"
           }
          ],
          "histogram2d": [
           {
            "colorbar": {
             "outlinewidth": 0,
             "ticks": ""
            },
            "colorscale": [
             [
              0,
              "#0d0887"
             ],
             [
              0.1111111111111111,
              "#46039f"
             ],
             [
              0.2222222222222222,
              "#7201a8"
             ],
             [
              0.3333333333333333,
              "#9c179e"
             ],
             [
              0.4444444444444444,
              "#bd3786"
             ],
             [
              0.5555555555555556,
              "#d8576b"
             ],
             [
              0.6666666666666666,
              "#ed7953"
             ],
             [
              0.7777777777777778,
              "#fb9f3a"
             ],
             [
              0.8888888888888888,
              "#fdca26"
             ],
             [
              1,
              "#f0f921"
             ]
            ],
            "type": "histogram2d"
           }
          ],
          "histogram2dcontour": [
           {
            "colorbar": {
             "outlinewidth": 0,
             "ticks": ""
            },
            "colorscale": [
             [
              0,
              "#0d0887"
             ],
             [
              0.1111111111111111,
              "#46039f"
             ],
             [
              0.2222222222222222,
              "#7201a8"
             ],
             [
              0.3333333333333333,
              "#9c179e"
             ],
             [
              0.4444444444444444,
              "#bd3786"
             ],
             [
              0.5555555555555556,
              "#d8576b"
             ],
             [
              0.6666666666666666,
              "#ed7953"
             ],
             [
              0.7777777777777778,
              "#fb9f3a"
             ],
             [
              0.8888888888888888,
              "#fdca26"
             ],
             [
              1,
              "#f0f921"
             ]
            ],
            "type": "histogram2dcontour"
           }
          ],
          "mesh3d": [
           {
            "colorbar": {
             "outlinewidth": 0,
             "ticks": ""
            },
            "type": "mesh3d"
           }
          ],
          "parcoords": [
           {
            "line": {
             "colorbar": {
              "outlinewidth": 0,
              "ticks": ""
             }
            },
            "type": "parcoords"
           }
          ],
          "pie": [
           {
            "automargin": true,
            "type": "pie"
           }
          ],
          "scatter": [
           {
            "marker": {
             "colorbar": {
              "outlinewidth": 0,
              "ticks": ""
             }
            },
            "type": "scatter"
           }
          ],
          "scatter3d": [
           {
            "line": {
             "colorbar": {
              "outlinewidth": 0,
              "ticks": ""
             }
            },
            "marker": {
             "colorbar": {
              "outlinewidth": 0,
              "ticks": ""
             }
            },
            "type": "scatter3d"
           }
          ],
          "scattercarpet": [
           {
            "marker": {
             "colorbar": {
              "outlinewidth": 0,
              "ticks": ""
             }
            },
            "type": "scattercarpet"
           }
          ],
          "scattergeo": [
           {
            "marker": {
             "colorbar": {
              "outlinewidth": 0,
              "ticks": ""
             }
            },
            "type": "scattergeo"
           }
          ],
          "scattergl": [
           {
            "marker": {
             "colorbar": {
              "outlinewidth": 0,
              "ticks": ""
             }
            },
            "type": "scattergl"
           }
          ],
          "scattermapbox": [
           {
            "marker": {
             "colorbar": {
              "outlinewidth": 0,
              "ticks": ""
             }
            },
            "type": "scattermapbox"
           }
          ],
          "scatterpolar": [
           {
            "marker": {
             "colorbar": {
              "outlinewidth": 0,
              "ticks": ""
             }
            },
            "type": "scatterpolar"
           }
          ],
          "scatterpolargl": [
           {
            "marker": {
             "colorbar": {
              "outlinewidth": 0,
              "ticks": ""
             }
            },
            "type": "scatterpolargl"
           }
          ],
          "scatterternary": [
           {
            "marker": {
             "colorbar": {
              "outlinewidth": 0,
              "ticks": ""
             }
            },
            "type": "scatterternary"
           }
          ],
          "surface": [
           {
            "colorbar": {
             "outlinewidth": 0,
             "ticks": ""
            },
            "colorscale": [
             [
              0,
              "#0d0887"
             ],
             [
              0.1111111111111111,
              "#46039f"
             ],
             [
              0.2222222222222222,
              "#7201a8"
             ],
             [
              0.3333333333333333,
              "#9c179e"
             ],
             [
              0.4444444444444444,
              "#bd3786"
             ],
             [
              0.5555555555555556,
              "#d8576b"
             ],
             [
              0.6666666666666666,
              "#ed7953"
             ],
             [
              0.7777777777777778,
              "#fb9f3a"
             ],
             [
              0.8888888888888888,
              "#fdca26"
             ],
             [
              1,
              "#f0f921"
             ]
            ],
            "type": "surface"
           }
          ],
          "table": [
           {
            "cells": {
             "fill": {
              "color": "#EBF0F8"
             },
             "line": {
              "color": "white"
             }
            },
            "header": {
             "fill": {
              "color": "#C8D4E3"
             },
             "line": {
              "color": "white"
             }
            },
            "type": "table"
           }
          ]
         },
         "layout": {
          "annotationdefaults": {
           "arrowcolor": "#2a3f5f",
           "arrowhead": 0,
           "arrowwidth": 1
          },
          "coloraxis": {
           "colorbar": {
            "outlinewidth": 0,
            "ticks": ""
           }
          },
          "colorscale": {
           "diverging": [
            [
             0,
             "#8e0152"
            ],
            [
             0.1,
             "#c51b7d"
            ],
            [
             0.2,
             "#de77ae"
            ],
            [
             0.3,
             "#f1b6da"
            ],
            [
             0.4,
             "#fde0ef"
            ],
            [
             0.5,
             "#f7f7f7"
            ],
            [
             0.6,
             "#e6f5d0"
            ],
            [
             0.7,
             "#b8e186"
            ],
            [
             0.8,
             "#7fbc41"
            ],
            [
             0.9,
             "#4d9221"
            ],
            [
             1,
             "#276419"
            ]
           ],
           "sequential": [
            [
             0,
             "#0d0887"
            ],
            [
             0.1111111111111111,
             "#46039f"
            ],
            [
             0.2222222222222222,
             "#7201a8"
            ],
            [
             0.3333333333333333,
             "#9c179e"
            ],
            [
             0.4444444444444444,
             "#bd3786"
            ],
            [
             0.5555555555555556,
             "#d8576b"
            ],
            [
             0.6666666666666666,
             "#ed7953"
            ],
            [
             0.7777777777777778,
             "#fb9f3a"
            ],
            [
             0.8888888888888888,
             "#fdca26"
            ],
            [
             1,
             "#f0f921"
            ]
           ],
           "sequentialminus": [
            [
             0,
             "#0d0887"
            ],
            [
             0.1111111111111111,
             "#46039f"
            ],
            [
             0.2222222222222222,
             "#7201a8"
            ],
            [
             0.3333333333333333,
             "#9c179e"
            ],
            [
             0.4444444444444444,
             "#bd3786"
            ],
            [
             0.5555555555555556,
             "#d8576b"
            ],
            [
             0.6666666666666666,
             "#ed7953"
            ],
            [
             0.7777777777777778,
             "#fb9f3a"
            ],
            [
             0.8888888888888888,
             "#fdca26"
            ],
            [
             1,
             "#f0f921"
            ]
           ]
          },
          "colorway": [
           "#636efa",
           "#EF553B",
           "#00cc96",
           "#ab63fa",
           "#FFA15A",
           "#19d3f3",
           "#FF6692",
           "#B6E880",
           "#FF97FF",
           "#FECB52"
          ],
          "font": {
           "color": "#2a3f5f"
          },
          "geo": {
           "bgcolor": "white",
           "lakecolor": "white",
           "landcolor": "#E5ECF6",
           "showlakes": true,
           "showland": true,
           "subunitcolor": "white"
          },
          "hoverlabel": {
           "align": "left"
          },
          "hovermode": "closest",
          "mapbox": {
           "style": "light"
          },
          "paper_bgcolor": "white",
          "plot_bgcolor": "#E5ECF6",
          "polar": {
           "angularaxis": {
            "gridcolor": "white",
            "linecolor": "white",
            "ticks": ""
           },
           "bgcolor": "#E5ECF6",
           "radialaxis": {
            "gridcolor": "white",
            "linecolor": "white",
            "ticks": ""
           }
          },
          "scene": {
           "xaxis": {
            "backgroundcolor": "#E5ECF6",
            "gridcolor": "white",
            "gridwidth": 2,
            "linecolor": "white",
            "showbackground": true,
            "ticks": "",
            "zerolinecolor": "white"
           },
           "yaxis": {
            "backgroundcolor": "#E5ECF6",
            "gridcolor": "white",
            "gridwidth": 2,
            "linecolor": "white",
            "showbackground": true,
            "ticks": "",
            "zerolinecolor": "white"
           },
           "zaxis": {
            "backgroundcolor": "#E5ECF6",
            "gridcolor": "white",
            "gridwidth": 2,
            "linecolor": "white",
            "showbackground": true,
            "ticks": "",
            "zerolinecolor": "white"
           }
          },
          "shapedefaults": {
           "line": {
            "color": "#2a3f5f"
           }
          },
          "ternary": {
           "aaxis": {
            "gridcolor": "white",
            "linecolor": "white",
            "ticks": ""
           },
           "baxis": {
            "gridcolor": "white",
            "linecolor": "white",
            "ticks": ""
           },
           "bgcolor": "#E5ECF6",
           "caxis": {
            "gridcolor": "white",
            "linecolor": "white",
            "ticks": ""
           }
          },
          "title": {
           "x": 0.05
          },
          "xaxis": {
           "automargin": true,
           "gridcolor": "white",
           "linecolor": "white",
           "ticks": "",
           "title": {
            "standoff": 15
           },
           "zerolinecolor": "white",
           "zerolinewidth": 2
          },
          "yaxis": {
           "automargin": true,
           "gridcolor": "white",
           "linecolor": "white",
           "ticks": "",
           "title": {
            "standoff": 15
           },
           "zerolinecolor": "white",
           "zerolinewidth": 2
          }
         }
        }
       }
      },
      "text/html": [
       "<div>\n",
       "        \n",
       "        \n",
       "            <div id=\"b71bedb4-dd93-4151-8067-9b033aa7b51a\" class=\"plotly-graph-div\" style=\"height:525px; width:100%;\"></div>\n",
       "            <script type=\"text/javascript\">\n",
       "                require([\"plotly\"], function(Plotly) {\n",
       "                    window.PLOTLYENV=window.PLOTLYENV || {};\n",
       "                    \n",
       "                if (document.getElementById(\"b71bedb4-dd93-4151-8067-9b033aa7b51a\")) {\n",
       "                    Plotly.newPlot(\n",
       "                        'b71bedb4-dd93-4151-8067-9b033aa7b51a',\n",
       "                        [{\"marker\": {\"color\": [1, 2, 3, 4, 5, 6, 7, 8, 9], \"colorscale\": [[0.0, \"#440154\"], [0.1111111111111111, \"#482878\"], [0.2222222222222222, \"#3e4989\"], [0.3333333333333333, \"#31688e\"], [0.4444444444444444, \"#26828e\"], [0.5555555555555556, \"#1f9e89\"], [0.6666666666666666, \"#35b779\"], [0.7777777777777778, \"#6ece58\"], [0.8888888888888888, \"#b5de2b\"], [1.0, \"#fde725\"]], \"opacity\": 0.8, \"size\": 12}, \"mode\": \"markers\", \"type\": \"scatter3d\", \"x\": [0, 1, 2, 3, 4, 5, 6, 7, 8, 9], \"y\": [10, 11, 12, 13, 14, 15, 16, 17, 18, 19], \"z\": [1, 2, 3, 4, 5, 6, 7, 8, 9]}],\n",
       "                        {\"margin\": {\"b\": 0, \"l\": 0, \"r\": 0, \"t\": 0}, \"template\": {\"data\": {\"bar\": [{\"error_x\": {\"color\": \"#2a3f5f\"}, \"error_y\": {\"color\": \"#2a3f5f\"}, \"marker\": {\"line\": {\"color\": \"#E5ECF6\", \"width\": 0.5}}, \"type\": \"bar\"}], \"barpolar\": [{\"marker\": {\"line\": {\"color\": \"#E5ECF6\", \"width\": 0.5}}, \"type\": \"barpolar\"}], \"carpet\": [{\"aaxis\": {\"endlinecolor\": \"#2a3f5f\", \"gridcolor\": \"white\", \"linecolor\": \"white\", \"minorgridcolor\": \"white\", \"startlinecolor\": \"#2a3f5f\"}, \"baxis\": {\"endlinecolor\": \"#2a3f5f\", \"gridcolor\": \"white\", \"linecolor\": \"white\", \"minorgridcolor\": \"white\", \"startlinecolor\": \"#2a3f5f\"}, \"type\": \"carpet\"}], \"choropleth\": [{\"colorbar\": {\"outlinewidth\": 0, \"ticks\": \"\"}, \"type\": \"choropleth\"}], \"contour\": [{\"colorbar\": {\"outlinewidth\": 0, \"ticks\": \"\"}, \"colorscale\": [[0.0, \"#0d0887\"], [0.1111111111111111, \"#46039f\"], [0.2222222222222222, \"#7201a8\"], [0.3333333333333333, \"#9c179e\"], [0.4444444444444444, \"#bd3786\"], [0.5555555555555556, \"#d8576b\"], [0.6666666666666666, \"#ed7953\"], [0.7777777777777778, \"#fb9f3a\"], [0.8888888888888888, \"#fdca26\"], [1.0, \"#f0f921\"]], \"type\": \"contour\"}], \"contourcarpet\": [{\"colorbar\": {\"outlinewidth\": 0, \"ticks\": \"\"}, \"type\": \"contourcarpet\"}], \"heatmap\": [{\"colorbar\": {\"outlinewidth\": 0, \"ticks\": \"\"}, \"colorscale\": [[0.0, \"#0d0887\"], [0.1111111111111111, \"#46039f\"], [0.2222222222222222, \"#7201a8\"], [0.3333333333333333, \"#9c179e\"], [0.4444444444444444, \"#bd3786\"], [0.5555555555555556, \"#d8576b\"], [0.6666666666666666, \"#ed7953\"], [0.7777777777777778, \"#fb9f3a\"], [0.8888888888888888, \"#fdca26\"], [1.0, \"#f0f921\"]], \"type\": \"heatmap\"}], \"heatmapgl\": [{\"colorbar\": {\"outlinewidth\": 0, \"ticks\": \"\"}, \"colorscale\": [[0.0, \"#0d0887\"], [0.1111111111111111, \"#46039f\"], [0.2222222222222222, \"#7201a8\"], [0.3333333333333333, \"#9c179e\"], [0.4444444444444444, \"#bd3786\"], [0.5555555555555556, \"#d8576b\"], [0.6666666666666666, \"#ed7953\"], [0.7777777777777778, \"#fb9f3a\"], [0.8888888888888888, \"#fdca26\"], [1.0, \"#f0f921\"]], \"type\": \"heatmapgl\"}], \"histogram\": [{\"marker\": {\"colorbar\": {\"outlinewidth\": 0, \"ticks\": \"\"}}, \"type\": \"histogram\"}], \"histogram2d\": [{\"colorbar\": {\"outlinewidth\": 0, \"ticks\": \"\"}, \"colorscale\": [[0.0, \"#0d0887\"], [0.1111111111111111, \"#46039f\"], [0.2222222222222222, \"#7201a8\"], [0.3333333333333333, \"#9c179e\"], [0.4444444444444444, \"#bd3786\"], [0.5555555555555556, \"#d8576b\"], [0.6666666666666666, \"#ed7953\"], [0.7777777777777778, \"#fb9f3a\"], [0.8888888888888888, \"#fdca26\"], [1.0, \"#f0f921\"]], \"type\": \"histogram2d\"}], \"histogram2dcontour\": [{\"colorbar\": {\"outlinewidth\": 0, \"ticks\": \"\"}, \"colorscale\": [[0.0, \"#0d0887\"], [0.1111111111111111, \"#46039f\"], [0.2222222222222222, \"#7201a8\"], [0.3333333333333333, \"#9c179e\"], [0.4444444444444444, \"#bd3786\"], [0.5555555555555556, \"#d8576b\"], [0.6666666666666666, \"#ed7953\"], [0.7777777777777778, \"#fb9f3a\"], [0.8888888888888888, \"#fdca26\"], [1.0, \"#f0f921\"]], \"type\": \"histogram2dcontour\"}], \"mesh3d\": [{\"colorbar\": {\"outlinewidth\": 0, \"ticks\": \"\"}, \"type\": \"mesh3d\"}], \"parcoords\": [{\"line\": {\"colorbar\": {\"outlinewidth\": 0, \"ticks\": \"\"}}, \"type\": \"parcoords\"}], \"pie\": [{\"automargin\": true, \"type\": \"pie\"}], \"scatter\": [{\"marker\": {\"colorbar\": {\"outlinewidth\": 0, \"ticks\": \"\"}}, \"type\": \"scatter\"}], \"scatter3d\": [{\"line\": {\"colorbar\": {\"outlinewidth\": 0, \"ticks\": \"\"}}, \"marker\": {\"colorbar\": {\"outlinewidth\": 0, \"ticks\": \"\"}}, \"type\": \"scatter3d\"}], \"scattercarpet\": [{\"marker\": {\"colorbar\": {\"outlinewidth\": 0, \"ticks\": \"\"}}, \"type\": \"scattercarpet\"}], \"scattergeo\": [{\"marker\": {\"colorbar\": {\"outlinewidth\": 0, \"ticks\": \"\"}}, \"type\": \"scattergeo\"}], \"scattergl\": [{\"marker\": {\"colorbar\": {\"outlinewidth\": 0, \"ticks\": \"\"}}, \"type\": \"scattergl\"}], \"scattermapbox\": [{\"marker\": {\"colorbar\": {\"outlinewidth\": 0, \"ticks\": \"\"}}, \"type\": \"scattermapbox\"}], \"scatterpolar\": [{\"marker\": {\"colorbar\": {\"outlinewidth\": 0, \"ticks\": \"\"}}, \"type\": \"scatterpolar\"}], \"scatterpolargl\": [{\"marker\": {\"colorbar\": {\"outlinewidth\": 0, \"ticks\": \"\"}}, \"type\": \"scatterpolargl\"}], \"scatterternary\": [{\"marker\": {\"colorbar\": {\"outlinewidth\": 0, \"ticks\": \"\"}}, \"type\": \"scatterternary\"}], \"surface\": [{\"colorbar\": {\"outlinewidth\": 0, \"ticks\": \"\"}, \"colorscale\": [[0.0, \"#0d0887\"], [0.1111111111111111, \"#46039f\"], [0.2222222222222222, \"#7201a8\"], [0.3333333333333333, \"#9c179e\"], [0.4444444444444444, \"#bd3786\"], [0.5555555555555556, \"#d8576b\"], [0.6666666666666666, \"#ed7953\"], [0.7777777777777778, \"#fb9f3a\"], [0.8888888888888888, \"#fdca26\"], [1.0, \"#f0f921\"]], \"type\": \"surface\"}], \"table\": [{\"cells\": {\"fill\": {\"color\": \"#EBF0F8\"}, \"line\": {\"color\": \"white\"}}, \"header\": {\"fill\": {\"color\": \"#C8D4E3\"}, \"line\": {\"color\": \"white\"}}, \"type\": \"table\"}]}, \"layout\": {\"annotationdefaults\": {\"arrowcolor\": \"#2a3f5f\", \"arrowhead\": 0, \"arrowwidth\": 1}, \"coloraxis\": {\"colorbar\": {\"outlinewidth\": 0, \"ticks\": \"\"}}, \"colorscale\": {\"diverging\": [[0, \"#8e0152\"], [0.1, \"#c51b7d\"], [0.2, \"#de77ae\"], [0.3, \"#f1b6da\"], [0.4, \"#fde0ef\"], [0.5, \"#f7f7f7\"], [0.6, \"#e6f5d0\"], [0.7, \"#b8e186\"], [0.8, \"#7fbc41\"], [0.9, \"#4d9221\"], [1, \"#276419\"]], \"sequential\": [[0.0, \"#0d0887\"], [0.1111111111111111, \"#46039f\"], [0.2222222222222222, \"#7201a8\"], [0.3333333333333333, \"#9c179e\"], [0.4444444444444444, \"#bd3786\"], [0.5555555555555556, \"#d8576b\"], [0.6666666666666666, \"#ed7953\"], [0.7777777777777778, \"#fb9f3a\"], [0.8888888888888888, \"#fdca26\"], [1.0, \"#f0f921\"]], \"sequentialminus\": [[0.0, \"#0d0887\"], [0.1111111111111111, \"#46039f\"], [0.2222222222222222, \"#7201a8\"], [0.3333333333333333, \"#9c179e\"], [0.4444444444444444, \"#bd3786\"], [0.5555555555555556, \"#d8576b\"], [0.6666666666666666, \"#ed7953\"], [0.7777777777777778, \"#fb9f3a\"], [0.8888888888888888, \"#fdca26\"], [1.0, \"#f0f921\"]]}, \"colorway\": [\"#636efa\", \"#EF553B\", \"#00cc96\", \"#ab63fa\", \"#FFA15A\", \"#19d3f3\", \"#FF6692\", \"#B6E880\", \"#FF97FF\", \"#FECB52\"], \"font\": {\"color\": \"#2a3f5f\"}, \"geo\": {\"bgcolor\": \"white\", \"lakecolor\": \"white\", \"landcolor\": \"#E5ECF6\", \"showlakes\": true, \"showland\": true, \"subunitcolor\": \"white\"}, \"hoverlabel\": {\"align\": \"left\"}, \"hovermode\": \"closest\", \"mapbox\": {\"style\": \"light\"}, \"paper_bgcolor\": \"white\", \"plot_bgcolor\": \"#E5ECF6\", \"polar\": {\"angularaxis\": {\"gridcolor\": \"white\", \"linecolor\": \"white\", \"ticks\": \"\"}, \"bgcolor\": \"#E5ECF6\", \"radialaxis\": {\"gridcolor\": \"white\", \"linecolor\": \"white\", \"ticks\": \"\"}}, \"scene\": {\"xaxis\": {\"backgroundcolor\": \"#E5ECF6\", \"gridcolor\": \"white\", \"gridwidth\": 2, \"linecolor\": \"white\", \"showbackground\": true, \"ticks\": \"\", \"zerolinecolor\": \"white\"}, \"yaxis\": {\"backgroundcolor\": \"#E5ECF6\", \"gridcolor\": \"white\", \"gridwidth\": 2, \"linecolor\": \"white\", \"showbackground\": true, \"ticks\": \"\", \"zerolinecolor\": \"white\"}, \"zaxis\": {\"backgroundcolor\": \"#E5ECF6\", \"gridcolor\": \"white\", \"gridwidth\": 2, \"linecolor\": \"white\", \"showbackground\": true, \"ticks\": \"\", \"zerolinecolor\": \"white\"}}, \"shapedefaults\": {\"line\": {\"color\": \"#2a3f5f\"}}, \"ternary\": {\"aaxis\": {\"gridcolor\": \"white\", \"linecolor\": \"white\", \"ticks\": \"\"}, \"baxis\": {\"gridcolor\": \"white\", \"linecolor\": \"white\", \"ticks\": \"\"}, \"bgcolor\": \"#E5ECF6\", \"caxis\": {\"gridcolor\": \"white\", \"linecolor\": \"white\", \"ticks\": \"\"}}, \"title\": {\"x\": 0.05}, \"xaxis\": {\"automargin\": true, \"gridcolor\": \"white\", \"linecolor\": \"white\", \"ticks\": \"\", \"title\": {\"standoff\": 15}, \"zerolinecolor\": \"white\", \"zerolinewidth\": 2}, \"yaxis\": {\"automargin\": true, \"gridcolor\": \"white\", \"linecolor\": \"white\", \"ticks\": \"\", \"title\": {\"standoff\": 15}, \"zerolinecolor\": \"white\", \"zerolinewidth\": 2}}}},\n",
       "                        {\"responsive\": true}\n",
       "                    ).then(function(){\n",
       "                            \n",
       "var gd = document.getElementById('b71bedb4-dd93-4151-8067-9b033aa7b51a');\n",
       "var x = new MutationObserver(function (mutations, observer) {{\n",
       "        var display = window.getComputedStyle(gd).display;\n",
       "        if (!display || display === 'none') {{\n",
       "            console.log([gd, 'removed!']);\n",
       "            Plotly.purge(gd);\n",
       "            observer.disconnect();\n",
       "        }}\n",
       "}});\n",
       "\n",
       "// Listen for the removal of the full notebook cells\n",
       "var notebookContainer = gd.closest('#notebook-container');\n",
       "if (notebookContainer) {{\n",
       "    x.observe(notebookContainer, {childList: true});\n",
       "}}\n",
       "\n",
       "// Listen for the clearing of the current output cell\n",
       "var outputEl = gd.closest('.output');\n",
       "if (outputEl) {{\n",
       "    x.observe(outputEl, {childList: true});\n",
       "}}\n",
       "\n",
       "                        })\n",
       "                };\n",
       "                });\n",
       "            </script>\n",
       "        </div>"
      ]
     },
     "metadata": {},
     "output_type": "display_data"
    }
   ],
   "source": [
    "import plotly.graph_objects as go\n",
    "import numpy as np\n",
    "\n",
    "# Vertical Line Equation\n",
    "t = np.arange(1, 10)\n",
    "x, y, z = np.arange(0, 10), np.arange(10, 20), t\n",
    "\n",
    "fig = go.Figure(data=[go.Scatter3d(\n",
    "    x=x,\n",
    "    y=y,\n",
    "    z=z,\n",
    "    mode='markers',\n",
    "    marker=dict(\n",
    "        size=12,\n",
    "        color=z,                # set color to an array/list of desired values\n",
    "        colorscale='Viridis',   # choose a colorscale\n",
    "        opacity=0.8\n",
    "    )\n",
    ")])\n",
    "\n",
    "# tight layout\n",
    "fig.update_layout(margin=dict(l=0, r=0, b=0, t=0))\n",
    "fig.show()"
   ]
  },
  {
   "cell_type": "code",
   "execution_count": 29,
   "metadata": {},
   "outputs": [
    {
     "data": {
      "application/vnd.plotly.v1+json": {
       "config": {
        "plotlyServerURL": "https://plot.ly"
       },
       "data": [
        {
         "marker": {
          "color": [
           1,
           2,
           3,
           4
          ],
          "colorscale": [
           [
            0,
            "#440154"
           ],
           [
            0.1111111111111111,
            "#482878"
           ],
           [
            0.2222222222222222,
            "#3e4989"
           ],
           [
            0.3333333333333333,
            "#31688e"
           ],
           [
            0.4444444444444444,
            "#26828e"
           ],
           [
            0.5555555555555556,
            "#1f9e89"
           ],
           [
            0.6666666666666666,
            "#35b779"
           ],
           [
            0.7777777777777778,
            "#6ece58"
           ],
           [
            0.8888888888888888,
            "#b5de2b"
           ],
           [
            1,
            "#fde725"
           ]
          ],
          "opacity": 0.8,
          "size": 12
         },
         "mode": "markers",
         "type": "scatter3d",
         "x": [
          1,
          2,
          3,
          4
         ],
         "y": [
          1,
          2,
          3,
          4
         ],
         "z": [
          1,
          2,
          3,
          4
         ]
        }
       ],
       "layout": {
        "images": [
         {
          "layer": "below",
          "opacity": 0.5,
          "sizex": 2,
          "sizey": 2,
          "sizing": "stretch",
          "source": "https://images.plot.ly/language-icons/api-home/python-logo.png",
          "x": 0,
          "xref": "x",
          "y": 3,
          "yref": "y"
         }
        ],
        "margin": {
         "b": 0,
         "l": 0,
         "r": 0,
         "t": 0
        },
        "template": {
         "data": {
          "bar": [
           {
            "error_x": {
             "color": "#2a3f5f"
            },
            "error_y": {
             "color": "#2a3f5f"
            },
            "marker": {
             "line": {
              "color": "#E5ECF6",
              "width": 0.5
             }
            },
            "type": "bar"
           }
          ],
          "barpolar": [
           {
            "marker": {
             "line": {
              "color": "#E5ECF6",
              "width": 0.5
             }
            },
            "type": "barpolar"
           }
          ],
          "carpet": [
           {
            "aaxis": {
             "endlinecolor": "#2a3f5f",
             "gridcolor": "white",
             "linecolor": "white",
             "minorgridcolor": "white",
             "startlinecolor": "#2a3f5f"
            },
            "baxis": {
             "endlinecolor": "#2a3f5f",
             "gridcolor": "white",
             "linecolor": "white",
             "minorgridcolor": "white",
             "startlinecolor": "#2a3f5f"
            },
            "type": "carpet"
           }
          ],
          "choropleth": [
           {
            "colorbar": {
             "outlinewidth": 0,
             "ticks": ""
            },
            "type": "choropleth"
           }
          ],
          "contour": [
           {
            "colorbar": {
             "outlinewidth": 0,
             "ticks": ""
            },
            "colorscale": [
             [
              0,
              "#0d0887"
             ],
             [
              0.1111111111111111,
              "#46039f"
             ],
             [
              0.2222222222222222,
              "#7201a8"
             ],
             [
              0.3333333333333333,
              "#9c179e"
             ],
             [
              0.4444444444444444,
              "#bd3786"
             ],
             [
              0.5555555555555556,
              "#d8576b"
             ],
             [
              0.6666666666666666,
              "#ed7953"
             ],
             [
              0.7777777777777778,
              "#fb9f3a"
             ],
             [
              0.8888888888888888,
              "#fdca26"
             ],
             [
              1,
              "#f0f921"
             ]
            ],
            "type": "contour"
           }
          ],
          "contourcarpet": [
           {
            "colorbar": {
             "outlinewidth": 0,
             "ticks": ""
            },
            "type": "contourcarpet"
           }
          ],
          "heatmap": [
           {
            "colorbar": {
             "outlinewidth": 0,
             "ticks": ""
            },
            "colorscale": [
             [
              0,
              "#0d0887"
             ],
             [
              0.1111111111111111,
              "#46039f"
             ],
             [
              0.2222222222222222,
              "#7201a8"
             ],
             [
              0.3333333333333333,
              "#9c179e"
             ],
             [
              0.4444444444444444,
              "#bd3786"
             ],
             [
              0.5555555555555556,
              "#d8576b"
             ],
             [
              0.6666666666666666,
              "#ed7953"
             ],
             [
              0.7777777777777778,
              "#fb9f3a"
             ],
             [
              0.8888888888888888,
              "#fdca26"
             ],
             [
              1,
              "#f0f921"
             ]
            ],
            "type": "heatmap"
           }
          ],
          "heatmapgl": [
           {
            "colorbar": {
             "outlinewidth": 0,
             "ticks": ""
            },
            "colorscale": [
             [
              0,
              "#0d0887"
             ],
             [
              0.1111111111111111,
              "#46039f"
             ],
             [
              0.2222222222222222,
              "#7201a8"
             ],
             [
              0.3333333333333333,
              "#9c179e"
             ],
             [
              0.4444444444444444,
              "#bd3786"
             ],
             [
              0.5555555555555556,
              "#d8576b"
             ],
             [
              0.6666666666666666,
              "#ed7953"
             ],
             [
              0.7777777777777778,
              "#fb9f3a"
             ],
             [
              0.8888888888888888,
              "#fdca26"
             ],
             [
              1,
              "#f0f921"
             ]
            ],
            "type": "heatmapgl"
           }
          ],
          "histogram": [
           {
            "marker": {
             "colorbar": {
              "outlinewidth": 0,
              "ticks": ""
             }
            },
            "type": "histogram"
           }
          ],
          "histogram2d": [
           {
            "colorbar": {
             "outlinewidth": 0,
             "ticks": ""
            },
            "colorscale": [
             [
              0,
              "#0d0887"
             ],
             [
              0.1111111111111111,
              "#46039f"
             ],
             [
              0.2222222222222222,
              "#7201a8"
             ],
             [
              0.3333333333333333,
              "#9c179e"
             ],
             [
              0.4444444444444444,
              "#bd3786"
             ],
             [
              0.5555555555555556,
              "#d8576b"
             ],
             [
              0.6666666666666666,
              "#ed7953"
             ],
             [
              0.7777777777777778,
              "#fb9f3a"
             ],
             [
              0.8888888888888888,
              "#fdca26"
             ],
             [
              1,
              "#f0f921"
             ]
            ],
            "type": "histogram2d"
           }
          ],
          "histogram2dcontour": [
           {
            "colorbar": {
             "outlinewidth": 0,
             "ticks": ""
            },
            "colorscale": [
             [
              0,
              "#0d0887"
             ],
             [
              0.1111111111111111,
              "#46039f"
             ],
             [
              0.2222222222222222,
              "#7201a8"
             ],
             [
              0.3333333333333333,
              "#9c179e"
             ],
             [
              0.4444444444444444,
              "#bd3786"
             ],
             [
              0.5555555555555556,
              "#d8576b"
             ],
             [
              0.6666666666666666,
              "#ed7953"
             ],
             [
              0.7777777777777778,
              "#fb9f3a"
             ],
             [
              0.8888888888888888,
              "#fdca26"
             ],
             [
              1,
              "#f0f921"
             ]
            ],
            "type": "histogram2dcontour"
           }
          ],
          "mesh3d": [
           {
            "colorbar": {
             "outlinewidth": 0,
             "ticks": ""
            },
            "type": "mesh3d"
           }
          ],
          "parcoords": [
           {
            "line": {
             "colorbar": {
              "outlinewidth": 0,
              "ticks": ""
             }
            },
            "type": "parcoords"
           }
          ],
          "pie": [
           {
            "automargin": true,
            "type": "pie"
           }
          ],
          "scatter": [
           {
            "marker": {
             "colorbar": {
              "outlinewidth": 0,
              "ticks": ""
             }
            },
            "type": "scatter"
           }
          ],
          "scatter3d": [
           {
            "line": {
             "colorbar": {
              "outlinewidth": 0,
              "ticks": ""
             }
            },
            "marker": {
             "colorbar": {
              "outlinewidth": 0,
              "ticks": ""
             }
            },
            "type": "scatter3d"
           }
          ],
          "scattercarpet": [
           {
            "marker": {
             "colorbar": {
              "outlinewidth": 0,
              "ticks": ""
             }
            },
            "type": "scattercarpet"
           }
          ],
          "scattergeo": [
           {
            "marker": {
             "colorbar": {
              "outlinewidth": 0,
              "ticks": ""
             }
            },
            "type": "scattergeo"
           }
          ],
          "scattergl": [
           {
            "marker": {
             "colorbar": {
              "outlinewidth": 0,
              "ticks": ""
             }
            },
            "type": "scattergl"
           }
          ],
          "scattermapbox": [
           {
            "marker": {
             "colorbar": {
              "outlinewidth": 0,
              "ticks": ""
             }
            },
            "type": "scattermapbox"
           }
          ],
          "scatterpolar": [
           {
            "marker": {
             "colorbar": {
              "outlinewidth": 0,
              "ticks": ""
             }
            },
            "type": "scatterpolar"
           }
          ],
          "scatterpolargl": [
           {
            "marker": {
             "colorbar": {
              "outlinewidth": 0,
              "ticks": ""
             }
            },
            "type": "scatterpolargl"
           }
          ],
          "scatterternary": [
           {
            "marker": {
             "colorbar": {
              "outlinewidth": 0,
              "ticks": ""
             }
            },
            "type": "scatterternary"
           }
          ],
          "surface": [
           {
            "colorbar": {
             "outlinewidth": 0,
             "ticks": ""
            },
            "colorscale": [
             [
              0,
              "#0d0887"
             ],
             [
              0.1111111111111111,
              "#46039f"
             ],
             [
              0.2222222222222222,
              "#7201a8"
             ],
             [
              0.3333333333333333,
              "#9c179e"
             ],
             [
              0.4444444444444444,
              "#bd3786"
             ],
             [
              0.5555555555555556,
              "#d8576b"
             ],
             [
              0.6666666666666666,
              "#ed7953"
             ],
             [
              0.7777777777777778,
              "#fb9f3a"
             ],
             [
              0.8888888888888888,
              "#fdca26"
             ],
             [
              1,
              "#f0f921"
             ]
            ],
            "type": "surface"
           }
          ],
          "table": [
           {
            "cells": {
             "fill": {
              "color": "#EBF0F8"
             },
             "line": {
              "color": "white"
             }
            },
            "header": {
             "fill": {
              "color": "#C8D4E3"
             },
             "line": {
              "color": "white"
             }
            },
            "type": "table"
           }
          ]
         },
         "layout": {
          "annotationdefaults": {
           "arrowcolor": "#2a3f5f",
           "arrowhead": 0,
           "arrowwidth": 1
          },
          "coloraxis": {
           "colorbar": {
            "outlinewidth": 0,
            "ticks": ""
           }
          },
          "colorscale": {
           "diverging": [
            [
             0,
             "#8e0152"
            ],
            [
             0.1,
             "#c51b7d"
            ],
            [
             0.2,
             "#de77ae"
            ],
            [
             0.3,
             "#f1b6da"
            ],
            [
             0.4,
             "#fde0ef"
            ],
            [
             0.5,
             "#f7f7f7"
            ],
            [
             0.6,
             "#e6f5d0"
            ],
            [
             0.7,
             "#b8e186"
            ],
            [
             0.8,
             "#7fbc41"
            ],
            [
             0.9,
             "#4d9221"
            ],
            [
             1,
             "#276419"
            ]
           ],
           "sequential": [
            [
             0,
             "#0d0887"
            ],
            [
             0.1111111111111111,
             "#46039f"
            ],
            [
             0.2222222222222222,
             "#7201a8"
            ],
            [
             0.3333333333333333,
             "#9c179e"
            ],
            [
             0.4444444444444444,
             "#bd3786"
            ],
            [
             0.5555555555555556,
             "#d8576b"
            ],
            [
             0.6666666666666666,
             "#ed7953"
            ],
            [
             0.7777777777777778,
             "#fb9f3a"
            ],
            [
             0.8888888888888888,
             "#fdca26"
            ],
            [
             1,
             "#f0f921"
            ]
           ],
           "sequentialminus": [
            [
             0,
             "#0d0887"
            ],
            [
             0.1111111111111111,
             "#46039f"
            ],
            [
             0.2222222222222222,
             "#7201a8"
            ],
            [
             0.3333333333333333,
             "#9c179e"
            ],
            [
             0.4444444444444444,
             "#bd3786"
            ],
            [
             0.5555555555555556,
             "#d8576b"
            ],
            [
             0.6666666666666666,
             "#ed7953"
            ],
            [
             0.7777777777777778,
             "#fb9f3a"
            ],
            [
             0.8888888888888888,
             "#fdca26"
            ],
            [
             1,
             "#f0f921"
            ]
           ]
          },
          "colorway": [
           "#636efa",
           "#EF553B",
           "#00cc96",
           "#ab63fa",
           "#FFA15A",
           "#19d3f3",
           "#FF6692",
           "#B6E880",
           "#FF97FF",
           "#FECB52"
          ],
          "font": {
           "color": "#2a3f5f"
          },
          "geo": {
           "bgcolor": "white",
           "lakecolor": "white",
           "landcolor": "#E5ECF6",
           "showlakes": true,
           "showland": true,
           "subunitcolor": "white"
          },
          "hoverlabel": {
           "align": "left"
          },
          "hovermode": "closest",
          "mapbox": {
           "style": "light"
          },
          "paper_bgcolor": "white",
          "plot_bgcolor": "#E5ECF6",
          "polar": {
           "angularaxis": {
            "gridcolor": "white",
            "linecolor": "white",
            "ticks": ""
           },
           "bgcolor": "#E5ECF6",
           "radialaxis": {
            "gridcolor": "white",
            "linecolor": "white",
            "ticks": ""
           }
          },
          "scene": {
           "xaxis": {
            "backgroundcolor": "#E5ECF6",
            "gridcolor": "white",
            "gridwidth": 2,
            "linecolor": "white",
            "showbackground": true,
            "ticks": "",
            "zerolinecolor": "white"
           },
           "yaxis": {
            "backgroundcolor": "#E5ECF6",
            "gridcolor": "white",
            "gridwidth": 2,
            "linecolor": "white",
            "showbackground": true,
            "ticks": "",
            "zerolinecolor": "white"
           },
           "zaxis": {
            "backgroundcolor": "#E5ECF6",
            "gridcolor": "white",
            "gridwidth": 2,
            "linecolor": "white",
            "showbackground": true,
            "ticks": "",
            "zerolinecolor": "white"
           }
          },
          "shapedefaults": {
           "line": {
            "color": "#2a3f5f"
           }
          },
          "ternary": {
           "aaxis": {
            "gridcolor": "white",
            "linecolor": "white",
            "ticks": ""
           },
           "baxis": {
            "gridcolor": "white",
            "linecolor": "white",
            "ticks": ""
           },
           "bgcolor": "#E5ECF6",
           "caxis": {
            "gridcolor": "white",
            "linecolor": "white",
            "ticks": ""
           }
          },
          "title": {
           "x": 0.05
          },
          "xaxis": {
           "automargin": true,
           "gridcolor": "white",
           "linecolor": "white",
           "ticks": "",
           "title": {
            "standoff": 15
           },
           "zerolinecolor": "white",
           "zerolinewidth": 2
          },
          "yaxis": {
           "automargin": true,
           "gridcolor": "white",
           "linecolor": "white",
           "ticks": "",
           "title": {
            "standoff": 15
           },
           "zerolinecolor": "white",
           "zerolinewidth": 2
          }
         }
        }
       }
      },
      "text/html": [
       "<div>\n",
       "        \n",
       "        \n",
       "            <div id=\"9eb405f0-f253-4bcf-986d-c69392c644a5\" class=\"plotly-graph-div\" style=\"height:525px; width:100%;\"></div>\n",
       "            <script type=\"text/javascript\">\n",
       "                require([\"plotly\"], function(Plotly) {\n",
       "                    window.PLOTLYENV=window.PLOTLYENV || {};\n",
       "                    \n",
       "                if (document.getElementById(\"9eb405f0-f253-4bcf-986d-c69392c644a5\")) {\n",
       "                    Plotly.newPlot(\n",
       "                        '9eb405f0-f253-4bcf-986d-c69392c644a5',\n",
       "                        [{\"marker\": {\"color\": [1, 2, 3, 4], \"colorscale\": [[0.0, \"#440154\"], [0.1111111111111111, \"#482878\"], [0.2222222222222222, \"#3e4989\"], [0.3333333333333333, \"#31688e\"], [0.4444444444444444, \"#26828e\"], [0.5555555555555556, \"#1f9e89\"], [0.6666666666666666, \"#35b779\"], [0.7777777777777778, \"#6ece58\"], [0.8888888888888888, \"#b5de2b\"], [1.0, \"#fde725\"]], \"opacity\": 0.8, \"size\": 12}, \"mode\": \"markers\", \"type\": \"scatter3d\", \"x\": [1, 2, 3, 4], \"y\": [1, 2, 3, 4], \"z\": [1, 2, 3, 4]}],\n",
       "                        {\"images\": [{\"layer\": \"below\", \"opacity\": 0.5, \"sizex\": 2, \"sizey\": 2, \"sizing\": \"stretch\", \"source\": \"https://images.plot.ly/language-icons/api-home/python-logo.png\", \"x\": 0, \"xref\": \"x\", \"y\": 3, \"yref\": \"y\"}], \"margin\": {\"b\": 0, \"l\": 0, \"r\": 0, \"t\": 0}, \"template\": {\"data\": {\"bar\": [{\"error_x\": {\"color\": \"#2a3f5f\"}, \"error_y\": {\"color\": \"#2a3f5f\"}, \"marker\": {\"line\": {\"color\": \"#E5ECF6\", \"width\": 0.5}}, \"type\": \"bar\"}], \"barpolar\": [{\"marker\": {\"line\": {\"color\": \"#E5ECF6\", \"width\": 0.5}}, \"type\": \"barpolar\"}], \"carpet\": [{\"aaxis\": {\"endlinecolor\": \"#2a3f5f\", \"gridcolor\": \"white\", \"linecolor\": \"white\", \"minorgridcolor\": \"white\", \"startlinecolor\": \"#2a3f5f\"}, \"baxis\": {\"endlinecolor\": \"#2a3f5f\", \"gridcolor\": \"white\", \"linecolor\": \"white\", \"minorgridcolor\": \"white\", \"startlinecolor\": \"#2a3f5f\"}, \"type\": \"carpet\"}], \"choropleth\": [{\"colorbar\": {\"outlinewidth\": 0, \"ticks\": \"\"}, \"type\": \"choropleth\"}], \"contour\": [{\"colorbar\": {\"outlinewidth\": 0, \"ticks\": \"\"}, \"colorscale\": [[0.0, \"#0d0887\"], [0.1111111111111111, \"#46039f\"], [0.2222222222222222, \"#7201a8\"], [0.3333333333333333, \"#9c179e\"], [0.4444444444444444, \"#bd3786\"], [0.5555555555555556, \"#d8576b\"], [0.6666666666666666, \"#ed7953\"], [0.7777777777777778, \"#fb9f3a\"], [0.8888888888888888, \"#fdca26\"], [1.0, \"#f0f921\"]], \"type\": \"contour\"}], \"contourcarpet\": [{\"colorbar\": {\"outlinewidth\": 0, \"ticks\": \"\"}, \"type\": \"contourcarpet\"}], \"heatmap\": [{\"colorbar\": {\"outlinewidth\": 0, \"ticks\": \"\"}, \"colorscale\": [[0.0, \"#0d0887\"], [0.1111111111111111, \"#46039f\"], [0.2222222222222222, \"#7201a8\"], [0.3333333333333333, \"#9c179e\"], [0.4444444444444444, \"#bd3786\"], [0.5555555555555556, \"#d8576b\"], [0.6666666666666666, \"#ed7953\"], [0.7777777777777778, \"#fb9f3a\"], [0.8888888888888888, \"#fdca26\"], [1.0, \"#f0f921\"]], \"type\": \"heatmap\"}], \"heatmapgl\": [{\"colorbar\": {\"outlinewidth\": 0, \"ticks\": \"\"}, \"colorscale\": [[0.0, \"#0d0887\"], [0.1111111111111111, \"#46039f\"], [0.2222222222222222, \"#7201a8\"], [0.3333333333333333, \"#9c179e\"], [0.4444444444444444, \"#bd3786\"], [0.5555555555555556, \"#d8576b\"], [0.6666666666666666, \"#ed7953\"], [0.7777777777777778, \"#fb9f3a\"], [0.8888888888888888, \"#fdca26\"], [1.0, \"#f0f921\"]], \"type\": \"heatmapgl\"}], \"histogram\": [{\"marker\": {\"colorbar\": {\"outlinewidth\": 0, \"ticks\": \"\"}}, \"type\": \"histogram\"}], \"histogram2d\": [{\"colorbar\": {\"outlinewidth\": 0, \"ticks\": \"\"}, \"colorscale\": [[0.0, \"#0d0887\"], [0.1111111111111111, \"#46039f\"], [0.2222222222222222, \"#7201a8\"], [0.3333333333333333, \"#9c179e\"], [0.4444444444444444, \"#bd3786\"], [0.5555555555555556, \"#d8576b\"], [0.6666666666666666, \"#ed7953\"], [0.7777777777777778, \"#fb9f3a\"], [0.8888888888888888, \"#fdca26\"], [1.0, \"#f0f921\"]], \"type\": \"histogram2d\"}], \"histogram2dcontour\": [{\"colorbar\": {\"outlinewidth\": 0, \"ticks\": \"\"}, \"colorscale\": [[0.0, \"#0d0887\"], [0.1111111111111111, \"#46039f\"], [0.2222222222222222, \"#7201a8\"], [0.3333333333333333, \"#9c179e\"], [0.4444444444444444, \"#bd3786\"], [0.5555555555555556, \"#d8576b\"], [0.6666666666666666, \"#ed7953\"], [0.7777777777777778, \"#fb9f3a\"], [0.8888888888888888, \"#fdca26\"], [1.0, \"#f0f921\"]], \"type\": \"histogram2dcontour\"}], \"mesh3d\": [{\"colorbar\": {\"outlinewidth\": 0, \"ticks\": \"\"}, \"type\": \"mesh3d\"}], \"parcoords\": [{\"line\": {\"colorbar\": {\"outlinewidth\": 0, \"ticks\": \"\"}}, \"type\": \"parcoords\"}], \"pie\": [{\"automargin\": true, \"type\": \"pie\"}], \"scatter\": [{\"marker\": {\"colorbar\": {\"outlinewidth\": 0, \"ticks\": \"\"}}, \"type\": \"scatter\"}], \"scatter3d\": [{\"line\": {\"colorbar\": {\"outlinewidth\": 0, \"ticks\": \"\"}}, \"marker\": {\"colorbar\": {\"outlinewidth\": 0, \"ticks\": \"\"}}, \"type\": \"scatter3d\"}], \"scattercarpet\": [{\"marker\": {\"colorbar\": {\"outlinewidth\": 0, \"ticks\": \"\"}}, \"type\": \"scattercarpet\"}], \"scattergeo\": [{\"marker\": {\"colorbar\": {\"outlinewidth\": 0, \"ticks\": \"\"}}, \"type\": \"scattergeo\"}], \"scattergl\": [{\"marker\": {\"colorbar\": {\"outlinewidth\": 0, \"ticks\": \"\"}}, \"type\": \"scattergl\"}], \"scattermapbox\": [{\"marker\": {\"colorbar\": {\"outlinewidth\": 0, \"ticks\": \"\"}}, \"type\": \"scattermapbox\"}], \"scatterpolar\": [{\"marker\": {\"colorbar\": {\"outlinewidth\": 0, \"ticks\": \"\"}}, \"type\": \"scatterpolar\"}], \"scatterpolargl\": [{\"marker\": {\"colorbar\": {\"outlinewidth\": 0, \"ticks\": \"\"}}, \"type\": \"scatterpolargl\"}], \"scatterternary\": [{\"marker\": {\"colorbar\": {\"outlinewidth\": 0, \"ticks\": \"\"}}, \"type\": \"scatterternary\"}], \"surface\": [{\"colorbar\": {\"outlinewidth\": 0, \"ticks\": \"\"}, \"colorscale\": [[0.0, \"#0d0887\"], [0.1111111111111111, \"#46039f\"], [0.2222222222222222, \"#7201a8\"], [0.3333333333333333, \"#9c179e\"], [0.4444444444444444, \"#bd3786\"], [0.5555555555555556, \"#d8576b\"], [0.6666666666666666, \"#ed7953\"], [0.7777777777777778, \"#fb9f3a\"], [0.8888888888888888, \"#fdca26\"], [1.0, \"#f0f921\"]], \"type\": \"surface\"}], \"table\": [{\"cells\": {\"fill\": {\"color\": \"#EBF0F8\"}, \"line\": {\"color\": \"white\"}}, \"header\": {\"fill\": {\"color\": \"#C8D4E3\"}, \"line\": {\"color\": \"white\"}}, \"type\": \"table\"}]}, \"layout\": {\"annotationdefaults\": {\"arrowcolor\": \"#2a3f5f\", \"arrowhead\": 0, \"arrowwidth\": 1}, \"coloraxis\": {\"colorbar\": {\"outlinewidth\": 0, \"ticks\": \"\"}}, \"colorscale\": {\"diverging\": [[0, \"#8e0152\"], [0.1, \"#c51b7d\"], [0.2, \"#de77ae\"], [0.3, \"#f1b6da\"], [0.4, \"#fde0ef\"], [0.5, \"#f7f7f7\"], [0.6, \"#e6f5d0\"], [0.7, \"#b8e186\"], [0.8, \"#7fbc41\"], [0.9, \"#4d9221\"], [1, \"#276419\"]], \"sequential\": [[0.0, \"#0d0887\"], [0.1111111111111111, \"#46039f\"], [0.2222222222222222, \"#7201a8\"], [0.3333333333333333, \"#9c179e\"], [0.4444444444444444, \"#bd3786\"], [0.5555555555555556, \"#d8576b\"], [0.6666666666666666, \"#ed7953\"], [0.7777777777777778, \"#fb9f3a\"], [0.8888888888888888, \"#fdca26\"], [1.0, \"#f0f921\"]], \"sequentialminus\": [[0.0, \"#0d0887\"], [0.1111111111111111, \"#46039f\"], [0.2222222222222222, \"#7201a8\"], [0.3333333333333333, \"#9c179e\"], [0.4444444444444444, \"#bd3786\"], [0.5555555555555556, \"#d8576b\"], [0.6666666666666666, \"#ed7953\"], [0.7777777777777778, \"#fb9f3a\"], [0.8888888888888888, \"#fdca26\"], [1.0, \"#f0f921\"]]}, \"colorway\": [\"#636efa\", \"#EF553B\", \"#00cc96\", \"#ab63fa\", \"#FFA15A\", \"#19d3f3\", \"#FF6692\", \"#B6E880\", \"#FF97FF\", \"#FECB52\"], \"font\": {\"color\": \"#2a3f5f\"}, \"geo\": {\"bgcolor\": \"white\", \"lakecolor\": \"white\", \"landcolor\": \"#E5ECF6\", \"showlakes\": true, \"showland\": true, \"subunitcolor\": \"white\"}, \"hoverlabel\": {\"align\": \"left\"}, \"hovermode\": \"closest\", \"mapbox\": {\"style\": \"light\"}, \"paper_bgcolor\": \"white\", \"plot_bgcolor\": \"#E5ECF6\", \"polar\": {\"angularaxis\": {\"gridcolor\": \"white\", \"linecolor\": \"white\", \"ticks\": \"\"}, \"bgcolor\": \"#E5ECF6\", \"radialaxis\": {\"gridcolor\": \"white\", \"linecolor\": \"white\", \"ticks\": \"\"}}, \"scene\": {\"xaxis\": {\"backgroundcolor\": \"#E5ECF6\", \"gridcolor\": \"white\", \"gridwidth\": 2, \"linecolor\": \"white\", \"showbackground\": true, \"ticks\": \"\", \"zerolinecolor\": \"white\"}, \"yaxis\": {\"backgroundcolor\": \"#E5ECF6\", \"gridcolor\": \"white\", \"gridwidth\": 2, \"linecolor\": \"white\", \"showbackground\": true, \"ticks\": \"\", \"zerolinecolor\": \"white\"}, \"zaxis\": {\"backgroundcolor\": \"#E5ECF6\", \"gridcolor\": \"white\", \"gridwidth\": 2, \"linecolor\": \"white\", \"showbackground\": true, \"ticks\": \"\", \"zerolinecolor\": \"white\"}}, \"shapedefaults\": {\"line\": {\"color\": \"#2a3f5f\"}}, \"ternary\": {\"aaxis\": {\"gridcolor\": \"white\", \"linecolor\": \"white\", \"ticks\": \"\"}, \"baxis\": {\"gridcolor\": \"white\", \"linecolor\": \"white\", \"ticks\": \"\"}, \"bgcolor\": \"#E5ECF6\", \"caxis\": {\"gridcolor\": \"white\", \"linecolor\": \"white\", \"ticks\": \"\"}}, \"title\": {\"x\": 0.05}, \"xaxis\": {\"automargin\": true, \"gridcolor\": \"white\", \"linecolor\": \"white\", \"ticks\": \"\", \"title\": {\"standoff\": 15}, \"zerolinecolor\": \"white\", \"zerolinewidth\": 2}, \"yaxis\": {\"automargin\": true, \"gridcolor\": \"white\", \"linecolor\": \"white\", \"ticks\": \"\", \"title\": {\"standoff\": 15}, \"zerolinecolor\": \"white\", \"zerolinewidth\": 2}}}},\n",
       "                        {\"responsive\": true}\n",
       "                    ).then(function(){\n",
       "                            \n",
       "var gd = document.getElementById('9eb405f0-f253-4bcf-986d-c69392c644a5');\n",
       "var x = new MutationObserver(function (mutations, observer) {{\n",
       "        var display = window.getComputedStyle(gd).display;\n",
       "        if (!display || display === 'none') {{\n",
       "            console.log([gd, 'removed!']);\n",
       "            Plotly.purge(gd);\n",
       "            observer.disconnect();\n",
       "        }}\n",
       "}});\n",
       "\n",
       "// Listen for the removal of the full notebook cells\n",
       "var notebookContainer = gd.closest('#notebook-container');\n",
       "if (notebookContainer) {{\n",
       "    x.observe(notebookContainer, {childList: true});\n",
       "}}\n",
       "\n",
       "// Listen for the clearing of the current output cell\n",
       "var outputEl = gd.closest('.output');\n",
       "if (outputEl) {{\n",
       "    x.observe(outputEl, {childList: true});\n",
       "}}\n",
       "\n",
       "                        })\n",
       "                };\n",
       "                });\n",
       "            </script>\n",
       "        </div>"
      ]
     },
     "metadata": {},
     "output_type": "display_data"
    }
   ],
   "source": [
    "import plotly.graph_objects as go\n",
    "import numpy as np\n",
    "\n",
    "# Vertical Line Equation\n",
    "a = [1,2,3,4]\n",
    "b = [1,2,3,4]\n",
    "c = [1,2,3,4]\n",
    "x, y, z = a, b, c\n",
    "\n",
    "fig = go.Figure(data=[go.Scatter3d(\n",
    "    x=x,\n",
    "    y=y,\n",
    "    z=z,\n",
    "    mode='markers',\n",
    "    marker=dict(\n",
    "        size=12,\n",
    "        color=z,                # set color to an array/list of desired values\n",
    "        colorscale='Viridis',   # choose a colorscale\n",
    "        opacity=0.8\n",
    "    )\n",
    ")])\n",
    "\n",
    "# Add images\n",
    "fig.add_layout_image(\n",
    "        dict(\n",
    "            source=\"https://images.plot.ly/language-icons/api-home/python-logo.png\",\n",
    "            xref=\"x\",\n",
    "            yref=\"y\",\n",
    "            x=0,\n",
    "            y=3,\n",
    "            sizex=2,\n",
    "            sizey=2,\n",
    "            sizing=\"stretch\",\n",
    "            opacity=0.5,\n",
    "            layer=\"below\")\n",
    ")\n",
    "\n",
    "# tight layout\n",
    "fig.update_layout(margin=dict(l=0, r=0, b=0, t=0))\n",
    "fig.show()"
   ]
  },
  {
   "cell_type": "code",
   "execution_count": null,
   "metadata": {},
   "outputs": [],
   "source": []
  },
  {
   "cell_type": "code",
   "execution_count": null,
   "metadata": {},
   "outputs": [],
   "source": []
  },
  {
   "cell_type": "code",
   "execution_count": null,
   "metadata": {},
   "outputs": [],
   "source": []
  },
  {
   "cell_type": "code",
   "execution_count": null,
   "metadata": {},
   "outputs": [],
   "source": []
  },
  {
   "cell_type": "code",
   "execution_count": null,
   "metadata": {},
   "outputs": [],
   "source": []
  },
  {
   "cell_type": "code",
   "execution_count": null,
   "metadata": {},
   "outputs": [],
   "source": []
  },
  {
   "cell_type": "code",
   "execution_count": null,
   "metadata": {},
   "outputs": [],
   "source": []
  },
  {
   "cell_type": "code",
   "execution_count": null,
   "metadata": {},
   "outputs": [],
   "source": []
  },
  {
   "cell_type": "code",
   "execution_count": null,
   "metadata": {},
   "outputs": [],
   "source": [
    "#plotly.tools.set_credentials_file(username='DemoAccount', api_key='lr1c37zw81')\n"
   ]
  },
  {
   "cell_type": "code",
   "execution_count": null,
   "metadata": {},
   "outputs": [],
   "source": []
  },
  {
   "cell_type": "code",
   "execution_count": null,
   "metadata": {},
   "outputs": [],
   "source": []
  },
  {
   "cell_type": "code",
   "execution_count": null,
   "metadata": {},
   "outputs": [],
   "source": []
  },
  {
   "cell_type": "code",
   "execution_count": null,
   "metadata": {},
   "outputs": [],
   "source": []
  },
  {
   "cell_type": "code",
   "execution_count": null,
   "metadata": {},
   "outputs": [],
   "source": []
  },
  {
   "cell_type": "code",
   "execution_count": null,
   "metadata": {},
   "outputs": [],
   "source": []
  },
  {
   "cell_type": "code",
   "execution_count": null,
   "metadata": {},
   "outputs": [],
   "source": []
  },
  {
   "cell_type": "code",
   "execution_count": null,
   "metadata": {},
   "outputs": [],
   "source": []
  },
  {
   "cell_type": "code",
   "execution_count": null,
   "metadata": {},
   "outputs": [],
   "source": []
  },
  {
   "cell_type": "code",
   "execution_count": null,
   "metadata": {},
   "outputs": [],
   "source": [
    "\n"
   ]
  },
  {
   "cell_type": "code",
   "execution_count": null,
   "metadata": {},
   "outputs": [],
   "source": []
  },
  {
   "cell_type": "code",
   "execution_count": null,
   "metadata": {},
   "outputs": [],
   "source": []
  },
  {
   "cell_type": "code",
   "execution_count": null,
   "metadata": {},
   "outputs": [],
   "source": []
  },
  {
   "cell_type": "code",
   "execution_count": null,
   "metadata": {},
   "outputs": [],
   "source": []
  },
  {
   "cell_type": "code",
   "execution_count": null,
   "metadata": {},
   "outputs": [],
   "source": []
  },
  {
   "cell_type": "code",
   "execution_count": null,
   "metadata": {},
   "outputs": [],
   "source": []
  },
  {
   "cell_type": "code",
   "execution_count": null,
   "metadata": {},
   "outputs": [],
   "source": [
    "# https://plot.ly/python/box-plots/\n",
    "\n",
    "import plotly.plotly as py\n",
    "import plotly.graph_objs as go\n",
    "import numpy as np\n",
    "\n",
    "x_data = ['Carmelo Anthony', 'Dwyane Wade',\n",
    "          'Deron Williams', 'Brook Lopez',\n",
    "          'Damian Lillard', 'David West',]\n",
    "\n",
    "y0 = np.random.randn(50)-1\n",
    "y1 = np.random.randn(50)+1\n",
    "y2 = np.random.randn(50)\n",
    "y3 = np.random.randn(50)+2\n",
    "y4 = np.random.randn(50)-2\n",
    "y5 = np.random.randn(50)+3\n",
    "\n",
    "y_data = [y0,y1,y2,y3,y4,y5]\n",
    "\n",
    "colors = ['rgba(93, 164, 214, 0.5)', 'rgba(255, 144, 14, 0.5)', 'rgba(44, 160, 101, 0.5)', 'rgba(255, 65, 54, 0.5)', 'rgba(207, 114, 255, 0.5)', 'rgba(127, 96, 0, 0.5)']\n",
    "\n",
    "traces = []\n",
    "\n",
    "for xd, yd, cls in zip(x_data, y_data, colors):\n",
    "        traces.append(go.Box(\n",
    "            y=yd,\n",
    "            name=xd,\n",
    "            boxpoints='all',\n",
    "            jitter=0.5,\n",
    "            whiskerwidth=0.2,\n",
    "            fillcolor=cls,\n",
    "            marker=dict(\n",
    "                size=2,\n",
    "            ),\n",
    "            line=dict(width=1),\n",
    "        ))\n",
    "\n",
    "layout = go.Layout(\n",
    "    title='Points Scored by the Top 9 Scoring NBA Players in 2012',\n",
    "    yaxis=dict(\n",
    "        autorange=True,\n",
    "        showgrid=True,\n",
    "        zeroline=True,\n",
    "        dtick=5,\n",
    "        gridcolor='rgb(255, 255, 255)',\n",
    "        gridwidth=1,\n",
    "        zerolinecolor='rgb(255, 255, 255)',\n",
    "        zerolinewidth=2,\n",
    "    ),\n",
    "    margin=dict(\n",
    "        l=40,\n",
    "        r=30,\n",
    "        b=80,\n",
    "        t=100,\n",
    "    ),\n",
    "    paper_bgcolor='rgb(243, 243, 243)',\n",
    "    plot_bgcolor='rgb(243, 243, 243)',\n",
    "    showlegend=False\n",
    ")\n",
    "\n",
    "fig = go.Figure(data=traces, layout=layout)\n",
    "iplot(fig)"
   ]
  },
  {
   "cell_type": "code",
   "execution_count": null,
   "metadata": {},
   "outputs": [],
   "source": [
    "#NOTE\n",
    "\n",
    "trace = go.Heatmap(z= df_bar_pubg['solo_Wins'],\n",
    "                   x= df_bar_pubg['player_name'],\n",
    "                   y= df_bar_pubg['solo_RoundsPlayed'])\n",
    "data=[trace]\n",
    "iplot(data, filename='labelled-heatmap')"
   ]
  },
  {
   "cell_type": "code",
   "execution_count": null,
   "metadata": {},
   "outputs": [],
   "source": []
  },
  {
   "cell_type": "code",
   "execution_count": null,
   "metadata": {},
   "outputs": [],
   "source": []
  }
 ],
 "metadata": {
  "kernelspec": {
   "display_name": "Python 3",
   "language": "python",
   "name": "python3"
  },
  "language_info": {
   "codemirror_mode": {
    "name": "ipython",
    "version": 3
   },
   "file_extension": ".py",
   "mimetype": "text/x-python",
   "name": "python",
   "nbconvert_exporter": "python",
   "pygments_lexer": "ipython3",
   "version": "3.7.6"
  }
 },
 "nbformat": 4,
 "nbformat_minor": 2
}
